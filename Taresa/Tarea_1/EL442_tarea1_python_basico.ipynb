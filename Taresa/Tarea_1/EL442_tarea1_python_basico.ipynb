{
 "cells": [
  {
   "metadata": {},
   "cell_type": "markdown",
   "source": [
    "# Tarea 1<a class=\"tocSkip\">\n",
    "## TRATAMIENTO DE SEÑALES <a class=\"tocSkip\">\n",
    "### Ingenieria Electrónica <a class=\"tocSkip\">\n",
    "### Universidad Popular del Cesar <a class=\"tocSkip\">\n",
    "### Prof.: Jose Ramón Iglesias Gamarra - [https://github.com/joseramoniglesias/](https://github.com/joseramoniglesias/) <a class=\"tocSkip\">\n",
    "  **joseiglesias@unicesar.edu.co**"
   ]
  },
  {
   "metadata": {},
   "cell_type": "markdown",
   "source": "# Texto de la Tarea 1 - Fundamentos de Python y trabajo con imágenes digitales"
  },
  {
   "attachments": {},
   "cell_type": "markdown",
   "metadata": {},
   "source": [
    "Los siguientes ejercicios pueden ser desarrollados en parejas.\n",
    "\n",
    "El código debe ir debidamente explicado usando comentarios (*#*).\n",
    "\n",
    "El archivo Jupyter Notebook (.ipynb) resultante se debe renombrar como **ApellidosEstudiante1-ApellidosEstudiante2-tarea1.ipynb** y sustentarle al profesor de la asignatura."
   ]
  },
  {
   "attachments": {},
   "cell_type": "markdown",
   "metadata": {},
   "source": [
    "## Punto 1 - Juego Tic Tac Toe\n",
    "\n",
    "Se debe recrear el juego Tic Tac Toe (triqui) usando el conocimiento adquirido sobre el lenguaje de programación Python.\n",
    "\n",
    "Los requerimientos son:\n",
    "\n",
    "- El juego es para 2 jugadores utilizando el mismo computador.\n",
    "- Se debe mostrar el tablero después de cada turno/jugada.\n",
    "- El jugador debe indicar la posición de su jugada por teclado."
   ]
  },
  {
   "attachments": {},
   "cell_type": "markdown",
   "metadata": {},
   "source": [
    "### Paso 1 - Escribir una función para imprimir el tablero. \n",
    "Recomendación: utilizar una lista con 9 posiciones, como un teclado númerico."
   ]
  },
  {
   "cell_type": "code",
   "execution_count": 1,
   "metadata": {},
   "outputs": [],
   "source": [
    "from IPython.display import clear_output\n",
    "def display_board(board): \n",
    "    clear_output() # Se usa para borrar el tablero anterior.\n",
    "    # INSERTE CODIGO (recuerde eliminar la instrucción 'pass' al finalizar)\n",
    "    pass"
   ]
  },
  {
   "attachments": {},
   "cell_type": "markdown",
   "metadata": {},
   "source": [
    "### Paso 2 - Escribir una función que reciba la posición indicada por el jugador y asigne 'X' o 'O' como corresponda. \n",
    "Recomendación: usar la función *input()* para solicitar una entrada por teclado, y considerar el uso de ciclos *while* para pedir un valor repetidamente hasta obtener uno válido."
   ]
  },
  {
   "cell_type": "code",
   "execution_count": null,
   "metadata": {},
   "outputs": [],
   "source": [
    "def player_input():\n",
    "    # INSERTE CODIGO (recuerde eliminar la instrucción 'pass' al finalizar)\n",
    "    pass"
   ]
  },
  {
   "attachments": {},
   "cell_type": "markdown",
   "metadata": {},
   "source": [
    "### Paso 3 - Escribir una función que reciba el objeto que representa el tablero, el marcador ('X' o 'O') y la posición, y actualice el tablero."
   ]
  },
  {
   "cell_type": "code",
   "execution_count": null,
   "metadata": {},
   "outputs": [],
   "source": [
    "def place_marker(board, marker, position):\n",
    "    # INSERTE CODIGO (recuerde eliminar la instrucción 'pass' al finalizar)\n",
    "    pass"
   ]
  },
  {
   "attachments": {},
   "cell_type": "markdown",
   "metadata": {},
   "source": [
    "### Paso 4 - Escribir una función que reciba el objeto que representa el tablero y un marcador, y verifique si ese marcador ha ganado la partida."
   ]
  },
  {
   "cell_type": "code",
   "execution_count": null,
   "metadata": {},
   "outputs": [],
   "source": [
    "def win_check(board,marker):\n",
    "    # INSERTE CODIGO (recuerde eliminar la instrucción 'pass' al finalizar)\n",
    "    pass"
   ]
  },
  {
   "attachments": {},
   "cell_type": "markdown",
   "metadata": {},
   "source": [
    "### Paso 5 - Escribir una función que reciba el nombre de los jugadores y el marcador que va a utilizar, y use un número aleatorio para determinar quién inicia.\n",
    "Recomendación: usar el módulo *random* de Python."
   ]
  },
  {
   "cell_type": "code",
   "execution_count": null,
   "metadata": {},
   "outputs": [],
   "source": [
    "import random\n",
    "def choose_first():\n",
    "    # INSERTE CODIGO (recuerde eliminar la instrucción 'pass' al finalizar)\n",
    "    pass"
   ]
  },
  {
   "attachments": {},
   "cell_type": "markdown",
   "metadata": {},
   "source": [
    "### Paso 6 - Escribir una función que retorne un valor Booleano (True o False) indicando si una posición del tablero está libre."
   ]
  },
  {
   "cell_type": "code",
   "execution_count": null,
   "metadata": {},
   "outputs": [],
   "source": [
    "def space_check(board, position):\n",
    "    # INSERTE CODIGO (recuerde eliminar la instrucción 'pass' al finalizar)\n",
    "    pass"
   ]
  },
  {
   "attachments": {},
   "cell_type": "markdown",
   "metadata": {},
   "source": [
    "### Paso 7 - Escribir una función que verifique si el tablero está lleno y retorne un valor Booleano."
   ]
  },
  {
   "cell_type": "code",
   "execution_count": null,
   "metadata": {},
   "outputs": [],
   "source": [
    "def full_board_check(board):\n",
    "    # INSERTE CODIGO (recuerde eliminar la instrucción 'pass' al finalizar)\n",
    "    pass"
   ]
  },
  {
   "attachments": {},
   "cell_type": "markdown",
   "metadata": {},
   "source": [
    "### Paso 8 - Escribir una función que le pida al jugador la siguiente posición (1-9), verifique la disponibilidad y de estar libre retorne la posición."
   ]
  },
  {
   "cell_type": "code",
   "execution_count": null,
   "metadata": {},
   "outputs": [],
   "source": [
    "def player_choice(board):\n",
    "    # INSERTE CODIGO (recuerde eliminar la instrucción 'pass' al finalizar)\n",
    "    pass"
   ]
  },
  {
   "attachments": {},
   "cell_type": "markdown",
   "metadata": {},
   "source": [
    "### Paso 9 - Escribir una función que permita volver a jugar al finalizar una partida"
   ]
  },
  {
   "cell_type": "code",
   "execution_count": null,
   "metadata": {},
   "outputs": [],
   "source": [
    "def replay():\n",
    "    # INSERTE CODIGO (recuerde eliminar la instrucción 'pass' al finalizar)\n",
    "    pass"
   ]
  },
  {
   "attachments": {},
   "cell_type": "markdown",
   "metadata": {},
   "source": [
    "### Paso 10 - Escribir el programa final utilizando las funciones definidas en los pasos anteriores."
   ]
  },
  {
   "cell_type": "code",
   "execution_count": null,
   "metadata": {},
   "outputs": [],
   "source": [
    "print('Welcome to Tic Tac Toe!')\n",
    "\n",
    "#while True:\n",
    "    # Set the game up here\n",
    "    #pass\n",
    "\n",
    "    #while game_on:\n",
    "        #Player 1 Turn\n",
    "        \n",
    "        \n",
    "        # Player2's turn.\n",
    "            \n",
    "            #pass\n",
    "\n",
    "    #if not replay():\n",
    "        #break"
   ]
  },
  {
   "attachments": {},
   "cell_type": "markdown",
   "metadata": {},
   "source": [
    "## Punto 2 - División por colores\n",
    "Escriba una función que lea una imagen RGB, separe la imagen en 3 canales, indique los valores máximos y mínimos de cada canal y realice la visualización de la imagen original y de cada uno de los canales."
   ]
  },
  {
   "cell_type": "code",
   "execution_count": null,
   "metadata": {},
   "outputs": [],
   "source": [
    "def extract_channels(filepath):\n",
    "    pass"
   ]
  },
  {
   "attachments": {},
   "cell_type": "markdown",
   "metadata": {},
   "source": [
    "## Punto 3 - Rotación de una imagen\n",
    "Escriba una función que lea una imagen RGB, la convierta a escala de grises y realice la rotación de la imagen de acuerdo a los grados indicados como parámetro. Se debe mostrar la imagen original y el resultado final."
   ]
  },
  {
   "cell_type": "code",
   "execution_count": null,
   "metadata": {},
   "outputs": [],
   "source": [
    "def rotate_image(filepath, degrees):\n",
    "    pass"
   ]
  }
 ],
 "metadata": {
  "kernelspec": {
   "display_name": "Python 3",
   "language": "python",
   "name": "python3"
  },
  "language_info": {
   "codemirror_mode": {
    "name": "ipython",
    "version": 3
   },
   "file_extension": ".py",
   "mimetype": "text/x-python",
   "name": "python",
   "nbconvert_exporter": "python",
   "pygments_lexer": "ipython3",
   "version": "3.9.6"
  },
  "orig_nbformat": 4,
  "vscode": {
   "interpreter": {
    "hash": "31f2aee4e71d21fbe5cf8b01ff0e069b9275f58929596ceb00d14d90e3e16cd6"
   }
  }
 },
 "nbformat": 4,
 "nbformat_minor": 2
}
