{
 "cells": [
  {
   "cell_type": "markdown",
   "source": [
    "# Transformada del Coseno DCT - Compresión Jpeg<a class=\"tocSkip\">\n",
    "## TRATAMIENTO DE SEÑALES <a class=\"tocSkip\">\n",
    "### Ingenieria Electrónica <a class=\"tocSkip\">\n",
    "### Universidad Popular del Cesar <a class=\"tocSkip\">\n",
    "### Prof.: Jose Ramón Iglesias Gamarra - [https://github.com/joseramoniglesias/](https://github.com/joseramoniglesias/) <a class=\"tocSkip\">\n",
    "  **joseiglesias@unicesar.edu.co**"
   ],
   "metadata": {
    "collapsed": false
   }
  },
  {
   "cell_type": "markdown",
   "source": [
    "# Implementando Compresión de Datos JPEG en Python"
   ],
   "metadata": {
    "collapsed": false
   }
  },
  {
   "cell_type": "markdown",
   "metadata": {},
   "source": [
    "## Tabla de Contenido\n",
    "* [Introducción](#Introducción)\n",
    "* [Python Implementación](#Implementación)\n",
    "* [Aplicando Filtros](#Applying)"
   ]
  },
  {
   "cell_type": "markdown",
   "metadata": {},
   "source": [
    "<a id=\"Introducción\"></a>\n",
    "## Introducción"
   ]
  },
  {
   "cell_type": "markdown",
   "metadata": {},
   "source": [
    "En la era del big data, la compresión de datos es muy importante para ahorrar espacio sin perder mucha información. Existen diferentes formas de comprimir datos, especialmente imágenes. Algunos de ellos son sin pérdida en los que no se pierde información cuando se comprime. Sin embargo, algunos otros tienen pérdida en los que se pierden algunos datos.\n",
    "\n",
    "En esta tarea, vamos a implementar y aplicar una forma de comprimir imágenes. Esto utiliza transformadas discretas de Fourier (DCT). Aunque es un tipo de compresión con pérdida, no se pierde mucha información ya que las imágenes originales y recuperadas no suelen distinguirse. Sin embargo, se ahorra mucho espacio al utilizar este método de compresión. Son varios los pasos que se realizan para aplicarlo. Estos son:\n",
    "* Imagen dividida en bloques de 8x8 píxeles\n",
    "* DCT aplicado para cada bloque\n",
    "* Luego, cada bloque se cuantifica mediante alguna matriz de cuantificación.\n",
    "* Luego, se aplana en forma de zigzag.\n",
    "* Luego, todos los coeficientes DCT distintos de cero se codifican en algunos bits binarios utilizando una tabla de codificación.\n",
    "\n",
    "Finalmente, la serie de bits resultantes se almacena en un disco. Luego, la imagen se puede descomprimir siguiendo los pasos en orden inverso.\n",
    "\n",
    "Aquí, vamos a calcular la relación de compresión de algunas imágenes determinadas. Es decir, vamos a ver cuánto se comprimen las imágenes."
   ]
  },
  {
   "cell_type": "markdown",
   "metadata": {},
   "source": [
    "<a id=\"Implementación\"></a>\n",
    "## Python Implementación"
   ]
  },
  {
   "cell_type": "markdown",
   "metadata": {},
   "source": [
    "Importemos primero las clases comunes."
   ]
  },
  {
   "cell_type": "code",
   "metadata": {
    "collapsed": true,
    "ExecuteTime": {
     "end_time": "2024-10-04T20:38:03.177616Z",
     "start_time": "2024-10-04T20:38:02.315262Z"
    }
   },
   "source": [
    "import numpy as np\n",
    "\n",
    "import matplotlib.pyplot as plt\n",
    "#%matplotlib inline\n",
    "\n",
    "from PIL import Image\n",
    "import math\n",
    "from math import gcd\n",
    "import cmath\n",
    "import time\n",
    "import csv\n",
    "from numpy import binary_repr"
   ],
   "outputs": [],
   "execution_count": 1
  },
  {
   "cell_type": "code",
   "source": [
    "class Images(object):\n",
    "    \"\"\"\n",
    "    La clase Imágenes implementa los métodos relacionados con las imágenes.\n",
    "    Estos se utilizarán en todos los métodos de transformación.\n",
    "    \"\"\"\n",
    "\n",
    "    def __init__():\n",
    "        pass\n",
    "\n",
    "    @classmethod\n",
    "    def generateBlackAndWhiteSquareImage(self, imgSize):\n",
    "        \"\"\"\n",
    "       Genera una imagen en blanco y negro de tamaño cuadrado con un tamaño de entrada determinado.\n",
    "\n",
    "        Parámetros\n",
    "        ----------\n",
    "        imgTamaño: int\n",
    "            Número de entrada que almacena la dimensión de la imagen cuadrada que se generará.\n",
    "\n",
    "        Devoluciones\n",
    "        -------\n",
    "        imagen: ndarray\n",
    "            La imagen cuadrada en blanco y negro generada.\n",
    "        \"\"\"\n",
    "\n",
    "        #Crear una matriz con un tamaño determinado donde todos los valores almacenados sean solo ceros (para inicialización)\n",
    "        imge = np.zeros([imgSize, imgSize], dtype=int)\n",
    "\n",
    "        #Starting and ending indices of the white part of the image.\n",
    "        ind1 = imgSize / 4\n",
    "        ind2 = ind1 + (imgSize / 2)\n",
    "\n",
    "        #Make a part of the image as white (255)\n",
    "        imge[ind1:ind2, ind1:ind2] = (np.ones([imgSize / 2, imgSize / 2], dtype=int) * 255)\n",
    "\n",
    "        #return the resulting image\n",
    "        return imge\n",
    "\n",
    "    @classmethod\n",
    "    def generateImagesWithResizedWhite(self, imge):\n",
    "        \"\"\"\n",
    "        Generates images with the same size as the original but with a resized white part of them.\n",
    "        \"\"\"\n",
    "\n",
    "        N = imge.shape[0]\n",
    "\n",
    "        imges = []\n",
    "        i = N / 2\n",
    "        while i >= 4:\n",
    "            j = (N - i) / 2\n",
    "\n",
    "            #Starting and ending indices for the white part.\n",
    "            indx1 = j\n",
    "            indx2 = j + i\n",
    "\n",
    "            #Draw the image.\n",
    "            imgeNew = np.zeros([N, N], dtype=int)\n",
    "            imgeNew[indx1:indx2, indx1:indx2] = np.ones([i, i], dtype=int) * 255\n",
    "\n",
    "            #Add the image to the list.\n",
    "            imges.append(imgeNew)\n",
    "\n",
    "            i = i / 2\n",
    "\n",
    "        return imges\n",
    "\n",
    "    @classmethod\n",
    "    def resizeImage(self, imge, newSize):\n",
    "        \"\"\"\n",
    "        Reduce el tamaño de la imagen dada.\n",
    "\n",
    "        Parámetros\n",
    "        ----------\n",
    "        imagen: ndarray\n",
    "            Matriz de entrada que almacena la imagen cuyo tamaño se va a cambiar.\n",
    "\n",
    "        Devoluciones\n",
    "        -------\n",
    "        nuevoTamaño: int\n",
    "            El tamaño de la imagen recién generada.\n",
    "        \"\"\"\n",
    "\n",
    "        #Calcule el tamaño de la imagen original (en este caso, solo el número de filas, ya que es cuadrado)\n",
    "        N = imge.shape[0]\n",
    "\n",
    "        #The ratio of the original image as compared to the new one.\n",
    "        stepSize = N / newSize\n",
    "\n",
    "        #Creating a new matrix (image) with a black color (values of zero)\n",
    "        newImge = np.zeros([N / stepSize, N / stepSize])\n",
    "\n",
    "        #Average the adjacent four pixel values to compute the new intensity value for the new image.\n",
    "        for i in range(0, N, stepSize):\n",
    "            for j in range(0, N, stepSize):\n",
    "                newImge[i / stepSize, j / stepSize] = np.mean(imge[i:i + stepSize, j:j + stepSize])\n",
    "\n",
    "        #Return the new image\n",
    "        return newImge\n",
    "\n",
    "    @classmethod\n",
    "    def generateImages(self, imgSizes=[128, 64, 32, 16, 8]):\n",
    "        \"\"\"Generates black and white images with different sizes.\n",
    "        \"\"\"\n",
    "        #Create an empty list of images to save the generated images with different sizes.\n",
    "        images = []\n",
    "\n",
    "        #Generate the first and biggest image\n",
    "        imge = Images.generateBlackAndWhiteSquareImage(imgSizes[0])\n",
    "\n",
    "        #Add to the images list\n",
    "        images.append(imge)\n",
    "\n",
    "        #Generate the resized and smaller images with different sizes.\n",
    "        for i in range(1, len(imgSizes)):\n",
    "            size = imgSizes[i]\n",
    "            images.append(Images.resizeImage(imge, size))\n",
    "\n",
    "        return images\n"
   ],
   "metadata": {
    "collapsed": false,
    "ExecuteTime": {
     "end_time": "2024-10-04T20:38:04.618827Z",
     "start_time": "2024-10-04T20:38:04.591370Z"
    }
   },
   "outputs": [],
   "execution_count": 2
  },
  {
   "cell_type": "code",
   "source": [
    "class DCT(object):\n",
    "    \"\"\"\n",
    "    Esta clase DCT implementa todos los procedimientos para transformar una imagen digital 2D determinada.\n",
    "     en su correspondiente imagen en el dominio de la frecuencia (Transformación DCT directa)\n",
    "    \"\"\"\n",
    "\n",
    "    def __init__():\n",
    "        pass\n",
    "\n",
    "    @classmethod\n",
    "    def __computeSinglePoint2DCT(self, imge, u, v, N):\n",
    "        \"\"\"\n",
    "       Un método privado que calcula un valor único de 2D-DCT a partir de una imagen determinada.\n",
    "\n",
    "        Parámetros\n",
    "        ----------\n",
    "        imagen: ndarray\n",
    "            La imagen de entrada.\n",
    "        \n",
    "        tu: ndarray\n",
    "            El índice en la dimensión x.\n",
    "            \n",
    "        v: ndarray\n",
    "            El índice en la dimensión y.\n",
    "\n",
    "        norte: entero\n",
    "            Tamaño de la imagen.\n",
    "            \n",
    "        Devoluciones\n",
    "        -------\n",
    "        resultado: flotar\n",
    "            El valor único calculado de la DCT.\n",
    "        \"\"\"\n",
    "        result = 0\n",
    "\n",
    "        for x in range(N):\n",
    "            for y in range(N):\n",
    "                result += imge[x, y] * math.cos(((2*x + 1)*u*math.pi)/(2*N)) * math.cos(((2*y + 1)*v*math.pi)/(2*N))\n",
    "\n",
    "        #Add the tau value to the result\n",
    "        if (u==0) and (v==0):\n",
    "            result = result/N\n",
    "        elif (u==0) or (v==0):\n",
    "            result = (math.sqrt(2.0)*result)/N\n",
    "        else:\n",
    "            result = (2.0*result)/N\n",
    "\n",
    "        return result\n",
    "\n",
    "    @classmethod\n",
    "    def __computeSinglePointInverse2DCT(self, imge, x, y, N):\n",
    "        \"\"\"\n",
    "       Un método privado que calcula un valor único de 2D-DCT a partir de una imagen determinada.\n",
    "\n",
    "        Parámetros\n",
    "        ----------\n",
    "        imagen: ndarray\n",
    "            La imagen de entrada.\n",
    "        \n",
    "        tu: ndarray\n",
    "            El índice en la dimensión x.\n",
    "            \n",
    "        v: ndarray\n",
    "            El índice en la dimensión y.\n",
    "\n",
    "        norte: entero\n",
    "            Tamaño de la imagen.\n",
    "            \n",
    "        Devoluciones\n",
    "        -------\n",
    "        resultado: flotar\n",
    "            El valor único calculado de la DCT.\n",
    "        \"\"\"\n",
    "        result = 0\n",
    "\n",
    "        for u in range(N):\n",
    "            for v in range(N):\n",
    "                if (u==0) and (v==0):\n",
    "                    tau = 1.0/N\n",
    "                elif (u==0) or (v==0):\n",
    "                    tau = math.sqrt(2.0)/N\n",
    "                else:\n",
    "                    tau = 2.0/N\n",
    "                result += tau * imge[u, v] * math.cos(((2*x + 1)*u*math.pi)/(2*N)) * math.cos(((2*y + 1)*v*math.pi)/(2*N))\n",
    "\n",
    "        return result\n",
    "\n",
    "    @classmethod\n",
    "    def computeForward2DDCT(self, imge):\n",
    "        \"\"\"\n",
    "        Calcula/genera la DCT 2D de una imagen de entrada en el dominio espacial.\n",
    "\n",
    "        Parámetros\n",
    "        ----------\n",
    "        imagen: ndarray\n",
    "            La imagen de entrada que se va a transformar.\n",
    "\n",
    "        Devoluciones\n",
    "        -------\n",
    "        final2DDFT: ndarray\n",
    "            La imagen transformada.\n",
    "        \"\"\"\n",
    "\n",
    "        # Assuming a square image\n",
    "        N = imge.shape[0]\n",
    "        final2DDCT = np.zeros([N, N], dtype=float)\n",
    "        for u in range(N):\n",
    "            for v in range(N):\n",
    "                #Compute the DCT value for each cells/points in the resulting transformed image.\n",
    "                final2DDCT[u, v] = DCT.__computeSinglePoint2DCT(imge, u, v, N)\n",
    "        return final2DDCT\n",
    "\n",
    "    @classmethod\n",
    "    def computeInverse2DDCT(self, imge):\n",
    "        \"\"\"\n",
    "        Calcula/genera la DCT 2D de una imagen de entrada en el dominio espacial.\n",
    "\n",
    "        Parámetros\n",
    "        ----------\n",
    "        imagen: ndarray\n",
    "            La imagen de entrada que se va a transformar.\n",
    "\n",
    "        Devoluciones\n",
    "        -------\n",
    "        final2DDFT: ndarray\n",
    "            La imagen transformada.\n",
    "        \"\"\"\n",
    "\n",
    "        # Assuming a square image\n",
    "        N = imge.shape[0]\n",
    "        finalInverse2DDCT = np.zeros([N, N], dtype=float)\n",
    "        for x in range(N):\n",
    "            for y in range(N):\n",
    "                #Compute the DCT value for each cells/points in the resulting transformed image.\n",
    "                finalInverse2DDCT[x, y] = DCT.__computeSinglePointInverse2DCT(imge, x, y, N)\n",
    "        return finalInverse2DDCT\n",
    "\n",
    "    @classmethod\n",
    "    def normalize2DDCTByLog(self, dctImge):\n",
    "        \"\"\"\n",
    "       Calcula la transformación logarítmica de la imagen DCT transformada para hacer el rango\n",
    "        de los valores DCT b/n 0 a 255\n",
    "        \n",
    "        Parámetros\n",
    "        ----------\n",
    "        Imagen dct: ndarray\n",
    "            La imagen transformada DCT de entrada.\n",
    "\n",
    "        Devoluciones\n",
    "        -------\n",
    "        dctNormImge: ndarray\n",
    "            La versión normalizada de la imagen transformada.\n",
    "        \"\"\"\n",
    "\n",
    "        #Normalize the DCT values of a transformed image:\n",
    "        dctImge = np.absolute(dctImge)\n",
    "        dctNormImge = (255/ math.log10(255)) * np.log10(1 + (255/(np.max(dctImge))*dctImge))\n",
    "\n",
    "        return dctNormImge"
   ],
   "metadata": {
    "collapsed": false,
    "ExecuteTime": {
     "end_time": "2024-10-04T20:38:06.362551Z",
     "start_time": "2024-10-04T20:38:06.332413Z"
    }
   },
   "outputs": [],
   "execution_count": 3
  },
  {
   "cell_type": "code",
   "metadata": {
    "collapsed": true,
    "ExecuteTime": {
     "end_time": "2024-10-04T20:38:07.346264Z",
     "start_time": "2024-10-04T20:38:07.331851Z"
    }
   },
   "source": [
    "def quantizeDCTImage(dctImge, Q):\n",
    "    \"\"\"Computes the quantized DCT image by dividing each 8x8 block\n",
    "    of the DCT image by the quantization matrix.\"\"\"\n",
    "    \n",
    "    N = dctImge.shape[0]\n",
    "    blockN = Q.shape[0]\n",
    "    qDctImge = np.zeros([N, N], dtype=int)\n",
    "    for i in np.arange(0, N, 8):\n",
    "        for j in np.arange(0, N, 8):\n",
    "            qDctImge[i:(i+blockN), j:(j+blockN)] = (\n",
    "                np.round(dctImge[i:(i+blockN), j:(j+blockN)]/Q))\n",
    "    \n",
    "    return qDctImge    "
   ],
   "outputs": [],
   "execution_count": 4
  },
  {
   "cell_type": "code",
   "metadata": {
    "collapsed": true,
    "ExecuteTime": {
     "end_time": "2024-10-04T20:38:08.238308Z",
     "start_time": "2024-10-04T20:38:08.224076Z"
    }
   },
   "source": [
    "def constructZigzagArray(mat):\n",
    "    \"\"\"Constructs the flattened array from a given matrix by going in a zigzag fashion.\"\"\"\n",
    "    \n",
    "    N = mat.shape[0]\n",
    "    lstResult = []\n",
    "    iPlus = False\n",
    "    tPlus = True\n",
    "    t = 0\n",
    "    j = 1\n",
    "    \n",
    "    while True:\n",
    "        if tPlus:\n",
    "            if iPlus:\n",
    "                for i in range(t+1):\n",
    "                    lstResult.append(mat[i, t-i])\n",
    "            else:\n",
    "                for i in range(t, -1, -1):\n",
    "                    lstResult.append(mat[i, t-i])\n",
    "            t += 1\n",
    "            iPlus = not iPlus\n",
    "\n",
    "            if t == N:\n",
    "                tPlus = not tPlus\n",
    "        else:\n",
    "            k = t-1\n",
    "            if iPlus:\n",
    "                for i in range(j, t):\n",
    "                    lstResult.append(mat[i, k])\n",
    "                    k -= 1\n",
    "            else:\n",
    "                for i in range(j, t):\n",
    "                    lstResult.append(mat[k, i])\n",
    "                    k -= 1\n",
    "            j += 1\n",
    "            iPlus = not iPlus\n",
    "            if j>t:\n",
    "                break\n",
    "    return np.array(lstResult)"
   ],
   "outputs": [],
   "execution_count": 5
  },
  {
   "cell_type": "code",
   "metadata": {
    "collapsed": true,
    "ExecuteTime": {
     "end_time": "2024-10-04T20:38:09.127568Z",
     "start_time": "2024-10-04T20:38:09.113785Z"
    }
   },
   "source": [
    "def findDCCodes(binDC, Codes):\n",
    "    \"\"\"Finds the category of the DC value\"\"\"\n",
    "    baseCode = Codes[:, 1]\n",
    "    l = len(binDC)\n",
    "    indx = None\n",
    "    subDC = None\n",
    "    length = 0\n",
    "    for i in range(l):\n",
    "        subDC = binDC[:(i+1)]\n",
    "        loc = np.nonzero(Codes[:, 1] == subDC)[0]\n",
    "        if loc.size:\n",
    "            indx = loc[0]\n",
    "            length = int(Codes[indx, 2])\n",
    "            break\n",
    "    return indx, subDC, length       "
   ],
   "outputs": [],
   "execution_count": 6
  },
  {
   "cell_type": "code",
   "metadata": {
    "collapsed": true,
    "ExecuteTime": {
     "end_time": "2024-10-04T20:38:10.076302Z",
     "start_time": "2024-10-04T20:38:10.062435Z"
    }
   },
   "source": [
    "def changeToHexDigit(num):\n",
    "    if (num==10) or (num=='10'):\n",
    "        return 'A'\n",
    "    elif (num==11) or (num=='11'):\n",
    "        return 'B'\n",
    "    elif (num==12) or (num=='12'):\n",
    "        return 'C'\n",
    "    elif (num==13) or (num=='13'):\n",
    "        return 'D'\n",
    "    elif (num==14) or (num=='14'):\n",
    "        return 'E'\n",
    "    elif (num==15) or (num=='15'):\n",
    "        return 'F'\n",
    "    return str(num)"
   ],
   "outputs": [],
   "execution_count": 7
  },
  {
   "cell_type": "code",
   "metadata": {
    "collapsed": true,
    "ExecuteTime": {
     "end_time": "2024-10-04T20:38:12.312242Z",
     "start_time": "2024-10-04T20:38:12.282325Z"
    }
   },
   "source": [
    "def computeDctJpegCompression(imge):\n",
    "    \"\"\"Computes the DCT JPEG Compression algorithm on a given image\"\"\"\n",
    "\n",
    "    #Load the quantization matrix\n",
    "    Q = np.loadtxt('JPEG_Code_Tables/Quantization_Matrix.txt', delimiter='\\t', dtype=int)\n",
    "    #AC_Codes = np.loadtxt('JPEG_Code_Tables/JPEG_AC_Codes.txt', delimiter='\\t', dtype=str)\n",
    "\n",
    "    #Load the JPEG DC Encodings\n",
    "    DC_Codes = np.loadtxt('JPEG_Code_Tables/JPEG_DC_Codes.txt', delimiter='\\t', dtype=str)\n",
    "\n",
    "    #Load the JPEG AC Encodings\n",
    "    AC_Codes = np.loadtxt('JPEG_Code_Tables/JPEG_AC_Codes.txt', delimiter='\\t', dtype=str)\n",
    "\n",
    "    #Variable to store the resulting codes.\n",
    "    result = ''\n",
    "    \n",
    "    N = imge.shape[0]\n",
    "    blockN = Q.shape[0]\n",
    "    previousDC = None\n",
    "    for i in np.arange(0, N, blockN):\n",
    "        for j in np.arange(0, N, blockN):\n",
    "            # 1. Extract one block of the image at a time.\n",
    "            blockImge = imge[i:(i+blockN), j:(j+blockN)]\n",
    "            \n",
    "            # 2. Apply DCT to the block\n",
    "            blockImgeDct = DCT.computeForward2DDCT(blockImge)\n",
    "            \n",
    "            # 3. Quantize the resulting DCT values (i.e., divide by Q matrix and round)\n",
    "            blockImgeDctQ = (blockImgeDct/Q).astype(int)\n",
    "            \n",
    "            # 4.1. Flatten the quantized image by using zigzag fashion.\n",
    "            blockImgeDctQFlat = constructZigzagArray(blockImgeDctQ)\n",
    "            # 4.2. Trim the trailing zeros from the array\n",
    "            blockImgeDctQFlat = np.trim_zeros(blockImgeDctQFlat, trim='b')\n",
    "            #print blockImgeDctQFlat\n",
    "            \n",
    "            #Encode the DCT values (trailing zeros are deleted)\n",
    "            #A. DC Codes\n",
    "            if blockImgeDctQFlat.size == 0:\n",
    "                DC = 0\n",
    "            else:\n",
    "                DC = blockImgeDctQFlat[0]\n",
    "            if previousDC is None:\n",
    "                previousDC = DC\n",
    "            else:\n",
    "                temp = previousDC\n",
    "                DC -= previousDC\n",
    "                previousDC = temp\n",
    "            #Convert to binary\n",
    "            if DC==0:\n",
    "                binDC = '00'\n",
    "            else:\n",
    "                binDC = binary_repr(abs(DC))\n",
    "            #Search in category and substring of binDC in DC Encodings\n",
    "            indx, subDC, length = findDCCodes(binDC, DC_Codes)\n",
    "            if DC < 0:\n",
    "                #Flip 0's and 1's\n",
    "                binDC = ''.join('1' if x == '0' else '0' for x in binDC)\n",
    "            #print \"binDC: \", binDC\n",
    "            #print \"subDC: \", subDC\n",
    "            #print \"length: \", length\n",
    "            binDC = binDC.zfill(length-len(subDC))\n",
    "            DC_Code = subDC + binDC\n",
    "            result += DC_Code\n",
    "            \n",
    "            #B. AC Codes\n",
    "            runs = 0\n",
    "            for i in range(1, blockImgeDctQFlat.size):\n",
    "                AC = blockImgeDctQFlat[i]\n",
    "                if AC == 0:\n",
    "                    runs += 1\n",
    "                else:\n",
    "                    binAC = binary_repr(abs(AC))\n",
    "                    length = len(binAC)\n",
    "                    \n",
    "                    if runs > 15:\n",
    "                        runs = 15\n",
    "                    indx = AC_Codes[:, 0:2].tolist().index([str(changeToHexDigit(runs)), str(length)])\n",
    "                    baseCode = AC_Codes[indx, 2]\n",
    "                    length = int(AC_Codes[indx, 3])\n",
    "                    if AC < 0:\n",
    "                        #Flip 0's and 1's\n",
    "                        binAC = ''.join('1' if x == '0' else '0' for x in binAC)\n",
    "                    binAC = binAC.zfill(length-len(baseCode))\n",
    "                    AC_Code = baseCode + binAC\n",
    "                    result += AC_Code\n",
    "                    runs = 0\n",
    "            \n",
    "            #Add EOB Code at the end of the encoded block.\n",
    "            result += AC_Codes[0, 2]\n",
    "            \n",
    "    return result, len(result)\n",
    "    "
   ],
   "outputs": [],
   "execution_count": 8
  },
  {
   "cell_type": "markdown",
   "metadata": {},
   "source": [
    "<a id=\"Applying\"></a>\n",
    "## Aplicando la Compresion"
   ]
  },
  {
   "cell_type": "markdown",
   "metadata": {},
   "source": [
    "NÓTESE BIEN. En este ejemplo, sólo se aplica una matriz de cuantificación. Sin embargo, se puede cambiar a cualquier otra matriz. La matriz de cuantificación determina el nivel de compresión. En otras palabras, diferentes matrices de cuantificación dan diferentes imágenes comprimidas. Según, la calidad de las imágenes recuperadas también es diferente. Por lo general, cuanto mayor sea la relación de compresión para la misma imagen, menor será la calidad de la imagen recuperada/descomprimida."
   ]
  },
  {
   "cell_type": "code",
   "metadata": {
    "ExecuteTime": {
     "end_time": "2024-10-04T20:39:09.278131Z",
     "start_time": "2024-10-04T20:39:09.239229Z"
    }
   },
   "source": [
    "#Load or generate images\n",
    "\n",
    "#1. Generate an image with a white square at its center and black background.\n",
    "imge = Image.open(r'Images/house.jpg')\n",
    "#imge =   Images.generateBlackAndWhiteSquareImage(512)\n",
    "\n",
    "#Load other images from file.\n",
    "imgeHouse = Image.open(r'Images/house.jpg') # open an image\n",
    "imgePepper = Image.open(r'Images/peppers_gray.jpg') # open an image\n",
    "\n",
    "#Convert from 3-D to 2-D\n",
    "imge = imgeHouse.convert(mode='L')\n",
    "imgeHouse = imgeHouse.convert(mode='L')\n",
    "imgePepper = imgePepper.convert(mode='L')\n",
    "\n",
    "#Convert the image file to a matrix\n",
    "imge = np.array(imge)\n",
    "imgeHouse = np.array(imgeHouse)\n",
    "imgePepper = np.array(imgePepper)"
   ],
   "outputs": [],
   "execution_count": 9
  },
  {
   "cell_type": "code",
   "metadata": {
    "ExecuteTime": {
     "end_time": "2024-10-04T20:39:14.922186Z",
     "start_time": "2024-10-04T20:39:14.579715Z"
    }
   },
   "source": [
    "#Let's now display the images\n",
    "fig, axarr = plt.subplots(1, 3, figsize=[10,5])\n",
    "\n",
    "axarr[0].imshow(imge, cmap=plt.get_cmap('gray'))\n",
    "axarr[0].set_title(\"Image 1\")\n",
    "axarr[0].axes.get_xaxis().set_visible(False)\n",
    "axarr[0].axes.get_yaxis().set_visible(False)\n",
    "\n",
    "axarr[1].imshow(imgeHouse, cmap=plt.get_cmap('gray'))\n",
    "axarr[1].set_title(\"Image 2\")\n",
    "axarr[1].axes.get_xaxis().set_visible(False)\n",
    "axarr[1].axes.get_yaxis().set_visible(False)\n",
    "\n",
    "axarr[2].imshow(imgePepper, cmap=plt.get_cmap('gray'))\n",
    "axarr[2].set_title(\"Image 3\")\n",
    "axarr[2].axes.get_xaxis().set_visible(False)\n",
    "axarr[2].axes.get_yaxis().set_visible(False)\n"
   ],
   "outputs": [
    {
     "data": {
      "text/plain": [
       "<Figure size 1000x500 with 3 Axes>"
      ],
      "image/png": "[encoded data removed]"
     },
     "metadata": {},
     "output_type": "display_data"
    }
   ],
   "execution_count": 10
  },
  {
   "cell_type": "code",
   "metadata": {
    "collapsed": true,
    "ExecuteTime": {
     "end_time": "2024-10-04T20:39:37.905346Z",
     "start_time": "2024-10-04T20:39:37.891269Z"
    }
   },
   "source": [
    "#Calculate the size of the images\n",
    "N_imge = imge.shape[0]\n",
    "N_Pepper = imgePepper.shape[0]\n",
    "N_House = imgeHouse.shape[0]"
   ],
   "outputs": [],
   "execution_count": 11
  },
  {
   "cell_type": "code",
   "metadata": {
    "collapsed": true,
    "ExecuteTime": {
     "end_time": "2024-10-04T20:39:40.120874Z",
     "start_time": "2024-10-04T20:39:40.107337Z"
    }
   },
   "source": [
    "#Calculate the uncompressed image size(For 8-bit grayscale image)\n",
    "uncompSize_imge = (N_imge**2)*8\n",
    "uncompSize_Pepper = (N_Pepper**2)*8\n",
    "uncompSize_House = (N_House**2)*8"
   ],
   "outputs": [],
   "execution_count": 12
  },
  {
   "cell_type": "code",
   "metadata": {
    "ExecuteTime": {
     "end_time": "2024-10-04T20:40:33.585711Z",
     "start_time": "2024-10-04T20:39:43.336709Z"
    }
   },
   "source": [
    "#Calculate the compressed images' size\n",
    "_, compSize_imge = computeDctJpegCompression(imge)"
   ],
   "outputs": [],
   "execution_count": 13
  },
  {
   "cell_type": "code",
   "metadata": {
    "collapsed": true,
    "ExecuteTime": {
     "end_time": "2024-10-04T20:41:39.392153Z",
     "start_time": "2024-10-04T20:40:48.250665Z"
    }
   },
   "source": [
    "_, compSize_Pepper = computeDctJpegCompression(imgePepper)"
   ],
   "outputs": [],
   "execution_count": 14
  },
  {
   "cell_type": "code",
   "metadata": {
    "collapsed": true,
    "ExecuteTime": {
     "end_time": "2024-10-04T20:42:35.079482Z",
     "start_time": "2024-10-04T20:41:46.118024Z"
    }
   },
   "source": [
    "_, compSize_House = computeDctJpegCompression(imgeHouse)"
   ],
   "outputs": [],
   "execution_count": 15
  },
  {
   "cell_type": "code",
   "metadata": {
    "ExecuteTime": {
     "end_time": "2024-10-04T20:42:37.720889Z",
     "start_time": "2024-10-04T20:42:37.706673Z"
    }
   },
   "source": [
    "#Calculate the compression ratio of the images\n",
    "print(\"Imagen 1 Porcentaje de Compresion: \", int(uncompSize_imge/compSize_imge))\n",
    "print (\"Imagen 2 Porcntaje de Compresion: \", int(uncompSize_House/compSize_House))\n",
    "print (\"Imagen 3 Porcentaje de Compresion: \", int(uncompSize_Pepper/compSize_Pepper))"
   ],
   "outputs": [
    {
     "name": "stdout",
     "output_type": "stream",
     "text": [
      "Imagen 1 Porcentaje de Compresion:  54\n",
      "Imagen 2 Porcntaje de Compresion:  54\n",
      "Imagen 3 Porcentaje de Compresion:  16\n"
     ]
    }
   ],
   "execution_count": 16
  },
  {
   "cell_type": "markdown",
   "metadata": {},
   "source": [
    "A partir de los resultados anteriores, las imágenes con una alta correlación tienen relaciones de compresión más altas que las de las imágenes sin correlación."
   ]
  },
  {
   "cell_type": "markdown",
   "source": [
    "**Copyright**\n",
    "\n",
    "The notebooks are provided as [Open Educational Resource](https://de.wikipedia.org/wiki/Open_Educational_Resources). Feel free to use the notebooks for your own educational purposes. The text is licensed under [Creative Commons Attribution 4.0](https://creativecommons.org/licenses/by/4.0/), the code of the IPython examples under the [MIT license](https://opensource.org/licenses/MIT)."
   ],
   "metadata": {
    "collapsed": false
   }
  },
  {
   "cell_type": "code",
   "execution_count": null,
   "outputs": [],
   "source": [],
   "metadata": {
    "collapsed": false
   }
  }
 ],
 "metadata": {
  "anaconda-cloud": {},
  "kernelspec": {
   "name": "python3",
   "language": "python",
   "display_name": "Python 3 (ipykernel)"
  },
  "language_info": {
   "codemirror_mode": {
    "name": "ipython",
    "version": 2
   },
   "file_extension": ".py",
   "mimetype": "text/x-python",
   "name": "python",
   "nbconvert_exporter": "python",
   "pygments_lexer": "ipython2",
   "version": "2.7.13"
  }
 },
 "nbformat": 4,
 "nbformat_minor": 1
}
