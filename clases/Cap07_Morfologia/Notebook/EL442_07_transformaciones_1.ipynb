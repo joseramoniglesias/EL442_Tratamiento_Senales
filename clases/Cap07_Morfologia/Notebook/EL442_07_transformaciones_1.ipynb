{
 "cells": [
  {
   "metadata": {},
   "cell_type": "markdown",
   "source": [
    "# Transformaciones<a class=\"tocSkip\">\n",
    "## TRATAMIENTO DE SEÑALES <a class=\"tocSkip\">\n",
    "### Ingenieria Electrónica <a class=\"tocSkip\">\n",
    "### Universidad Popular del Cesar <a class=\"tocSkip\">\n",
    "### Prof.: Jose Ramón Iglesias Gamarra - [https://github.com/joseramoniglesias/](https://github.com/joseramoniglesias/) <a class=\"tocSkip\">\n",
    "  **joseiglesias@unicesar.edu.co**"
   ]
  },
  {
   "metadata": {
    "id": "at4KhNda0wN-"
   },
   "cell_type": "markdown",
   "source": [
    "# Transformaciones de Imagen - DIP\n",
    "Hasta ahora hemos discutido operaciones de procesamiento que trabajan directamente sobre los píxeles de una imagen de entrada (*dominio espacial*). En algunos casos, las operaciones de procesamiento se benefician de aplicar alguna transformación a la imagen de entrada, aplicar la operación en el nuevo dominio y aplicar la transformación inversa para volver al dominio espacial.\n",
    "\n",
    "<img src=\"https://github.com/MoraRubio/dip-uam/blob/main/src/transformaciones-imagen.png?raw=true\" alt=\"Operaciones en el dominio de la transformada\" width=\"1000\"/>\n",
    "\n",
    "Un conjunto importante de estas transformaciones se puede expresar de la forma:\n",
    "\n",
    "$$T(u,v)=\\sum_{x=0}^{M-1}\\sum_{y=0}^{N-1}f(x,y)r(x,y,u,v)$$\n",
    "\n",
    "donde $r(x,y,u,v)$ se denomina *kernel de transformación*.\n",
    "\n",
    "Y la correspondiente transformación inversa:\n",
    "\n",
    "$$f(x,y)=\\sum_{u=0}^{M-1}\\sum_{v=0}^{N-1}T(u,v)s(x,y,u,v)$$\n",
    "\n",
    "donde $s(x,y,u,v)$ se denomina *kernel de transformación inversa*.\n",
    "\n",
    "Una transformada de particular interés en el procesamiento digital de imágenes es la transformada de Fourier, cuyos kernels definen como:\n",
    "\n",
    "$$r(x,y,u,v)=e^{-j2\\pi (ux/M+vy/M)}$$\n",
    "\n",
    "$$s(x,y,u,v)=\\frac{1}{MN}e^{j2\\pi (ux/M+vy/M)}$$\n",
    "\n",
    "Las transformadas *Walsh*, *Hadamard*, *discrete cosine*, *Haar*, y *slant* también se pueden expresar de esta forma.\n",
    "\n",
    "## Acerca de la transformada de Fourier\n",
    "Recibe su nombre por el matemático francés Jean Baptiste Joseph Fourier, quien propuso alrededor del año 1820 qué:\n",
    "\n",
    "Cualquier señal periódica puede ser representada como una suma de funciones seno o coseno de diferentes frecuencias, cada una multiplicada por un coeficiente diferente (*Serie de Fourier*)\n",
    "\n",
    "<img src=\"https://github.com/MoraRubio/dip-uam/blob/main/src/fourier.png?raw=true\" alt=\"Ejemplo Fourier libro\" width=\"350\"/>\n",
    "\n",
    "Las funciones no periódicas, pero cuya área bajo la curva es finita, se pueden expresar como la integral de senos o cosenos multiplicados por una función de coeficientes (*Transformada de Fourier*).\n",
    "\n",
    "<img src=\"https://upload.wikimedia.org/wikipedia/commons/7/72/Fourier_transform_time_and_frequency_domains_%28small%29.gif\" alt=\"Ejemplo Fourier Wikipedia\" width=\"400\"/>\n",
    "\n",
    "Una característica importante, tanto de la serie como de la transformada de Fourier, es que la función representada puede ser reconstruida o recuperada por completo sin pérdida de información, lo que permite trabajar en el dominio de Fourier (*dominio de la frecuencia*) y luego volver al dominio original.\n",
    "\n",
    "Desde el punto de vista computacional, actualmente se usa una implementación llamada transformada rápida de Fourier (FFT, Fast Fourier Transform) la cual permite calcular de manera rápida la transformada discreta incluso para muchos datos.\n",
    "\n",
    "El ejemplo más común es el de filtrado en el dominio de la frecuencia, el cual es más eficiente que el filtrado espacial visto anteriormente.\n",
    "\n",
    "<img src=\"https://github.com/MoraRubio/dip-uam/blob/main/src/complejidadFFT.png?raw=true\" alt=\"Complejidad filtrado en frecuencia vs espacial\" width=\"500\"/>"
   ]
  },
  {
   "attachments": {},
   "cell_type": "markdown",
   "metadata": {
    "id": "EGAnrpPM03h3"
   },
   "source": [
    "## Configuración del ambiente"
   ]
  },
  {
   "cell_type": "code",
   "execution_count": null,
   "metadata": {
    "id": "KuCZYNHV0wOB"
   },
   "outputs": [],
   "source": [
    "# Importamos las librerías necesarias\n",
    "import cv2\n",
    "import numpy as np\n",
    "from scipy import signal\n",
    "import scipy.fftpack as fp\n",
    "from skimage.draw import disk\n",
    "import matplotlib.pyplot as plt\n",
    "\n",
    "%matplotlib inline\n",
    "\n",
    "def signaltonoise(a, axis=0, ddof=0):\n",
    "    a = np.asanyarray(a)\n",
    "    m = a.mean(axis)\n",
    "    sd = a.std(axis = axis, ddof = ddof)\n",
    "    return np.where(sd == 0, 0, m / sd)\n",
    "\n",
    "def plot_images(img, title=None, font_size=None, axis=\"off\", color=cv2.COLOR_BGR2RGB):\n",
    "    n_imgs = len(img)\n",
    "    if  n_imgs > 1:\n",
    "        _, axs = plt.subplots(1, n_imgs, **{'figsize':(3*n_imgs, 3)})\n",
    "        axs = axs.ravel()\n",
    "        for i in range(n_imgs):\n",
    "            if title and (len(title) == n_imgs):\n",
    "                axs[i].set_title(title[i], fontsize=font_size)\n",
    "            axs[i].axis(axis)\n",
    "            if len(img[i].shape) == 2:\n",
    "              axs[i].imshow(img[i], cmap=\"gray\")\n",
    "            else:\n",
    "              axs[i].imshow(cv2.cvtColor(img[i], color))\n",
    "        plt.tight_layout()    \n",
    "    else:\n",
    "        plt.title(title, fontsize=font_size)\n",
    "        plt.axis(axis)\n",
    "        if len(img[0].shape) == 2:\n",
    "          plt.imshow(img[0], cmap=\"gray\")\n",
    "        else:\n",
    "          plt.imshow(cv2.cvtColor(img[0], color))"
   ]
  },
  {
   "cell_type": "code",
   "execution_count": null,
   "metadata": {
    "colab": {
     "base_uri": "https://localhost:8080/",
     "height": 225
    },
    "id": "pH13GM1A3Ygd",
    "outputId": "fc2054ce-acae-47ea-9270-a1c2623c3829"
   },
   "outputs": [],
   "source": [
    "# Leemos las imágenes y nos aseguramos de que sean binarias\n",
    "lenna = cv2.resize(cv2.imread(\"lenna.jpg\", cv2.IMREAD_GRAYSCALE), (512, 512))\n",
    "astronauta = cv2.resize(cv2.imread(\"astronauta.png\", cv2.IMREAD_GRAYSCALE), (512, 512))\n",
    "pcb = cv2.resize(cv2.imread(\"pcb.png\", cv2.IMREAD_GRAYSCALE), (512, 512))\n",
    "plot_images([lenna, astronauta, pcb])"
   ]
  },
  {
   "attachments": {},
   "cell_type": "markdown",
   "metadata": {
    "id": "8pDYjbNco-OO"
   },
   "source": [
    "## Cálculo y visualización de la FFT"
   ]
  },
  {
   "cell_type": "code",
   "execution_count": null,
   "metadata": {
    "colab": {
     "base_uri": "https://localhost:8080/",
     "height": 231
    },
    "id": "b2H50llQkPut",
    "outputId": "1252e069-c852-46fe-84f7-28bc1575242b"
   },
   "outputs": [],
   "source": [
    "freq = fp.fft2(lenna) # Para el cálculo de la FFT usamos la librería SciPy\n",
    "imageOut = fp.ifft2(freq).real # Cálculo de la FFT inversa\n",
    "\n",
    "assert(np.allclose(lenna, imageOut)) # Verificación de que la imagen original (lenna) y la reconstruida (imageOut) tengan valores cercanos\n",
    "\n",
    "plot_images([lenna, imageOut.astype(int)], [\"Original\", \"Reconstruida\"])"
   ]
  },
  {
   "cell_type": "code",
   "execution_count": null,
   "metadata": {
    "colab": {
     "base_uri": "https://localhost:8080/",
     "height": 248
    },
    "id": "ebBD8ozKqjTx",
    "outputId": "07460f34-b775-4082-8e78-bf775ff0be87"
   },
   "outputs": [],
   "source": [
    "freq_dB = 20*np.log10(0.01+freq) # Paso de escala lineal a escala logarítmica para mejor visualización\n",
    "plot_images([freq_dB.real.astype(int)]) # Seleccionamos la parte real y convertimos a número entero de 8 bits"
   ]
  },
  {
   "cell_type": "code",
   "execution_count": null,
   "metadata": {
    "colab": {
     "base_uri": "https://localhost:8080/",
     "height": 248
    },
    "id": "60wDMkt6jxMV",
    "outputId": "06fad2ce-578b-4a28-b167-37fcf88cfa80"
   },
   "outputs": [],
   "source": [
    "freq2 = fp.fftshift(freq) # Centramos el espectro para una mejor visualización\n",
    "freq_dB = 20*np.log10(0.01+freq2) # Paso de escala lineal a escala logarítmica\n",
    "plot_images([freq_dB.real.astype(int)]) # Seleccionamos la parte real y convertimos a número entero de 8 bits"
   ]
  },
  {
   "cell_type": "code",
   "execution_count": null,
   "metadata": {
    "colab": {
     "base_uri": "https://localhost:8080/",
     "height": 233
    },
    "id": "aLuW60tGkZvD",
    "outputId": "6a3ed5d4-9290-48b9-ad55-e0ed3221e854"
   },
   "outputs": [],
   "source": [
    "spectrum = 20*np.log10(0.01+np.abs(fp.fftshift(freq)))\n",
    "phase = np.angle(fp.fftshift(freq))\n",
    "\n",
    "plot_images([lenna, spectrum.real.astype(int), phase.real.astype(int), imageOut.astype(int)], \n",
    "            [\"Original\", \"Espectro FFT\", \"Fase FFT\", \"Reconstruida\"])"
   ]
  },
  {
   "cell_type": "code",
   "execution_count": 7,
   "metadata": {
    "colab": {
     "base_uri": "https://localhost:8080/",
     "height": 233
    },
    "id": "w7SHIBOOlLCJ",
    "outputId": "75a570b4-28bd-45ff-d0cd-55142f66c490"
   },
   "outputs": [],
   "source": [
    "freq_pcb = fp.fft2(pcb) # Para el cálculo de la FFT usamos la librería ScipPy\n",
    "imageOut = fp.ifft2(freq_pcb).real # Cálculo de la FFT inversa\n",
    "spectrum = 20*np.log10(0.01+np.abs(fp.fftshift(freq_pcb)))\n",
    "phase = np.angle(fp.fftshift(freq_pcb))\n",
    "plot_images([pcb, spectrum.real.astype(int), phase.real.astype(int), imageOut.astype(int)], \n",
    "            [\"Original\", \"Espectro FFT\", \"Fase FFT\", \"Reconstruida\"])"
   ]
  },
  {
   "cell_type": "code",
   "execution_count": null,
   "metadata": {
    "colab": {
     "base_uri": "https://localhost:8080/",
     "height": 231
    },
    "id": "ZfiJxx-7lb4e",
    "outputId": "56a4074f-fd3d-404a-84a9-0c1a52ddf0e0"
   },
   "outputs": [],
   "source": [
    "im1_ = fp.ifft2(np.vectorize(complex)(freq.real, freq_pcb.imag)).real\n",
    "im2_ = fp.ifft2(np.vectorize(complex)(freq_pcb.real, freq.imag)).real\n",
    "plot_images([np.clip(im2_, 0, 255).astype(int), np.clip(im2_, 0, 255).astype(int)], [\"Reconstruida [Re(lenna)+Im(pcb)]\", \"[Re(pcb)+Im(lenna)]\"])"
   ]
  },
  {
   "attachments": {},
   "cell_type": "markdown",
   "metadata": {
    "id": "v7NzK26tmN40"
   },
   "source": [
    "## Filtrado en frecuencia\n",
    "\n",
    "De acuerdo al teorema de la convolución, en el dominio de la frecuencia realizamos una multiplicación entre el espectro de nuestra imagen y el espectro del filtro.\n",
    "\n",
    "### Filtro pasabajas"
   ]
  },
  {
   "cell_type": "code",
   "execution_count": null,
   "metadata": {
    "colab": {
     "base_uri": "https://localhost:8080/",
     "height": 449
    },
    "id": "8Qmg6U0iygl9",
    "outputId": "a29ede2f-68c4-4ed5-f5e0-93d0b4fe3a04"
   },
   "outputs": [],
   "source": [
    "shape = lenna.shape # Tamaño de la imagen\n",
    "center_X, center_Y = shape[0]//2, shape[1]//2 # Centro de la imagen\n",
    "r = 10 # Radio del filtro, a mayor tamaño, mayor efecto de suavizado\n",
    "rr, cc = disk((center_X, center_Y), r) # Coordenadas del círculo de radio r centrado en la imagen\n",
    "kernel = np.zeros(shape, dtype=np.uint8)\n",
    "kernel[rr, cc] = 1 # Creación del filtro\n",
    "\n",
    "freq = fp.fft2(lenna)\n",
    "\n",
    "freq_kernel = fp.fft2(fp.ifftshift(kernel))\n",
    "convolved = freq*freq_kernel\n",
    "imageOut = fp.ifft2(convolved).real\n",
    "\n",
    "lenna_spectrum = (20*np.log10(0.01+fp.fftshift(freq))).real.astype(int)\n",
    "kernel_spectrum = (20*np.log10(0.01+fp.fftshift(freq_kernel))).real.astype(int)\n",
    "result_spectrum = (20*np.log10(0.01+fp.fftshift(convolved))).real.astype(int)\n",
    "\n",
    "plot_images([lenna, 255*kernel, imageOut], [\"Original\", \"Filtro pasabajas\", \"Resultado\"])\n",
    "plot_images([lenna_spectrum, kernel_spectrum, result_spectrum], [\"Espectro FFT Original\", \"Espectro FFT Filtro pasabajas\", \"Espectro FFT Resultado\"])"
   ]
  },
  {
   "attachments": {},
   "cell_type": "markdown",
   "metadata": {
    "id": "uV38Gul7TW9-"
   },
   "source": [
    "Con un kernel gaussiano"
   ]
  },
  {
   "cell_type": "code",
   "execution_count": null,
   "metadata": {
    "colab": {
     "base_uri": "https://localhost:8080/",
     "height": 449
    },
    "id": "9EKSfwUkD2ol",
    "outputId": "78ee7996-50cb-4672-8d40-9d9f4b1fbad9"
   },
   "outputs": [],
   "source": [
    "std = 10 # Dispersión de la distribución gaussiana, a mayor dispersión, mayor efecto de suavizado\n",
    "gauss_kernel = np.outer(signal.gaussian(lenna.shape[0], std), signal.gaussian(lenna.shape[1], std))\n",
    "\n",
    "freq = fp.fft2(lenna)\n",
    "freq_kernel = fp.fft2(fp.ifftshift(gauss_kernel))\n",
    "convolved = freq*freq_kernel\n",
    "imageOut = fp.ifft2(convolved).real\n",
    "\n",
    "lenna_spectrum = (20*np.log10(0.01+fp.fftshift(freq))).real.astype(int)\n",
    "kernel_spectrum = (20*np.log10(0.01+fp.fftshift(freq_kernel))).real.astype(int)\n",
    "result_spectrum = (20*np.log10(0.01+fp.fftshift(convolved))).real.astype(int)\n",
    "\n",
    "plot_images([lenna, 255*gauss_kernel, imageOut], [\"Original\", \"Kernel Gaussiano\", \"Resultado\"])\n",
    "plot_images([lenna_spectrum, kernel_spectrum, result_spectrum], [\"Espectro FFT Original\", \"Espectro FFT Kernel Gaussiano\", \"Espectro FFT Resultado\"])"
   ]
  },
  {
   "attachments": {},
   "cell_type": "markdown",
   "metadata": {
    "id": "BrZc3op4TjyI"
   },
   "source": [
    "### Comparando el filtrado espacial vs el filtrado en frecuencia"
   ]
  },
  {
   "cell_type": "code",
   "execution_count": null,
   "metadata": {
    "colab": {
     "base_uri": "https://localhost:8080/",
     "height": 449
    },
    "id": "3iEj78V2PWPQ",
    "outputId": "fe9038a3-013b-498f-e2c5-baa298e9bd2c"
   },
   "outputs": [],
   "source": [
    "gauss_kernel = np.outer(signal.gaussian(lenna.shape[0], 10), signal.gaussian(lenna.shape[1], 10))\n",
    "freq = fp.fft2(lenna)\n",
    "\n",
    "freq_kernel = fp.fft2(fp.ifftshift(gauss_kernel))\n",
    "convolved = freq*freq_kernel\n",
    "imageOut = fp.ifft2(convolved).real\n",
    "\n",
    "filtrado_espacial = cv2.GaussianBlur(lenna, (25,25), 20.0)\n",
    "freq_filtrado = fp.fft2(filtrado_espacial)\n",
    "\n",
    "lenna_spectrum = (20*np.log10(0.1+fp.fftshift(freq))).real.astype(int)\n",
    "kernel_spectrum = (20*np.log10(0.1+fp.fftshift(freq_filtrado))).real.astype(int)\n",
    "result_spectrum = (20*np.log10(0.1+fp.fftshift(convolved))).real.astype(int)\n",
    "\n",
    "plot_images([lenna, filtrado_espacial, imageOut], [\"Original\", \"Filtro Gaussiano espacial\", \"Filtro Gaussiano en frecuencia\"])\n",
    "plot_images([lenna_spectrum, kernel_spectrum, result_spectrum], [\"Espectro FFT Original\", \"Espectro FFT Filtro Gaussiano espacial\", \"Espectro FFT Filtro Gaussiano en frecuencia\"])"
   ]
  },
  {
   "attachments": {},
   "cell_type": "markdown",
   "metadata": {
    "id": "WEQoYzJYTMYr"
   },
   "source": [
    "Otra opción es modificar directamente el espectro de la imagen utilizando máscaras binarias"
   ]
  },
  {
   "cell_type": "code",
   "execution_count": null,
   "metadata": {
    "colab": {
     "base_uri": "https://localhost:8080/",
     "height": 449
    },
    "id": "MZP_-tRjzYGT",
    "outputId": "06af7a5e-8cbf-4d88-f474-656fb2afdf6d"
   },
   "outputs": [],
   "source": [
    "# Pasaaltas\n",
    "shape = lenna.shape\n",
    "center_X, center_Y = shape[0]//2, shape[1]//2\n",
    "rr, cc = disk((center_X, center_Y), 30)\n",
    "kernel = np.ones(shape, dtype=int)\n",
    "kernel[rr, cc] = 0\n",
    "\n",
    "freq = fp.fftshift(fp.fft2(lenna))\n",
    "\n",
    "freq_kernel = fp.fft2(fp.ifftshift(kernel))\n",
    "convolved = freq*kernel\n",
    "imageOut = np.clip(fp.ifft2(fp.ifftshift(convolved)).real,0,255)\n",
    "\n",
    "lenna_spectrum = (20*np.log10(0.1+freq)).real.astype(int)\n",
    "result_spectrum = (20*np.log10(0.1+convolved)).real.astype(int)\n",
    "\n",
    "plot_images([lenna, 255*kernel, imageOut], [\"Original\", \"Filtro pasaaltas\", \"Resultado\"])\n",
    "plot_images([lenna_spectrum, result_spectrum], [\"Espectro FFT Original\", \"Espectro FFT Resultado\"])"
   ]
  },
  {
   "cell_type": "code",
   "execution_count": null,
   "metadata": {
    "colab": {
     "base_uri": "https://localhost:8080/",
     "height": 447
    },
    "id": "1e6_pm9i4Hlm",
    "outputId": "5f3b90b8-572b-42a1-c048-7575c5a6f8c9"
   },
   "outputs": [],
   "source": [
    "shape = astronauta.shape\n",
    "center_X, center_Y = shape[0]//2, shape[1]//2\n",
    "rr, cc = disk((center_X, center_Y), 50)\n",
    "kernel = np.zeros(shape, dtype=np.uint8)\n",
    "kernel[rr, cc] = 1\n",
    "\n",
    "freq = fp.fftshift(fp.fft2(astronauta))\n",
    "\n",
    "freq_kernel = fp.fft2(fp.ifftshift(kernel))\n",
    "convolved = freq*kernel\n",
    "imageOut = np.clip(fp.ifft2(fp.ifftshift(convolved)).real,0,255)\n",
    "\n",
    "astronauta_spectrum = (20*np.log10(0.1+freq)).real.astype(int)\n",
    "result_spectrum = (20*np.log10(0.1+convolved)).real.astype(int)\n",
    "\n",
    "plot_images([astronauta, 255*kernel, imageOut], [\"Original\", \"Filtro pasabajas\", \"Resultado\"])\n",
    "plot_images([astronauta_spectrum, result_spectrum], [\"Espectro FFT Original\", \"Espectro FFT Resultado\"])"
   ]
  },
  {
   "attachments": {},
   "cell_type": "markdown",
   "metadata": {},
   "source": [
    "### Filtros pasabandas"
   ]
  },
  {
   "cell_type": "code",
   "execution_count": null,
   "metadata": {
    "colab": {
     "base_uri": "https://localhost:8080/",
     "height": 447
    },
    "id": "-oUbFHmEQH8D",
    "outputId": "c1dbb8fc-bdb8-4c83-dff0-e2335f14833e"
   },
   "outputs": [],
   "source": [
    "shape = astronauta.shape\n",
    "center_X, center_Y = shape[0]//2, shape[1]//2\n",
    "rr, cc = disk((center_X, center_Y), 30)\n",
    "kernel2 = np.zeros(shape, dtype=np.uint8)\n",
    "kernel2[rr, cc] = 1\n",
    "\n",
    "kernel3 = kernel-kernel2\n",
    "\n",
    "freq = fp.fftshift(fp.fft2(astronauta))\n",
    "\n",
    "freq_kernel = fp.fft2(fp.ifftshift(kernel3))\n",
    "convolved = freq*kernel3\n",
    "imageOut = np.clip(fp.ifft2(fp.ifftshift(convolved)).real,0,255)\n",
    "\n",
    "astronauta_spectrum = (20*np.log10(0.1+freq)).real.astype(int)\n",
    "result_spectrum = (20*np.log10(0.1+convolved)).real.astype(int)\n",
    "\n",
    "plot_images([astronauta, 255*kernel3, imageOut], [\"Original\", \"Filtro pasabajas\", \"Resultado\"])\n",
    "plot_images([astronauta_spectrum, result_spectrum], [\"Espectro FFT Original\", \"Espectro FFT Resultado\"])"
   ]
  },
  {
   "attachments": {},
   "cell_type": "markdown",
   "metadata": {},
   "source": [
    "### Filtro rechaza bandas"
   ]
  },
  {
   "cell_type": "code",
   "execution_count": null,
   "metadata": {
    "colab": {
     "base_uri": "https://localhost:8080/",
     "height": 447
    },
    "id": "llRRVZW7SK-d",
    "outputId": "d5196649-c9e9-4552-9676-8bfd07d6ee97"
   },
   "outputs": [],
   "source": [
    "shape = astronauta.shape\n",
    "center_X, center_Y = shape[0]//2, shape[1]//2\n",
    "rr, cc = disk((center_X, center_Y), 60)\n",
    "kernel = np.zeros(shape, dtype=np.uint8)\n",
    "kernel[rr, cc] = 1\n",
    "\n",
    "rr, cc = disk((center_X, center_Y), 30)\n",
    "kernel2 = np.zeros(shape, dtype=np.uint8)\n",
    "kernel2[rr, cc] = 1\n",
    "\n",
    "kernel3 = 1-(kernel-kernel2)\n",
    "\n",
    "freq = fp.fftshift(fp.fft2(astronauta))\n",
    "\n",
    "freq_kernel = fp.fft2(fp.ifftshift(kernel3))\n",
    "convolved = freq*kernel3\n",
    "imageOut = np.clip(fp.ifft2(fp.ifftshift(convolved)).real,0,255)\n",
    "\n",
    "astronauta_spectrum = (20*np.log10(0.1+freq)).real.astype(int)\n",
    "result_spectrum = (20*np.log10(0.1+convolved)).real.astype(int)\n",
    "\n",
    "plot_images([astronauta, 255*kernel3, imageOut], [\"Original\", \"Filtro pasabajas\", \"Resultado\"])\n",
    "plot_images([astronauta_spectrum, result_spectrum], [\"Espectro FFT Original\", \"Espectro FFT Resultado\"])"
   ]
  },
  {
   "attachments": {},
   "cell_type": "markdown",
   "metadata": {},
   "source": [
    "### Creando una máscar específica para eliminar la interferencia"
   ]
  },
  {
   "cell_type": "code",
   "execution_count": null,
   "metadata": {},
   "outputs": [],
   "source": [
    "rr, cc = disk((center_X, center_Y), 30)\n",
    "kernel = np.ones(shape, dtype=np.uint8)\n",
    "kernel[rr, cc] = 0\n",
    "\n",
    "freq = fp.fftshift(fp.fft2(astronauta))\n",
    "astronauta_spectrum = (20*np.log10(0.1+freq)).real.astype(int)\n",
    "mask = 1-(astronauta_spectrum>100)*kernel # Sin tener en cuenta el centro de la imagen, buscar los picos del espectro mayores a 100 que corresponden al ruido\n",
    "\n",
    "freq_kernel = fp.fft2(fp.ifftshift(kernel))\n",
    "convolved = freq*mask\n",
    "imageOut = np.clip(fp.ifft2(fp.ifftshift(convolved)).real,0,255)\n",
    "\n",
    "result_spectrum = (20*np.log10(0.1+convolved)).real.astype(int)\n",
    "\n",
    "plot_images([astronauta, 255*mask, imageOut], [\"Original\", \"Máscara\", \"Resultado\"])\n",
    "plot_images([astronauta_spectrum, result_spectrum], [\"Espectro FFT Original\", \"Espectro FFT Resultado\"])"
   ]
  },
  {
   "attachments": {},
   "cell_type": "markdown",
   "metadata": {
    "id": "ZvB_JCYBVrwk"
   },
   "source": [
    "## Ejercicio\n",
    "\n",
    "Aplicar a una imagen ruido gaussiano y ruido sal y pimienta, determinar un filtro adecuado en frecuencia para reducir el ruido, aplicar el filtro y mostrar los resultados."
   ]
  },
  {
   "cell_type": "code",
   "execution_count": null,
   "metadata": {
    "id": "gV9ylID0UL7g"
   },
   "outputs": [],
   "source": []
  },
  {
   "metadata": {},
   "cell_type": "markdown",
   "source": [
    "**Copyright**\n",
    "\n",
    "The notebooks are provided as [Open Educational Resource](https://de.wikipedia.org/wiki/Open_Educational_Resources). Feel free to use the notebooks for your own educational purposes. The text is licensed under [Creative Commons Attribution 4.0](https://creativecommons.org/licenses/by/4.0/), the code of the IPython examples under the [MIT license](https://opensource.org/licenses/MIT)."
   ]
  },
  {
   "metadata": {},
   "cell_type": "code",
   "outputs": [],
   "execution_count": null,
   "source": ""
  }
 ],
 "metadata": {
  "colab": {
   "provenance": []
  },
  "kernelspec": {
   "display_name": "dip",
   "language": "python",
   "name": "python3"
  },
  "language_info": {
   "codemirror_mode": {
    "name": "ipython",
    "version": 3
   },
   "file_extension": ".py",
   "mimetype": "text/x-python",
   "name": "python",
   "nbconvert_exporter": "python",
   "pygments_lexer": "ipython3",
   "version": "3.11.2"
  },
  "orig_nbformat": 4,
  "vscode": {
   "interpreter": {
    "hash": "2ee78bf6d3c55ab8d976b00cd533f0c8b1f102162595d6dc238528d9a3be5ad3"
   }
  }
 },
 "nbformat": 4,
 "nbformat_minor": 0
}
