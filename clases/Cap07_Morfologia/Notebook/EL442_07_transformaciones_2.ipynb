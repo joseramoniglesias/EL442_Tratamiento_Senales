{
 "cells": [
  {
   "metadata": {},
   "cell_type": "markdown",
   "source": [
    "# Transformaciones<a class=\"tocSkip\">\n",
    "## TRATAMIENTO DE SEÑALES <a class=\"tocSkip\">\n",
    "### Ingenieria Electrónica <a class=\"tocSkip\">\n",
    "### Universidad Popular del Cesar <a class=\"tocSkip\">\n",
    "### Prof.: Jose Ramón Iglesias Gamarra - [https://github.com/joseramoniglesias/](https://github.com/joseramoniglesias/) <a class=\"tocSkip\">\n",
    "  **joseiglesias@unicesar.edu.co**"
   ]
  },
  {
   "metadata": {
    "id": "at4KhNda0wN-"
   },
   "cell_type": "markdown",
   "source": "# Transformaciones de Imagen - DIP\n"
  },
  {
   "attachments": {},
   "cell_type": "markdown",
   "metadata": {
    "id": "EGAnrpPM03h3"
   },
   "source": [
    "## Configuración del ambiente"
   ]
  },
  {
   "cell_type": "code",
   "execution_count": null,
   "metadata": {
    "id": "KuCZYNHV0wOB"
   },
   "outputs": [],
   "source": [
    "# Importamos las librerías necesarias\n",
    "import cv2\n",
    "import numpy as np\n",
    "from numpy import r_\n",
    "from scipy import signal\n",
    "import scipy.fftpack as fp\n",
    "from skimage.draw import disk\n",
    "import matplotlib.pyplot as plt\n",
    "\n",
    "%matplotlib inline\n",
    "\n",
    "def signaltonoise(a, axis=0, ddof=0):\n",
    "    a = np.asanyarray(a)\n",
    "    m = a.mean(axis)\n",
    "    sd = a.std(axis = axis, ddof = ddof)\n",
    "    return np.where(sd == 0, 0, m / sd)\n",
    "\n",
    "def plot_images(img, title=None, font_size=None, axis=\"off\", color=cv2.COLOR_BGR2RGB):\n",
    "    n_imgs = len(img)\n",
    "    if  n_imgs > 1:\n",
    "        _, axs = plt.subplots(1, n_imgs, **{'figsize':(3*n_imgs, 3)})\n",
    "        axs = axs.ravel()\n",
    "        for i in range(n_imgs):\n",
    "            if title and (len(title) == n_imgs):\n",
    "                axs[i].set_title(title[i], fontsize=font_size)\n",
    "            axs[i].axis(axis)\n",
    "            if len(img[i].shape) == 2:\n",
    "              axs[i].imshow(img[i], cmap=\"gray\")\n",
    "            else:\n",
    "              axs[i].imshow(cv2.cvtColor(img[i], color))\n",
    "        plt.tight_layout()    \n",
    "    else:\n",
    "        plt.title(title, fontsize=font_size)\n",
    "        plt.axis(axis)\n",
    "        if len(img[0].shape) == 2:\n",
    "          plt.imshow(img[0], cmap=\"gray\")\n",
    "        else:\n",
    "          plt.imshow(cv2.cvtColor(img[0], color))"
   ]
  },
  {
   "cell_type": "code",
   "execution_count": null,
   "metadata": {
    "id": "pH13GM1A3Ygd"
   },
   "outputs": [],
   "source": [
    "# Leemos las imágenes y nos aseguramos de que sean binarias\n",
    "lenna = cv2.resize(cv2.imread(\"lenna.jpg\", cv2.IMREAD_GRAYSCALE), (512, 512))\n",
    "astronauta = cv2.resize(cv2.imread(\"astronauta.png\", cv2.IMREAD_GRAYSCALE), (512, 512))\n",
    "pcb = cv2.resize(cv2.imread(\"pcb.png\", cv2.IMREAD_GRAYSCALE), (512, 512))\n",
    "moire = cv2.imread(\"moire.png\", cv2.IMREAD_GRAYSCALE)\n",
    "_, vertical_stripes = cv2.threshold(cv2.imread(\"black-white-vertical-stripes.jpg\", cv2.IMREAD_GRAYSCALE), 127, 255, cv2.THRESH_BINARY)\n",
    "_, diagonal_stripes = cv2.threshold(cv2.imread(\"black-white-diagonal-stripes.jpg\", cv2.IMREAD_GRAYSCALE), 127, 255, cv2.THRESH_BINARY)\n",
    "_, circles = cv2.threshold(cv2.imread(\"expanding-circles-from-center.jpg\", cv2.IMREAD_GRAYSCALE), 127, 255, cv2.THRESH_BINARY)\n",
    "plot_images([lenna, astronauta, pcb, moire, vertical_stripes, diagonal_stripes, circles])"
   ]
  },
  {
   "attachments": {},
   "cell_type": "markdown",
   "metadata": {
    "id": "fnJEZS_pGVjs"
   },
   "source": [
    "## Otros ejemplos FFT"
   ]
  },
  {
   "cell_type": "code",
   "execution_count": null,
   "metadata": {
    "id": "RG3vb7T0Fmr2"
   },
   "outputs": [],
   "source": [
    "freq = fp.fft2(lenna) # Para el cálculo de la FFT usamos la librería SciPy\n",
    "freq = np.vectorize(complex)(freq.real, (-1)*freq.imag)\n",
    "freq2 = fp.fftshift(freq) # Centramos el espectro para una mejor visualización\n",
    "freq_dB = 20*np.log10(0.01+np.abs(freq2)) # Paso de escala lineal a escala logarítmica\n",
    "imageOut = fp.ifft2(np.vectorize(complex)(freq.real, freq.imag)).real\n",
    "plot_images([lenna, freq_dB.real.astype(int), imageOut], [\"Original\", \"Espectro FFT [Fase * (-1)]\", \"Reconstruida [Fase * (-1)]\"])"
   ]
  },
  {
   "cell_type": "code",
   "execution_count": null,
   "metadata": {
    "id": "eiuIY_TMB3ch"
   },
   "outputs": [],
   "source": [
    "freq = fp.fft2(vertical_stripes) # Para el cálculo de la FFT usamos la librería SciPy\n",
    "freq2 = fp.fftshift(freq) # Centramos el espectro para una mejor visualización\n",
    "freq_dB = 20*np.log10(0.01+np.abs(freq2)) # Paso de escala lineal a escala logarítmica\n",
    "plot_images([vertical_stripes, freq_dB.real.astype(int)], [\"Original\", \"Espectro FFT\"])"
   ]
  },
  {
   "cell_type": "code",
   "execution_count": null,
   "metadata": {
    "id": "cFGBdeoDCfm_"
   },
   "outputs": [],
   "source": [
    "filt_vertical_stripes = cv2.GaussianBlur(vertical_stripes, (25,25), 20.0)\n",
    "freq = fp.fft2(filt_vertical_stripes) # Para el cálculo de la FFT usamos la librería SciPy\n",
    "freq2 = fp.fftshift(freq) # Centramos el espectro para una mejor visualización\n",
    "freq_dB = 20*np.log10(0.01+np.abs(freq2)) # Paso de escala lineal a escala logarítmica\n",
    "plot_images([filt_vertical_stripes, freq_dB.real.astype(int)], [\"Original\", \"Espectro FFT\"])"
   ]
  },
  {
   "cell_type": "code",
   "execution_count": null,
   "metadata": {
    "id": "9l9WfQp2FGd9"
   },
   "outputs": [],
   "source": [
    "rot_vertical_stripes = cv2.rotate(filt_vertical_stripes, 2)\n",
    "freq = fp.fft2(rot_vertical_stripes) # Para el cálculo de la FFT usamos la librería SciPy\n",
    "freq2 = fp.fftshift(freq) # Centramos el espectro para una mejor visualización\n",
    "freq_dB = 20*np.log10(0.01+np.abs(freq2)) # Paso de escala lineal a escala logarítmica\n",
    "plot_images([rot_vertical_stripes, freq_dB.real.astype(int)], [\"Original\", \"Espectro FFT\"])"
   ]
  },
  {
   "cell_type": "code",
   "execution_count": null,
   "metadata": {
    "id": "HmNIGdGWCSgU"
   },
   "outputs": [],
   "source": [
    "freq = fp.fft2(diagonal_stripes) # Para el cálculo de la FFT usamos la librería SciPy\n",
    "freq2 = fp.fftshift(freq) # Centramos el espectro para una mejor visualización\n",
    "freq_dB = 20*np.log10(0.01+np.abs(freq2)) # Paso de escala lineal a escala logarítmica\n",
    "plot_images([diagonal_stripes, freq_dB.real.astype(int)], [\"Original\", \"Espectro FFT\"])"
   ]
  },
  {
   "cell_type": "code",
   "execution_count": null,
   "metadata": {
    "id": "yRTWmvn5Cq5l"
   },
   "outputs": [],
   "source": [
    "filt_diagonal_stripes = cv2.GaussianBlur(diagonal_stripes, (15,15), 10.0)\n",
    "freq = fp.fft2(filt_diagonal_stripes) # Para el cálculo de la FFT usamos la librería SciPy\n",
    "freq2 = fp.fftshift(freq) # Centramos el espectro para una mejor visualización\n",
    "freq_dB = 20*np.log10(0.01+np.abs(freq2)) # Paso de escala lineal a escala logarítmica\n",
    "plot_images([filt_diagonal_stripes, freq_dB.real.astype(int)], [\"Original\", \"Espectro FFT\"])"
   ]
  },
  {
   "cell_type": "code",
   "execution_count": null,
   "metadata": {
    "id": "otS18HZcCWr2"
   },
   "outputs": [],
   "source": [
    "freq = fp.fft2(circles) # Para el cálculo de la FFT usamos la librería SciPy\n",
    "freq2 = fp.fftshift(freq) # Centramos el espectro para una mejor visualización\n",
    "freq_dB = 20*np.log10(0.01+np.abs(freq2)) # Paso de escala lineal a escala logarítmica\n",
    "plot_images([circles, freq_dB.real.astype(int)], [\"Original\", \"Espectro FFT\"])"
   ]
  },
  {
   "cell_type": "code",
   "execution_count": null,
   "metadata": {
    "id": "44PLrDZjE5Yf"
   },
   "outputs": [],
   "source": [
    "filt_circles = cv2.GaussianBlur(circles, (25,25), 20.0)\n",
    "freq = fp.fft2(filt_circles) # Para el cálculo de la FFT usamos la librería SciPy\n",
    "freq2 = fp.fftshift(freq) # Centramos el espectro para una mejor visualización\n",
    "freq_dB = 20*np.log10(0.01+np.abs(freq2)) # Paso de escala lineal a escala logarítmica\n",
    "plot_images([filt_circles, freq_dB.real.astype(int)], [\"Original\", \"Espectro FFT\"])"
   ]
  },
  {
   "cell_type": "code",
   "execution_count": null,
   "metadata": {
    "id": "HYYH4OprKCY1"
   },
   "outputs": [],
   "source": [
    "rectangle = np.zeros((512, 521), dtype=np.uint8)\n",
    "rectangle[210:282, 230:272] = 255\n",
    "freq = fp.fft2(rectangle) # Para el cálculo de la FFT usamos la librería ScipPy\n",
    "imageOut = fp.ifft2(freq).real # Cálculo de la FFT inversa\n",
    "spectrum = 20*np.log10(0.01+np.abs(fp.fftshift(freq)))\n",
    "phase = np.angle(fp.fftshift(freq))\n",
    "plot_images([rectangle, spectrum.real.astype(int), phase.real.astype(int)], \n",
    "            [\"Original\", \"Espectro FFT\", \"Fase FFT\"])"
   ]
  },
  {
   "cell_type": "code",
   "execution_count": null,
   "metadata": {
    "id": "GXyFooNQKck8"
   },
   "outputs": [],
   "source": [
    "filt_rectangle = cv2.GaussianBlur(rectangle, (15,15), 20.0)\n",
    "freq = fp.fft2(filt_rectangle) # Para el cálculo de la FFT usamos la librería ScipPy\n",
    "spectrum = 20*np.log10(0.01+np.abs(fp.fftshift(freq)))\n",
    "phase = np.angle(fp.fftshift(freq))\n",
    "plot_images([filt_rectangle, spectrum.real.astype(int), phase.real.astype(int)], \n",
    "            [\"Original\", \"Espectro FFT\", \"Fase FFT\"])"
   ]
  },
  {
   "cell_type": "code",
   "execution_count": null,
   "metadata": {
    "id": "42irpbyBKoQ4"
   },
   "outputs": [],
   "source": [
    "rectangle = np.zeros((512, 521), dtype=np.uint8)\n",
    "rectangle[100:172, 260:302] = 255\n",
    "freq = fp.fft2(rectangle) # Para el cálculo de la FFT usamos la librería ScipPy\n",
    "spectrum = 20*np.log10(0.01+np.abs(fp.fftshift(freq)))\n",
    "phase = np.angle(fp.fftshift(freq))\n",
    "plot_images([rectangle, spectrum.real.astype(int), phase.real.astype(int)], \n",
    "            [\"Original\", \"Espectro FFT\", \"Fase FFT\"])"
   ]
  },
  {
   "cell_type": "code",
   "execution_count": null,
   "metadata": {
    "id": "Fy2bzbQMLFOr"
   },
   "outputs": [],
   "source": [
    "shape = rectangle.shape[1::-1]\n",
    "rot_rectangle = cv2.warpAffine(rectangle, cv2.getRotationMatrix2D(tuple(np.array(shape) / 2), 30, 1.0), shape)\n",
    "freq = fp.fft2(rot_rectangle) # Para el cálculo de la FFT usamos la librería ScipPy\n",
    "spectrum = 20*np.log10(0.01+np.abs(fp.fftshift(freq)))\n",
    "phase = np.angle(fp.fftshift(freq))\n",
    "plot_images([rot_rectangle, spectrum.real.astype(int), phase.real.astype(int)], \n",
    "            [\"Original\", \"Espectro FFT\", \"Fase FFT\"])"
   ]
  },
  {
   "attachments": {},
   "cell_type": "markdown",
   "metadata": {
    "id": "8pDYjbNco-OO"
   },
   "source": [
    "## Casos de uso filtrado en frecuencia"
   ]
  },
  {
   "attachments": {},
   "cell_type": "markdown",
   "metadata": {
    "id": "L88IbPcv3nSL"
   },
   "source": [
    "### Interferencia sinusoidal\n",
    "#### Filtros pasabanda"
   ]
  },
  {
   "cell_type": "code",
   "execution_count": null,
   "metadata": {
    "id": "-oUbFHmEQH8D"
   },
   "outputs": [],
   "source": [
    "shape = astronauta.shape\n",
    "center_X, center_Y = shape[0]//2, shape[1]//2\n",
    "\n",
    "rr, cc = disk((center_X, center_Y), 50)\n",
    "kernel = np.zeros(shape, dtype=np.uint8)\n",
    "kernel[rr, cc] = 1\n",
    "\n",
    "rr, cc = disk((center_X, center_Y), 30)\n",
    "kernel2 = np.zeros(shape, dtype=np.uint8)\n",
    "kernel2[rr, cc] = 1\n",
    "\n",
    "kernel3 = kernel-kernel2\n",
    "\n",
    "freq = fp.fftshift(fp.fft2(astronauta))\n",
    "\n",
    "freq_kernel = fp.fft2(fp.ifftshift(kernel3))\n",
    "convolved = freq*kernel3\n",
    "imageOut = np.clip(fp.ifft2(fp.ifftshift(convolved)).real,0,255)\n",
    "\n",
    "astronauta_spectrum = (20*np.log10(0.1+freq)).real.astype(int)\n",
    "result_spectrum = (20*np.log10(0.1+convolved)).real.astype(int)\n",
    "\n",
    "plot_images([astronauta, 255*kernel3, imageOut], [\"Original\", \"Filtro pasabanda\", \"Resultado\"])\n",
    "plot_images([astronauta_spectrum, result_spectrum], [\"Espectro FFT Original\", \"Espectro FFT Resultado\"])"
   ]
  },
  {
   "cell_type": "code",
   "execution_count": null,
   "metadata": {
    "id": "36ZUGTfv8P6B"
   },
   "outputs": [],
   "source": [
    "std = 25 # Dispersión de la distribución gaussiana\n",
    "gauss_kernel_1 = np.outer(signal.gaussian(astronauta.shape[0], std), signal.gaussian(astronauta.shape[1], std))\n",
    "\n",
    "std = 20 # Dispersión de la distribución gaussiana\n",
    "gauss_kernel_2 = np.outer(signal.gaussian(astronauta.shape[0], std), signal.gaussian(astronauta.shape[1], std))\n",
    "\n",
    "kernel3 = gauss_kernel_1-gauss_kernel_2\n",
    "\n",
    "freq = fp.fftshift(fp.fft2(astronauta))\n",
    "\n",
    "freq_kernel = fp.fft2(fp.ifftshift(kernel3))\n",
    "convolved = freq*kernel3\n",
    "imageOut = np.clip(fp.ifft2(fp.ifftshift(convolved)).real,0,255)\n",
    "\n",
    "astronauta_spectrum = (20*np.log10(0.1+freq)).real.astype(int)\n",
    "result_spectrum = (20*np.log10(0.1+convolved)).real.astype(int)\n",
    "\n",
    "plot_images([astronauta, 255*kernel3, imageOut], [\"Original\", \"Filtro pasabanda Gaussiano\", \"Resultado\"])\n",
    "plot_images([astronauta_spectrum, result_spectrum], [\"Espectro FFT Original\", \"Espectro FFT Resultado\"])"
   ]
  },
  {
   "attachments": {},
   "cell_type": "markdown",
   "metadata": {
    "id": "Gzeq4vfs3nSM"
   },
   "source": [
    "#### Filtro rechaza bandas"
   ]
  },
  {
   "cell_type": "code",
   "execution_count": null,
   "metadata": {
    "id": "llRRVZW7SK-d"
   },
   "outputs": [],
   "source": [
    "shape = astronauta.shape\n",
    "center_X, center_Y = shape[0]//2, shape[1]//2\n",
    "\n",
    "rr, cc = disk((center_X, center_Y), 60)\n",
    "kernel = np.zeros(shape, dtype=np.uint8)\n",
    "kernel[rr, cc] = 1\n",
    "\n",
    "rr, cc = disk((center_X, center_Y), 30)\n",
    "kernel2 = np.zeros(shape, dtype=np.uint8)\n",
    "kernel2[rr, cc] = 1\n",
    "\n",
    "kernel3 = 1-(kernel-kernel2)\n",
    "\n",
    "freq = fp.fftshift(fp.fft2(astronauta))\n",
    "\n",
    "freq_kernel = fp.fft2(fp.ifftshift(kernel3))\n",
    "convolved = freq*kernel3\n",
    "imageOut = np.clip(fp.ifft2(fp.ifftshift(convolved)).real,0,255)\n",
    "\n",
    "astronauta_spectrum = (20*np.log10(0.1+freq)).real.astype(int)\n",
    "result_spectrum = (20*np.log10(0.1+convolved)).real.astype(int)\n",
    "\n",
    "plot_images([astronauta, 255*kernel3, imageOut], [\"Original\", \"Filtro rechazabanda\", \"Resultado\"])\n",
    "plot_images([astronauta_spectrum, result_spectrum], [\"Espectro FFT Original\", \"Espectro FFT Resultado\"])"
   ]
  },
  {
   "cell_type": "code",
   "execution_count": null,
   "metadata": {
    "id": "VtWuCFe67I4O"
   },
   "outputs": [],
   "source": [
    "std = 70 # Dispersión de la distribución gaussiana\n",
    "gauss_kernel_1 = np.outer(signal.gaussian(astronauta.shape[0], std), signal.gaussian(astronauta.shape[1], std))\n",
    "\n",
    "std = 15 # Dispersión de la distribución gaussiana\n",
    "gauss_kernel_2 = np.outer(signal.gaussian(astronauta.shape[0], std), signal.gaussian(astronauta.shape[1], std))\n",
    "\n",
    "kernel3 = 1-(gauss_kernel_1-gauss_kernel_2)\n",
    "min, max = kernel3.min(), kernel3.max()\n",
    "kernel3 = (kernel3-min)/(max-min)\n",
    "\n",
    "freq = fp.fftshift(fp.fft2(astronauta))\n",
    "\n",
    "freq_kernel = fp.fft2(fp.ifftshift(kernel3))\n",
    "convolved = freq*kernel3\n",
    "imageOut = np.clip(fp.ifft2(fp.ifftshift(convolved)).real,0,255)\n",
    "\n",
    "astronauta_spectrum = (20*np.log10(0.1+freq)).real.astype(int)\n",
    "result_spectrum = (20*np.log10(0.1+convolved)).real.astype(int)\n",
    "\n",
    "plot_images([astronauta, 255*kernel3, imageOut], [\"Original\", \"Filtro pasabanda Gaussiano\", \"Resultado\"])\n",
    "plot_images([astronauta_spectrum, result_spectrum], [\"Espectro FFT Original\", \"Espectro FFT Resultado\"])"
   ]
  },
  {
   "attachments": {},
   "cell_type": "markdown",
   "metadata": {
    "id": "RiRzMxaF3nSM"
   },
   "source": [
    "#### Creando una máscara específica para eliminar la interferencia"
   ]
  },
  {
   "cell_type": "code",
   "execution_count": null,
   "metadata": {
    "id": "dd7AI3Zm3nSN"
   },
   "outputs": [],
   "source": [
    "rr, cc = disk((center_X, center_Y), 30)\n",
    "kernel = np.ones(shape, dtype=np.uint8)\n",
    "kernel[rr, cc] = 0\n",
    "\n",
    "freq = fp.fftshift(fp.fft2(astronauta))\n",
    "astronauta_spectrum = (20*np.log10(0.1+freq)).real.astype(int)\n",
    "mask = 1-(astronauta_spectrum>100)*kernel # Sin tener en cuenta el centro de la imagen, buscar los picos del espectro mayores a 100 que corresponden al ruido\n",
    "\n",
    "freq_kernel = fp.fft2(fp.ifftshift(kernel))\n",
    "convolved = freq*mask\n",
    "imageOut = np.clip(fp.ifft2(fp.ifftshift(convolved)).real,0,255)\n",
    "\n",
    "result_spectrum = (20*np.log10(0.1+convolved)).real.astype(int)\n",
    "\n",
    "plot_images([astronauta, 255*mask, imageOut], [\"Original\", \"Máscara\", \"Resultado\"])\n",
    "plot_images([astronauta_spectrum, result_spectrum], [\"Espectro FFT Original\", \"Espectro FFT Resultado\"])"
   ]
  },
  {
   "cell_type": "code",
   "execution_count": null,
   "metadata": {
    "id": "J5aOSknq-yHD"
   },
   "outputs": [],
   "source": [
    "freq = fp.fftshift(fp.fft2(astronauta))\n",
    "astronauta_spectrum = (20*np.log10(0.1+freq)).real.astype(int)\n",
    "mask = (astronauta_spectrum>100)*kernel # Sin tener en cuenta el centro de la imagen, buscar los picos del espectro mayores a 100 que corresponden al ruido\n",
    "\n",
    "freq_kernel = fp.fft2(fp.ifftshift(kernel))\n",
    "convolved = freq*mask\n",
    "imageOut = np.clip(fp.ifft2(fp.ifftshift(convolved)).real,0,255)\n",
    "\n",
    "result_spectrum = (20*np.log10(0.1+convolved)).real.astype(int)\n",
    "\n",
    "plot_images([astronauta, 255*mask, imageOut], [\"Original\", \"Máscara\", \"Resultado\"])\n",
    "plot_images([astronauta_spectrum, result_spectrum], [\"Espectro FFT Original\", \"Espectro FFT Resultado\"])"
   ]
  },
  {
   "attachments": {},
   "cell_type": "markdown",
   "metadata": {
    "id": "NXnLe7he5lM6"
   },
   "source": [
    "### Patrón de moiré o muaré"
   ]
  },
  {
   "cell_type": "code",
   "execution_count": null,
   "metadata": {
    "id": "VXLi0y9WFe8x"
   },
   "outputs": [],
   "source": [
    "freq = fp.fftshift(fp.fft2(moire))\n",
    "moire_spectrum = (20*np.log10(0.1+freq)).real.astype(int)\n",
    "plot_images([moire, moire_spectrum], [\"Original\", \"Espectro FFT\"])"
   ]
  },
  {
   "cell_type": "code",
   "execution_count": null,
   "metadata": {
    "id": "WfN_wGJaF-jh"
   },
   "outputs": [],
   "source": [
    "std = 70 # Dispersión de la distribución gaussiana\n",
    "gauss_kernel_1 = np.outer(signal.gaussian(moire.shape[0], std), signal.gaussian(moire.shape[1], std))\n",
    "\n",
    "std = 15 # Dispersión de la distribución gaussiana\n",
    "gauss_kernel_2 = np.outer(signal.gaussian(moire.shape[0], std), signal.gaussian(moire.shape[1], std))\n",
    "\n",
    "kernel3 = 1-(gauss_kernel_1-gauss_kernel_2)\n",
    "min, max = kernel3.min(), kernel3.max()\n",
    "kernel3 = (kernel3-min)/(max-min)\n",
    "\n",
    "freq = fp.fftshift(fp.fft2(moire))\n",
    "\n",
    "freq_kernel = fp.fft2(fp.ifftshift(kernel3))\n",
    "convolved = freq*kernel3\n",
    "imageOut = np.clip(fp.ifft2(fp.ifftshift(convolved)).real,0,255)\n",
    "\n",
    "astronauta_spectrum = (20*np.log10(0.1+freq)).real.astype(int)\n",
    "result_spectrum = (20*np.log10(0.1+convolved)).real.astype(int)\n",
    "\n",
    "plot_images([moire, 255*kernel3, imageOut], [\"Original\", \"Filtro pasabanda Gaussiano\", \"Resultado\"])\n",
    "plot_images([astronauta_spectrum, result_spectrum], [\"Espectro FFT Original\", \"Espectro FFT Resultado\"])"
   ]
  },
  {
   "attachments": {},
   "cell_type": "markdown",
   "metadata": {
    "id": "1YL4wN9aH5n6"
   },
   "source": [
    "## Transformada discreta del coseno y compresión JPEG\n",
    "\n",
    "De manera similar a la transformada de Fourier, la transformada discreta del coseno o DCT (*Discrete Cosine Transform*), representa una imagen como la suma de funciones senoidales de diferentes magnitudes y frecuencias. Una de las diferencias prácticas importantes es que la DCT tiene una resolución en frecuencia más alta.\n",
    "\n",
    "Para el caso 2D, las funciones base usadas para calcular DCT en regiones de 8x8 se muestran en la siguiente figura.\n",
    "\n",
    "<img src=\"https://www.mathworks.com/help/images/basis8.gif\" width=\"500\"/>\n",
    "\n",
    "Las frecuencias horizontales aumentan de izquierda a derecha y las verticales de arriba hacia abajo. La primera función base de valor constante se conoce como la componente DC."
   ]
  },
  {
   "cell_type": "code",
   "execution_count": null,
   "metadata": {
    "id": "9RkTlBruIKHq"
   },
   "outputs": [],
   "source": [
    "def dct2(a):\n",
    "    return fp.dct(fp.dct(a, axis=0, norm='ortho'), axis=1, norm='ortho')\n",
    "\n",
    "def idct2(a):\n",
    "    return fp.idct(fp.idct(a, axis=0, norm='ortho'), axis=1 , norm='ortho')"
   ]
  },
  {
   "cell_type": "code",
   "execution_count": null,
   "metadata": {
    "id": "V5uNibo255LM"
   },
   "outputs": [],
   "source": [
    "dct = dct2(lenna[:8,:8])\n",
    "plt.imshow(lenna[:8,:8], cmap='gray')\n",
    "plt.show()\n",
    "plt.imshow(dct, cmap='gray', vmax = np.max(dct)*0.01, vmin = 0)\n",
    "plt.show()"
   ]
  },
  {
   "cell_type": "code",
   "execution_count": null,
   "metadata": {
    "id": "Wtm5Wdpi7Uub"
   },
   "outputs": [],
   "source": [
    "dct = dct2(lenna[128:136,128:136])\n",
    "plt.imshow(lenna[128:136,128:136], cmap='gray')\n",
    "plt.show()\n",
    "plt.imshow(dct, cmap='gray', vmax = np.max(dct)*0.01, vmin = 0)\n",
    "plt.show()"
   ]
  },
  {
   "cell_type": "code",
   "execution_count": null,
   "metadata": {
    "id": "be7_Otd4IUlZ"
   },
   "outputs": [],
   "source": [
    "imsize = lenna.shape\n",
    "dct = np.zeros(imsize)\n",
    "\n",
    "# Aplicar la DCT a cada región de 8x8\n",
    "for i in r_[:imsize[0]:8]:\n",
    "    for j in r_[:imsize[1]:8]:\n",
    "        dct[i:(i+8),j:(j+8)] = dct2(lenna[i:(i+8),j:(j+8)])\n",
    "\n",
    "\n",
    "# Mostrar el resultado para toda la imagen\n",
    "plt.figure()\n",
    "plt.imshow(dct, cmap='gray', vmax = np.max(dct)*0.01, vmin = 0)\n",
    "plt.title(\"8x8 DCTs de la imagen\")\n",
    "plt.show()"
   ]
  },
  {
   "cell_type": "code",
   "execution_count": null,
   "metadata": {
    "id": "NuW1Pb_OI12f"
   },
   "outputs": [],
   "source": [
    "# Umbralización\n",
    "thresh = 0.020\n",
    "dct_thresh = dct * (abs(dct) > (thresh*np.max(dct)))\n",
    "\n",
    "\n",
    "plt.figure()\n",
    "plt.imshow(dct_thresh,cmap='gray',vmax = np.max(dct)*0.01,vmin = 0)\n",
    "plt.title( \"8x8 DCTs umbralizados de la imagen\")\n",
    "plt.show()\n",
    "\n",
    "percent_nonzeros = np.sum(dct_thresh != 0.0 ) / (imsize[0]*imsize[1]*1.0)\n",
    "\n",
    "print(f\"Se mantienen solo el {percent_nonzeros*100.0:.2f}% de los coeficientes DCT\")"
   ]
  },
  {
   "cell_type": "code",
   "execution_count": null,
   "metadata": {
    "id": "CG6BNIcZI_TC"
   },
   "outputs": [],
   "source": [
    "im_dct = np.zeros(imsize)\n",
    "\n",
    "for i in r_[:imsize[0]:8]:\n",
    "    for j in r_[:imsize[1]:8]:\n",
    "        im_dct[i:(i+8),j:(j+8)] = idct2(dct_thresh[i:(i+8),j:(j+8)])\n",
    "\n",
    "cv2.imwrite(\"lenna_compressed.jpg\", im_dct)\n",
    "\n",
    "plot_images([lenna, im_dct], [\"Original\", \"Comprimida\"])"
   ]
  },
  {
   "cell_type": "code",
   "execution_count": null,
   "metadata": {
    "id": "MIHOOlHaOny4"
   },
   "outputs": [],
   "source": [
    "r = 7 # Radio del círculo para la máscara\n",
    "rr, cc = disk((0, 0), r, shape=(8,8))\n",
    "mask = np.zeros((8,8), dtype=np.uint8)\n",
    "mask[rr, cc] = 1\n",
    "print('Usando máscaras para compresión: ')\n",
    "print(mask)"
   ]
  },
  {
   "cell_type": "code",
   "execution_count": null,
   "metadata": {
    "id": "JABfxwpsOrlh"
   },
   "outputs": [],
   "source": [
    "dct_t = np.zeros(imsize)\n",
    "\n",
    "# Aplicar máscara a cada región de 8x8\n",
    "for i in r_[:imsize[0]:8]:\n",
    "    for j in r_[:imsize[1]:8]:\n",
    "        dct_t[i:(i+8),j:(j+8)] = dct[i:(i+8),j:(j+8)]*mask\n",
    "\n",
    "percent_nonzeros = np.sum(dct_t != 0.0 ) / (imsize[0]*imsize[1]*1.0)\n",
    "print(f\"Se mantienen solo el {percent_nonzeros*100.0:.2f}% de los coeficientes DCT\")\n",
    "\n",
    "# Mostrar el resultado para toda la imagen\n",
    "plt.figure()\n",
    "plt.imshow(dct_t, cmap='gray', vmax = np.max(dct_t)*0.01, vmin = 0)\n",
    "plt.title(\"8x8 DCTs de la imagen\")\n",
    "plt.show()"
   ]
  },
  {
   "cell_type": "code",
   "execution_count": null,
   "metadata": {
    "id": "abgBhARxPvR5"
   },
   "outputs": [],
   "source": [
    "im_dct = np.zeros(imsize)\n",
    "\n",
    "for i in r_[:imsize[0]:8]:\n",
    "    for j in r_[:imsize[1]:8]:\n",
    "        im_dct[i:(i+8),j:(j+8)] = idct2(dct_t[i:(i+8),j:(j+8)])\n",
    "        \n",
    "plot_images([lenna, im_dct], [\"Original\", \"Comprimida\"])"
   ]
  },
  {
   "metadata": {},
   "cell_type": "markdown",
   "source": [
    "**Copyright**\n",
    "\n",
    "The notebooks are provided as [Open Educational Resource](https://de.wikipedia.org/wiki/Open_Educational_Resources). Feel free to use the notebooks for your own educational purposes. The text is licensed under [Creative Commons Attribution 4.0](https://creativecommons.org/licenses/by/4.0/), the code of the IPython examples under the [MIT license](https://opensource.org/licenses/MIT)."
   ]
  },
  {
   "metadata": {},
   "cell_type": "code",
   "outputs": [],
   "execution_count": null,
   "source": ""
  }
 ],
 "metadata": {
  "colab": {
   "provenance": []
  },
  "kernelspec": {
   "display_name": "dip",
   "language": "python",
   "name": "python3"
  },
  "language_info": {
   "codemirror_mode": {
    "name": "ipython",
    "version": 3
   },
   "file_extension": ".py",
   "mimetype": "text/x-python",
   "name": "python",
   "nbconvert_exporter": "python",
   "pygments_lexer": "ipython3",
   "version": "3.11.2"
  },
  "orig_nbformat": 4,
  "vscode": {
   "interpreter": {
    "hash": "2ee78bf6d3c55ab8d976b00cd533f0c8b1f102162595d6dc238528d9a3be5ad3"
   }
  }
 },
 "nbformat": 4,
 "nbformat_minor": 0
}
