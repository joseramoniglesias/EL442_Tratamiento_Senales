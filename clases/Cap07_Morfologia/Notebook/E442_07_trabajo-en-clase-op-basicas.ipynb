{
 "cells": [
  {
   "attachments": {},
   "cell_type": "markdown",
   "metadata": {},
   "source": [
    "# Trabajo en clase - Operaciones Básicas DIP<a class=\"tocSkip\">\n",
    "## TRATAMIENTO DE SEÑALES <a class=\"tocSkip\">\n",
    "### Ingenieria Electrónica <a class=\"tocSkip\">\n",
    "### Universidad Popular del Cesar <a class=\"tocSkip\">\n",
    "### Prof.: Jose Ramón Iglesias Gamarra - [https://github.com/joseramoniglesias/](https://github.com/joseramoniglesias/) <a class=\"tocSkip\">\n",
    "  **joseiglesias@unicesar.edu.co**"
   ]
  },
  {
   "cell_type": "code",
   "execution_count": 1,
   "metadata": {},
   "outputs": [],
   "source": [
    "import cv2\n",
    "import numpy as np\n",
    "import matplotlib.pyplot as plt\n",
    "\n",
    "%matplotlib inline \n",
    "import pylab\n",
    "pylab.rcParams['figure.figsize'] = (3.0, 3.0)"
   ]
  },
  {
   "attachments": {},
   "cell_type": "markdown",
   "metadata": {},
   "source": [
    "## Ejercicio 1 - Ajuste del brillo por canal\n",
    "\n",
    "Importe una imagen a color, y utilizando las funciones _split_ y _merge_ de la librería OpenCV, modifique el brillo de uno o varios canales independientemente, y después únalos nuevamente en una imagen a color. Se debe mostrar la imagen original, la imagen resultante, y los histogramas de cada canal antes y después de la modificación (se recomienda usar _subplots_ para una mejor visualización)."
   ]
  },
  {
   "cell_type": "code",
   "execution_count": null,
   "metadata": {},
   "outputs": [],
   "source": []
  },
  {
   "attachments": {},
   "cell_type": "markdown",
   "metadata": {},
   "source": [
    "## Ejercicio 2 - Transformación logarítmica\n",
    "\n",
    "Aplique a una imagen blanco y negro la transformación logarítmica dada por $$F(i,j)=255*log(1+\\frac{f(i,j)}{255})$$\n",
    "\n",
    "Donde $f(i,j)$ representa el valor de intensidad de una imagen original $f$ en la posición $(i,j)$, y $F(i,j)$ su valor al aplicar la transformación logarítmica.\n",
    "\n",
    "Muestre la imagen original y la imagen resultante."
   ]
  },
  {
   "cell_type": "code",
   "execution_count": null,
   "metadata": {},
   "outputs": [],
   "source": []
  },
  {
   "attachments": {},
   "cell_type": "markdown",
   "metadata": {},
   "source": [
    "**¿Qué característica de la imagen (brillo, contraste o nitidez) se ve modificada con esta transformación?**"
   ]
  },
  {
   "attachments": {},
   "cell_type": "markdown",
   "metadata": {},
   "source": [
    "Respuesta: "
   ]
  },
  {
   "attachments": {},
   "cell_type": "markdown",
   "metadata": {},
   "source": [
    "## Ejercicio 3 - Aplicación de máscaras\n",
    "\n",
    "Utilizando la imagen provista (_wrench.png_):\n",
    "- Determinar un umbral apropiado para distinguir la primera llave inglesa de las demás.\n",
    "- Aplicar la operación de umbralización para generar una máscara binaria con intensidad 1 en los píxeles correspondientes al objeto.\n",
    "- Realizar la multiplicación punto a punto de la imagen original con la máscara.\n",
    "\n",
    "Mostrar la imagen original, el umbral seleccionado, la máscara (resultado de la umbralización) y la imagen final."
   ]
  },
  {
   "cell_type": "code",
   "execution_count": null,
   "metadata": {},
   "outputs": [],
   "source": []
  },
  {
   "attachments": {},
   "cell_type": "markdown",
   "metadata": {},
   "source": [
    "## Ejercicio 4 - Transformación de RGB a HSV\n",
    "\n",
    "Importe una imagen a color (es decir, RGB) de su preferencia y realice la función rgb2hsv *paso a paso*.\n",
    "\n",
    "* **Recuerde que:**\n",
    "\n",
    "1.   Los valores de cada matriz de R,G,B deben estar en el rango de [0,1]. Adicionalmente, el rango de salida de HSV debe ser [0,1].\n",
    "2.   La relación entre los espacios de color es la siguiente:\n",
    "\n",
    "<img src=\"https://github.com/MoraRubio/dip-uam/raw/main/src/rgb2hsv.png\" alt=\"Transformación de RGB a HSV\" style=\"height: 200px; width:300px;\"/>\n",
    "\n",
    "Imagen tomada de: [Modelo HSV](https://es.wikipedia.org/wiki/Modelo_de_color_HSV)"
   ]
  },
  {
   "cell_type": "code",
   "execution_count": null,
   "metadata": {},
   "outputs": [],
   "source": []
  },
  {
   "cell_type": "markdown",
   "metadata": {},
   "source": [
    "**Copyright**\n",
    "\n",
    "The notebooks are provided as [Open Educational Resource](https://de.wikipedia.org/wiki/Open_Educational_Resources). Feel free to use the notebooks for your own educational purposes. The text is licensed under [Creative Commons Attribution 4.0](https://creativecommons.org/licenses/by/4.0/), the code of the IPython examples under the [MIT license](https://opensource.org/licenses/MIT)."
   ]
  },
  {
   "cell_type": "code",
   "execution_count": null,
   "metadata": {},
   "outputs": [],
   "source": []
  }
 ],
 "metadata": {
  "kernelspec": {
   "display_name": "Python 3",
   "language": "python",
   "name": "python3"
  },
  "language_info": {
   "codemirror_mode": {
    "name": "ipython",
    "version": 3
   },
   "file_extension": ".py",
   "mimetype": "text/x-python",
   "name": "python",
   "nbconvert_exporter": "python",
   "pygments_lexer": "ipython3",
   "version": "3.12.10"
  },
  "orig_nbformat": 4
 },
 "nbformat": 4,
 "nbformat_minor": 2
}
