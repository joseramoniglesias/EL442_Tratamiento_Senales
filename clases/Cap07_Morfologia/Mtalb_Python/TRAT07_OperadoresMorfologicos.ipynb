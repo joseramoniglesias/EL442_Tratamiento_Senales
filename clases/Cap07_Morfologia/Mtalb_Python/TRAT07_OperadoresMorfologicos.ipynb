{
  "cells": [
    {
      "cell_type": "markdown",
      "metadata": {
        "id": "AYCmS1NbX8PQ"
      },
      "source": [
        "Extraido de [Tutorial de OpenCV](https://opencv24-python-tutorials.readthedocs.io/en/latest/py_tutorials/py_imgproc/py_morphological_ops/py_morphological_ops.html)\n",
        "\n",
        "Este código se basa en opencv, también estas operaciones morfológicas se encuentran en la librería [scikit-image](https://scikit-image.org/docs/dev/api/skimage.morphology.html)."
      ]
    },
    {
      "cell_type": "markdown",
      "metadata": {
        "id": "uw8SC6vKaasC"
      },
      "source": [
        "# Operaciones morfológicas con imágenes binarias"
      ]
    },
    {
      "cell_type": "code",
      "execution_count": null,
      "metadata": {
        "colab": {
          "base_uri": "https://localhost:8080/"
        },
        "id": "ieNSPSaCUx1Y",
        "outputId": "cbe36205-2ee5-4fa2-c306-8d2f7044248e"
      },
      "outputs": [],
      "source": [
        "!wget https://www.dropbox.com/s/g3wwldskqfdw4hj/jota.png"
      ]
    },
    {
      "cell_type": "code",
      "execution_count": null,
      "metadata": {
        "colab": {
          "base_uri": "https://localhost:8080/",
          "height": 281
        },
        "id": "TpfiTxOXVL7s",
        "outputId": "cea08b30-8ed2-4942-ab08-d042359cbc6c"
      },
      "outputs": [],
      "source": [
        "import cv2\n",
        "import numpy as np\n",
        "import matplotlib.pyplot as plt\n",
        "\n",
        "img = cv2.imread('jota.png',0)\n",
        "plt.imshow(img,cmap='gray')\n",
        "plt.title('original')\n",
        "plt.show()\n"
      ]
    },
    {
      "cell_type": "markdown",
      "metadata": {
        "id": "VD9IgDRgVQya"
      },
      "source": [
        "# Erosion"
      ]
    },
    {
      "cell_type": "code",
      "execution_count": null,
      "metadata": {
        "colab": {
          "base_uri": "https://localhost:8080/",
          "height": 281
        },
        "id": "GkT72XYDVSV_",
        "outputId": "2a885522-31d5-4b84-dd4f-8373f55ad096"
      },
      "outputs": [],
      "source": [
        "kernel = np.ones((5,5),np.uint8)\n",
        "erosion = cv2.erode(img,kernel,iterations = 1)\n",
        "plt.imshow(erosion,cmap='gray')\n",
        "plt.title('erosion')\n",
        "plt.show()\n"
      ]
    },
    {
      "cell_type": "markdown",
      "metadata": {
        "id": "OUflyrI8ViDa"
      },
      "source": [
        "# Dilatación"
      ]
    },
    {
      "cell_type": "code",
      "execution_count": null,
      "metadata": {
        "colab": {
          "base_uri": "https://localhost:8080/",
          "height": 281
        },
        "id": "jnj7ntQHVkFo",
        "outputId": "83546292-8700-44c4-e8b1-9ea52d33daac"
      },
      "outputs": [],
      "source": [
        "dilation = cv2.dilate(img,kernel,iterations = 1)\n",
        "plt.imshow(dilation,cmap='gray')\n",
        "plt.title('dilation')\n",
        "plt.show()\n"
      ]
    },
    {
      "cell_type": "markdown",
      "metadata": {
        "id": "B-M5zxj8V7Nj"
      },
      "source": [
        "# Opening"
      ]
    },
    {
      "cell_type": "code",
      "execution_count": null,
      "metadata": {
        "colab": {
          "base_uri": "https://localhost:8080/",
          "height": 281
        },
        "id": "BFLdFterV9Nc",
        "outputId": "7477ddbf-5313-4737-b011-77cb924e7d81"
      },
      "outputs": [],
      "source": [
        "(N,M) = img.shape\n",
        "\n",
        "img_noise = img.copy()\n",
        "\n",
        "for i in range(N):\n",
        "  for j in range(M):\n",
        "    if np.random.rand()>0.99:\n",
        "      img_noise[i,j] = 255\n",
        "\n",
        "plt.imshow(img_noise,cmap='gray')\n",
        "plt.title('original + noise (white)')\n",
        "plt.show()"
      ]
    },
    {
      "cell_type": "code",
      "execution_count": null,
      "metadata": {
        "colab": {
          "base_uri": "https://localhost:8080/",
          "height": 281
        },
        "id": "P2CFAEPXW6nX",
        "outputId": "4c82c0cf-4894-49d1-9925-1082fcf5f0da"
      },
      "outputs": [],
      "source": [
        "opening = cv2.morphologyEx(img_noise, cv2.MORPH_OPEN, kernel)\n",
        "plt.imshow(opening,cmap='gray')\n",
        "plt.title('open')\n",
        "plt.show()"
      ]
    },
    {
      "cell_type": "markdown",
      "metadata": {
        "id": "RbcLFruqXFvi"
      },
      "source": [
        "# Closing"
      ]
    },
    {
      "cell_type": "code",
      "execution_count": null,
      "metadata": {
        "colab": {
          "base_uri": "https://localhost:8080/",
          "height": 281
        },
        "id": "_aVVhC93XLBw",
        "outputId": "d1499b3c-1346-4599-c73c-a9cd607d82a9"
      },
      "outputs": [],
      "source": [
        "(N,M) = img.shape\n",
        "\n",
        "img_noise = img.copy()\n",
        "\n",
        "for i in range(N):\n",
        "  for j in range(M):\n",
        "    if np.random.rand()>0.97:\n",
        "      img_noise[i,j] = 0\n",
        "\n",
        "plt.imshow(img_noise,cmap='gray')\n",
        "plt.title('original with noise (black)')\n",
        "plt.show()"
      ]
    },
    {
      "cell_type": "code",
      "execution_count": null,
      "metadata": {
        "colab": {
          "base_uri": "https://localhost:8080/",
          "height": 281
        },
        "id": "MbUMxOi0XSH-",
        "outputId": "a9451af0-8ab8-422d-b2a3-e58ce6199f2c"
      },
      "outputs": [],
      "source": [
        "closing = cv2.morphologyEx(img_noise, cv2.MORPH_CLOSE, kernel)\n",
        "plt.imshow(closing,cmap='gray')\n",
        "plt.title('close')\n",
        "plt.show()"
      ]
    },
    {
      "cell_type": "markdown",
      "metadata": {
        "id": "mVWdNyqaAjoJ"
      },
      "source": [
        "# Fill holes"
      ]
    },
    {
      "cell_type": "code",
      "execution_count": null,
      "metadata": {
        "id": "n-W7QxcgBgSn"
      },
      "outputs": [],
      "source": [
        "def fillhole(input_image):\n",
        "    '''\n",
        "    input gray binary image  get the filled image by floodfill method\n",
        "    Note: only holes surrounded in the connected regions will be filled.\n",
        "    :param input_image:\n",
        "    :return:\n",
        "    from https://www.programcreek.com/python/example/89425/cv2.floodFill\n",
        "    '''\n",
        "    im_flood_fill = input_image.copy()\n",
        "    h, w = input_image.shape[:2]\n",
        "    mask = np.zeros((h + 2, w + 2), np.uint8)\n",
        "    im_flood_fill = im_flood_fill.astype(\"uint8\")\n",
        "    cv2.floodFill(im_flood_fill, mask, (0, 0), 255)\n",
        "    im_flood_fill_inv = cv2.bitwise_not(im_flood_fill)\n",
        "    img_out = input_image | im_flood_fill_inv\n",
        "    return img_out"
      ]
    },
    {
      "cell_type": "code",
      "execution_count": null,
      "metadata": {
        "colab": {
          "base_uri": "https://localhost:8080/",
          "height": 281
        },
        "id": "X4VDz8WzBofx",
        "outputId": "4e10757c-d744-4645-997d-8e7c25dedaaa"
      },
      "outputs": [],
      "source": [
        "im_fill = fillhole(img)\n",
        "\n",
        "plt.imshow(im_fill,cmap='gray')\n",
        "plt.title('fill holes')\n",
        "plt.show()\n"
      ]
    },
    {
      "cell_type": "markdown",
      "metadata": {
        "id": "4Kb3kE8vCq2E"
      },
      "source": [
        "# Skeletization\n",
        "\n",
        "By [N. Reddy](https://medium.com/analytics-vidhya/skeletonization-in-python-using-opencv-b7fa16867331)"
      ]
    },
    {
      "cell_type": "code",
      "execution_count": null,
      "metadata": {
        "colab": {
          "base_uri": "https://localhost:8080/",
          "height": 281
        },
        "id": "VdABzHQrCaDk",
        "outputId": "7e4a2e99-b234-43ff-9a08-30be4da0d23c"
      },
      "outputs": [],
      "source": [
        "\n",
        "# Step 1: Create an empty skeleton\n",
        "size = np.size(img)\n",
        "skel = np.zeros(img.shape, np.uint8)\n",
        "\n",
        "# Get a Cross Shaped Kernel\n",
        "element = cv2.getStructuringElement(cv2.MORPH_CROSS, (3,3))\n",
        "\n",
        "# Repeat steps 2-4\n",
        "while True:\n",
        "    #Step 2: Open the image\n",
        "    open = cv2.morphologyEx(img, cv2.MORPH_OPEN, element)\n",
        "    #Step 3: Substract open from the original image\n",
        "    temp = cv2.subtract(img, open)\n",
        "    #Step 4: Erode the original image and refine the skeleton\n",
        "    eroded = cv2.erode(img, element)\n",
        "    skel = cv2.bitwise_or(skel,temp)\n",
        "    img = eroded.copy()\n",
        "    # Step 5: If there are no white pixels left ie.. the image has been completely eroded, quit the loop\n",
        "    if cv2.countNonZero(img)==0:\n",
        "        break\n",
        "\n",
        "plt.imshow(skel,cmap='gray')\n",
        "plt.title('skeletization')\n",
        "plt.show()\n"
      ]
    },
    {
      "cell_type": "markdown",
      "metadata": {
        "id": "-IrSjNQEXbbo"
      },
      "source": [
        "# Gradiente morfológico"
      ]
    },
    {
      "cell_type": "code",
      "execution_count": null,
      "metadata": {
        "colab": {
          "base_uri": "https://localhost:8080/",
          "height": 281
        },
        "id": "2aji0985Xe65",
        "outputId": "1841d29a-1b92-4137-cbc6-af7713f8be68"
      },
      "outputs": [],
      "source": [
        "gradient = cv2.morphologyEx(img, cv2.MORPH_GRADIENT, kernel)\n",
        "plt.imshow(gradient,cmap='gray')\n",
        "plt.title('gradient')\n",
        "plt.show()"
      ]
    },
    {
      "cell_type": "markdown",
      "metadata": {
        "id": "P5kAM8UVaT-j"
      },
      "source": [
        "# Operaciones morfológicas con imágenes en tonos de gris"
      ]
    },
    {
      "cell_type": "code",
      "execution_count": null,
      "metadata": {
        "colab": {
          "base_uri": "https://localhost:8080/"
        },
        "id": "pnZrMcczZVVQ",
        "outputId": "fa1219d0-3c21-4e60-8932-83f97b509022"
      },
      "outputs": [],
      "source": [
        "!wget https://www.dropbox.com/s/eja9kqyig1j3y73/tazmania.png"
      ]
    },
    {
      "cell_type": "code",
      "execution_count": null,
      "metadata": {
        "colab": {
          "base_uri": "https://localhost:8080/",
          "height": 623
        },
        "id": "DpE2URvqZcbU",
        "outputId": "09f1a4aa-f4ed-4ff3-8f73-ffaf6fff5280"
      },
      "outputs": [],
      "source": [
        "img = cv2.imread('tazmania.png',0)\n",
        "plt.figure(figsize=(15,18))\n",
        "plt.imshow(img,cmap='gray')\n",
        "plt.title('original')\n",
        "plt.show()\n"
      ]
    },
    {
      "cell_type": "code",
      "execution_count": null,
      "metadata": {
        "id": "jTXrktSSZli7"
      },
      "outputs": [],
      "source": [
        "n = 7\n",
        "kernel = np.ones((n,n),np.uint8)"
      ]
    },
    {
      "cell_type": "code",
      "execution_count": null,
      "metadata": {
        "colab": {
          "base_uri": "https://localhost:8080/",
          "height": 623
        },
        "id": "c2dskZjLZvGq",
        "outputId": "e7574844-aaa9-4815-8331-31e47fc96ae2"
      },
      "outputs": [],
      "source": [
        "erosion = cv2.erode(img,kernel,iterations = 1)\n",
        "plt.figure(figsize=(15,18))\n",
        "plt.imshow(erosion,cmap='gray')\n",
        "plt.title('erosion')\n",
        "plt.show()\n"
      ]
    },
    {
      "cell_type": "code",
      "execution_count": null,
      "metadata": {
        "colab": {
          "base_uri": "https://localhost:8080/",
          "height": 623
        },
        "id": "QR1VD06PZ_yo",
        "outputId": "678167fa-6f63-44bf-9f8c-9e4a3f0e102b"
      },
      "outputs": [],
      "source": [
        "dilation = cv2.dilate(img,kernel,iterations = 1)\n",
        "plt.figure(figsize=(15,18))\n",
        "plt.imshow(dilation,cmap='gray')\n",
        "plt.title('dilation')\n",
        "plt.show()\n"
      ]
    },
    {
      "cell_type": "code",
      "execution_count": null,
      "metadata": {
        "colab": {
          "base_uri": "https://localhost:8080/",
          "height": 623
        },
        "id": "wIoNiUleaH4v",
        "outputId": "6163ab43-6b0f-4298-8391-d7a51041c8b9"
      },
      "outputs": [],
      "source": [
        "gradient = cv2.morphologyEx(img, cv2.MORPH_GRADIENT, kernel)\n",
        "plt.figure(figsize=(15,18))\n",
        "plt.imshow(gradient,cmap='gray')\n",
        "plt.title('gradient')\n",
        "plt.show()"
      ]
    }
  ],
  "metadata": {
    "colab": {
      "name": "IMG07_OperadoresMorfologicos.ipynb",
      "provenance": []
    },
    "kernelspec": {
      "display_name": "Python 3",
      "name": "python3"
    },
    "language_info": {
      "name": "python"
    }
  },
  "nbformat": 4,
  "nbformat_minor": 0
}
