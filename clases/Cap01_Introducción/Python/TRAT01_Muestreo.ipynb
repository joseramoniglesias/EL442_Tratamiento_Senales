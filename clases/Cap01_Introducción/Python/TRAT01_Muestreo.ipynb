{
 "nbformat": 4,
 "nbformat_minor": 0,
 "metadata": {
  "colab": {
   "name": "IMG01_Sampling.ipynb",
   "provenance": [],
   "collapsed_sections": []
  },
  "kernelspec": {
   "name": "python3",
   "language": "python",
   "display_name": "Python 3 (ipykernel)"
  },
  "language_info": {
   "name": "python"
  }
 },
 "cells": [
  {
   "cell_type": "markdown",
   "source": [
    "# MUESTREO<a class=\"tocSkip\">\n",
    "## TRATAMIENTO DE SEÑALES <a class=\"tocSkip\">\n",
    "### Ingenieria Electrónica <a class=\"tocSkip\">\n",
    "### Universidad Popular del Cesar <a class=\"tocSkip\">\n",
    "### Prof.: Jose Ramón Iglesias Gamarra - [https://github.com/joseramoniglesias/](https://github.com/joseramoniglesias/) <a class=\"tocSkip\">\n",
    "  **joseiglesias@unicesar.edu.co**"
   ],
   "metadata": {
    "collapsed": false
   }
  },
  {
   "cell_type": "code",
   "execution_count": 1,
   "outputs": [],
   "source": [
    "import os\n",
    "import requests\n",
    "import numpy as np\n",
    "import cv2\n",
    "from cv2 import imread\n",
    "import matplotlib\n",
    "import matplotlib.pyplot as plt\n",
    "#from google.colab.patches import\n",
    "import wget"
   ],
   "metadata": {
    "collapsed": false,
    "ExecuteTime": {
     "end_time": "2023-08-14T14:54:56.784822300Z",
     "start_time": "2023-08-14T14:54:56.087648700Z"
    }
   }
  },
  {
   "cell_type": "code",
   "metadata": {
    "colab": {
     "base_uri": "https://localhost:8080/"
    },
    "id": "jkLPkIbLSEIS",
    "outputId": "541d9730-37b9-483b-a0ff-34234e4df3fe",
    "ExecuteTime": {
     "end_time": "2023-08-14T14:54:57.775722800Z",
     "start_time": "2023-08-14T14:54:56.789811Z"
    }
   },
   "source": [
    "url_imagen = \"https://raw.githubusercontent.com/joseramoniglesias/Tratamiento_Senales/main/clases/Cap01_Introducci%C3%B3n/Python/mandril.png\"\n",
    "nombre_local_imagen = \"mandril.png\" # El nombre con el que queremos guardarla\n",
    "imagen = requests.get(url_imagen).content\n",
    "with open(nombre_local_imagen, 'wb') as handler:\n",
    "  handler.write(imagen)\n",
    "url_imagen = \"https://github.com/joseramoniglesias/Tratamiento_Senales/blob/main/clases/Cap01_Introducci%C3%B3n/Python/scale.png\"\n",
    "nombre_local_imagen = \"scale.png\"  # El nombre con el que queremos guardarla\n",
    "imagen = requests.get(url_imagen).content\n",
    "with open(nombre_local_imagen, 'wb') as handler:\n",
    "  handler.write(imagen)"
   ],
   "execution_count": 2,
   "outputs": []
  },
  {
   "cell_type": "code",
   "execution_count": null,
   "outputs": [],
   "source": [
    "def howis(img):\n",
    "  print('size = ',img.shape)\n",
    "  print('max  = ',np.max(img))\n",
    "  print('min  = ',np.min(img))"
   ],
   "metadata": {
    "collapsed": false
   }
  },
  {
   "cell_type": "code",
   "metadata": {
    "id": "sntJ08QZMMMl"
   },
   "source": [
    "st_img = 'mandril.png'\n",
    "#st_img = 'scale.png'"
   ],
   "execution_count": null,
   "outputs": []
  },
  {
   "cell_type": "code",
   "metadata": {
    "colab": {
     "base_uri": "https://localhost:8080/",
     "height": 579
    },
    "id": "4kXG8RRfTFbk",
    "outputId": "e3b6b933-a5d2-47ff-a3bf-e92b3bc0c9c4"
   },
   "source": [
    "img = cv2.imread(st_img)\n",
    "X = img[:,:,0]\n",
    "plt.figure(figsize=(8,8))\n",
    "plt.axis('off')\n",
    "plt.imshow(X,cmap='gray')\n",
    "plt.show()\n",
    "howis(X)"
   ],
   "execution_count": null,
   "outputs": []
  },
  {
   "cell_type": "markdown",
   "metadata": {
    "id": "pNbozBagUczS"
   },
   "source": [
    "# Mustreo Espacial"
   ]
  },
  {
   "cell_type": "code",
   "metadata": {
    "colab": {
     "base_uri": "https://localhost:8080/",
     "height": 195
    },
    "id": "mWaTW_GyTKCs",
    "outputId": "7981e47c-558e-4ffe-e222-8617f178e14d"
   },
   "source": [
    "d = 4  # se muestrea cada d pixeles\n",
    "(Nx,Mx) = X.shape\n",
    "ix = range(0,Nx,d)\n",
    "jx = range(0,Mx,d)\n",
    "Ny = len(ix)\n",
    "My = len(jx)\n",
    "Y = np.zeros((Ny,My),np.uint8)\n",
    "for i in range(Ny):\n",
    "  for j in range(My):\n",
    "    Y[i,j] = X[ix[i],jx[j]]\n",
    "plt.figure(figsize=(8,8))\n",
    "plt.imshow(Y,cmap='gray')\n",
    "plt.show()\n",
    "howis(Y)"
   ],
   "execution_count": null,
   "outputs": []
  },
  {
   "cell_type": "code",
   "metadata": {
    "colab": {
     "base_uri": "https://localhost:8080/",
     "height": 596
    },
    "id": "5LVIS9qTVI3L",
    "outputId": "145c28b3-d7a4-4958-81dd-32a123c8ad31"
   },
   "source": [
    "d = 4 # se muestrea cada d pixeles\n",
    "(Nx,Mx) = X.shape\n",
    "Ny = Nx\n",
    "My = Mx\n",
    "Y = np.zeros((Ny,My),np.uint8)\n",
    "for i in range(Ny):\n",
    "  for j in range(My):\n",
    "    ix = int(np.fix(i/d)*d)\n",
    "    jx = int(np.fix(j/d)*d)\n",
    "    Y[i,j] = X[ix,jx]\n",
    "plt.figure(figsize=(8,8))\n",
    "plt.imshow(Y,cmap='gray')\n",
    "howis(Y)\n",
    "print('desplegado como = ',int(Nx/d),'x',int(Nx/d))"
   ],
   "execution_count": null,
   "outputs": []
  },
  {
   "cell_type": "markdown",
   "source": [
    "# Definición de histograma"
   ],
   "metadata": {
    "collapsed": false
   }
  },
  {
   "cell_type": "code",
   "execution_count": null,
   "outputs": [],
   "source": [
    "def imhist(X,n=256):\n",
    "  (N,M) = X.shape\n",
    "  h = np.zeros((n,))\n",
    "  for i in range(N):\n",
    "    for j in range(M):\n",
    "      x = X[i,j]\n",
    "      h[x] = h[x]+1\n",
    "  return h"
   ],
   "metadata": {
    "collapsed": false
   }
  },
  {
   "cell_type": "code",
   "execution_count": null,
   "outputs": [],
   "source": [
    "n = 256\n",
    "h = imhist(Y,n=n)\n",
    "plt.figure(figsize=(12,8))\n",
    "plt.plot(range(n),h[0:n])\n",
    "plt.show()"
   ],
   "metadata": {
    "collapsed": false
   }
  },
  {
   "cell_type": "markdown",
   "metadata": {
    "id": "qCtOx7TjUt5A"
   },
   "source": [
    "# Muestreo en tonos de gris (Cuantización)"
   ]
  },
  {
   "cell_type": "code",
   "metadata": {
    "colab": {
     "base_uri": "https://localhost:8080/"
    },
    "id": "Ry-5oznjVAgR",
    "outputId": "630a1dcf-1306-41d9-e3b7-6a99c2cb0299"
   },
   "source": [
    "p = 4  # se muestrea el tono de gris cada p valores de gris\n",
    "(Nx,Mx) = X.shape\n",
    "Ny = Nx\n",
    "My = Mx\n",
    "Y = np.zeros((Ny,My),np.uint8)\n",
    "for i in range(Ny):\n",
    "  for j in range(My):\n",
    "    x = int(np.fix(X[i,j]/p)*p)\n",
    "    Y[i,j] = x\n",
    "plt.figure(figsize=(8,8))\n",
    "plt.imshow(Y,cmap='gray')\n",
    "howis(Y)\n",
    "print('esta imagen tiene = ',int(256/p),' tonos de gris')"
   ],
   "execution_count": null,
   "outputs": []
  },
  {
   "cell_type": "code",
   "execution_count": null,
   "outputs": [],
   "source": [
    "n = 256\n",
    "h = imhist(Y,n=n)\n",
    "plt.figure(figsize=(12,8))\n",
    "plt.plot(range(n),h[0:n])\n",
    "plt.show()"
   ],
   "metadata": {
    "collapsed": false
   }
  },
  {
   "cell_type": "code",
   "execution_count": null,
   "outputs": [],
   "source": [],
   "metadata": {
    "collapsed": false
   }
  },
  {
   "cell_type": "code",
   "execution_count": null,
   "outputs": [],
   "source": [
    "print(h[0:256])"
   ],
   "metadata": {
    "collapsed": false
   }
  },
  {
   "cell_type": "code",
   "metadata": {
    "id": "VbTgY5MMXRjf"
   },
   "source": [
    "import matplotlib.pyplot as plt\n",
    "h = np.zeros((256,))\n",
    "def imhist(X):\n",
    "  (N,M) = X.shape\n",
    "  n = 256\n",
    "  #h = np.zeros((256,))\n",
    "  for i in range(N):\n",
    "    for j in range(M):\n",
    "      x = X[i,j]\n",
    "      h = np.zeros((256,))\n",
    "      h[x] = h[x]+1\n",
    "  plt.plot(range(n),h[0:n])\n",
    "  plt.show()\n"
   ],
   "execution_count": null,
   "outputs": []
  },
  {
   "cell_type": "code",
   "metadata": {
    "colab": {
     "base_uri": "https://localhost:8080/",
     "height": 265
    },
    "id": "j2AMAGRiXZqN",
    "outputId": "cfdb361b-0b80-4b21-e0ca-23789e0d4be6"
   },
   "source": [
    "imhist(Y)"
   ],
   "execution_count": null,
   "outputs": []
  },
  {
   "cell_type": "code",
   "execution_count": null,
   "outputs": [],
   "source": [
    "print(h[0:256])"
   ],
   "metadata": {
    "collapsed": false
   }
  },
  {
   "cell_type": "markdown",
   "source": [
    "**Copyright**\n",
    "\n",
    "The notebooks are provided as [Open Educational Resource](https://de.wikipedia.org/wiki/Open_Educational_Resources). Feel free to use the notebooks for your own educational purposes. The text is licensed under [Creative Commons Attribution 4.0](https://creativecommons.org/licenses/by/4.0/), the code of the IPython examples under the [MIT license](https://opensource.org/licenses/MIT)."
   ],
   "metadata": {
    "collapsed": false
   }
  },
  {
   "cell_type": "code",
   "execution_count": null,
   "outputs": [],
   "source": [],
   "metadata": {
    "collapsed": false
   }
  }
 ]
}
