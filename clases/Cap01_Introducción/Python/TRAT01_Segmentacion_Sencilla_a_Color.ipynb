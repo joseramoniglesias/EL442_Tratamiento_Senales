{
 "cells": [
  {
   "cell_type": "markdown",
   "source": [
    "# SEGMENTACIÓN SENCILLA A COLOR<a class=\"tocSkip\">\n",
    "## TRATAMIENTO DE SEÑALES <a class=\"tocSkip\">\n",
    "### Ingenieria Electrónica <a class=\"tocSkip\">\n",
    "### Universidad Popular del Cesar <a class=\"tocSkip\">\n",
    "### Prof.: Jose Ramón Iglesias Gamarra - [https://github.com/joseramoniglesias/](https://github.com/joseramoniglesias/) <a class=\"tocSkip\">\n",
    "  **joseiglesias@unicesar.edu.co**"
   ],
   "metadata": {
    "collapsed": false
   }
  },
  {
   "cell_type": "markdown",
   "source": [
    "# Librerias"
   ],
   "metadata": {
    "collapsed": false
   }
  },
  {
   "cell_type": "code",
   "execution_count": 1,
   "outputs": [],
   "source": [
    "import requests\n",
    "import cv2\n",
    "import numpy as np\n",
    "from  cv2 import imread\n",
    "import matplotlib.pyplot as plt"
   ],
   "metadata": {
    "collapsed": false,
    "ExecuteTime": {
     "end_time": "2023-08-14T14:55:49.728133600Z",
     "start_time": "2023-08-14T14:55:48.946760100Z"
    }
   }
  },
  {
   "cell_type": "code",
   "execution_count": 2,
   "metadata": {
    "id": "OqR25BpEcHLI",
    "ExecuteTime": {
     "end_time": "2023-08-14T14:55:49.742095900Z",
     "start_time": "2023-08-14T14:55:49.735113700Z"
    }
   },
   "outputs": [],
   "source": [
    "def howis(img):\n",
    "  print('size = ',img.shape)\n",
    "  print('max  = ',np.max(img))\n",
    "  print('min  = ',np.min(img))"
   ]
  },
  {
   "cell_type": "markdown",
   "metadata": {
    "id": "wZu11UkVamJS"
   },
   "source": [
    "# Lectura de imagen a color"
   ]
  },
  {
   "cell_type": "code",
   "execution_count": null,
   "outputs": [],
   "source": [
    "url_imagen = \"https://raw.githubusercontent.com/joseramoniglesias/Tratamiento_Senales/main/clases/Cap01_Introducci%C3%B3n/Python/flowers.jpg\"\n",
    "nombre_local_imagen = \"flowers.jpg\" # El nombre con el que queremos guardarla\n",
    "imagen = requests.get(url_imagen).content\n",
    "with open(nombre_local_imagen, 'wb') as handler:\n",
    "  handler.write(imagen)"
   ],
   "metadata": {
    "collapsed": false
   }
  },
  {
   "cell_type": "code",
   "execution_count": null,
   "metadata": {
    "colab": {
     "base_uri": "https://localhost:8080/",
     "height": 581
    },
    "id": "HKzfhtR9P9ef",
    "outputId": "e9c86d4c-0fef-4e5a-b92b-47d9909196af"
   },
   "outputs": [],
   "source": [
    "Icv = imread('flowers.jpg')               # Lectura en formato (BGR)\n",
    "plt.imshow(Icv)\n",
    "howis(Icv)"
   ]
  },
  {
   "cell_type": "code",
   "execution_count": null,
   "metadata": {
    "colab": {
     "base_uri": "https://localhost:8080/",
     "height": 269
    },
    "id": "CiG_3JJbda5t",
    "outputId": "b27a68f6-a06d-43ec-de72-1ca27606477c"
   },
   "outputs": [],
   "source": [
    "I = Icv[:,:,[2,1,0]]            # conversion a formato estándar (RGB)\n",
    "plt.imshow(I)\n",
    "plt.show()"
   ]
  },
  {
   "cell_type": "markdown",
   "source": [],
   "metadata": {
    "collapsed": false
   }
  },
  {
   "cell_type": "markdown",
   "metadata": {
    "id": "Q4if5WGDasCf"
   },
   "source": [
    "# Canales de color"
   ]
  },
  {
   "cell_type": "code",
   "execution_count": null,
   "metadata": {
    "colab": {
     "base_uri": "https://localhost:8080/",
     "height": 413
    },
    "id": "eaHfLZTJQGnU",
    "outputId": "fc82be37-d2d3-4beb-bf84-eeccaab0dd38"
   },
   "outputs": [],
   "source": [
    "R = I[:,:,0]\n",
    "G = I[:,:,1]\n",
    "B = I[:,:,2]\n",
    "RGB = np.concatenate((R,G,B),axis=1)\n",
    "plt.imshow(RGB,cmap='gray')"
   ]
  },
  {
   "cell_type": "markdown",
   "metadata": {
    "id": "xHzs4A5ddfEW"
   },
   "source": [
    "# Conversion a blanco y negro (tonos de gris)"
   ]
  },
  {
   "cell_type": "code",
   "execution_count": null,
   "metadata": {
    "colab": {
     "base_uri": "https://localhost:8080/",
     "height": 581
    },
    "id": "OQi-i1lDdjpv",
    "outputId": "638083d9-83ce-49dd-e456-745cd150f849"
   },
   "outputs": [],
   "source": [
    "Rd = R.astype(float)\n",
    "Gd = G.astype(float)\n",
    "Bd = B.astype(float)\n",
    "k  = (1/3,1/3,1/3)\n",
    "Zd = k[0]*Rd+k[1]*Gd+k[2]*Bd\n",
    "Z  = Zd.astype(int)\n",
    "howis(Z)\n",
    "plt.axis('off')\n",
    "plt.imshow(Z,cmap='gray')"
   ]
  },
  {
   "cell_type": "markdown",
   "metadata": {
    "id": "wJ4zRW7Za6S3"
   },
   "source": [
    "# Histograma"
   ]
  },
  {
   "cell_type": "code",
   "execution_count": null,
   "metadata": {
    "id": "HiBMddapWZJA"
   },
   "outputs": [],
   "source": [
    "def imhist(X):\n",
    "  (N,M) = X.shape\n",
    "  n = 256\n",
    "  h = np.zeros((256,))\n",
    "  for i in range(N):\n",
    "    for j in range(M):\n",
    "      x = X[i,j]\n",
    "      h[x] = h[x]+1\n",
    "  plt.plot(range(n),h[0:n])\n",
    "  plt.show()\n"
   ]
  },
  {
   "cell_type": "code",
   "execution_count": null,
   "metadata": {
    "colab": {
     "base_uri": "https://localhost:8080/",
     "height": 265
    },
    "id": "jgWh3KvMXBXS",
    "outputId": "b6ebfd1b-6053-4fcc-c240-45434d6adac3"
   },
   "outputs": [],
   "source": [
    "imhist(Z)"
   ]
  },
  {
   "cell_type": "markdown",
   "metadata": {
    "id": "6yfsiGwRa-t8"
   },
   "source": [
    "# Segmentación de la Flor Roja"
   ]
  },
  {
   "cell_type": "code",
   "execution_count": null,
   "metadata": {
    "colab": {
     "base_uri": "https://localhost:8080/",
     "height": 413
    },
    "id": "mM6S7u7zRZjO",
    "outputId": "00c6a86d-51c4-404c-d770-9830b099d5c7"
   },
   "outputs": [],
   "source": [
    "Sr = R>150\n",
    "Sg = G<40\n",
    "Sb = B<40 \n",
    "Srgb = np.concatenate((Sr,Sg,Sb),axis=1)\n",
    "plt.axis('off')\n",
    "plt.imshow(Srgb*255,cmap='gray')"
   ]
  },
  {
   "cell_type": "code",
   "execution_count": null,
   "metadata": {
    "colab": {
     "base_uri": "https://localhost:8080/",
     "height": 529
    },
    "id": "V6YwZwZdSHWe",
    "outputId": "a5a756bb-69ae-4184-f02c-bf9a238c7abf"
   },
   "outputs": [],
   "source": [
    "S = np.logical_and(Sr,Sg,Sb)\n",
    "plt.axis('off')\n",
    "plt.imshow(S*255,cmap='gray')"
   ]
  },
  {
   "cell_type": "markdown",
   "metadata": {
    "id": "enG5o6NNbCs_"
   },
   "source": [
    "# Eliminación de filas con pocos unos"
   ]
  },
  {
   "cell_type": "code",
   "execution_count": null,
   "metadata": {
    "colab": {
     "base_uri": "https://localhost:8080/",
     "height": 529
    },
    "id": "IGeUdEiaTHSL",
    "outputId": "10b7bc5a-9aa3-421c-a3fd-4ea7dfd1abe1"
   },
   "outputs": [],
   "source": [
    "(N,M) = S.shape\n",
    "Q = S\n",
    "for i in range(N):\n",
    "  s = np.sum(S[i,:])\n",
    "  if s<20:\n",
    "    Q[i,:] = 0\n",
    "plt.axis('off')\n",
    "plt.imshow(Q*255,cmap='gray')"
   ]
  },
  {
   "cell_type": "markdown",
   "metadata": {
    "id": "0pgr2OpobL1d"
   },
   "source": [
    "# Búsqueda de (imin,jmin) y (imax,jmax) en la región segmetada"
   ]
  },
  {
   "cell_type": "code",
   "execution_count": null,
   "metadata": {
    "id": "hakEqQb_VnLv"
   },
   "outputs": [],
   "source": [
    "imin = 1000\n",
    "imax = 0\n",
    "jmin = 1000\n",
    "jmax = 0\n",
    "for i in range(N):\n",
    "  for j in range(M):\n",
    "    if Q[i,j]>0:\n",
    "      if i<imin:\n",
    "        imin = i\n",
    "      if i>imax:\n",
    "        imax = i\n",
    "      if j<jmin:\n",
    "        jmin = j\n",
    "      if j>jmax:\n",
    "        jmax = j"
   ]
  },
  {
   "cell_type": "markdown",
   "metadata": {
    "id": "4zGQq2NLbYl0"
   },
   "source": [
    "# Gráfica de Bounding Box"
   ]
  },
  {
   "cell_type": "code",
   "execution_count": null,
   "metadata": {
    "colab": {
     "base_uri": "https://localhost:8080/",
     "height": 269
    },
    "id": "nwVU8EI_Yqps",
    "outputId": "c063a1e2-55c1-40f3-ad2a-3fcbc2aa2231"
   },
   "outputs": [],
   "source": [
    "y = [imin,imin,imax,imax,imin]\n",
    "x = [jmin,jmax,jmax,jmin,jmin]\n",
    "plt.axis('off')\n",
    "plt.imshow(I)\n",
    "plt.plot(x,y)\n",
    "plt.show()"
   ]
  },
  {
   "cell_type": "markdown",
   "metadata": {
    "id": "s2ttaVJkbG3h"
   },
   "source": [
    "# Detección de Bordes"
   ]
  },
  {
   "cell_type": "code",
   "execution_count": null,
   "metadata": {
    "colab": {
     "base_uri": "https://localhost:8080/",
     "height": 529
    },
    "id": "GEllJ8-AUrBc",
    "outputId": "4bc4c328-2ddc-405e-abb1-e439bd794053"
   },
   "outputs": [],
   "source": [
    "E = np.zeros((N,M),np.uint8)\n",
    "for i in range(N):\n",
    "  for j in range(1,M):\n",
    "    if Q[i,j]!=Q[i,j-1]: \n",
    "      E[i,j]   = 1\n",
    "      E[i,j-1] = 1\n",
    "for i in range(1,N):\n",
    "  for j in range(M):\n",
    "    if Q[i-1,j]!=Q[i,j]: \n",
    "      E[i,j]   = 1\n",
    "      E[i,j-1] = 1\n",
    "plt.axis('off')\n",
    "plt.imshow(E*255,cmap='gray')"
   ]
  },
  {
   "cell_type": "code",
   "execution_count": null,
   "outputs": [],
   "source": [
    "for i in range(N):\n",
    "  for j in range(M):\n",
    "    if E[i,j]==1:\n",
    "      Icv[i,j,:] = [255,0,0]\n",
    "plt.axis('off')\n",
    "plt.imshow(cv2.cvtColor(Icv,cv2.COLOR_BGR2RGB))"
   ],
   "metadata": {
    "collapsed": false
   }
  },
  {
   "cell_type": "code",
   "execution_count": null,
   "outputs": [],
   "source": [
    "# Convertir a escala de grises\n",
    "Img = cv2.imread('flowers.jpg',cv2.IMREAD_GRAYSCALE)\n",
    "# Incrementa la intensidad de todos los píxeles en 50\n",
    "img_mod = Img + 50\n",
    "plt.axis('off')\n",
    "plt.imshow(img_mod,cmap='gray')\n",
    "plt.show()"
   ],
   "metadata": {
    "collapsed": false
   }
  },
  {
   "cell_type": "code",
   "execution_count": null,
   "outputs": [],
   "source": [
    "from skimage.segmentation import slic\n",
    "from skimage.color import label2rgb\n",
    "imagen_rgb = cv2.imread('flowers.jpg')\n",
    "# Aplicar la segmentación SLIC\n",
    "segmentos = slic(imagen_rgb)\n",
    "\n",
    "# Mostrar la segmentación\n",
    "imagen_segmentada = label2rgb(segmentos, imagen_rgb, kind='avg')\n",
    "plt.imshow(imagen_segmentada)\n",
    "plt.show()"
   ],
   "metadata": {
    "collapsed": false
   }
  },
  {
   "cell_type": "markdown",
   "source": [
    "**Copyright**\n",
    "\n",
    "The notebooks are provided as [Open Educational Resource](https://de.wikipedia.org/wiki/Open_Educational_Resources). Feel free to use the notebooks for your own educational purposes. The text is licensed under [Creative Commons Attribution 4.0](https://creativecommons.org/licenses/by/4.0/), the code of the IPython examples under the [MIT license](https://opensource.org/licenses/MIT)."
   ],
   "metadata": {
    "collapsed": false
   }
  }
 ],
 "metadata": {
  "colab": {
   "collapsed_sections": [],
   "name": "IMG01_SimpleColorSegmentation.ipynb",
   "provenance": []
  },
  "kernelspec": {
   "display_name": "Python 3 (ipykernel)",
   "language": "python",
   "name": "python3"
  },
  "language_info": {
   "codemirror_mode": {
    "name": "ipython",
    "version": 3
   },
   "file_extension": ".py",
   "mimetype": "text/x-python",
   "name": "python",
   "nbconvert_exporter": "python",
   "pygments_lexer": "ipython3",
   "version": "3.8.8"
  }
 },
 "nbformat": 4,
 "nbformat_minor": 1
}
