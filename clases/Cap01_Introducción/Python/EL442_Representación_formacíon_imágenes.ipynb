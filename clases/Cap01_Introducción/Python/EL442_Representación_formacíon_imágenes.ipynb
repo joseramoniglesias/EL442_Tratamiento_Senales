{
 "cells": [
  {
   "cell_type": "markdown",
   "source": [
    "# Representación y Formación de imagenes<a class=\"tocSkip\">\n",
    "## TRATAMIENTO DE SEÑALES <a class=\"tocSkip\">\n",
    "### Ingenieria Electrónica <a class=\"tocSkip\">\n",
    "### Universidad Popular del Cesar <a class=\"tocSkip\">\n",
    "### Prof.: Jose Ramón Iglesias Gamarra - [https://github.com/joseramoniglesias/](https://github.com/joseramoniglesias/) <a class=\"tocSkip\">\n",
    "  **joseiglesias@unicesar.edu.co**"
   ],
   "metadata": {
    "collapsed": false
   }
  },
  {
   "cell_type": "markdown",
   "metadata": {},
   "source": [
    "## La imagen digital\n",
    "\n",
    "* Las imágenes son capturadas mediante cámaras (sensores de luz) para ser convertidas en imágenes digitales.\n",
    "* El sensor usado es un CCD (del inglés Charge-Coupled Device \"dispositivo de cargas (eléctricas) interconectadas\").\n",
    "\n",
    "![](1.png)\n",
    "\n",
    "* La imagen digital se compone de pixeles.\n",
    "* Cada imagen puede ser monocromática o a colores.\n",
    "* Una imagen puede ser definida como una función bidimensional $f(x,y)$ donde $x, y$ son las coordenadas espaciales, y el valor (amplitud) de $f$ en el punto $(x,y)$ recibe el nombre de intensidad de la imagen en dicho punto.\n",
    "* El término niveles de gris (gray level) se usa para referirse a las imágenes monocromáticas.\n",
    "* Las imágenes en color se forman por una combinación de imágenes individuales 2D (imágenes multicanal). Por ejemplo, en el sistema de color RGB, un color consiste de tres componentes individuales de color (Rojo, Verde, Azul) - (Red, Green, Blue)\n",
    "* Por dicha razón, muchas de las técnicas desarrolladas para imágenes monocromáticas han sido extendidas al procesamiento de imágenes en color procesando cada componente de la imagen por separado.\n",
    "* Una imagen como función $f : \\mathbb{R} \\times \\mathbb{R} \\rightarrow \\mathbb{R}$ puede ser continua, convertir tal imagen a una imagen digital requiere que las coordenadas, así como la intensidad, sean digitalizadas.\n",
    "* Digitalizar los valores de las coordenadas recibe el nombre de muestreo (sampling); digitalizar la intensidad (amplitud) recibe el nombre de cuantificación.\n",
    "* En el momento en que los valores de las coordenadas y los valores de la amplitud son todos finitos, cantidades discretas, la imagen puede ser llamada imagen digital."
   ]
  },
  {
   "cell_type": "markdown",
   "metadata": {},
   "source": [
    "##### El resultado del muestreo y la cuantificación es una matriz de números reales. Asumiremos que la función $f(x,y)$ es muestreada de forma que se obtiene una matriz de $M$ filas y $N$ columnas, cada elemento de la matriz recibe el nombre de pixel. La imagen, por tanto, está representada por una matriz de puntos o conjunto de píxeles de dimesión $M \\times N$. Los valores de las coordenadas y de la intensidad son valores discretos."
   ]
  },
  {
   "cell_type": "markdown",
   "metadata": {},
   "source": [
    "![](2.png)"
   ]
  },
  {
   "cell_type": "markdown",
   "metadata": {},
   "source": [
    "##### Cada pixel puede representar una \"gama de colores\" que esta relacionada con el número de bits que tenga cada pixel."
   ]
  },
  {
   "cell_type": "markdown",
   "metadata": {},
   "source": [
    "Bits por pixel | Número de colores\n",
    "-- | --\n",
    "1 | 2\n",
    "4 | 16\n",
    "8 | 256\n",
    "16 | 65.536\n",
    "248 | 16.777.216"
   ]
  },
  {
   "cell_type": "markdown",
   "metadata": {},
   "source": [
    "![](3.png)"
   ]
  },
  {
   "cell_type": "markdown",
   "metadata": {},
   "source": [
    "### Variaciones en tonos de grises"
   ]
  },
  {
   "cell_type": "markdown",
   "metadata": {},
   "source": [
    "![](4.png)"
   ]
  },
  {
   "cell_type": "markdown",
   "metadata": {},
   "source": [
    "#### Imagen digital de tamaño $272 \\times 280$, donde sea ha realizado un zoom para ver los valores de los píxeles."
   ]
  },
  {
   "cell_type": "markdown",
   "metadata": {},
   "source": [
    "![](5.png)"
   ]
  },
  {
   "cell_type": "markdown",
   "metadata": {},
   "source": [
    "### Resolución"
   ]
  },
  {
   "cell_type": "markdown",
   "metadata": {},
   "source": [
    "![](6.png)"
   ]
  },
  {
   "cell_type": "markdown",
   "metadata": {},
   "source": [
    "#### Tres representaciones de la misma imagen con variaciones del número de pixeles utilizados manteniendo el rango de los niveles de intensidad.\n",
    "\n",
    "#### A: 1024 x 768 B: 512 x 384 C: 256 x 192"
   ]
  },
  {
   "cell_type": "markdown",
   "metadata": {},
   "source": [
    "![](7.png)"
   ]
  },
  {
   "cell_type": "markdown",
   "metadata": {},
   "source": [
    "#### Tres representaciones de la misma imagen en tonos de grises con variaciones del número de pixeles utilizados manteniendo el rango de los niveles de intensidad entre 0 y 255.\n",
    "\n",
    "#### A: 1024 x 768 B: 512 x 384 C: 256 x 192"
   ]
  },
  {
   "cell_type": "markdown",
   "metadata": {},
   "source": [
    "### Factores que reducen la calidad de las imágenes"
   ]
  },
  {
   "cell_type": "markdown",
   "metadata": {},
   "source": [
    "##### Ruido:\n",
    "    Aquellas señales eléctricas aleatorias e imprevisibles internas y externas al sistema, que sumadas a la información útil pueden llegar a borrarla o enmascararla.\n",
    "    \n",
    "##### Artefactos:\n",
    "    Cualquier imagen que no sea representativa de la estructura o la química del objeto analizado o imágenes anormales derivadas de estas propiedades y que aparezcan en una localización no esperada. Se incluyen por tanto en este concepto, a las interferencias y a las distorsiones geométricas y de amplitud para darle un carácter más general.\n",
    "    \n",
    "##### Interferencias:\n",
    "    Contaminaciones producidas por señales externas.\n",
    "    \n",
    "##### Distorción:\n",
    "    Alteración de la imagen debido a la respueta imperfecta del sistema a la propia señal deseada y que desaparece cuando cesa la señal."
   ]
  },
  {
   "cell_type": "markdown",
   "metadata": {},
   "source": [
    "### Coordenadas de una imagen digital"
   ]
  },
  {
   "cell_type": "markdown",
   "metadata": {},
   "source": [
    "![](8.png)"
   ]
  },
  {
   "cell_type": "markdown",
   "metadata": {},
   "source": [
    "##### El origen de la imagen se sitúa en el punto $(0,0)$. De forma que el rango de $x$ oscila entre $0$ y $M - 1$ y el rango de $y$ entre $0$ y $N - 1$, con incrementos de un entero. Observar que esto solo representa el muestreo espacial y no las coordenadas físicas de la imagen."
   ]
  },
  {
   "cell_type": "markdown",
   "metadata": {},
   "source": [
    "![](9.png)"
   ]
  },
  {
   "cell_type": "markdown",
   "metadata": {},
   "source": [
    "`De este modo una imagen en Python viene representada como una matriz de M x N`"
   ]
  },
  {
   "cell_type": "markdown",
   "metadata": {},
   "source": [
    "### Modelos de color: RGB"
   ]
  },
  {
   "cell_type": "markdown",
   "metadata": {},
   "source": [
    "![](10.png)"
   ]
  },
  {
   "cell_type": "markdown",
   "metadata": {},
   "source": [
    "* El RGB (Red, Green, Blue) representa a los colores en función de la intensidad de los colores luz primarios. Objetivo: especificación estándar de colores.\n",
    "* Define un color a partir de tres componentes, presentando un color como la adición de los tres colores luz primarios: <strong>RGB</strong> Rojo (700 nm), Verde (546.1 nm), Azul (435.8 nm).\n",
    "\n",
    "    0 - no interviene en la mezcla\n",
    "    \n",
    "    255 - aporta más intensidad a la mezcla\n",
    "    \n",
    "* Es un modelo para fuentes de luz. Es el usado en los ordenadores."
   ]
  },
  {
   "cell_type": "markdown",
   "metadata": {},
   "source": [
    "![](11.png)"
   ]
  },
  {
   "cell_type": "markdown",
   "metadata": {},
   "source": [
    "![](12.png)"
   ]
  },
  {
   "cell_type": "markdown",
   "metadata": {},
   "source": [
    "### Modelos de color: CMY"
   ]
  },
  {
   "cell_type": "markdown",
   "metadata": {},
   "source": [
    "![](13.png)"
   ]
  },
  {
   "cell_type": "markdown",
   "metadata": {},
   "source": [
    "* Combinando $R$, $G$ y $B$.\n",
    "\n",
    "    * $R+G=Y$\n",
    "    * $G+B=C$\n",
    "    * $R+B=M$\n",
    "    \n",
    "* La situación es distinta si combinamos tintes (sustancias que absorven luz) en lugar de fuentes.\n",
    "    * Combinando tinte amarillo (absorve el azul) con tinte magenta (absorve el verde) resulta un tinte rojo (absorve azul y verde)\n",
    "    \n",
    "* El modelo CMY se utiliza para codificar dispositivos de impresión"
   ]
  },
  {
   "cell_type": "markdown",
   "metadata": {},
   "source": [
    "### Modelos de color: YIQ\n",
    "\n",
    "* Utilizado en radiodifusión de TV del sistema NTSC.\n",
    "* Desacopla intensidad y color para compatibilidad con blanco y negro.\n",
    "* Se obtiene a partir del modelo RGB mediante una transformación lineal.\n",
    "\n",
    "![](14.png)"
   ]
  },
  {
   "cell_type": "markdown",
   "metadata": {},
   "source": [
    "### Modelos de color: YUV\n",
    "\n",
    "* Utilizado en radiodifusión de TV del sistema PAL.\n",
    "* También desacopla intensidad y color para compatibilidad con blanco y negro.\n",
    "* También se obtiene a partir del modelo RGB mediante una transformación lineal.\n",
    "* Usado en estándares de codificación digital JPEG y MPEG.\n",
    "* Fórmulas lineales:\n",
    "    * $Y = 0.30R+0.59G+0.11B$\n",
    "    * $U = 0.493(B - Y)$\n",
    "    * $V = 0.897(R - Y)$"
   ]
  },
  {
   "cell_type": "markdown",
   "metadata": {},
   "source": [
    "#### Ejercicio independiente #1:\n",
    "\n",
    "##### Investigue otros modelos de color. Considere primeramente los modelos de color siguientes: <b>YCbCr</b>, <b>HSV</b> y <b>HSL</b>"
   ]
  },
  {
   "cell_type": "markdown",
   "metadata": {},
   "source": [
    "### Formato de Imágenes\n",
    "\n",
    "* El formato como se almacena la imagen influye en el tiempo de acceso y procesamiento de la imagen.\n",
    "\n",
    "* Mapa de bits: Matriz de puntos que al unirse forman la imagen, se habla también de formatos de tramas (raster).\n",
    "\n",
    "* Vectorial: Ecuacíon matemática que representa una imagen y que ofrece una muy alta calidad, ya que permite ser ampliada sin perder resolución."
   ]
  },
  {
   "cell_type": "markdown",
   "metadata": {},
   "source": [
    "![](15.png)"
   ]
  },
  {
   "cell_type": "markdown",
   "metadata": {},
   "source": [
    "### Formato de mapa de bits\n",
    "\n",
    "![](16.png)\n",
    "\n",
    "* El pixel (picture element), es el elemento básico de la imagen.\n",
    "* Los colores se obtienen en un conjunto basado en los colores primarios de la luz: rojo, verde y azul. (RGB)\n",
    "* Ofrecen bordes dentados.\n",
    "* Resolución pobre.\n",
    "* Tratan la información de texto como datos de imagen.\n",
    "* Es imposible escalar la imagen sin distorción.\n",
    "* La resolución está dada por el número de píxeles por pulgada (dpi) o puntos por pulgada (ppi)."
   ]
  },
  {
   "cell_type": "markdown",
   "metadata": {},
   "source": [
    "### Formato Vectorial\n",
    "\n",
    "* Son gráficos orientados a objetos.\n",
    "* Se forman definiendo puntos en el plano mediante coordenadas y funciones matemáticas.\n",
    "* Los objetos son conjuntos de líneas.\n",
    "* Los gráficos se escalan sin deformarse.\n",
    "* Ocupan poco espacio en memoria.\n",
    "* CGM es el estándar internacional para intercambiar y archivar gráficos en 2D."
   ]
  },
  {
   "cell_type": "markdown",
   "metadata": {},
   "source": [
    "### Representación de la imagen\n",
    "\n",
    "![](17.png)"
   ]
  },
  {
   "cell_type": "markdown",
   "metadata": {},
   "source": [
    "### Ejercicio independiente #2:\n",
    "\n",
    "Investigue las diferencias entre los formatos de imágenes: JPG, TIF, GIF, BMP, PNG y XWD."
   ]
  },
  {
   "cell_type": "markdown",
   "source": [
    "**Copyright**\n",
    "\n",
    "The notebooks are provided as [Open Educational Resource](https://de.wikipedia.org/wiki/Open_Educational_Resources). Feel free to use the notebooks for your own educational purposes. The text is licensed under [Creative Commons Attribution 4.0](https://creativecommons.org/licenses/by/4.0/), the code of the IPython examples under the [MIT license](https://opensource.org/licenses/MIT)."
   ],
   "metadata": {
    "collapsed": false
   }
  },
  {
   "cell_type": "code",
   "outputs": [],
   "source": [],
   "metadata": {
    "collapsed": false
   }
  }
 ],
 "metadata": {
  "kernelspec": {
   "display_name": "Python 3",
   "language": "python",
   "name": "python3"
  },
  "language_info": {
   "codemirror_mode": {
    "name": "ipython",
    "version": 3
   },
   "file_extension": ".py",
   "mimetype": "text/x-python",
   "name": "python",
   "nbconvert_exporter": "python",
   "pygments_lexer": "ipython3",
   "version": "3.7.2"
  }
 },
 "nbformat": 4,
 "nbformat_minor": 4
}
