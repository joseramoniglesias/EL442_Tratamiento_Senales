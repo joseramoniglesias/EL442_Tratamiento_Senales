{
 "cells": [
  {
   "cell_type": "markdown",
   "metadata": {
    "id": "UpRNlGMcwgsz"
   },
   "source": [
    "<font color='red'>No se aceptan soluciones que usen metodologías distintas a la vista en clases.</font>\n"
   ]
  },
  {
   "cell_type": "markdown",
   "metadata": {
    "id": "h1h2bAmpGfbf"
   },
   "source": [
    "# 1) Ingrese su Nombre y Número de alumno/a\n",
    "\n",
    "(1 Punto)"
   ]
  },
  {
   "cell_type": "code",
   "execution_count": null,
   "metadata": {
    "id": "qtVSn8wesG39"
   },
   "outputs": [],
   "source": [
    "Nombre = # Por ejemplo: 'Carmen Gloria Perez'\n",
    "ID     = # Por ejemplo: '12345678K'\n",
    "\n",
    "print('IMPORTANTE: Cambie el nombre del archivo (arriba-izquierda) por '+ID+'.ipynb')"
   ]
  },
  {
   "cell_type": "markdown",
   "metadata": {
    "id": "nA44e9T1r-LC"
   },
   "source": [
    "# 2) Importe las Librerías\n",
    "\n",
    "(1 Punto)\n",
    "\n",
    "*Todas las librerías de este código deben ir en esta celda. Sólo está permitido usar las librerías de los ejemplos vistos en clase.*\n",
    "\n"
   ]
  },
  {
   "cell_type": "code",
   "execution_count": null,
   "metadata": {
    "id": "UXiVKMkTrPU8"
   },
   "outputs": [],
   "source": [
    " # PREGUNTA 2: ESCRIBA CODIGO AQUI"
   ]
  },
  {
   "cell_type": "markdown",
   "metadata": {
    "id": "K2boD201sK27"
   },
   "source": [
    "# 3) Cargue la Imagen de los Frutos Rojos\n",
    "\n",
    "(1 Punto)\n",
    "\n",
    "*Lea erchivo de la imagen se encuentra en este link:*\n",
    "\n",
    "`https://www.dropbox.com/s/5kkrnttmlt9wbdm/frutos_rojos.png`\n",
    "\n"
   ]
  },
  {
   "cell_type": "code",
   "execution_count": null,
   "metadata": {
    "id": "tOLCAadUnapj"
   },
   "outputs": [],
   "source": [
    " # PREGUNTA 3: ESCRIBA CODIGO AQUI"
   ]
  },
  {
   "cell_type": "markdown",
   "metadata": {
    "id": "bidVCiYCpWGC"
   },
   "source": [
    "# 4) Despliegue la imagen cargada y su tamaño\n",
    "(1 Punto)\n"
   ]
  },
  {
   "cell_type": "code",
   "execution_count": null,
   "metadata": {
    "id": "PokwKyXXsNqc"
   },
   "outputs": [],
   "source": [
    " # PREGUNTA 4: ESCRIBA CODIGO AQUI"
   ]
  },
  {
   "cell_type": "markdown",
   "metadata": {
    "id": "28xDDG4fphEE"
   },
   "source": [
    "# 5) Despliegue los canales R,G,B\n",
    "\n",
    "(1 Punto)\n"
   ]
  },
  {
   "cell_type": "code",
   "execution_count": null,
   "metadata": {
    "id": "hfWjcYlHr-op"
   },
   "outputs": [],
   "source": [
    " # PREGUNTA 5: ESCRIBA CODIGO AQUI"
   ]
  },
  {
   "cell_type": "markdown",
   "metadata": {
    "id": "OJhwezIOumCW"
   },
   "source": [
    "# 6) Segmente los frutos rojos\n",
    "\n",
    "(6 Puntos)\n",
    "\n"
   ]
  },
  {
   "cell_type": "code",
   "execution_count": null,
   "metadata": {
    "id": "au_sQ0NqutLP"
   },
   "outputs": [],
   "source": [
    " # PREGUNTA 6: ESCRIBA CODIGO AQUI"
   ]
  },
  {
   "cell_type": "markdown",
   "metadata": {
    "id": "GOj_KIoCzHTC"
   },
   "source": [
    "# 7) Sobreponga un borde azul a los frutos segmentados en la imagen a color\n",
    "\n",
    "(1 Punto)\n"
   ]
  },
  {
   "cell_type": "code",
   "execution_count": null,
   "metadata": {
    "id": "s8gFEHLb0BKT"
   },
   "outputs": [],
   "source": [
    " # PREGUNTA 7: ESCRIBA CODIGO AQUI"
   ]
  },
  {
   "cell_type": "markdown",
   "metadata": {
    "id": "y555mF_K9hG8"
   },
   "source": [
    "# <font color='red'>SUBIR EJERCICIO DE FORMA INDIVIDUAL AL CORREO DEL PROFESOR</font> \n",
    "\n",
    "<font color='orange'>(subir archivo NumeroAlumnx.ipynb) </font>\n",
    "\n",
    "\n"
   ]
  },
  {
   "cell_type": "code",
   "execution_count": null,
   "metadata": {},
   "outputs": [],
   "source": []
  }
 ],
 "metadata": {
  "colab": {
   "collapsed_sections": [],
   "name": "IMG01_Eje01_FrutosRojos.ipynb",
   "provenance": [],
   "toc_visible": true
  },
  "kernelspec": {
   "display_name": "Python 3",
   "language": "python",
   "name": "python3"
  },
  "language_info": {
   "codemirror_mode": {
    "name": "ipython",
    "version": 3
   },
   "file_extension": ".py",
   "mimetype": "text/x-python",
   "name": "python",
   "nbconvert_exporter": "python",
   "pygments_lexer": "ipython3",
   "version": "3.8.8"
  }
 },
 "nbformat": 4,
 "nbformat_minor": 1
}
