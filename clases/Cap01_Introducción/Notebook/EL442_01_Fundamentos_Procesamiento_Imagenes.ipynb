{
 "cells": [
  {
   "cell_type": "markdown",
   "metadata": {},
   "source": [
    "# Fundamentos procesamiento de imágenes<a class=\"tocSkip\">\n",
    "## TRATAMIENTO DE SEÑALES <a class=\"tocSkip\">\n",
    "### Ingenieria Electrónica <a class=\"tocSkip\">\n",
    "### Universidad Popular del Cesar <a class=\"tocSkip\">\n",
    "### Prof.: Jose Ramón Iglesias Gamarra - [https://github.com/joseramoniglesias/](https://github.com/joseramoniglesias/) <a class=\"tocSkip\">\n",
    "  **joseiglesias@unicesar.edu.co**\n"
   ]
  },
  {
   "cell_type": "markdown",
   "metadata": {},
   "source": [
    "## Introducción:"
   ]
  },
  {
   "cell_type": "markdown",
   "metadata": {},
   "source": [
    "A grandes rasgos el procesamiento de imágenes digitales es el conjunto de técnicas que se aplican a las imágenes digitales con el objetivo de mejorar la calidad o facilitar la obtención de información de estas.\n",
    "\n",
    "### Imagenes digitales:\n",
    "\n",
    "Una imagen digital es una representación bidimensional de una imagen a partir de una matriz numérica, frecuentemente en binario (unos y ceros) la cual podemos definir como una función f(x, y) donde x, y son las coordenadas espaciales, y el valor de f en cualquier (x,y) representa la intensidad de la imagen en dicho punto.\n",
    "Una imagen en blanco y negro se puede representar con unos y ceros, asignando 1 al color blanco y 0 al color negro. Si queremos que nuestra imagen varíe entre tonos de grises podemos representar la imagen en escala de grises como matriz, la escala más utilizada es entre 0(negro) y 255(blanco).\n",
    "\n",
    "## Uso de Python para el procesamiento de imágenes:\n",
    "\n",
    "Existen varios programas adaptados para el procesamiento de imágenes como Wolfram Mathematica, Matlab y Python. Como bien es sabido Python es de los leguajes más usados actualmente ya que es fácil de aprender y amigable a la hora de programar, además viene con muchas pero muchas librerías dedicadas a la interacción con imágenes y es por estas razones que las usaremos:\n",
    "\n",
    "Para esta primera parte del curso solo necesitaremos descargar dos librerías:\n",
    "\n",
    "* Matplotlib: contiene funciones que permiten la generación de gráficos a partir de datos contenidos en listas o arrays(tipo de lista).\n",
    "\n",
    "* NumPy: contiene funciones matemáticas que sirven para operar con vectores y/o matrices.\n",
    "\n",
    "Si aún no las has descargado puedes hacerlo ejecutando los siguientes códigos en el terminal:"
   ]
  },
  {
   "cell_type": "code",
   "execution_count": null,
   "metadata": {},
   "outputs": [],
   "source": [
    "#!pip install matplotlib\n",
    "#!pip install numpy"
   ]
  },
  {
   "cell_type": "markdown",
   "metadata": {},
   "source": [
    "# Primeros pasos\n",
    "\n",
    "Comencemos creando una imagen, imaginemos que tenemos una hoja cuadrada con una línea negra a la mitad, podemos representar esto como una matriz de 3x3 con la segunda columna compuesta de ceros y el resto por unos:"
   ]
  },
  {
   "cell_type": "code",
   "metadata": {
    "ExecuteTime": {
     "end_time": "2024-08-10T16:47:48.471640Z",
     "start_time": "2024-08-10T16:47:47.751134Z"
    }
   },
   "source": [
    "# importamos las librerias\n",
    "import matplotlib.pyplot as plt\n",
    "import numpy as np\n",
    "\n",
    "matriz = [[1, 0, 1],\n",
    "          [1, 0, 1],\n",
    "          [1, 0, 1]]\n",
    "\n",
    "#establecemos que la imagen a crear estara en tono de grices\n",
    "plt.rcParams['image.cmap'] = 'gray'\n",
    "\n",
    "# pasamos la matris a un array\n",
    "imagen_negra = np.array(matriz)\n",
    "\n",
    "# creamos la imagen y la mostramos, vmin y vmax establece los valores de la escala\n",
    "plt.imshow(imagen_negra,vmin=0,vmax=1) \n",
    "plt.show()"
   ],
   "outputs": [
    {
     "data": {
      "text/plain": [
       "<Figure size 640x480 with 1 Axes>"
      ],
      "image/png": "[encoded data removed]"
     },
     "metadata": {},
     "output_type": "display_data"
    }
   ],
   "execution_count": 1
  },
  {
   "cell_type": "markdown",
   "metadata": {},
   "source": [
    "Ahora tratemos de hacer un efecto de difuminado entre las línea blancas y la negra. Para lograr esto es evidente que necesitaremos una mayor escala de grises y una matriz de mayor tamaño, además de una función que modele la intensidad de lo tonos de la imagen con respecto a la línea central:"
   ]
  },
  {
   "cell_type": "code",
   "execution_count": null,
   "metadata": {},
   "outputs": [],
   "source": [
    "# naturalmente tendremos 4 variables importantes: la posición en el eje x \n",
    "                                                # de la posición linea horizontal(pos_x),\n",
    "                                                # la escala de tonos de la imagen \n",
    "                                                # y finalmente el ancho y alto.\n",
    "def imagen_difuminada(pos_x, escala, ancho, alto):\n",
    "    # creamos una lista que representara la matriz de la imagen y otra para cada fila de esta\n",
    "    imagen_total = []\n",
    "    imagen_linea = []\n",
    "    for y in range(alto):\n",
    "        for x in range(ancho):\n",
    "            # calculamos la distancia horizontal entre la linea y un punto de la imagen\n",
    "            delta_x = (abs(x - pos_x))\n",
    "            # usamos la diferencia para determinar la escala de tonos en ese punto\n",
    "            if delta_x < escala:\n",
    "                imagen_linea.append(delta_x)\n",
    "\n",
    "            else:\n",
    "                imagen_linea.append(escala)\n",
    "\n",
    "        imagen_total.append(imagen_linea)\n",
    "        imagen_linea = []\n",
    "    # pasamos la lista a un array y la retornamos\n",
    "    imagen = np.array(imagen_total)\n",
    "    \n",
    "    return imagen\n",
    "# establecemos la escala de la grafica y la mostramos\n",
    "def mostrar_imagen(imagen, escala):\n",
    "    plt.imshow(imagen,vmin = 0, vmax = escala)\n",
    "    plt.show()\n",
    "\n",
    "\n",
    "imagen = imagen_difuminada(5, 5, 11, 10)\n",
    "mostrar_imagen(imagen, 5)"
   ]
  },
  {
   "cell_type": "markdown",
   "metadata": {},
   "source": [
    "Para este punto te habrás dado cuenta que cada espacio dentro de la matriz representa un píxel y que su número representa la intensidad de luz que emite cada uno.\n",
    "Volviendo al ejercicio anterior, podrás notar que la difuminación no es perfecta, ya que aún hay mucho constaste entre un tono y otro, podemos solucionar esto aumentando la escala de tonos de la imagen y aumentando el numero de pixeles por unidad de área:"
   ]
  },
  {
   "cell_type": "code",
   "execution_count": null,
   "metadata": {},
   "outputs": [],
   "source": [
    "# aplicando la escala clasica de 0 a 255\n",
    "imagen_difu = imagen_difuminada(400, 255, 800, 800)\n",
    "mostrar_imagen(imagen_difu, 255)"
   ]
  },
  {
   "cell_type": "markdown",
   "metadata": {},
   "source": [
    "siguiendo el procedimiento vemos que la calidad de la imagen mejora considerablemente lo que nos lleva a un punto importante, la resolución, posiblemente hayas escuchado el termino si alguna vez trataron de venderte una cámara o algo así, la resolución, en términos de una imagen, se refiere a la cantidad de pixeles contenidos en una pulgada (2,54 cm), actualmente la resolución promedio de un computador es de 1024 x 768 píxeles pero se a llegado a llegado a resoluciones de hasta  2560 x 1600 píxeles lo que es simplemente increíble si pensamos que la retina humana promedio puede discernir hasta los 530 x 530 píxeles por pulgada (y ni hablar de los que usan lentes).\n",
    "\n",
    "### Ejercicios:\n",
    "Escribe un codigo en python que dibuje una imagen con:\n",
    "\n",
    "* un circulo\n",
    "* un anillo \n",
    "* un anillo difuminado \n",
    "\n",
    "\n",
    "## Graficas\n",
    "\n",
    "Es importante representar los datos propios de las imágenes a fin de obtener la mayor cantidad de información de ellas, una de las grafica importante es la del muestreo espacial en tonos de grises que corresponde a un grafico 3D lo que puede implementar mediante el siguiente código:"
   ]
  },
  {
   "cell_type": "code",
   "execution_count": null,
   "metadata": {
    "scrolled": true
   },
   "outputs": [],
   "source": [
    "import matplotlib.pyplot as plt\n",
    "from matplotlib import cm\n",
    "from mpl_toolkits.mplot3d import Axes3D\n",
    "\n",
    "def muestreo_espacial(imagen, escala):\n",
    "    # con esto creamos una fugura 3D a la que le daremos valores en cada eje \n",
    "    fig = plt.figure()\n",
    "    ax = fig.gca(projection='3d')\n",
    "    \n",
    "    # esto establezera las matrizes de valores para los eje x e y\n",
    "    X = np.arange(0, len(imagen[0]), 1)\n",
    "    Y = np.arange(0, len(imagen), 1)\n",
    "    X, Y = np.meshgrid(X, Y)\n",
    "    \n",
    "    # aqui definiremos la matriz ce eje z como la que representara los valores de la matriz imagen.\n",
    "    Z = imagen\n",
    "\n",
    "    # plot_surface establecera la superficie de la grafica.\n",
    "    surf = ax.plot_surface(X, Y, Z, cmap=cm.coolwarm, linewidth=0, antialiased=False)\n",
    "\n",
    "    # definimos los limites del eje z.\n",
    "    ax.set_zlim(0, 255)\n",
    "\n",
    "    # y finalmente agregaremos una barra de colores.\n",
    "    fig.colorbar(surf, shrink=0.5, aspect=5)\n",
    "    plt.show()\n",
    "# usando el ejemplo anterior\n",
    "muestreo_espacial(imagen_difu, 255) "
   ]
  },
  {
   "cell_type": "markdown",
   "metadata": {},
   "source": [
    "# Imagenes a Color\n",
    "Para crear una imagen es necesario que un píxel tenga a su disposición una gama de colores que puedan variar en intensidad, así como los colores primarios: rojo, azul y amarillo pueden mezclarse entre si para dar vida a todo los demás colares un píxel puede variar la intensidad de sus pigmentos para hacer lo mismo. Una imágenes multicolor dependerán del sistema de color utilizado y entre todos los sistemas el mas utilizado es el RGB(red, green and Blue). Con esto en mente ahora deberemos de considerar que cada píxel será representado como un vector tridimensional (r, g, b) donde r, g y b serán números enteros entre  0 a 255."
   ]
  },
  {
   "cell_type": "markdown",
   "metadata": {},
   "source": [
    "![Imagen](https://encrypted-tbn0.gstatic.com/images?q=tbn%3AANd9GcSgWpa9actlEsf5LjQRa7OfzfKmxg21vHFOVA&usqp=CAU)"
   ]
  },
  {
   "cell_type": "markdown",
   "metadata": {},
   "source": [
    "## Trabajar con imagenes \n",
    "Hasta el momento hemos visto como crear imágenes simples en blanco y negro pero ¿Que ocurre si queremos trabajar con imágenes ya existentes que esta a color? Para esto esta la librería PIL que posee funciones con las que se puede interactuar con las imágenes a nivel píxel.\n",
    "\n",
    "Comencemos viendo unas funciones básicas:"
   ]
  },
  {
   "cell_type": "code",
   "execution_count": null,
   "metadata": {},
   "outputs": [],
   "source": [
    "from PIL import Image\n",
    "\n",
    "imagen = Image.open('charmander.png') # con este codigo abrimos una imagen para trabajar con ella\n",
    "array_imagen = np.array(imagen)\n",
    "\n",
    "plt.imshow(array_imagen) # vmin y vmax NO son necesarios si la imagen es a color\n",
    "plt.title(\"charmander\")\n",
    "plt.show()\n",
    "\n",
    "x = imagen.size[0] #retorla el numero de pixeles en el eje x\n",
    "y = imagen.size[1] #retorla el numero de pixeles en el eje y\n",
    "\n",
    "print(\"Dimensiones de la imagen:\\n\")\n",
    "print(f\"ancho: {x}, alto: {y}\\n\")\n",
    "\n",
    "r, g, b = imagen.getpixel((0,0)) # retorna el vector RGB en la pocición (i,j)\n",
    "print(\"valores RGB del pixel en (0,0):\\n\")\n",
    "print(r, g, b)\n",
    "\n",
    "new_imagen = Image.new('RGB', (4, 4)) # crea una nueva imagen del tipo RGB de dimenciones i, j\n",
    "\n",
    "plt.figure()\n",
    "plt.title(\"imagen en blanco\")\n",
    "\n",
    "pixel = (255, 255,255)\n",
    "\n",
    "for y in range(4):\n",
    "      for x in range(4):\n",
    "            new_imagen.putpixel((x,y), pixel) # estableze los parametros de un \n",
    "                                              # pixel (r, g,b) en la pocicion i,j\n",
    "            if x != 3:\n",
    "                \n",
    "                if pixel ==(0, 0 ,0):\n",
    "                    pixel = (255, 255,255)\n",
    "                \n",
    "                else:\n",
    "                    pixel = (0, 0 ,0)\n",
    "        \n",
    "new_array_imagen = np.array(new_imagen)\n",
    "plt.imshow(new_array_imagen)\n",
    "plt.show()\n",
    "\n",
    "new_imagen.save('new_imagen.png') # guarda una imagen con el nombre dado"
   ]
  },
  {
   "cell_type": "markdown",
   "metadata": {},
   "source": [
    "También existe la librería skimage que al igual que PIL permite trabajar con imágenes de forma matricial aunque con una estética distinta. A diferencia de PHIL esta debe ser descargada, si deseas usarla puedes hacerlo ejecutando el siguiente código en tu terminal:"
   ]
  },
  {
   "cell_type": "code",
   "execution_count": null,
   "metadata": {},
   "outputs": [],
   "source": [
    "pip3 install scikit-image"
   ]
  },
  {
   "cell_type": "markdown",
   "metadata": {},
   "source": [
    "He aqui unas funcianes básicas:"
   ]
  },
  {
   "cell_type": "code",
   "execution_count": null,
   "metadata": {},
   "outputs": [],
   "source": [
    "from skimage import io\n",
    "\n",
    "imagen = io.imread(\"charmander.png\") # retorna una matriz en forma de lista de listas \n",
    "                                     # compuesta por cada pixel con cada uno de ellos \n",
    "                                     # representado como una lista [R, G, B]\n",
    "print(\"Dimensiones de la imagen:\\n\")    \n",
    "plt.imshow(imagen)\n",
    "plt.show()\n",
    "print(imagen[0][0])\n",
    "  \n",
    "dimenciones = imagen.shape # .shape retorna una tupla con las dimenciones de los ejes y e x\n",
    "                           \n",
    "print(\"Dimensiones de la imagen:\\n\")\n",
    "print(f\"ancho: {dimenciones[1]}, alto: {dimenciones[0]}\\n\")\n",
    "\n",
    "#una ventaja de esta bibloteca es que permite obtener los canales de colores que conforman \n",
    "# la imagen de forma rapida\n",
    "plt.imshow(imagen[:,:,0])\n",
    "plt.title(\"Canal Rojo\")\n",
    "plt.show()\n",
    "\n",
    "plt.figure()\n",
    "plt.imshow(imagen[:,:,1])\n",
    "plt.title(\"Canal Verde\")\n",
    "plt.show()\n",
    "\n",
    "plt.figure()\n",
    "plt.imshow(imagen[:,:,2])\n",
    "plt.title(\"Canal Azul\")\n",
    "plt.show()\n",
    "\n",
    "io.imsave(\"new_charmander.png\", imagen) # guarda una imagen bajo en nombre seleccionado"
   ]
  },
  {
   "cell_type": "markdown",
   "metadata": {},
   "source": [
    "Si prestas atención por un lado notaras que el canal azul es el mas oscuro, debido a que es el color que aporta menos información a la imagen, y que el canal rojo es el que más claro, al ser el color predominante, por otro lado notaras que el canal verde también aporta bastante información y esto se debe a que la combinación de colores entre el rojo y verde da como resultado el color amarillo (revisar el píxel de arriba) el cual también es un color muy presente en la imagen.\n",
    "\n",
    "De manera similar a la anterior es posible llevar a cero las intensidades de los otros colores ( algo así como apagar ciertos \"focos\" de cada píxel):"
   ]
  },
  {
   "cell_type": "code",
   "execution_count": null,
   "metadata": {},
   "outputs": [],
   "source": [
    "charmander_red = np.copy(imagen) # creo una copia de la imagen para preservar la original\n",
    "charmander_red[:,:,1]=0\n",
    "charmander_red[:,:,2]=0\n",
    "plt.title(\"canal rojo\")\n",
    "plt.imshow(charmander_red)\n",
    "\n",
    "plt.figure()\n",
    "charmander_green = np.copy(imagen) # creo una copia de la imagen para preservar la original\n",
    "charmander_green[:,:,0]=0\n",
    "charmander_green[:,:,2]=0\n",
    "plt.title(\"canal verde\")\n",
    "plt.imshow(charmander_green)\n",
    "\n",
    "plt.figure()\n",
    "charmander_blue = np.copy(imagen) # creo una copia de la imagen para preservar la original\n",
    "charmander_blue[:,:,0]=0\n",
    "charmander_blue[:,:,1]=0\n",
    "plt.title(\"canal azul\")\n",
    "plt.imshow(charmander_blue)"
   ]
  },
  {
   "cell_type": "markdown",
   "metadata": {},
   "source": [
    "## Pasar una imagen a color a escala de grises:\n",
    "\n",
    "Si bien se sabe que una imagen a color aporta más información que una imagen en blanco y negro habrán veces que tal vez solo queramos evaluar una imagen por el contraste de sus colores o simplemente queramos simplificar la matriz en la que trabajaremos a fin de agilizar un algoritmo. Para llevar acabo esta transformación uno podría pensar que si la combinación de los tres colores RGB da como resultado blanco y la ausencia de los 3 da como resultado negro entonces el promedio de las intensidades Daria como resultado el promedio de justo: \n",
    "\n",
    "(R + G + B)/3 = Intensidad en escala de grises\n",
    "\n",
    "Esta correlación podría parecer lógica pero no es del todo correcta, la realidad es que cada color del RGB tiene un equivalencia en la escala de grises, aproximadamente la equivalencia es la siguiente:\n",
    "\n",
    "                     Rojo 29,9%, Verde 58,7% y Azul 11,4%\n",
    "                     \n",
    "De esta forma la intensidad se puede representar con la siguiente ecuación:\n",
    "\n",
    "                     intensidad_gris = R * 0.299 + G * 0.587 + B * 0.114"
   ]
  },
  {
   "cell_type": "code",
   "execution_count": null,
   "metadata": {},
   "outputs": [],
   "source": [
    "def escala_de_grises(ruta):\n",
    "    #Abrimos la Imagen\n",
    "    im = Image.open(ruta)\n",
    "    #Obtenemos sus dimensiones\n",
    "    x = im.size[0]\n",
    "    y = im.size[1]\n",
    "    #Creamos una nueva imagen con las dimensiones de la imagen anterior\n",
    "    im2 = Image.new('RGB', (x, y))\n",
    "   \n",
    "    lista_j = []\n",
    "    while len(lista_j) < y:\n",
    "        lista_i = []\n",
    "        while len(lista_i) < x:\n",
    "            #Obtenemos el valor RGB de cada pixel\n",
    "            r, g, b = im.getpixel((len(lista_i),len(lista_j)))\n",
    "            #Obtenemos su equivalente en la escala de gris\n",
    "            p = (r * 0.299 + g * 0.587 + b * 0.114)\n",
    "            #Ese valor lo convertimos a entero\n",
    "            gris = int(p)\n",
    "            #En la nueva imagen en la posición i, j agregamos el nuevo color\n",
    "            lista_i.append(gris)\n",
    "        lista_j.append(lista_i)\n",
    "    imagen = np.array(lista_j)\n",
    "    \n",
    "    return imagen\n",
    "\n",
    "char_w_and_b =  escala_de_grises(\"charmander.png\")\n",
    "io.imsave(\"charmander_white_and_black.png\", char_w_and_b)\n",
    "mostrar_imagen(char_w_and_b, 255)"
   ]
  },
  {
   "cell_type": "markdown",
   "metadata": {},
   "source": [
    "# ¿Que librería ocupar?\n",
    "\n",
    "En general tanto skimage como Image sirven para lo mismo en lo que respecta a trabajar con una imagen, la principal diferencia es cada una posee funciones con fines diferentes. Por ejemplo Image, a diferencia de skimage, posee funciones para escribir sobre imágenes. También suele suceder que no se puede abrir una imagen usando Image pero sí con skimage o que no es posible guardar una imagen usando skimage pero sí con Image.\n",
    "\n",
    "## Recomendación:\n",
    "\n",
    "Lo más sugeridle es aprender a usar ambas, las funciones esenciales y mecanismos de cada librería son muy parecidas entre si por lo que al aprender a usar una función de una librería automáticamente aprenderás que hacen la contraparte de función de la otra"
   ]
  },
  {
   "cell_type": "markdown",
   "metadata": {},
   "source": [
    "## Fuenetes:\n",
    "* https://www.nibcode.com/es/blog/1135/algebra-lineal-y-el-procesamiento-digital-de-imagenes-parte-I\n",
    "* https://www.unioviedo.es/galiano/master/lab01_introduccion_imagen_py.html\n",
    "* https://es.wikipedia.org/wiki/Procesamiento_digital_de_imágenes\n",
    "* https://matplotlib.org/mpl_toolkits/mplot3d/tutorial.html\n",
    "* https://wizardprogrammer.blogspot.com/2019/03/convertir-imagen-blanco-y-negro-python.html"
   ]
  },
  {
   "cell_type": "markdown",
   "source": [
    "**Copyright**\n",
    "\n",
    "The notebooks are provided as [Open Educational Resource](https://de.wikipedia.org/wiki/Open_Educational_Resources). Feel free to use the notebooks for your own educational purposes. The text is licensed under [Creative Commons Attribution 4.0](https://creativecommons.org/licenses/by/4.0/), the code of the IPython examples under the [MIT license](https://opensource.org/licenses/MIT)."
   ],
   "metadata": {
    "collapsed": false
   }
  },
  {
   "cell_type": "code",
   "execution_count": null,
   "outputs": [],
   "source": [],
   "metadata": {
    "collapsed": false
   }
  }
 ],
 "metadata": {
  "kernelspec": {
   "display_name": "Python 3",
   "language": "python",
   "name": "python3"
  },
  "language_info": {
   "codemirror_mode": {
    "name": "ipython",
    "version": 3
   },
   "file_extension": ".py",
   "mimetype": "text/x-python",
   "name": "python",
   "nbconvert_exporter": "python",
   "pygments_lexer": "ipython3",
   "version": "3.7.6"
  }
 },
 "nbformat": 4,
 "nbformat_minor": 4
}
