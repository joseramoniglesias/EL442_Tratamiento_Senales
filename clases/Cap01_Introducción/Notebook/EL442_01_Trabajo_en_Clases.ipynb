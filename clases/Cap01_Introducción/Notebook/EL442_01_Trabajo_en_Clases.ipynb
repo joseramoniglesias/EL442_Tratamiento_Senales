{
 "nbformat": 4,
 "nbformat_minor": 0,
 "metadata": {
  "colab": {
   "name": "IMG01_Arroces.ipynb",
   "provenance": []
  },
  "kernelspec": {
   "name": "python3",
   "language": "python",
   "display_name": "Python 3 (ipykernel)"
  },
  "language_info": {
   "name": "python"
  }
 },
 "cells": [
  {
   "cell_type": "markdown",
   "source": [
    "# Conceptos de Segmentación<a class=\"tocSkip\">\n",
    "## TRATAMIENTO DE SEÑALES <a class=\"tocSkip\">\n",
    "### Ingenieria Electrónica <a class=\"tocSkip\">\n",
    "### Universidad Popular del Cesar <a class=\"tocSkip\">\n",
    "### Prof.: Jose Ramón Iglesias Gamarra - [https://github.com/joseramoniglesias/](https://github.com/joseramoniglesias/) <a class=\"tocSkip\">\n",
    "  **joseiglesias@unicesar.edu.co**"
   ],
   "metadata": {
    "collapsed": false
   }
  },
  {
   "cell_type": "markdown",
   "source": [
    "# Carga de Imágen desde Github y Dropbox"
   ],
   "metadata": {
    "collapsed": false
   }
  },
  {
   "cell_type": "code",
   "metadata": {
    "colab": {
     "base_uri": "https://localhost:8080/"
    },
    "id": "_SyVK2noyR3P",
    "outputId": "87d067b0-92a1-485e-cfbb-06036ccdf28b",
    "ExecuteTime": {
     "end_time": "2024-01-22T21:18:44.502518800Z",
     "start_time": "2024-01-22T21:18:44.305420300Z"
    }
   },
   "source": [
    "import os\n",
    "import requests\n",
    "import wget\n",
    "url_imagen = \"https://raw.githubusercontent.com/joseramoniglesias/Tratamiento_Senales/main/clases/Cap01_Introducci%C3%B3n/Python/onerice.bmp\"\n",
    "#wgetcomand = \"https://raw.githubusercontent.com/joseramoniglesias/Tratamiento_Senales/main/clases/Cap01_Introducci%C3%B3n/Python/onerice.bmp\"\n",
    "#wgetcomand = \"wget https://www.dropbox.com/s/tzay0ej8irleft4/onerice.bmp\"\n",
    "#os.system(wgetcomand)"
   ],
   "execution_count": 1,
   "outputs": []
  },
  {
   "cell_type": "code",
   "execution_count": 2,
   "outputs": [],
   "source": [
    "nombre_local_imagen = \"onerice.bmp\" # El nombre con el que queremos guardarla\n",
    "imagen = requests.get(url_imagen).content\n",
    "with open(nombre_local_imagen, 'wb') as handler:\n",
    "  handler.write(imagen)"
   ],
   "metadata": {
    "collapsed": false,
    "ExecuteTime": {
     "end_time": "2024-01-22T21:18:48.472574Z",
     "start_time": "2024-01-22T21:18:47.954171800Z"
    }
   }
  },
  {
   "cell_type": "markdown",
   "source": [],
   "metadata": {
    "collapsed": false
   }
  },
  {
   "cell_type": "markdown",
   "metadata": {
    "id": "6zVI-Y9zzPUS"
   },
   "source": [
    "# Importación de Librerías"
   ]
  },
  {
   "cell_type": "code",
   "metadata": {
    "id": "FyX8hRnPzTGd",
    "ExecuteTime": {
     "end_time": "2024-01-22T21:19:02.148273400Z",
     "start_time": "2024-01-22T21:19:00.969467800Z"
    }
   },
   "source": [
    "import numpy as np\n",
    "import cv2\n",
    "from cv2 import imread\n",
    "import matplotlib.pyplot as plt\n",
    "#from google.colab.patches import cv2_imshow"
   ],
   "execution_count": 3,
   "outputs": []
  },
  {
   "cell_type": "markdown",
   "metadata": {
    "id": "NxWGCWb1zZky"
   },
   "source": [
    "# Lectura y Despliegue de Imagen"
   ]
  },
  {
   "cell_type": "code",
   "metadata": {
    "colab": {
     "base_uri": "https://localhost:8080/",
     "height": 357
    },
    "id": "CFNjtLd0zdpE",
    "outputId": "19f7e552-1414-47d4-c4bd-1fe648d1f4bd",
    "ExecuteTime": {
     "end_time": "2024-01-22T21:19:04.917025Z",
     "start_time": "2024-01-22T21:19:04.693958800Z"
    }
   },
   "source": [
    "img = cv2.imread('onerice.bmp')\n",
    "plt.axis('off')\n",
    "plt.imshow(img,cmap='gray')\n",
    "plt.show()"
   ],
   "execution_count": 4,
   "outputs": [
    {
     "data": {
      "text/plain": "<Figure size 640x480 with 1 Axes>",
      "image/png": "[encoded data removed]"
     },
     "metadata": {},
     "output_type": "display_data"
    }
   ]
  },
  {
   "cell_type": "markdown",
   "metadata": {
    "id": "jE0VEN1Cz_cU"
   },
   "source": [
    "# Función de cómo es la imagen"
   ]
  },
  {
   "cell_type": "code",
   "metadata": {
    "colab": {
     "base_uri": "https://localhost:8080/"
    },
    "id": "wF67_BPQ0O1T",
    "outputId": "fbf679bd-e592-4951-d209-14dfeb1e6359",
    "ExecuteTime": {
     "end_time": "2024-01-22T21:22:01.778948900Z",
     "start_time": "2024-01-22T21:22:01.729097700Z"
    }
   },
   "source": [
    "def dimension(img):\n",
    "  print('Tamaño = ',img.shape)\n",
    "  print(\"Dimensiones de la imagen:\\n\")\n",
    "  print('max  = ',np.max(img))\n",
    "  print('min  = ',np.min(img))\n",
    "\n",
    "dimension(img)"
   ],
   "execution_count": 7,
   "outputs": [
    {
     "name": "stdout",
     "output_type": "stream",
     "text": [
      "Tamano =  (64, 64, 3)\n",
      "Dimensiones de la imagen:\n",
      "\n",
      "max  =  183\n",
      "min  =  59\n"
     ]
    }
   ]
  },
  {
   "cell_type": "markdown",
   "metadata": {
    "id": "GC5lH3BK0iC3"
   },
   "source": [
    "# Selección del primer canal de la imagen"
   ]
  },
  {
   "cell_type": "code",
   "metadata": {
    "colab": {
     "base_uri": "https://localhost:8080/",
     "height": 409
    },
    "id": "ofgRpH4v0m3V",
    "outputId": "a98761aa-5da8-4942-9ad7-586c6118f3fe",
    "ExecuteTime": {
     "end_time": "2024-01-22T21:24:51.015683300Z",
     "start_time": "2024-01-22T21:24:50.951868100Z"
    }
   },
   "source": [
    "X = img[:,:,0]\n",
    "dimension(X)\n",
    "plt.axis('off')\n",
    "plt.imshow(X,cmap='gray')\n",
    "plt.show()"
   ],
   "execution_count": 9,
   "outputs": [
    {
     "name": "stdout",
     "output_type": "stream",
     "text": [
      "Tamano =  (64, 64)\n",
      "Dimensiones de la imagen:\n",
      "\n",
      "max  =  183\n",
      "min  =  59\n"
     ]
    },
    {
     "data": {
      "text/plain": "<Figure size 640x480 with 1 Axes>",
      "image/png": "[encoded data removed]"
     },
     "metadata": {},
     "output_type": "display_data"
    }
   ]
  },
  {
   "cell_type": "markdown",
   "metadata": {
    "id": "nq2ckMft0yYT"
   },
   "source": [
    "# Función de Segmentación por Umbral"
   ]
  },
  {
   "cell_type": "code",
   "metadata": {
    "id": "4wE0d1jA02CQ"
   },
   "source": [
    "def segmenta(X,t):\n",
    "  (N,M) = X.shape\n",
    "  Y = np.zeros((N,M))\n",
    "  area = 0\n",
    "  for i in range(N):\n",
    "    for j in range(M):\n",
    "      if X[i,j] > t:\n",
    "        Y[i,j] = 255\n",
    "        area = area + 1\n",
    "  print('area = ',area)\n",
    "  return Y\n"
   ],
   "execution_count": null,
   "outputs": []
  },
  {
   "cell_type": "markdown",
   "metadata": {
    "id": "2CUN13Fv1Iju"
   },
   "source": [
    "# Segmentación"
   ]
  },
  {
   "cell_type": "code",
   "metadata": {
    "colab": {
     "base_uri": "https://localhost:8080/",
     "height": 375
    },
    "id": "fXMfqaXA1Km1",
    "outputId": "f9d2764f-f353-4e63-88f0-f2a864703539"
   },
   "source": [
    "Y = segmenta(X,120)\n",
    "plt.axis('off')\n",
    "plt.imshow(Y,cmap='gray')\n",
    "plt.show()"
   ],
   "execution_count": null,
   "outputs": []
  },
  {
   "cell_type": "markdown",
   "metadata": {
    "id": "iLMxdswM3-3O"
   },
   "source": [
    "# Un ejemplo más complejo"
   ]
  },
  {
   "cell_type": "code",
   "metadata": {
    "colab": {
     "base_uri": "https://localhost:8080/"
    },
    "id": "kuhqLO5RrDOb",
    "outputId": "06b1b80c-80b2-4138-8cbe-51e39d2cc525"
   },
   "source": [
    "url_imagen = \"https://raw.githubusercontent.com/joseramoniglesias/Tratamiento_Senales/main/clases/Cap01_Introducci%C3%B3n/Matlab/rice.png\"\n",
    "#wgetcomand = \"https://raw.githubusercontent.com/joseramoniglesias/Tratamiento_Senales/main/clases/Cap01_Introducci%C3%B3n/Matlab/rice.png\"\n",
    "#wgetcomand = \"wget https://www.dropbox.com/s/n81hldnrcb07muh/rice.png\"\n",
    "#os.system(wgetcomand)"
   ],
   "execution_count": null,
   "outputs": []
  },
  {
   "cell_type": "code",
   "execution_count": null,
   "outputs": [],
   "source": [
    "nombre_local_imagen = \"rice.png\" # El nombre con el que queremos guardarla\n",
    "imagen = requests.get(url_imagen).content\n",
    "with open(nombre_local_imagen, 'wb') as handler:\n",
    "  handler.write(imagen)"
   ],
   "metadata": {
    "collapsed": false
   }
  },
  {
   "cell_type": "code",
   "metadata": {
    "colab": {
     "base_uri": "https://localhost:8080/",
     "height": 581
    },
    "id": "PBjIwimF4MHX",
    "outputId": "c09fb8a3-e8be-4448-af56-c738215adb4f"
   },
   "source": [
    "img = cv2.imread('rice.png')\n",
    "X   = img[:,:,0]\n",
    "dimension(X)\n",
    "plt.axis('off')\n",
    "plt.imshow(X,cmap='gray')"
   ],
   "execution_count": null,
   "outputs": []
  },
  {
   "cell_type": "code",
   "metadata": {
    "colab": {
     "base_uri": "https://localhost:8080/",
     "height": 546
    },
    "id": "PB9iH42zuDSB",
    "outputId": "2d0fab14-372e-435b-9701-4f282e4549bc"
   },
   "source": [
    "Y = segmenta(X,120)\n",
    "plt.axis('off')\n",
    "plt.imshow(Y,cmap='gray')"
   ],
   "execution_count": null,
   "outputs": []
  },
  {
   "cell_type": "markdown",
   "metadata": {
    "id": "kr4QUM2k6YO4"
   },
   "source": [
    "# Definición de imagen con fondo homogéneo"
   ]
  },
  {
   "cell_type": "code",
   "metadata": {
    "colab": {
     "base_uri": "https://localhost:8080/",
     "height": 529
    },
    "id": "mAfvhKBbWOUn",
    "outputId": "d5a5be2b-e7a1-47de-ce9e-460603d736e6"
   },
   "source": [
    "(N,M) = X.shape\n",
    "Xm    = np.zeros((N,M),np.uint8)\n",
    "for i in range(N):\n",
    "  xmin = np.min(X[i,:])\n",
    "  Xm[i,:] = X[i,:] - xmin\n",
    "plt.axis('off')\n",
    "plt.imshow(Xm,cmap='gray')\n"
   ],
   "execution_count": null,
   "outputs": []
  },
  {
   "cell_type": "code",
   "execution_count": null,
   "outputs": [],
   "source": [
    "Y = segmenta(Xm,60)\n",
    "plt.axis('off')\n",
    "plt.imshow(Y,cmap='gray')"
   ],
   "metadata": {
    "collapsed": false
   }
  },
  {
   "cell_type": "markdown",
   "source": [
    "# Otros Metodos"
   ],
   "metadata": {
    "collapsed": false
   }
  },
  {
   "cell_type": "markdown",
   "source": [
    "# Umbralización Simple"
   ],
   "metadata": {
    "collapsed": false
   }
  },
  {
   "cell_type": "markdown",
   "source": [
    "Aquí, el objetivo es sencillo. Si el valor del pixel es mayor al valor del umbral, se le asigna un valor (puede ser blanco), de otro modo se le asigna otro valor (puede ser negro). La función utilizada es cv2.threshold. El primer argumento es la imagen fuente, que debería encontrarse en escala de grises. El segundo argumento es el valor del umbral que se usa para calificar los valores de pixeles. El tercer argumento es el maxVal el cual representa el valor dado si el valor del pixel es mayor que (a veces menor que) el valor del umbral. OpenCV provee diferentes estilos de umbralización y se decide por medio del cuarto parámetro de la función. Los distintos tipos son:\n",
    "\n",
    "THRESH_BINARY\n",
    "THRESH_BINARY_INV\n",
    "THRESH_TRUNC\n",
    "THRESH_TOZERO\n",
    "THRESH_TOZERO_INV"
   ],
   "metadata": {
    "collapsed": false
   }
  },
  {
   "cell_type": "code",
   "execution_count": null,
   "outputs": [],
   "source": [
    "import cv2\n",
    "import numpy as np\n",
    "from matplotlib import pyplot as plt\n",
    "\n",
    "img = cv2.imread('rice.png',0)\n",
    "ret,thresh1 = cv2.threshold(img,127,255,cv2.THRESH_BINARY)\n",
    "ret,thresh2 = cv2.threshold(img,127,255,cv2.THRESH_BINARY_INV)\n",
    "ret,thresh3 = cv2.threshold(img,127,255,cv2.THRESH_TRUNC)\n",
    "ret,thresh4 = cv2.threshold(img,127,255,cv2.THRESH_TOZERO)\n",
    "ret,thresh5 = cv2.threshold(img,127,255,cv2.THRESH_TOZERO_INV)\n",
    "\n",
    "titles = ['Original Image','BINARY','BINARY_INV','TRUNC','TOZERO','TOZERO_INV']\n",
    "images = [img, thresh1, thresh2, thresh3, thresh4, thresh5]\n",
    "miArray = np.arange(6)\n",
    "for i in miArray:\n",
    "  plt.subplot(2,3,i+1),plt.imshow(images[i],'gray')\n",
    "  plt.title(titles[i])\n",
    "  plt.xticks([]),plt.yticks([])\n",
    "\n",
    "plt.show()"
   ],
   "metadata": {
    "collapsed": false
   }
  },
  {
   "cell_type": "markdown",
   "source": [
    "# Umbralización Adaptativa"
   ],
   "metadata": {
    "collapsed": false
   }
  },
  {
   "cell_type": "markdown",
   "source": [
    "En la sección previa, usamos un valor global como valor umbral. Pero puede no ser bueno en todos los casos donde las imágenes difieren en cuanto a condiciones de luz en distintas áreas. En ese caso, utilizamos la umbralización adaptativa. En esta, el algoritmo calcula el umbral para una pequeña región de la imagen. Así que obtenemos diferentes umbrales para distintas regiones de la misma imagen. Y nos da mejores resultados para imágenes con iluminación variante.\n",
    "\n",
    "Posee tres parámetros “especiales” de entrada y sólo un argumento de salida.\n",
    "\n",
    "Metodo Adaptativo – Decide cómo el valor de umbralización es calculado.\n",
    "ADAPTIVE_THRESH_MEAN_C : el valor umbral es equivalente al valor del área vecina.\n",
    "ADAPTIVE_THRESH_GAUSSIAN_C : en este caso el valor umbral es la suma de los pesos de los valores vecinos donde dichos valores correspondían a pesos de una ventana gaussiana.\n",
    "Block Size – Decide el tamaño del área vecina.\n",
    "C – Es sólo una constante que es substraída del cálculo del medio o el peso del medio calculado.\n",
    "El siguiente fragmento de código compara la umbralización global con la adaptativa para una imagen de iluminación variante:"
   ],
   "metadata": {
    "collapsed": false
   }
  },
  {
   "cell_type": "code",
   "execution_count": null,
   "outputs": [],
   "source": [
    "import cv2\n",
    "import numpy as np\n",
    "from matplotlib import pyplot as plt\n",
    "\n",
    "img = cv2.imread('rice.png',0)\n",
    "img = cv2.medianBlur(img,5)\n",
    "\n",
    "ret,th1 = cv2.threshold(img,127,255,cv2.THRESH_BINARY)\n",
    "th2 = cv2.adaptiveThreshold(img,255,cv2.ADAPTIVE_THRESH_MEAN_C, \\\n",
    "                            cv2.THRESH_BINARY,11,2)\n",
    "th3 = cv2.adaptiveThreshold(img,255,cv2.ADAPTIVE_THRESH_GAUSSIAN_C, \\\n",
    "                            cv2.THRESH_BINARY,11,2)\n",
    "\n",
    "titles = ['Original Image', 'Global Thresholding (v = 127)',\n",
    "          'Adaptive Mean Thresholding', 'Adaptive Gaussian Thresholding']\n",
    "images = [img, th1, th2, th3]\n",
    "miArray = np.arange(4)\n",
    "for i in miArray:\n",
    "  plt.subplot(2,2,i+1),plt.imshow(images[i],'gray')\n",
    "  plt.title(titles[i])\n",
    "  plt.xticks([]),plt.yticks([])\n",
    "plt.show()"
   ],
   "metadata": {
    "collapsed": false
   }
  },
  {
   "cell_type": "markdown",
   "source": [
    "\n",
    "**Copyright**\n",
    "\n",
    "The notebooks are provided as [Open Educational Resource](https://de.wikipedia.org/wiki/Open_Educational_Resources). Feel free to use the notebooks for your own educational purposes. The text is licensed under [Creative Commons Attribution 4.0](https://creativecommons.org/licenses/by/4.0/), the code of the IPython examples under the [MIT license](https://opensource.org/licenses/MIT)."
   ],
   "metadata": {
    "collapsed": false
   }
  },
  {
   "cell_type": "code",
   "execution_count": null,
   "outputs": [],
   "source": [],
   "metadata": {
    "collapsed": false
   }
  }
 ]
}
