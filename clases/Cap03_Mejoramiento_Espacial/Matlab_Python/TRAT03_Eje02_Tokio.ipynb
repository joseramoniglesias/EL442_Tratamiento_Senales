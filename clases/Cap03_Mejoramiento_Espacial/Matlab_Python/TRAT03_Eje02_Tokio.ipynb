{
 "nbformat": 4,
 "nbformat_minor": 0,
 "metadata": {
  "colab": {
   "name": "IMG03_Eje02_Tokio.ipynb",
   "provenance": [],
   "collapsed_sections": [],
   "toc_visible": true
  },
  "kernelspec": {
   "name": "python3",
   "language": "python",
   "display_name": "Python 3 (ipykernel)"
  },
  "language_info": {
   "name": "python"
  }
 },
 "cells": [
  {
   "cell_type": "markdown",
   "metadata": {
    "id": "UpRNlGMcwgsz",
    "pycharm": {
     "name": "#%% md\n"
    }
   },
   "source": [
    "<font color='red'>No se aceptan soluciones que usen metodologías distintas a la vistas en clases.</font>\n",
    "\n",
    "<font color='orange'>Se puede usar el código de los ejemplos vistos en clases.</font>\n",
    "\n"
   ]
  },
  {
   "cell_type": "markdown",
   "metadata": {
    "id": "h1h2bAmpGfbf",
    "pycharm": {
     "name": "#%% md\n"
    }
   },
   "source": [
    "# 1) Ingrese su Nombre y Número de alumno/a\n",
    "\n",
    "(1 Punto)"
   ]
  },
  {
   "cell_type": "code",
   "metadata": {
    "id": "qtVSn8wesG39",
    "pycharm": {
     "name": "#%%\n"
    },
    "ExecuteTime": {
     "end_time": "2023-08-29T15:30:36.160001100Z",
     "start_time": "2023-08-29T15:30:36.144348200Z"
    }
   },
   "source": [
    "Nombre = '' # Por ejemplo: 'Carmen Gloria Perez'\n",
    "ID     = '' # Por ejemplo: '12345678K'\n",
    "\n",
    "# Se puede trabajar en grupo, pero la entrega es individual\n",
    "Integrantes = [ID,'1234','567'] # Coloque aqui los integrantes del grupo si es que no trabajo de forma individual\n",
    "\n",
    "print('IMPORTANTE: Cambie el nombre del archivo (arriba-izquierda) por '+ID+'.ipynb')"
   ],
   "execution_count": 1,
   "outputs": [
    {
     "name": "stdout",
     "output_type": "stream",
     "text": [
      "IMPORTANTE: Cambie el nombre del archivo (arriba-izquierda) por .ipynb\n"
     ]
    }
   ]
  },
  {
   "cell_type": "markdown",
   "metadata": {
    "id": "nA44e9T1r-LC",
    "pycharm": {
     "name": "#%% md\n"
    }
   },
   "source": [
    "# 2) Importe las Librerías\n",
    "\n",
    "(1 Punto)\n",
    "\n",
    "*Todas las librerías de este código deben ir en esta celda. Sólo está permitido usar las librerías de los ejemplos vistos en clase.*\n",
    "\n"
   ]
  },
  {
   "cell_type": "code",
   "metadata": {
    "id": "UXiVKMkTrPU8",
    "pycharm": {
     "name": "#%%\n"
    }
   },
   "source": [],
   "execution_count": null,
   "outputs": []
  },
  {
   "cell_type": "markdown",
   "metadata": {
    "id": "K2boD201sK27",
    "pycharm": {
     "name": "#%% md\n"
    }
   },
   "source": [
    "# 3) Cargue la Imagen de Tokio\n",
    "\n",
    "(1 Punto)\n",
    "\n",
    "*Lea erchivo de la imagen se encuentra en este link:*\n",
    "\n",
    "`https://www.dropbox.com/scl/fi/ycojy5qiowftuym4bckoi/tokio.jpg?rlkey=cv9mdbv5lhy8rf9gzch478ngd&dl=0`\n",
    "\n"
   ]
  },
  {
   "cell_type": "code",
   "metadata": {
    "id": "tOLCAadUnapj",
    "pycharm": {
     "name": "#%%\n"
    }
   },
   "source": [],
   "execution_count": null,
   "outputs": []
  },
  {
   "cell_type": "markdown",
   "metadata": {
    "id": "bidVCiYCpWGC",
    "pycharm": {
     "name": "#%% md\n"
    }
   },
   "source": [
    "# 4) Despliegue la imagen cargada en tonos de gris\n",
    "(1 Punto)\n",
    "\n",
    "Cargue la imagen original y transfórmela a tonos de gris <font color='red'> usando los factores de ponderación (0.2, 0.5, 0.3) para los canales rojo, verde y azul respectivamente.</font>\n"
   ]
  },
  {
   "cell_type": "code",
   "metadata": {
    "id": "PokwKyXXsNqc",
    "pycharm": {
     "name": "#%%\n"
    }
   },
   "source": [],
   "execution_count": null,
   "outputs": []
  },
  {
   "cell_type": "markdown",
   "metadata": {
    "id": "QXGQoC3XUhbZ",
    "pycharm": {
     "name": "#%% md\n"
    }
   },
   "source": [
    "# 5) Despliegue el histograma de la imagen anterior\n",
    "\n",
    "\n",
    "\n",
    "(1 punto)"
   ]
  },
  {
   "cell_type": "code",
   "metadata": {
    "id": "SokyxhOvesyp",
    "pycharm": {
     "name": "#%%\n"
    }
   },
   "source": [],
   "execution_count": null,
   "outputs": []
  },
  {
   "cell_type": "markdown",
   "metadata": {
    "id": "28xDDG4fphEE",
    "pycharm": {
     "name": "#%% md\n"
    }
   },
   "source": [
    "# 6) Mejoramiento básico\n",
    "\n",
    "Realice una transformación lineal de los tonos de gris de tal forma que el tono de gris más bajo sea 10 y el más alto sea 240. Despliegue la imagen y su histograma.\n",
    "\n",
    "\n",
    "\n",
    "(1 Punto)\n"
   ]
  },
  {
   "cell_type": "code",
   "metadata": {
    "id": "hfWjcYlHr-op",
    "pycharm": {
     "name": "#%%\n"
    }
   },
   "source": [],
   "execution_count": null,
   "outputs": []
  },
  {
   "cell_type": "markdown",
   "metadata": {
    "id": "OJhwezIOumCW",
    "pycharm": {
     "name": "#%% md\n"
    }
   },
   "source": [
    "# 7) Ecualización\n",
    "\n",
    "(2 Puntos)\n",
    "\n",
    "Ecualice la imagen original (cargada en el paso 3) usando los métodos de ecualización vistos en clases, despliegue sus histogramas y escoja (de manera subjetiva) la imagen ecualizada que mejor se ve.\n",
    "\n",
    "\n"
   ]
  },
  {
   "cell_type": "code",
   "metadata": {
    "id": "qHwRqZ86qvbi",
    "pycharm": {
     "name": "#%%\n"
    }
   },
   "source": [
    "# METODO 1\n"
   ],
   "execution_count": null,
   "outputs": []
  },
  {
   "cell_type": "code",
   "metadata": {
    "id": "LoAZ46Tuqzav",
    "pycharm": {
     "name": "#%%\n"
    }
   },
   "source": [
    "# METODO 2\n"
   ],
   "execution_count": null,
   "outputs": []
  },
  {
   "cell_type": "markdown",
   "metadata": {
    "id": "GOj_KIoCzHTC",
    "pycharm": {
     "name": "#%% md\n"
    }
   },
   "source": [
    "# 8) Filtro pasa bajos\n",
    "\n",
    "Aplique a la imagen escogida una máscara de n x n pixeles, cuyos pesos son 1/n. <font color='red'> Recordar que en este tipo de implementaciones sólo se puede usar la librería numpy.</font> Despliegue el resultado para n=13.\n",
    "\n",
    "\n",
    "(4 Puntos)\n"
   ]
  },
  {
   "cell_type": "code",
   "metadata": {
    "id": "wYJi-SZmZlXx",
    "pycharm": {
     "name": "#%%\n"
    }
   },
   "source": [],
   "execution_count": null,
   "outputs": []
  },
  {
   "cell_type": "markdown",
   "metadata": {
    "id": "e0Wzao5AZpMB",
    "pycharm": {
     "name": "#%% md\n"
    }
   },
   "source": [
    "# 9) Filtro pasa altos\n",
    "\n",
    "(1 punto)\n",
    "\n",
    "Realice la resta de la imagen original con la imagen filtrada del paso anterior, calcule el valor absoluto de esta resta y despliegue el resultado escalando la imagen entre 0 y 255.\n",
    "\n",
    "\n"
   ]
  },
  {
   "cell_type": "code",
   "metadata": {
    "id": "hCVVLov7i7Jw",
    "pycharm": {
     "name": "#%%\n"
    }
   },
   "source": [],
   "execution_count": null,
   "outputs": []
  },
  {
   "cell_type": "markdown",
   "metadata": {
    "id": "XatvRz8UcB2H",
    "pycharm": {
     "name": "#%% md\n"
    }
   },
   "source": [
    "# 10) Detección de bordes\n",
    "\n",
    "(1 punto)\n",
    "\n",
    "Usando un umbral de 50 despliegue los bordes de la imagen anterior.\n",
    "\n",
    "\n"
   ]
  },
  {
   "cell_type": "code",
   "metadata": {
    "id": "xqK6YNNNawHB",
    "pycharm": {
     "name": "#%%\n"
    }
   },
   "source": [],
   "execution_count": null,
   "outputs": []
  },
  {
   "cell_type": "markdown",
   "metadata": {
    "id": "y555mF_K9hG8",
    "pycharm": {
     "name": "#%% md\n"
    }
   },
   "source": [
    "# <font color='red'>ESTE EJERCICIO SE REVISA EN CLASES POR EL PROFESOR</font> \n",
    "\n",
    "\n"
   ]
  },
  {
   "cell_type": "code",
   "execution_count": null,
   "outputs": [],
   "source": [],
   "metadata": {
    "collapsed": false
   }
  }
 ]
}
