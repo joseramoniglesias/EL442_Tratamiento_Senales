{
 "cells": [
  {
   "cell_type": "markdown",
   "metadata": {
    "id": "4iZ0MYblyw3U"
   },
   "source": [
    "# Librerías"
   ]
  },
  {
   "cell_type": "code",
   "execution_count": null,
   "metadata": {
    "id": "H0almSoRq0r5"
   },
   "outputs": [],
   "source": [
    "import numpy as np\n",
    "import cv2\n",
    "import matplotlib.pyplot as plt"
   ]
  },
  {
   "cell_type": "markdown",
   "metadata": {
    "id": "ScFc9UTFtF89"
   },
   "source": [
    "# Carga de imagen"
   ]
  },
  {
   "cell_type": "code",
   "execution_count": null,
   "metadata": {
    "id": "_IOWzNGvtJQx"
   },
   "outputs": [],
   "source": [
    "#!wget https://www.dropbox.com/s/eykkwctw63poalt/louvre.png"
   ]
  },
  {
   "cell_type": "code",
   "execution_count": null,
   "metadata": {
    "id": "oj1XF9u4tMiL"
   },
   "outputs": [],
   "source": [
    "X = cv2.imread('louvre.png',0)\n",
    "print('size = ',X.shape)\n",
    "plt.figure(figsize=(10,10))\n",
    "plt.imshow(X,cmap='gray')\n",
    "plt.show()"
   ]
  },
  {
   "cell_type": "markdown",
   "metadata": {
    "id": "FWCfrXSeaLkD"
   },
   "source": [
    "# Transformación Geométrica"
   ]
  },
  {
   "cell_type": "markdown",
   "metadata": {
    "id": "pIKIi_PQtbqF"
   },
   "source": [
    "Coordenadas imagen de entrada ${\\bf X}$: $(i_0,j_0)$\n",
    "\n",
    "Coordenadas imagen de salida ${\\bf Y}$: $(i,j)$\n",
    "\n",
    "\n",
    "\n",
    "$i_0 = a_{11}i + a_{12}j+a_{13}$\n",
    "\n",
    "$j_0 = a_{21}i + a_{22}j+a_{23}$\n",
    "\n",
    "siendo ${\\bf m} = [i \\ j \\ 1]^{\\sf T}$ y ${\\bf m}_0 = [i_0 \\ j_0 \\ 1]^{\\sf T}$, entonces:\n",
    "\n",
    "${\\bf m}_0 = {\\bf A}{\\bf m}$"
   ]
  },
  {
   "cell_type": "code",
   "execution_count": null,
   "metadata": {
    "id": "6p4cG2O9AKUC"
   },
   "outputs": [],
   "source": [
    "x = 'None'\n",
    "if x is None:\n",
    "  print('x')"
   ]
  },
  {
   "cell_type": "code",
   "execution_count": null,
   "metadata": {
    "id": "U8rjLcBZtCz2"
   },
   "outputs": [],
   "source": [
    "# Implementación de interpolación se realiza por truncamiento\n",
    "def geo_transformation(X,A,Yshape=None):\n",
    "\n",
    "  if Yshape is None:\n",
    "    (N,M) = X.shape\n",
    "  else:\n",
    "    (N,M) = Yshape\n",
    "  Y = np.zeros((N,M),np.uint8)\n",
    "\n",
    "  m = np.ones((N*M,3))\n",
    "  t = 0\n",
    "  for i in range(N):\n",
    "    for j in range(M):\n",
    "      m[t,0:3] = [i,j,1]\n",
    "      t = t+1\n",
    "\n",
    "  m0  = np.dot(A,m.T)          # (i,j) -> (i0,j0) usando ecuación indicada arriba\n",
    "  mpf = np.fix(m0).astype(int) # truncamiento\n",
    "\n",
    "  # verificación que las coordenadas (i0,j0) pertenezcan a la imagen\n",
    "  i0 = mpf[0,:]\n",
    "  j0 = mpf[1,:]\n",
    "  kti = np.logical_and(i0>=0,i0<N)\n",
    "  ktj = np.logical_and(j0>=0,j0<M)\n",
    "  kt  = np.logical_and(kti,ktj)\n",
    "\n",
    "  # poblamiento de la imagen de salida\n",
    "  t = 0\n",
    "  for i in range(N):\n",
    "    for j in range(M):\n",
    "      if kt[t]:\n",
    "        Y[i,j] = X[i0[t],j0[t]]\n",
    "      t = t+1\n",
    "  return Y"
   ]
  },
  {
   "cell_type": "markdown",
   "metadata": {
    "id": "dZKPJEvbzGKa"
   },
   "source": [
    "# Traslación"
   ]
  },
  {
   "cell_type": "code",
   "execution_count": null,
   "metadata": {
    "id": "z5Dn-VSPTQeW"
   },
   "outputs": [],
   "source": [
    "a11 = 1\n",
    "a12 = 0\n",
    "a13 = -100\n",
    "\n",
    "a21 = 0\n",
    "a22 = 1\n",
    "a23 = -250\n",
    "\n",
    "a1 = np.array([a11,a12,a13])\n",
    "a2 = np.array([a21,a22,a23])\n",
    "\n",
    "A  = np.vstack([a1,a2])\n",
    "\n",
    "Y = geo_transformation(X,A)\n",
    "plt.figure(figsize=(10,10))\n",
    "plt.imshow(Y,cmap='gray')\n",
    "plt.show()\n"
   ]
  },
  {
   "cell_type": "markdown",
   "metadata": {
    "id": "y_Tx5kZczdPF"
   },
   "source": [
    "# Rotación"
   ]
  },
  {
   "cell_type": "code",
   "execution_count": null,
   "metadata": {
    "id": "qIMhpd99zfWZ"
   },
   "outputs": [],
   "source": [
    "theta = 45.0 / 180.0 * np.pi  \n",
    "\n",
    "\n",
    "a11 = np.cos(theta)\n",
    "a12 = np.sin(theta)\n",
    "a13 = -200\n",
    "\n",
    "a21 = -np.sin(theta)\n",
    "a22 =  np.cos(theta)\n",
    "a23 = 400\n",
    "\n",
    "a1 = np.array([a11,a12,a13])\n",
    "a2 = np.array([a21,a22,a23])\n",
    "\n",
    "A  = np.vstack([a1,a2])\n",
    "\n",
    "Y = geo_transformation(X,A)\n",
    "plt.figure(figsize=(10,10))\n",
    "plt.imshow(Y,cmap='gray')\n",
    "plt.show()\n"
   ]
  },
  {
   "cell_type": "markdown",
   "metadata": {
    "id": "R1dCtqY31IZV"
   },
   "source": [
    "# Escala"
   ]
  },
  {
   "cell_type": "code",
   "execution_count": null,
   "metadata": {
    "id": "bWYf25qR1N0W"
   },
   "outputs": [],
   "source": [
    "theta = 45.0 / 180.0 * np.pi \n",
    "\n",
    "s     = 2.5\n",
    "\n",
    "\n",
    "a11 = s*np.cos(theta)\n",
    "a12 = s*np.sin(theta)\n",
    "a13 = -200\n",
    "\n",
    "a21 = -s*np.sin(theta)\n",
    "a22 =  s*np.cos(theta)\n",
    "a23 = 400\n",
    "\n",
    "a1 = np.array([a11,a12,a13])\n",
    "a2 = np.array([a21,a22,a23])\n",
    "\n",
    "A  = np.vstack([a1,a2])\n",
    "\n",
    "Y = geo_transformation(X,A)\n",
    "plt.figure(figsize=(10,10))\n",
    "plt.imshow(Y,cmap='gray')\n",
    "plt.show()\n"
   ]
  },
  {
   "cell_type": "markdown",
   "metadata": {
    "id": "WJe_DF1eFGpi"
   },
   "source": [
    "# Corrección de Reloj\n",
    "\n",
    "Según algoritmo de [Trasnformación Afín](https://github.com/domingomery/imagenes/blob/master/clases/Cap03_Mejoramiento_Espacio/presentations/IMG03_Conversion_Elipse_Circulo.pdf) para transformar una elipse en un círculo."
   ]
  },
  {
   "cell_type": "code",
   "execution_count": null,
   "metadata": {
    "id": "cbh3HnoD8kFm"
   },
   "outputs": [],
   "source": [
    "#!wget https://www.dropbox.com/s/3wfcumi4voi4ht0/clock.png"
   ]
  },
  {
   "cell_type": "code",
   "execution_count": null,
   "metadata": {
    "id": "ViBmZvoA2U47"
   },
   "outputs": [],
   "source": [
    "X = cv2.imread('clock.png',0)\n",
    "print('size = ',X.shape)\n",
    "plt.figure(figsize=(10,10))\n",
    "plt.imshow(X,cmap='gray')\n",
    "plt.show()"
   ]
  },
  {
   "cell_type": "code",
   "execution_count": null,
   "metadata": {
    "id": "1Id5uk5E24yH"
   },
   "outputs": [],
   "source": [
    "# Coordenadas (i,j) ingresadas a mano de las marcas 12, 3, 6 y 9:\n",
    "b1 = np.array([322,502]).reshape(2,1)   # 12:00\n",
    "b2 = np.array([412,620]).reshape(2,1)   # 03:00\n",
    "b3 = np.array([565,440]).reshape(2,1)   # 06:00\n",
    "b4 = np.array([440,352]).reshape(2,1)   # 09:00\n",
    "\n",
    "i = [b1[0],b2[0],b3[0],b4[0]]\n",
    "j = [b1[1],b2[1],b3[1],b4[1]]\n",
    "\n",
    "plt.figure(figsize=(10,10))\n",
    "plt.imshow(X,cmap='gray')\n",
    "plt.scatter(j,i)\n",
    "plt.show()\n"
   ]
  },
  {
   "cell_type": "code",
   "execution_count": null,
   "metadata": {
    "id": "F41xT6FO4aDJ"
   },
   "outputs": [],
   "source": [
    "# En la salida, las cuatro manecillas están en las coordenadas (q+/-r,q+/-r)\n",
    "r  = 200.0\n",
    "q  = 400\n",
    "m  = np.array([0,0,0])\n",
    "\n",
    "#c1 = np.array([d,r+d,1])\n",
    "c1 = np.array([q-r,q,1])\n",
    "X1 = np.vstack([np.hstack([c1,m]),np.hstack([m,c1])]) \n",
    "\n",
    "#c2 = np.array([r+d,2*r+d,1])\n",
    "c2 = np.array([q,q+r,1])\n",
    "X2 = np.vstack([np.hstack([c2,m]),np.hstack([m,c2])]) \n",
    "\n",
    "#c3 = np.array([2*r+d,r+d,1])\n",
    "c3 = np.array([q+r,q,1])\n",
    "X3 = np.vstack([np.hstack([c3,m]),np.hstack([m,c3])]) \n",
    "\n",
    "#c4 = np.array([r+d,d,1])\n",
    "c4 = np.array([q,q-r,1])\n",
    "X4 = np.vstack([np.hstack([c4,m]),np.hstack([m,c4])]) \n",
    "\n",
    "A  = np.vstack([X1,X2,X3,X4])\n",
    "b  = np.vstack([b1,b2,b3,b4])\n",
    "# t  = inv(A'*A)*A'*b;\n",
    "         \n",
    "t = np.linalg.lstsq(A, b, rcond=None)[0]\n"
   ]
  },
  {
   "cell_type": "code",
   "execution_count": null,
   "metadata": {
    "id": "h7VAQIb860gA"
   },
   "outputs": [],
   "source": [
    "a1 = np.array([t[0],t[1],t[2]]).reshape(1,3)\n",
    "a2 = np.array([t[3],t[4],t[5]]).reshape(1,3)\n",
    "\n",
    "A  = np.vstack([a1,a2])\n",
    "\n",
    "Y = geo_transformation(X,A,(2*q,2*q))\n",
    "plt.figure(figsize=(10,10))\n",
    "plt.imshow(Y,cmap='gray')\n",
    "\n",
    "i = np.array([q-r,q-r,q+r,q+r,q-r])\n",
    "j = np.array([q-r,q+r,q+r,q-r,q-r])\n",
    "plt.plot(j,i)\n",
    "\n",
    "i = [c1[0],c2[0],c3[0],c4[0],q]\n",
    "j = [c1[1],c2[1],c3[1],c4[1],q]\n",
    "plt.scatter(j,i,c='red')\n",
    "\n",
    "plt.show()"
   ]
  }
 ],
 "metadata": {
  "colab": {
   "name": "Copia de IMG03_GeoTransformacion.ipynb",
   "provenance": []
  },
  "kernelspec": {
   "display_name": "Python 3 (ipykernel)",
   "language": "python",
   "name": "python3"
  },
  "language_info": {
   "codemirror_mode": {
    "name": "ipython",
    "version": 3
   },
   "file_extension": ".py",
   "mimetype": "text/x-python",
   "name": "python",
   "nbconvert_exporter": "python",
   "pygments_lexer": "ipython3",
   "version": "3.8.8"
  }
 },
 "nbformat": 4,
 "nbformat_minor": 1
}
