{
 "nbformat": 4,
 "nbformat_minor": 0,
 "metadata": {
  "colab": {
   "provenance": [],
   "collapsed_sections": [
    "mh8ky02Tplx7",
    "lSqDHDkxui87",
    "9nh_Vp6R5AjA",
    "IMeB4ItI7Q0x",
    "ACKBfY77-WbL",
    "6mjN9TZtA9YH"
   ]
  },
  "kernelspec": {
   "name": "python3",
   "display_name": "Python 3"
  },
  "language_info": {
   "name": "python"
  }
 },
 "cells": [
  {
   "cell_type": "markdown",
   "source": [
    "# PYTHON BÁSICO - LABORATORIO<a class=\"tocSkip\">\n",
    "## TRATAMIENTO DE SEÑALES <a class=\"tocSkip\">\n",
    "### Ingenieria Electrónica <a class=\"tocSkip\">\n",
    "### Universidad Popular del Cesar <a class=\"tocSkip\">\n",
    "### Prof.: Jose Ramón Iglesias Gamarra - [https://github.com/joseramoniglesias/](https://github.com/joseramoniglesias/) <a class=\"tocSkip\">\n",
    "  **joseiglesias@unicesar.edu.co**"
   ],
   "metadata": {
    "id": "CPtj56opodrd"
   }
  },
  {
   "cell_type": "markdown",
   "source": [
    "# Repaso generalidades del lenguaje de programación Python"
   ],
   "metadata": {
    "id": "LnATap73pKCz"
   }
  },
  {
   "cell_type": "markdown",
   "source": [
    "## Variables"
   ],
   "metadata": {
    "id": "mh8ky02Tplx7"
   }
  },
  {
   "cell_type": "markdown",
   "source": [
    "En Python, no tienes que declarar el tipo de datos de las variables como en otros lenguajes de programación. Cuando asignas un valor a una variable, Python determina automáticamente su tipo de datos basándose en el valor asignado. Sin embargo, los tipos de datos básicos en Python son los siguientes:\n",
    "\n",
    "1. Entero (int): Representa números enteros sin decimales, como 5, -10 o 0.\n",
    "\n",
    "2. Flotante (float): Representa números con decimales, como 3,14, -2,5 o 0,0.\n",
    "\n",
    "3. Cadena (str): Representa una secuencia de caracteres encerrados entre comillas simples ('') o dobles (\"\"). Por ejemplo, \"¡Hola, mundo!\" o 'Python'.\n",
    "\n",
    "4. Booleano (bool): Representa Verdadero o Falso. Se utiliza para operaciones lógicas y sentencias condicionales.\n",
    "\n",
    "5. Lista: Representa una colección ordenada de elementos encerrados entre corchetes ([]). Las listas pueden contener elementos de diferentes tipos de datos y son mutables (modificables).\n",
    "\n",
    "6. Tupla: De forma similar a las listas, las tuplas también son colecciones ordenadas de elementos, pero se encierran entre paréntesis (()). Las tuplas son inmutables (no se pueden modificar).\n",
    "\n",
    "7. Diccionario (dict): Representa una colección de pares clave-valor encerrados entre llaves ({}). Cada valor está asociado a una clave única, lo que permite una recuperación rápida de los valores.\n",
    "\n",
    "8. Conjunto (set): un conjunto es un tipo de datos incorporado que se utiliza para almacenar una colección desordenada de elementos únicos. Es similar a una lista o una tupla, pero a diferencia de estos tipos de datos, un conjunto no puede contener valores duplicados. Se crean utilizando llaves {} o la función set()"
   ],
   "metadata": {
    "id": "3AnwVO9opqaC"
   }
  },
  {
   "cell_type": "code",
   "execution_count": null,
   "metadata": {
    "id": "9kYBWUOOoDFW"
   },
   "outputs": [],
   "source": [
    "a = 2  # Variable tipo entero (Int)\n",
    "b = a + 3\n",
    "\n",
    "f = 0.176  # Variable tipo flotante (Float)\n",
    "\n",
    "condition = True  # Variable tipo booleana (Boolean)\n",
    "\n",
    "s = \"Hello\"  # Variable tipo cadena (str)\n",
    "\n",
    "h = (2,5)\n",
    "\n",
    "d = {\"uno\":1, \"dos\":2}\n",
    "\n",
    "set_1 = {1,2,3,4,5,6}\n",
    "set_2 = {2,3,4}"
   ]
  },
  {
   "cell_type": "code",
   "source": [
    "print(type(a), type(f), type(condition), type(s), type(h), type(d),sep='\\n')"
   ],
   "metadata": {
    "colab": {
     "base_uri": "https://localhost:8080/"
    },
    "id": "rMDmxnatqn6x",
    "executionInfo": {
     "status": "ok",
     "timestamp": 1708032972254,
     "user_tz": 300,
     "elapsed": 4,
     "user": {
      "displayName": "Lucas Miguel Iturriago Salas",
      "userId": "11859793377054810664"
     }
    },
    "outputId": "c1162f1d-0bde-4061-f892-de40740b44e8"
   },
   "execution_count": null,
   "outputs": [
    {
     "output_type": "stream",
     "name": "stdout",
     "text": [
      "<class 'int'>\n",
      "<class 'float'>\n",
      "<class 'bool'>\n",
      "<class 'str'>\n",
      "<class 'tuple'>\n",
      "<class 'dict'>\n"
     ]
    }
   ]
  },
  {
   "cell_type": "code",
   "source": [
    "print(type(b+f)) #Suma de un entero con un flotante"
   ],
   "metadata": {
    "colab": {
     "base_uri": "https://localhost:8080/"
    },
    "id": "eCIl6EKSrczT",
    "executionInfo": {
     "status": "ok",
     "timestamp": 1708032974254,
     "user_tz": 300,
     "elapsed": 4,
     "user": {
      "displayName": "Lucas Miguel Iturriago Salas",
      "userId": "11859793377054810664"
     }
    },
    "outputId": "712a50f4-39d4-4406-aced-4b055be488e0"
   },
   "execution_count": null,
   "outputs": [
    {
     "output_type": "stream",
     "name": "stdout",
     "text": [
      "<class 'float'>\n"
     ]
    }
   ]
  },
  {
   "cell_type": "code",
   "source": [
    "print(int(b+f),type(int(b+f))) #Aplicando int() a un flotante"
   ],
   "metadata": {
    "colab": {
     "base_uri": "https://localhost:8080/"
    },
    "id": "lI8lJVo3rlBy",
    "executionInfo": {
     "status": "ok",
     "timestamp": 1708032976579,
     "user_tz": 300,
     "elapsed": 281,
     "user": {
      "displayName": "Lucas Miguel Iturriago Salas",
      "userId": "11859793377054810664"
     }
    },
    "outputId": "e993d679-db6b-496e-b114-8425226346ed"
   },
   "execution_count": null,
   "outputs": [
    {
     "output_type": "stream",
     "name": "stdout",
     "text": [
      "5 <class 'int'>\n"
     ]
    }
   ]
  },
  {
   "cell_type": "code",
   "source": [
    "print(int(condition),int(False),sep='\\n') #True = 1 y False = 0"
   ],
   "metadata": {
    "colab": {
     "base_uri": "https://localhost:8080/"
    },
    "id": "Rp6P20yQrvKk",
    "executionInfo": {
     "status": "ok",
     "timestamp": 1708033047024,
     "user_tz": 300,
     "elapsed": 375,
     "user": {
      "displayName": "Lucas Miguel Iturriago Salas",
      "userId": "11859793377054810664"
     }
    },
    "outputId": "64437143-82fe-4981-dcb5-9b4463c142be"
   },
   "execution_count": null,
   "outputs": [
    {
     "output_type": "stream",
     "name": "stdout",
     "text": [
      "1\n",
      "0\n"
     ]
    }
   ]
  },
  {
   "cell_type": "code",
   "source": [
    "print(bool(5)) # Todo natural convertido a booleano es True"
   ],
   "metadata": {
    "colab": {
     "base_uri": "https://localhost:8080/"
    },
    "id": "dKXmb2hEs19m",
    "executionInfo": {
     "status": "ok",
     "timestamp": 1708033119853,
     "user_tz": 300,
     "elapsed": 5,
     "user": {
      "displayName": "Lucas Miguel Iturriago Salas",
      "userId": "11859793377054810664"
     }
    },
    "outputId": "2b9141e7-bf50-4d70-8313-d3d04a164bd9"
   },
   "execution_count": null,
   "outputs": [
    {
     "output_type": "stream",
     "name": "stdout",
     "text": [
      "True\n"
     ]
    }
   ]
  },
  {
   "cell_type": "code",
   "source": [
    "s = input(\"Ingrese un número:\")\n",
    "print(s,type(s),sep='\\n') # Todo ingresado a un input es un str"
   ],
   "metadata": {
    "colab": {
     "base_uri": "https://localhost:8080/"
    },
    "id": "QQS4SihotMQC",
    "executionInfo": {
     "status": "ok",
     "timestamp": 1708033227500,
     "user_tz": 300,
     "elapsed": 5528,
     "user": {
      "displayName": "Lucas Miguel Iturriago Salas",
      "userId": "11859793377054810664"
     }
    },
    "outputId": "bd71063e-fd23-44a3-8c30-5c0b9564809f"
   },
   "execution_count": null,
   "outputs": [
    {
     "output_type": "stream",
     "name": "stdout",
     "text": [
      "Ingrese un número:-10.5\n",
      "-10.5\n",
      "<class 'str'>\n"
     ]
    }
   ]
  },
  {
   "cell_type": "code",
   "source": [
    "print(set_1 | set_2) # La unión de ambos conjuntos\n",
    "print(set_1 & set_2) # La intercepción de ambos conjuntos\n",
    "print(set_1 - set_2) # La diferencia de ambos conjuntos"
   ],
   "metadata": {
    "colab": {
     "base_uri": "https://localhost:8080/"
    },
    "id": "uU3KyGfIM1Jb",
    "executionInfo": {
     "status": "ok",
     "timestamp": 1708041518596,
     "user_tz": 300,
     "elapsed": 297,
     "user": {
      "displayName": "Lucas Miguel Iturriago Salas",
      "userId": "11859793377054810664"
     }
    },
    "outputId": "a0c4fc39-d860-44c6-8b33-ee255bc548ea"
   },
   "execution_count": null,
   "outputs": [
    {
     "output_type": "stream",
     "name": "stdout",
     "text": [
      "{1, 2, 3, 4, 5, 6}\n",
      "{2, 3, 4}\n",
      "{1, 5, 6}\n"
     ]
    }
   ]
  },
  {
   "cell_type": "code",
   "source": [
    "print(2-3) # Operación resta\n",
    "print(2+4) # Operación suma\n",
    "print(5/2) # Operación división\n",
    "print(2**4) # Operación potencia\n",
    "print(10%2) # Operación modulo"
   ],
   "metadata": {
    "colab": {
     "base_uri": "https://localhost:8080/"
    },
    "id": "vatQH8katgWo",
    "executionInfo": {
     "status": "ok",
     "timestamp": 1708033369391,
     "user_tz": 300,
     "elapsed": 5,
     "user": {
      "displayName": "Lucas Miguel Iturriago Salas",
      "userId": "11859793377054810664"
     }
    },
    "outputId": "7829cb48-ae18-4e08-80cc-316390972965"
   },
   "execution_count": null,
   "outputs": [
    {
     "output_type": "stream",
     "name": "stdout",
     "text": [
      "-1\n",
      "6\n",
      "2.5\n",
      "16\n",
      "0\n"
     ]
    }
   ]
  },
  {
   "cell_type": "markdown",
   "source": [
    "## Condicionales"
   ],
   "metadata": {
    "id": "lSqDHDkxui87"
   }
  },
  {
   "cell_type": "markdown",
   "source": [
    "Para realizar condicionales en Python, necesitamos considerar que la indentación define cada sección de código a ejecutar.\n",
    "\n",
    "Aquí no utilizamos llaves ni ningún separador, sino que controlamos la indentación mediante caracteres \"Tab\".\n",
    "\n",
    "Además, tanto las sentencias \"if\" como \"else\" deben terminar con dos puntos (no incluirlos provocará un error de sintaxis)."
   ],
   "metadata": {
    "id": "0R3O2ZYTu3ol"
   }
  },
  {
   "cell_type": "code",
   "source": [
    "a = True\n",
    "\n",
    "if a:\n",
    "  print(\"La condición es verdadera.\\n\") # Dado que a es verdadero por ende se imprime esta línea\n",
    "else:\n",
    "  print(\"La condición es falsa.\\n\")\n",
    "\n",
    "b = False\n",
    "\n",
    "if b:\n",
    "  print(\"La condición es verdadera.\\n\")\n",
    "else:\n",
    "  print(\"La condición es falsa.\\n\") # Dado que b es falso por ende se imprime esta línea\n"
   ],
   "metadata": {
    "colab": {
     "base_uri": "https://localhost:8080/"
    },
    "id": "MhKSTc4wunhl",
    "executionInfo": {
     "status": "ok",
     "timestamp": 1708033708498,
     "user_tz": 300,
     "elapsed": 254,
     "user": {
      "displayName": "Lucas Miguel Iturriago Salas",
      "userId": "11859793377054810664"
     }
    },
    "outputId": "05ed8def-39a2-4cb6-d38d-cd8f894e3110"
   },
   "execution_count": null,
   "outputs": [
    {
     "output_type": "stream",
     "name": "stdout",
     "text": [
      "La condición es verdadera.\n",
      "\n",
      "La condición es falsa.\n",
      "\n"
     ]
    }
   ]
  },
  {
   "cell_type": "code",
   "source": [
    "a = 5\n",
    "\n",
    "if a:\n",
    "  print(\"La condición es verdadera.\\n\") # Dado que a en booleano es verdadero por ende se imprime esta línea\n",
    "else:\n",
    "  print(\"La condición es falsa.\\n\")\n",
    "\n",
    "b = 0\n",
    "\n",
    "if b:\n",
    "  print(\"La condición es verdadera.\\n\")\n",
    "else:\n",
    "  print(\"La condición es falsa.\\n\") # Dado que b en booleano es falso por ende se imprime esta línea"
   ],
   "metadata": {
    "colab": {
     "base_uri": "https://localhost:8080/"
    },
    "id": "kvWriEbzvFCc",
    "executionInfo": {
     "status": "ok",
     "timestamp": 1708033742366,
     "user_tz": 300,
     "elapsed": 238,
     "user": {
      "displayName": "Lucas Miguel Iturriago Salas",
      "userId": "11859793377054810664"
     }
    },
    "outputId": "37df1e32-3476-4e5a-e89c-90249254ac41"
   },
   "execution_count": null,
   "outputs": [
    {
     "output_type": "stream",
     "name": "stdout",
     "text": [
      "La condición es verdadera.\n",
      "\n",
      "La condición es falsa.\n",
      "\n"
     ]
    }
   ]
  },
  {
   "cell_type": "code",
   "source": [
    "a = False\n",
    "b = True\n",
    "c = False\n",
    "\n",
    "if a:\n",
    "  print(\"Condición 1 es verdadera.\\n\")\n",
    "elif b:\n",
    "  print(\"Condición 2 es verdedera.\\n\") # Cuando pueden existir varias posibilidades se manejan las otras condiciones con elif\n",
    "else:\n",
    "  print(\"Condición 3 es verdedera.\\n\")"
   ],
   "metadata": {
    "colab": {
     "base_uri": "https://localhost:8080/"
    },
    "id": "uFFjmn3PvpMz",
    "executionInfo": {
     "status": "ok",
     "timestamp": 1708033901765,
     "user_tz": 300,
     "elapsed": 8,
     "user": {
      "displayName": "Lucas Miguel Iturriago Salas",
      "userId": "11859793377054810664"
     }
    },
    "outputId": "cd827012-718d-4ca2-cc3c-4349750223f3"
   },
   "execution_count": null,
   "outputs": [
    {
     "output_type": "stream",
     "name": "stdout",
     "text": [
      "Condición 2 es verdedera.\n",
      "\n"
     ]
    }
   ]
  },
  {
   "cell_type": "code",
   "source": [
    "a = True\n",
    "b = True\n",
    "c = True\n",
    "\n",
    "if a:\n",
    "  print(\"Condición 1 es verdadera.\\n\") # Con las condicionales la primera que se cumpla es aquella a la que el programa tomará\n",
    "elif b:\n",
    "  print(\"Condición 2 es verdedera.\\n\")\n",
    "else:\n",
    "  print(\"Condición 3 es verdedera.\\n\")"
   ],
   "metadata": {
    "colab": {
     "base_uri": "https://localhost:8080/"
    },
    "id": "OnSSQQ1UwQEj",
    "executionInfo": {
     "status": "ok",
     "timestamp": 1708035525570,
     "user_tz": 300,
     "elapsed": 250,
     "user": {
      "displayName": "Lucas Miguel Iturriago Salas",
      "userId": "11859793377054810664"
     }
    },
    "outputId": "e1c21c97-9709-4add-a837-28b6f933993a"
   },
   "execution_count": null,
   "outputs": [
    {
     "output_type": "stream",
     "name": "stdout",
     "text": [
      "Condición 1 es verdadera.\n",
      "\n"
     ]
    }
   ]
  },
  {
   "cell_type": "code",
   "source": [
    "a = True\n",
    "b = False\n",
    "c = True\n",
    "\n",
    "if a:\n",
    "  if b:\n",
    "    print(\"Condición 1 y 2 son verdaderas.\\n\")\n",
    "  elif c:\n",
    "    print(\"Condición 1 y 3 son verdaderas.\\n\") # If anidados, se cumplen las condiciones 1 y 3"
   ],
   "metadata": {
    "colab": {
     "base_uri": "https://localhost:8080/"
    },
    "id": "i6tgObYW2cmN",
    "executionInfo": {
     "status": "ok",
     "timestamp": 1708035763342,
     "user_tz": 300,
     "elapsed": 7,
     "user": {
      "displayName": "Lucas Miguel Iturriago Salas",
      "userId": "11859793377054810664"
     }
    },
    "outputId": "f022bfb0-f584-457d-bcf7-6544713002f6"
   },
   "execution_count": null,
   "outputs": [
    {
     "output_type": "stream",
     "name": "stdout",
     "text": [
      "Condición 1 y 3 son verdaderas.\n",
      "\n"
     ]
    }
   ]
  },
  {
   "cell_type": "code",
   "source": [
    "a = True\n",
    "b = False\n",
    "c = False\n",
    "\n",
    "if a:\n",
    "  if b != True:\n",
    "    print(\"Condición 1 y 2 son verdaderas.\\n\") # Dado que a es verdadero pero el contrario booleano de b es verdadero se cumple la condición\n",
    "  elif c == True:\n",
    "    print(\"Condición 1 y 3 son verdaderas.\\n\")"
   ],
   "metadata": {
    "colab": {
     "base_uri": "https://localhost:8080/"
    },
    "id": "pgCNnteH25w2",
    "executionInfo": {
     "status": "ok",
     "timestamp": 1708036062167,
     "user_tz": 300,
     "elapsed": 253,
     "user": {
      "displayName": "Lucas Miguel Iturriago Salas",
      "userId": "11859793377054810664"
     }
    },
    "outputId": "428059c8-562e-4839-a6f3-64fd3a28121a"
   },
   "execution_count": null,
   "outputs": [
    {
     "output_type": "stream",
     "name": "stdout",
     "text": [
      "Condición 1 y 2 son verdaderas.\n",
      "\n"
     ]
    }
   ]
  },
  {
   "cell_type": "code",
   "source": [
    "a = 3\n",
    "b = 2\n",
    "c = 4\n",
    "\n",
    "if a > b:\n",
    "  print(\"a es mayor que b\")\n",
    "elif a > c:\n",
    "  print(\"a no es mayor que c\")"
   ],
   "metadata": {
    "colab": {
     "base_uri": "https://localhost:8080/"
    },
    "id": "uV2lY05A3wL4",
    "executionInfo": {
     "status": "ok",
     "timestamp": 1708036159848,
     "user_tz": 300,
     "elapsed": 266,
     "user": {
      "displayName": "Lucas Miguel Iturriago Salas",
      "userId": "11859793377054810664"
     }
    },
    "outputId": "e253fe9e-cdce-4710-ea64-f7625c6d5680"
   },
   "execution_count": null,
   "outputs": [
    {
     "output_type": "stream",
     "name": "stdout",
     "text": [
      "a es mayor que b\n"
     ]
    }
   ]
  },
  {
   "cell_type": "markdown",
   "source": [
    "## Ciclos"
   ],
   "metadata": {
    "id": "9nh_Vp6R5AjA"
   }
  },
  {
   "cell_type": "markdown",
   "source": [
    "En Python, tenemos dos estructuras para bucles: el bucle for y el bucle while.\n",
    "\n",
    "Es importante tener claros los conceptos de contador y acumulador, ya que son esenciales cuando se trabaja con cualquier tipo de bucle.\n",
    "\n",
    "Un contador es una variable que lleva la cuenta del número de veces que se produce un determinado evento o condición. Se utiliza habitualmente en los bucles para controlar el proceso de iteración. El contador normalmente se inicializa antes de que comience el bucle y se incrementa o decrementa con cada iteración.\n",
    "\n",
    "Un acumulador, por otro lado, es una variable que acumula o recoge valores a lo largo de múltiples iteraciones de un bucle. A menudo se utiliza para calcular una suma, un producto, o cualquier otro valor agregado basado en los valores obtenidos durante cada iteración del bucle. El acumulador se inicializa normalmente antes del bucle y se actualiza dentro del cuerpo del bucle.\n",
    "\n",
    "Tanto los contadores como los acumuladores juegan un papel crucial en el control y la gestión del flujo de un bucle, permitiendo realizar acciones específicas basadas en el estado actual o en el progreso de la iteración del bucle."
   ],
   "metadata": {
    "id": "hcMZVEbL5C6j"
   }
  },
  {
   "cell_type": "markdown",
   "source": [
    "### While"
   ],
   "metadata": {
    "id": "IMeB4ItI7Q0x"
   }
  },
  {
   "cell_type": "markdown",
   "source": [
    "Los ciclos \"while\" en Python son estructuras de control que repiten un bloque de código mientras una condición específica sea verdadera.\n",
    "\n",
    "Algunas cosas a tener en consideración al utilizar ciclos \"while\" en Python son:\n",
    "\n",
    "- Condición de salida: Es esencial asegurarse de que la condición dentro del \"while\" cambie en algún momento para evitar un bucle infinito. De lo contrario, el programa se quedará ejecutando indefinidamente.\n",
    "\n",
    "- Inicialización de variables: Siempre debes inicializar las variables involucradas en la condición del \"while\" antes de entrar en el bucle.\n",
    "\n",
    "- Actualización de variables: Dentro del bloque de código del \"while\", es importante actualizar las variables relevantes para que la condición eventualmente se vuelva falsa y el bucle termine.\n",
    "\n",
    "- Eficiencia: Aunque los ciclos \"while\" son útiles, es fundamental usarlos de manera eficiente para evitar un consumo excesivo de recursos y tiempos de ejecución prolongados."
   ],
   "metadata": {
    "id": "wkDP-Pgx8Inc"
   }
  },
  {
   "cell_type": "code",
   "source": [
    "condition = 1\n",
    "while condition:\n",
    "  print('Instrucciones dentro del ciclo')\n",
    "  condition = 0\n",
    "print('Instrucciones fuera del ciclo')"
   ],
   "metadata": {
    "colab": {
     "base_uri": "https://localhost:8080/"
    },
    "id": "aPY0h1PN5Beo",
    "executionInfo": {
     "status": "ok",
     "timestamp": 1708037125128,
     "user_tz": 300,
     "elapsed": 303,
     "user": {
      "displayName": "Lucas Miguel Iturriago Salas",
      "userId": "11859793377054810664"
     }
    },
    "outputId": "e1abe4e6-2358-485b-dbc5-729c6891589b"
   },
   "execution_count": null,
   "outputs": [
    {
     "output_type": "stream",
     "name": "stdout",
     "text": [
      "Instrucciones dentro del ciclo\n",
      "Instrucciones fuera del ciclo\n"
     ]
    }
   ]
  },
  {
   "cell_type": "code",
   "source": [
    "a = 1\n",
    "while a:\n",
    "  print(\"Escoge una opción:\\n1. ---\\n2. ---\\n0. Salir\\n\\n\")\n",
    "  a = int(input())"
   ],
   "metadata": {
    "colab": {
     "base_uri": "https://localhost:8080/"
    },
    "id": "Etog1kFL8Yqu",
    "executionInfo": {
     "status": "ok",
     "timestamp": 1708056976249,
     "user_tz": 300,
     "elapsed": 21337,
     "user": {
      "displayName": "Diego Armando Perez Rosero",
      "userId": "06154535922612881248"
     }
    },
    "outputId": "0707f850-d168-418d-bb7a-80cbdc4ee278"
   },
   "execution_count": null,
   "outputs": [
    {
     "name": "stdout",
     "output_type": "stream",
     "text": [
      "Escoge una opción:\n",
      "1. ---\n",
      "2. ---\n",
      "0. Salir\n",
      "\n",
      "\n",
      "0\n"
     ]
    }
   ]
  },
  {
   "cell_type": "markdown",
   "source": [
    "En ocasiones asignar un valor de antemano a veces puede causar problemas.\n",
    "\n",
    "Otra forma de hacerlo es realizando directamente una comparación como condición del bucle."
   ],
   "metadata": {
    "id": "5qki9L399gqP"
   }
  },
  {
   "cell_type": "code",
   "source": [
    "number = int(input('Entre un número entero. 0 para finalizar: '))\n",
    "\n",
    "while number != 0:\n",
    "    number = int(input('Entre un número entero. 0 para finalizar: '))\n",
    "\n",
    "print('Fin del programa')"
   ],
   "metadata": {
    "colab": {
     "base_uri": "https://localhost:8080/"
    },
    "id": "wU-1rOXj8yhz",
    "executionInfo": {
     "status": "ok",
     "timestamp": 1708037367421,
     "user_tz": 300,
     "elapsed": 3307,
     "user": {
      "displayName": "Lucas Miguel Iturriago Salas",
      "userId": "11859793377054810664"
     }
    },
    "outputId": "a2a94e26-50d3-4aaf-a429-047a038f144e"
   },
   "execution_count": null,
   "outputs": [
    {
     "output_type": "stream",
     "name": "stdout",
     "text": [
      "Entre un número entero. 0 para finalizar: 0\n",
      "Fin del programa\n"
     ]
    }
   ]
  },
  {
   "cell_type": "markdown",
   "source": [
    "Entonces, es posible usar bucles infinitos como while(True) o while(1) si se requiere que algo se ejecute todo el tiempo.\n",
    "\n",
    "Aunque no es ideal usarlo con el bucle while(), existe la sentencia break, que permite salir del bucle en los escenarios anteriores, en caso de que sea crítico no ejecutar las líneas restantes antes de finalizar el bucle.\n",
    "\n",
    "Un error común usando bucles while() consiste en no actualizar la variable de control, creando así un bucle infinito no intencionado (un bug en el código)."
   ],
   "metadata": {
    "id": "2lOWpWc-9sxW"
   }
  },
  {
   "cell_type": "code",
   "source": [
    "i = 0\n",
    "\n",
    "while True:                 # Si i es menor que 15 imprime \"Hola mundo\"\n",
    "    print(\"¡Hola mundo!\")\n",
    "    i+=1\n",
    "    if i > 15:\n",
    "      print(\"Programa finalizado\")\n",
    "      break"
   ],
   "metadata": {
    "colab": {
     "base_uri": "https://localhost:8080/"
    },
    "id": "GrJHkMFo9dg_",
    "executionInfo": {
     "status": "ok",
     "timestamp": 1708037591962,
     "user_tz": 300,
     "elapsed": 266,
     "user": {
      "displayName": "Lucas Miguel Iturriago Salas",
      "userId": "11859793377054810664"
     }
    },
    "outputId": "1168bc63-70be-4528-faed-17f14ab833cf"
   },
   "execution_count": null,
   "outputs": [
    {
     "output_type": "stream",
     "name": "stdout",
     "text": [
      "¡Hola mundo!\n",
      "¡Hola mundo!\n",
      "¡Hola mundo!\n",
      "¡Hola mundo!\n",
      "¡Hola mundo!\n",
      "¡Hola mundo!\n",
      "¡Hola mundo!\n",
      "¡Hola mundo!\n",
      "¡Hola mundo!\n",
      "¡Hola mundo!\n",
      "¡Hola mundo!\n",
      "¡Hola mundo!\n",
      "¡Hola mundo!\n",
      "¡Hola mundo!\n",
      "¡Hola mundo!\n",
      "¡Hola mundo!\n",
      "Programa finalizado\n"
     ]
    }
   ]
  },
  {
   "cell_type": "markdown",
   "source": [
    "### For"
   ],
   "metadata": {
    "id": "ACKBfY77-WbL"
   }
  },
  {
   "cell_type": "markdown",
   "source": [
    "Los ciclos \"for\" en Python son estructuras de control que permiten iterar sobre una secuencia de elementos, como listas, tuplas, diccionarios u otros objetos iterables.\n",
    "\n",
    "Algunas consideraciones importantes al utilizar ciclos \"for\" en Python son las siguientes:\n",
    "\n",
    "- Iteración sobre secuencias: Los ciclos \"for\" son particularmente útiles para recorrer elementos en secuencias como listas, tuplas, cadenas de texto, diccionarios, etc.\n",
    "\n",
    "- Rango de iteración: Además de iterar sobre secuencias, se puede utilizar la función range() para generar una secuencia numérica que puede ser utilizada en un ciclo \"for\".\n",
    "\n",
    "- Uso de iteradores: Python ofrece una serie de funciones y herramientas para trabajar con iteradores, como enumerate() para obtener tanto el índice como el valor de cada elemento en una secuencia.\n",
    "\n",
    "- Eficiencia: Aunque los ciclos \"for\" son muy flexibles y fáciles de usar, es importante tener en cuenta la eficiencia, especialmente al iterar sobre grandes conjuntos de datos.\n",
    "\n",
    "- Control de flujo: Dentro del bloque de código del ciclo \"for\", puedes utilizar instrucciones de control de flujo como break y continue para modificar el comportamiento de la iteración según sea necesario."
   ],
   "metadata": {
    "id": "SLHMZ3LT-a17"
   }
  },
  {
   "cell_type": "code",
   "source": [
    "for i in range(900, 1000, 2): # Se utiliza la función range() para empezar desde el valor 900 hasta la posición inmediatamente anterior a 1000\n",
    "    print(i)                  # dando pasos de 2 en 2, si quisieramos incluir 1000 sería hasta 1001"
   ],
   "metadata": {
    "colab": {
     "base_uri": "https://localhost:8080/"
    },
    "id": "oOwdY96y-DFh",
    "executionInfo": {
     "status": "ok",
     "timestamp": 1708037958557,
     "user_tz": 300,
     "elapsed": 11,
     "user": {
      "displayName": "Lucas Miguel Iturriago Salas",
      "userId": "11859793377054810664"
     }
    },
    "outputId": "cd0ab4a0-9092-476c-b318-3f7c1884f486"
   },
   "execution_count": null,
   "outputs": [
    {
     "output_type": "stream",
     "name": "stdout",
     "text": [
      "900\n",
      "902\n",
      "904\n",
      "906\n",
      "908\n",
      "910\n",
      "912\n",
      "914\n",
      "916\n",
      "918\n",
      "920\n",
      "922\n",
      "924\n",
      "926\n",
      "928\n",
      "930\n",
      "932\n",
      "934\n",
      "936\n",
      "938\n",
      "940\n",
      "942\n",
      "944\n",
      "946\n",
      "948\n",
      "950\n",
      "952\n",
      "954\n",
      "956\n",
      "958\n",
      "960\n",
      "962\n",
      "964\n",
      "966\n",
      "968\n",
      "970\n",
      "972\n",
      "974\n",
      "976\n",
      "978\n",
      "980\n",
      "982\n",
      "984\n",
      "986\n",
      "988\n",
      "990\n",
      "992\n",
      "994\n",
      "996\n",
      "998\n"
     ]
    }
   ]
  },
  {
   "cell_type": "code",
   "source": [
    "counter = 0\n",
    "\n",
    "for i in range(10000):                  #Vamos desde el 0 hasta el 9999 buscando aquel número entero cuyo modulo con 33 sea 0\n",
    "    if (i % 33 == 0): # residuo == 0?\n",
    "        counter += 1\n",
    "\n",
    "print(counter)"
   ],
   "metadata": {
    "colab": {
     "base_uri": "https://localhost:8080/"
    },
    "id": "7Hl5hRRU_Ff_",
    "executionInfo": {
     "status": "ok",
     "timestamp": 1708038030613,
     "user_tz": 300,
     "elapsed": 270,
     "user": {
      "displayName": "Lucas Miguel Iturriago Salas",
      "userId": "11859793377054810664"
     }
    },
    "outputId": "bdf3a3d2-ec8b-45e1-96fe-6e15375efc1b"
   },
   "execution_count": null,
   "outputs": [
    {
     "output_type": "stream",
     "name": "stdout",
     "text": [
      "304\n"
     ]
    }
   ]
  },
  {
   "cell_type": "code",
   "source": [
    "a = [8, 10, 23, 17, 15] # Lista de números\n",
    "M = [[1,3,4],[5,6,7],[8,9,2]] # Lista de lista\n",
    "\n",
    "for i in range(len(a)): # Iteramos hasta recorrer el arreglo\n",
    "  print(a[i])\n",
    "\n",
    "for i in range(3): # Filas\n",
    "  for j in range(3): # Columnas\n",
    "    print(\"Fila \" + str(i) + \", Columna \" + str(j) + \": \" + str(M[i][j]))\n"
   ],
   "metadata": {
    "colab": {
     "base_uri": "https://localhost:8080/"
    },
    "id": "Xcmnu04yAAKY",
    "executionInfo": {
     "status": "ok",
     "timestamp": 1708038221652,
     "user_tz": 300,
     "elapsed": 306,
     "user": {
      "displayName": "Lucas Miguel Iturriago Salas",
      "userId": "11859793377054810664"
     }
    },
    "outputId": "84b45957-da8d-4cc3-bdca-4548628d6633"
   },
   "execution_count": null,
   "outputs": [
    {
     "output_type": "stream",
     "name": "stdout",
     "text": [
      "8\n",
      "10\n",
      "23\n",
      "17\n",
      "15\n",
      "Fila 0, Columna 0: 1\n",
      "Fila 0, Columna 1: 3\n",
      "Fila 0, Columna 2: 4\n",
      "Fila 1, Columna 0: 5\n",
      "Fila 1, Columna 1: 6\n",
      "Fila 1, Columna 2: 7\n",
      "Fila 2, Columna 0: 8\n",
      "Fila 2, Columna 1: 9\n",
      "Fila 2, Columna 2: 2\n"
     ]
    }
   ]
  },
  {
   "cell_type": "markdown",
   "source": [
    "## Numpy"
   ],
   "metadata": {
    "id": "6mjN9TZtA9YH"
   }
  },
  {
   "cell_type": "markdown",
   "source": [
    "NumPy es una biblioteca de Python ampliamente utilizada en la computación científica y el análisis de datos. Una de las características más destacadas de NumPy es su capacidad para trabajar con arreglos multidimensionales, conocidos como \"arrays\". Estos arrays ofrecen una estructura de datos eficiente y flexible que permite realizar operaciones matemáticas y manipulaciones de datos de manera rápida y sencilla.\n",
    "\n",
    "Los arrays de NumPy son similares a las listas de Python, pero ofrecen muchas más funcionalidades y son más eficientes en términos de almacenamiento y rendimiento. Algunas de las ventajas clave de utilizar arrays de NumPy incluyen:\n",
    "\n",
    "- Eficiencia en el almacenamiento y la manipulación de datos: Los arrays de NumPy están diseñados para manejar grandes cantidades de datos de manera eficiente, lo que los hace ideales para aplicaciones que requieren procesamiento rápido de datos numéricos.\n",
    "\n",
    "- Operaciones vectorizadas: NumPy permite realizar operaciones matemáticas y lógicas de manera vectorizada, lo que significa que puedes aplicar una operación a un array completo en lugar de iterar sobre cada elemento individualmente. Esto resulta en un código más conciso y eficiente.\n",
    "\n",
    "- Amplia variedad de funciones y métodos: NumPy ofrece una amplia gama de funciones y métodos para realizar operaciones matemáticas, manipulaciones de datos, álgebra lineal, generación de números aleatorios y mucho más. Estas funciones están optimizadas para un rendimiento óptimo y son fáciles de usar.\n",
    "\n",
    "- Integración con otras bibliotecas: NumPy se integra fácilmente con otras bibliotecas de Python, como SciPy, matplotlib y pandas, lo que te permite construir fácilmente pipelines de análisis de datos completos utilizando herramientas especializadas para diferentes tareas."
   ],
   "metadata": {
    "id": "qRtI6xsyA_4u"
   }
  },
  {
   "cell_type": "code",
   "source": [
    "import numpy as np\n",
    "\n",
    "x = 30\n",
    "y = 36.5\n",
    "z = np.array([30,36.5])\n",
    "\n",
    "print(type(x),type(y),type(z), sep='\\n')"
   ],
   "metadata": {
    "colab": {
     "base_uri": "https://localhost:8080/"
    },
    "id": "C72M5aOWA-4O",
    "executionInfo": {
     "status": "ok",
     "timestamp": 1708038575365,
     "user_tz": 300,
     "elapsed": 282,
     "user": {
      "displayName": "Lucas Miguel Iturriago Salas",
      "userId": "11859793377054810664"
     }
    },
    "outputId": "f59c2bc4-7df0-4744-8c3d-704a82af4fe3"
   },
   "execution_count": null,
   "outputs": [
    {
     "output_type": "stream",
     "name": "stdout",
     "text": [
      "<class 'int'>\n",
      "<class 'float'>\n",
      "<class 'numpy.ndarray'>\n"
     ]
    }
   ]
  },
  {
   "cell_type": "code",
   "source": [
    "lista = [\"Hora\",2.34]\n",
    "np_array = np.array([\"Hora\",2.34])\n",
    "print(lista, np_array, sep='\\n') # Si bien un array de Numpy puede incluir un string lo ideal es que sea solos enteros (int) o flotantes (float)"
   ],
   "metadata": {
    "colab": {
     "base_uri": "https://localhost:8080/"
    },
    "id": "-1pw3OSjCFKf",
    "executionInfo": {
     "status": "ok",
     "timestamp": 1708038943762,
     "user_tz": 300,
     "elapsed": 274,
     "user": {
      "displayName": "Lucas Miguel Iturriago Salas",
      "userId": "11859793377054810664"
     }
    },
    "outputId": "048771ef-8068-44d6-f281-6b1720eb382a"
   },
   "execution_count": null,
   "outputs": [
    {
     "output_type": "stream",
     "name": "stdout",
     "text": [
      "['Hora', 2.34]\n",
      "['Hora' '2.34']\n"
     ]
    }
   ]
  },
  {
   "cell_type": "code",
   "source": [
    "np_array = np.array([[0,-2.5,10,4],[6,47,70,2],[8,10.2,-698,-0.9]])\n",
    "print(np_array.shape) # Al igual que vectores y matrices, los numpy arrays cuentan con dimensiones\n",
    "print(np_array[2],np_array[0][1]) # Imprimimos los elementos ubicados en la posición 2 de la primera dimensión\n",
    "                                  # y el elemento en la posición 0,1 del numpy array"
   ],
   "metadata": {
    "colab": {
     "base_uri": "https://localhost:8080/"
    },
    "id": "n71Kq1ImC7bg",
    "executionInfo": {
     "status": "ok",
     "timestamp": 1708039327320,
     "user_tz": 300,
     "elapsed": 269,
     "user": {
      "displayName": "Lucas Miguel Iturriago Salas",
      "userId": "11859793377054810664"
     }
    },
    "outputId": "8e547c11-ac8d-4f28-b4f2-6ead61f962c2"
   },
   "execution_count": null,
   "outputs": [
    {
     "output_type": "stream",
     "name": "stdout",
     "text": [
      "(3, 4)\n",
      "[   8.    10.2 -698.    -0.9] -2.5\n"
     ]
    }
   ]
  },
  {
   "cell_type": "code",
   "source": [
    "print(np_array[0][0:4]) # La indexación empieza desde 0 y termina en hasta el largo-1 del numpy array"
   ],
   "metadata": {
    "colab": {
     "base_uri": "https://localhost:8080/"
    },
    "id": "1xGIjLgUDvpm",
    "executionInfo": {
     "status": "ok",
     "timestamp": 1708039174510,
     "user_tz": 300,
     "elapsed": 280,
     "user": {
      "displayName": "Lucas Miguel Iturriago Salas",
      "userId": "11859793377054810664"
     }
    },
    "outputId": "cdd71981-5b14-4e85-a29d-1c266ed3710b"
   },
   "execution_count": null,
   "outputs": [
    {
     "output_type": "stream",
     "name": "stdout",
     "text": [
      "[ 0.  -2.5 10.   4. ]\n"
     ]
    }
   ]
  },
  {
   "cell_type": "markdown",
   "source": [
    "Al igual que los vectores y matrices podemos hacer operaciones con los numpy arrays"
   ],
   "metadata": {
    "id": "veknpUMyEeme"
   }
  },
  {
   "cell_type": "code",
   "source": [
    "matriz1 = [[1, 2, 3], [4, 5, 6], [7, 8, 9]]\n",
    "matriz2 = [[9, 8, 7], [6, 5, 4], [3, 2, 1]]\n",
    "\n",
    "suma = []\n",
    "for i in range(len(matriz1)): # Creamos una matriz vacía del mismo tamaño que las matrices originales\n",
    "    fila = []\n",
    "    for j in range(len(matriz1[0])):\n",
    "        fila.append(0)\n",
    "    suma.append(fila)\n",
    "\n",
    "for i in range(len(matriz1)): # Realizamos la suma de cada elemento correspondiente en ambas matrices\n",
    "    for j in range(len(matriz1[0])):\n",
    "        suma[i][j] = matriz1[i][j] + matriz2[i][j]\n",
    "\n",
    "print(suma)"
   ],
   "metadata": {
    "colab": {
     "base_uri": "https://localhost:8080/"
    },
    "id": "VPYhg_3yEJnb",
    "executionInfo": {
     "status": "ok",
     "timestamp": 1708039252650,
     "user_tz": 300,
     "elapsed": 274,
     "user": {
      "displayName": "Lucas Miguel Iturriago Salas",
      "userId": "11859793377054810664"
     }
    },
    "outputId": "3ebc4553-281e-4c87-b2e4-341861dccd7a"
   },
   "execution_count": null,
   "outputs": [
    {
     "output_type": "stream",
     "name": "stdout",
     "text": [
      "[[10, 10, 10], [10, 10, 10], [10, 10, 10]]\n"
     ]
    }
   ]
  },
  {
   "cell_type": "markdown",
   "source": [
    "## Funciones"
   ],
   "metadata": {
    "id": "Z4yKiV6OJfqH"
   }
  },
  {
   "cell_type": "markdown",
   "source": [
    "Las funciones en Python son bloques de código reutilizables que realizan una tarea específica. Estas funciones pueden tomar cero o más argumentos como entrada, realizar cálculos o manipulaciones en base a estos argumentos y devolver un resultado opcional.\n",
    "\n",
    "Algunas características importantes de las funciones en Python son las siguientes:\n",
    "\n",
    "- Reutilización de código: Las funciones permiten escribir código modular y reutilizable, lo que facilita el mantenimiento y la organización del código en proyectos grandes.\n",
    "\n",
    "- Argumentos opcionales: Python permite definir funciones con argumentos opcionales que tienen valores predeterminados. Esto proporciona flexibilidad al llamar a la función, ya que los argumentos pueden omitirse si se desea utilizar el valor predeterminado.\n",
    "\n",
    "- Argumentos arbitrarios: Además de los argumentos regulares, las funciones en Python pueden aceptar argumentos arbitrarios mediante el uso de los operadores * y **. Esto permite definir funciones que pueden manejar un número variable de argumentos.\n",
    "\n",
    "- Funciones lambda: Python admite la creación de funciones lambda, que son funciones anónimas de una sola expresión. Estas funciones son útiles para tareas simples y se pueden utilizar en situaciones donde se requiere una función rápida y temporal.\n",
    "\n",
    "- Documentación: Es una buena práctica incluir documentación descriptiva (docstrings) dentro de las funciones para explicar su propósito, los argumentos que aceptan y el valor que devuelven.\n",
    "\n",
    "- Funciones como objetos de primera clase: En Python, las funciones son ciudadanos de primera clase, lo que significa que pueden ser asignadas a variables, pasadas como argumentos a otras funciones y devueltas como valores de otras funciones."
   ],
   "metadata": {
    "id": "LNqcx-XaJh_X"
   }
  },
  {
   "cell_type": "code",
   "source": [
    "def add(a, b): # Función que suba dos variables\n",
    "    return a + b\n",
    "\n",
    "result = add(3, 4)\n",
    "print(result)"
   ],
   "metadata": {
    "colab": {
     "base_uri": "https://localhost:8080/"
    },
    "id": "tDaRUwGLJgyy",
    "executionInfo": {
     "status": "ok",
     "timestamp": 1708040667894,
     "user_tz": 300,
     "elapsed": 308,
     "user": {
      "displayName": "Lucas Miguel Iturriago Salas",
      "userId": "11859793377054810664"
     }
    },
    "outputId": "8ba29e81-472f-491c-9193-740e617fe869"
   },
   "execution_count": null,
   "outputs": [
    {
     "output_type": "stream",
     "name": "stdout",
     "text": [
      "7\n"
     ]
    }
   ]
  },
  {
   "cell_type": "markdown",
   "source": [
    "**Argumentos de función**\n",
    "En Python, existen diferentes tipos de argumentos que podemos pasar a una función. Los argumentos se definen en la lista de parámetros de la función, separados por comas.\n",
    "\n",
    "**Argumentos Posicionales**\n",
    "Los argumentos posicionales son aquellos que se pasan a una función en el orden en que aparecen en la lista de parámetros. Por ejemplo, en la función add(a, b) anterior, a es el primer argumento posicional y b es el segundo.\n",
    "\n",
    "**Argumentos de valor por defecto**\n",
    "Los argumentos de valor por defecto son aquellos que tienen un valor por defecto asignado en la lista de parámetros. Si el argumento no se proporciona al llamar a la función, se utiliza su valor por defecto. Por ejemplo, ésta es una función que toma un argumento posicional y un argumento de valor por defecto:"
   ],
   "metadata": {
    "id": "b6B_2aoEKTFB"
   }
  },
  {
   "cell_type": "code",
   "source": [
    "def greet(name, greeting=\"Hola\"):\n",
    "    print(greeting + \", \" + name + \"!\")\n",
    "\n",
    "# Example usage\n",
    "greet(\"Juan\")\n",
    "\n",
    "name = input(\"Ingresa tu nombre: \")\n",
    "greet(name)"
   ],
   "metadata": {
    "colab": {
     "base_uri": "https://localhost:8080/"
    },
    "id": "-Bg-BFA0KEBE",
    "executionInfo": {
     "status": "ok",
     "timestamp": 1708040779798,
     "user_tz": 300,
     "elapsed": 5849,
     "user": {
      "displayName": "Lucas Miguel Iturriago Salas",
      "userId": "11859793377054810664"
     }
    },
    "outputId": "334e2d9a-337f-4b24-b634-e0d44c1cd726"
   },
   "execution_count": null,
   "outputs": [
    {
     "output_type": "stream",
     "name": "stdout",
     "text": [
      "Hola, Juan!\n",
      "Ingresa tu nombre: Melissa\n",
      "Hola, Melissa!\n"
     ]
    }
   ]
  },
  {
   "cell_type": "markdown",
   "source": [
    "**Argumentos de longitud variable**\n",
    "\n",
    "A veces queremos pasar una cantidad variable de argumentos a una función. En Python, podemos hacerlo utilizando argumentos de longitud variable.\n",
    "\n",
    "**Argumentos posicionales variables**\n",
    "\n",
    "Los argumentos posicionales variables se definen con un asterisco (*) delante del nombre del argumento en la lista de parámetros. Esto indica que la función acepta un número variable de argumentos posicionales. Por ejemplo:"
   ],
   "metadata": {
    "id": "-Wao6RYnLJhd"
   }
  },
  {
   "cell_type": "code",
   "source": [
    "def print_names(*names):\n",
    "    for name in names:\n",
    "        print(name)\n",
    "\n",
    "print_names(\"John\", \"Peter\", \"Mary\")\n",
    "print_names(\"Charles\")\n",
    "print_names()"
   ],
   "metadata": {
    "colab": {
     "base_uri": "https://localhost:8080/"
    },
    "id": "y_IUnGUSKd_K",
    "executionInfo": {
     "status": "ok",
     "timestamp": 1708040994030,
     "user_tz": 300,
     "elapsed": 280,
     "user": {
      "displayName": "Lucas Miguel Iturriago Salas",
      "userId": "11859793377054810664"
     }
    },
    "outputId": "2ec13fb2-9205-46da-943e-227a4f699f86"
   },
   "execution_count": null,
   "outputs": [
    {
     "output_type": "stream",
     "name": "stdout",
     "text": [
      "John\n",
      "Peter\n",
      "Mary\n",
      "Charles\n"
     ]
    }
   ]
  },
  {
   "cell_type": "markdown",
   "source": [
    "**Argumentos de palabra clave variable**\n",
    "\n",
    "Los argumentos de palabra clave variable se definen con dos asteriscos (**) delante del nombre del argumento en la lista de parámetros. Esto indica que la función acepta un número variable de argumentos de palabra clave. Por ejemplo:"
   ],
   "metadata": {
    "id": "vdG8nzGZLbmV"
   }
  },
  {
   "cell_type": "code",
   "source": [
    "def print_kwargs(**kwargs):\n",
    "    for key, value in kwargs.items():\n",
    "        print(key + \": \" + value)\n",
    "\n",
    "print_kwargs(name=\"John\", age=\"25\", city=\"New York\")"
   ],
   "metadata": {
    "colab": {
     "base_uri": "https://localhost:8080/"
    },
    "id": "TpcJR7dqLOKd",
    "executionInfo": {
     "status": "ok",
     "timestamp": 1708041091227,
     "user_tz": 300,
     "elapsed": 273,
     "user": {
      "displayName": "Lucas Miguel Iturriago Salas",
      "userId": "11859793377054810664"
     }
    },
    "outputId": "367f0d71-9786-4b55-b6bf-4e081feaf7ff"
   },
   "execution_count": null,
   "outputs": [
    {
     "output_type": "stream",
     "name": "stdout",
     "text": [
      "name: John\n",
      "age: 25\n",
      "city: New York\n"
     ]
    }
   ]
  },
  {
   "cell_type": "markdown",
   "source": [
    "## Clases"
   ],
   "metadata": {
    "id": "wSxMhHFrLs1_"
   }
  },
  {
   "cell_type": "markdown",
   "source": [
    "Las clases en Python son estructuras que permiten crear objetos que agrupan datos (atributos) y funciones (métodos) relacionadas. Proporcionan un medio para modelar objetos del mundo real y definir su comportamiento.\n",
    "\n",
    "Algunas consideraciones importantes al trabajar con clases en Python son las siguientes:\n",
    "\n",
    "- Encapsulamiento: Las clases permiten encapsular datos y funciones relacionadas en un solo objeto. Los atributos y métodos pueden ser públicos, protegidos o privados, controlando así el acceso desde fuera de la clase.\n",
    "\n",
    "- Herencia: Python admite la herencia, lo que permite que una clase herede atributos y métodos de otra clase base. Esto fomenta la reutilización del código y la creación de jerarquías de clases.\n",
    "\n",
    "- Polimorfismo: Python permite el polimorfismo, lo que significa que los métodos pueden tener diferentes implementaciones en clases distintas, pero con la misma interfaz. Esto facilita el diseño de sistemas flexibles y extensibles.\n",
    "\n",
    "- Métodos especiales: Python proporciona una serie de métodos especiales, también conocidos como \"métodos mágicos\", que permiten definir el comportamiento de las clases en contextos específicos. Por ejemplo, __init__ para inicializar objetos, __str__ para representar objetos como cadenas, entre otros.\n",
    "\n",
    "- Instancias y atributos de clase: Las clases pueden tener atributos de instancia, que son específicos de cada objeto creado a partir de la clase, y atributos de clase, que son compartidos por todas las instancias de la clase."
   ],
   "metadata": {
    "id": "pHXN__5RNbk8"
   }
  },
  {
   "cell_type": "markdown",
   "source": [
    "**Atributos**\n",
    "\n",
    "Los atributos son variables que pertenecen a una clase. Por ejemplo, en una clase \"Coche\", los atributos podrían ser \"marca\", \"modelo\" y \"color\". Para definir un atributo, lo hacemos dentro de la clase, pero fuera de cualquier método:"
   ],
   "metadata": {
    "id": "px2CnjY5P8M1"
   }
  },
  {
   "cell_type": "code",
   "source": [
    "class Coche:\n",
    "    marca = \"Toyota\"\n",
    "    modelo = \"Corolla\"\n",
    "    color = \"Rojo\""
   ],
   "metadata": {
    "id": "hK-BVL0tP7T9"
   },
   "execution_count": null,
   "outputs": []
  },
  {
   "cell_type": "markdown",
   "source": [
    "**Métodos**\n",
    "\n",
    "Los métodos son funciones que pertenecen a una clase. Por ejemplo, en una clase \"Coche\", los métodos podrían ser \"acelerar\", \"frenar\" y \"girar\". Para definir un método, lo hacemos dentro de la clase:"
   ],
   "metadata": {
    "id": "RZtffh7MQUP_"
   }
  },
  {
   "cell_type": "markdown",
   "source": [
    "Una clase que incluye atributos y métodos"
   ],
   "metadata": {
    "id": "XFwsFDMuQgJ_"
   }
  },
  {
   "cell_type": "code",
   "source": [
    "class Perro: # Clase llamada \"Perro\" que tiene atributos como nombre, raza, edad, tamaño, y métodos como ladrar, correr y morder\n",
    "    def __init__(self,Em):\n",
    "        Em =Em\n",
    "    def __call__(self,nombre,raza,edad,tamaño):\n",
    "        self.nombre = nombre\n",
    "        self.raza = raza\n",
    "        self.edad = edad\n",
    "        self.tamaño = tamaño\n",
    "    def ladrar(self):\n",
    "        print(Em)\n",
    "        print(f\"{self.nombre} está ladrando.\")\n",
    "\n",
    "    def correr(self):\n",
    "        print(f\"{self.nombre} está corriendo.\")\n",
    "\n",
    "    def morder(self):\n",
    "        print(f\"{self.nombre} está mordiendo.\")\n",
    "\n"
   ],
   "metadata": {
    "id": "2hT-zMrgNavd",
    "executionInfo": {
     "status": "ok",
     "timestamp": 1708098386346,
     "user_tz": 300,
     "elapsed": 225,
     "user": {
      "displayName": "Diego Armando Perez Rosero",
      "userId": "06154535922612881248"
     }
    }
   },
   "execution_count": 16,
   "outputs": []
  },
  {
   "cell_type": "code",
   "source": [
    "Man=Perro('Manizales')"
   ],
   "metadata": {
    "id": "HYx85tfGPj5b",
    "executionInfo": {
     "status": "ok",
     "timestamp": 1708098399332,
     "user_tz": 300,
     "elapsed": 191,
     "user": {
      "displayName": "Diego Armando Perez Rosero",
      "userId": "06154535922612881248"
     }
    }
   },
   "execution_count": 17,
   "outputs": []
  },
  {
   "cell_type": "code",
   "source": [
    "Man('NNa','NNb',12,'Grande')"
   ],
   "metadata": {
    "id": "tpdy75_Fl3rU",
    "executionInfo": {
     "status": "ok",
     "timestamp": 1708098400622,
     "user_tz": 300,
     "elapsed": 238,
     "user": {
      "displayName": "Diego Armando Perez Rosero",
      "userId": "06154535922612881248"
     }
    }
   },
   "execution_count": 18,
   "outputs": []
  },
  {
   "cell_type": "code",
   "source": [
    "Man.correr()"
   ],
   "metadata": {
    "colab": {
     "base_uri": "https://localhost:8080/"
    },
    "id": "vy8ktQJ7mAOz",
    "executionInfo": {
     "status": "ok",
     "timestamp": 1708098401921,
     "user_tz": 300,
     "elapsed": 210,
     "user": {
      "displayName": "Diego Armando Perez Rosero",
      "userId": "06154535922612881248"
     }
    },
    "outputId": "479b9497-412f-4090-a0e6-a3f4d8eb4118"
   },
   "execution_count": 19,
   "outputs": [
    {
     "output_type": "stream",
     "name": "stdout",
     "text": [
      "NNa está corriendo.\n"
     ]
    }
   ]
  },
  {
   "cell_type": "code",
   "source": [
    "Man.Em"
   ],
   "metadata": {
    "colab": {
     "base_uri": "https://localhost:8080/",
     "height": 35
    },
    "id": "CWvRpMWTmUHE",
    "executionInfo": {
     "status": "ok",
     "timestamp": 1708098412542,
     "user_tz": 300,
     "elapsed": 212,
     "user": {
      "displayName": "Diego Armando Perez Rosero",
      "userId": "06154535922612881248"
     }
    },
    "outputId": "5d125acf-b37a-42f6-ca0c-864d63d386fd"
   },
   "execution_count": 20,
   "outputs": [
    {
     "output_type": "execute_result",
     "data": {
      "text/plain": [
       "'Manizales'"
      ],
      "application/vnd.google.colaboratory.intrinsic+json": {
       "type": "string"
      }
     },
     "metadata": {},
     "execution_count": 20
    }
   ]
  },
  {
   "cell_type": "markdown",
   "source": [
    "## Herencia de clases"
   ],
   "metadata": {
    "id": "CxFe99A-SFNY"
   }
  },
  {
   "cell_type": "markdown",
   "source": [
    "La herencia de clases en Python es un concepto fundamental en la programación orientada a objetos que permite que una clase (llamada clase derivada o subclase) herede atributos y métodos de otra clase (llamada clase base o superclase)."
   ],
   "metadata": {
    "id": "iX8esdA8SIhO"
   }
  },
  {
   "cell_type": "markdown",
   "source": [
    "Supongamos que estás creando un programa para administrar empleados en una empresa. Tienes una clase base llamada \"Empleado\" y quieres crear una clase derivada llamada \"EmpleadoAsalariado\" que herede de la clase base."
   ],
   "metadata": {
    "id": "AqJqhkx8SPKC"
   }
  },
  {
   "cell_type": "code",
   "source": [
    "class Empleado:\n",
    "    def __init__(self, nombre, salario):\n",
    "        self.nombre = nombre\n",
    "        self.salario = salario\n",
    "\n",
    "    def obtener_salario1(self):\n",
    "        return self.salario\n",
    "\n",
    "class EmpleadoAsalariado(Empleado):\n",
    "    def __init__(self, nombre, salario, bono):\n",
    "        super().__init__(nombre, salario)  # Llama al constructor de la clase base\n",
    "        self.bono = bono\n",
    "\n",
    "    def obtener_salario(self):\n",
    "        return self.obtener_salario1() + self.bono"
   ],
   "metadata": {
    "id": "rvYaBEufQuP7",
    "executionInfo": {
     "status": "ok",
     "timestamp": 1708099113695,
     "user_tz": 300,
     "elapsed": 220,
     "user": {
      "displayName": "Diego Armando Perez Rosero",
      "userId": "06154535922612881248"
     }
    }
   },
   "execution_count": 26,
   "outputs": []
  },
  {
   "cell_type": "code",
   "source": [
    "# Creamos una instancia de la clase base\n",
    "empleado1 = Empleado(\"Juan\", 2000)\n",
    "print(empleado1.obtener_salario1())  # Output: 2000\n"
   ],
   "metadata": {
    "colab": {
     "base_uri": "https://localhost:8080/"
    },
    "id": "yKy3Zf4mSRwb",
    "executionInfo": {
     "status": "ok",
     "timestamp": 1708099114781,
     "user_tz": 300,
     "elapsed": 210,
     "user": {
      "displayName": "Diego Armando Perez Rosero",
      "userId": "06154535922612881248"
     }
    },
    "outputId": "91c75b1f-18eb-4a09-e04c-234ece3bb1f7"
   },
   "execution_count": 27,
   "outputs": [
    {
     "output_type": "stream",
     "name": "stdout",
     "text": [
      "2000\n"
     ]
    }
   ]
  },
  {
   "cell_type": "code",
   "source": [
    "\n",
    "# Creamos una instancia de la clase derivada\n",
    "empleado2 = EmpleadoAsalariado(\"Pedro\", 2500, 500)\n",
    "print(empleado2.obtener_salario())  # Output: 3000 (salario + bono)"
   ],
   "metadata": {
    "colab": {
     "base_uri": "https://localhost:8080/"
    },
    "id": "o7Ch3PHtn_ov",
    "executionInfo": {
     "status": "ok",
     "timestamp": 1708099120879,
     "user_tz": 300,
     "elapsed": 206,
     "user": {
      "displayName": "Diego Armando Perez Rosero",
      "userId": "06154535922612881248"
     }
    },
    "outputId": "8f20e65e-51c2-4606-803e-6099250b8392"
   },
   "execution_count": 29,
   "outputs": [
    {
     "output_type": "stream",
     "name": "stdout",
     "text": [
      "3000\n"
     ]
    }
   ]
  },
  {
   "cell_type": "markdown",
   "source": [
    "En este ejemplo, la clase base \"Empleado\" tiene un constructor que recibe el nombre y el salario del empleado, y un método llamado \"obtener_salario()\" que devuelve el salario.\n",
    "\n",
    "La clase derivada \"EmpleadoAsalariado\" hereda de la clase base \"Empleado\" y agrega un nuevo atributo llamado \"bono\". Además, se anula el método \"obtener_salario()\" de la clase base para incluir el bono en el cálculo.\n",
    "\n",
    "Luego, creamos una instancia de la clase base \"Empleado\" y llamamos al método \"obtener_salario()\", devolviendo el salario básico.\n",
    "\n",
    "Después, creamos una instancia de la clase derivada \"EmpleadoAsalariado\" y llamamos al método \"obtener_salario()\", que devuelve el salario básico más el bono."
   ],
   "metadata": {
    "id": "QXCXc5qkSanR"
   }
  }
 ]
}
