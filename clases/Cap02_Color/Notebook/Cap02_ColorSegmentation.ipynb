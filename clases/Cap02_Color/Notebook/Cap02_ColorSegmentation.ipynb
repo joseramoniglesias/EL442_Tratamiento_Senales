{
 "cells": [
  {
   "cell_type": "markdown",
   "metadata": {
    "id": "6ADgdiSygmcf"
   },
   "source": [
    "# Procesamiento de Imágenes: Segmentación de Imágenes a Color\n",
    "\n",
    "---\n",
    "\n",
    "Este ejemplo es parte del curso [Tratamiento de Señales], impartido en el Departamento Electrónica de la Universidad Popular del Cesar.\n"
   ]
  },
  {
   "cell_type": "markdown",
   "metadata": {
    "id": "mOicsoeAb7oC"
   },
   "source": [
    "# Imagenes usadas en este ejemplo\n"
   ]
  },
  {
   "cell_type": "code",
   "execution_count": null,
   "metadata": {
    "colab": {
     "base_uri": "https://localhost:8080/"
    },
    "id": "9Thf3Fs6yaDm",
    "outputId": "4eb85b91-449f-486b-bf8b-c16a23ca43b2",
    "vscode": {
     "languageId": "python"
    }
   },
   "outputs": [],
   "source": [
    "!wget https://www.dropbox.com/s/aag3e8mcw2nr75m/flor.png?dl=0"
   ]
  },
  {
   "cell_type": "code",
   "execution_count": null,
   "metadata": {
    "colab": {
     "base_uri": "https://localhost:8080/"
    },
    "id": "FqXLCGLyDVxk",
    "outputId": "aa2e5d08-c863-4f2f-bfb7-a0a617f407d0",
    "vscode": {
     "languageId": "python"
    }
   },
   "outputs": [],
   "source": [
    "!pip3 install pybalu==0.2.5\n",
    "!pip3 install scipy==1.2"
   ]
  },
  {
   "cell_type": "code",
   "execution_count": 4,
   "metadata": {
    "colab": {
     "base_uri": "https://localhost:8080/",
     "height": 1000
    },
    "id": "P0vDBMiiBux9",
    "outputId": "b0636c56-c99f-4f07-e5ce-9aa09bf84ec0",
    "vscode": {
     "languageId": "python"
    }
   },
   "outputs": [
    {
     "ename": "ModuleNotFoundError",
     "evalue": "No module named 'feature_extraction.geometric_utils'",
     "output_type": "error",
     "traceback": [
      "\u001B[1;31m---------------------------------------------------------------------------\u001B[0m",
      "\u001B[1;31mModuleNotFoundError\u001B[0m                       Traceback (most recent call last)",
      "\u001B[1;32mC:\\Users\\Public\\Documents\\Wondershare\\CreatorTemp/ipykernel_19304/3750190759.py\u001B[0m in \u001B[0;36m<module>\u001B[1;34m\u001B[0m\n\u001B[0;32m      1\u001B[0m \u001B[1;32mimport\u001B[0m \u001B[0mmatplotlib\u001B[0m\u001B[1;33m.\u001B[0m\u001B[0mpylab\u001B[0m \u001B[1;32mas\u001B[0m \u001B[0mplt\u001B[0m\u001B[1;33m\u001B[0m\u001B[1;33m\u001B[0m\u001B[0m\n\u001B[0;32m      2\u001B[0m \u001B[1;32mimport\u001B[0m \u001B[0mbase\u001B[0m\u001B[1;33m\u001B[0m\u001B[1;33m\u001B[0m\u001B[0m\n\u001B[1;32m----> 3\u001B[1;33m \u001B[1;32mfrom\u001B[0m \u001B[0mimg_processing\u001B[0m \u001B[1;32mimport\u001B[0m \u001B[0msegbalu\u001B[0m \u001B[1;31m# > pip3 install scipy==1.2\u001B[0m\u001B[1;33m\u001B[0m\u001B[1;33m\u001B[0m\u001B[0m\n\u001B[0m\u001B[0;32m      4\u001B[0m \u001B[1;33m\u001B[0m\u001B[0m\n\u001B[0;32m      5\u001B[0m \u001B[1;32mfrom\u001B[0m \u001B[0mcv2\u001B[0m \u001B[1;32mimport\u001B[0m \u001B[0mimread\u001B[0m\u001B[1;33m,\u001B[0m \u001B[0mcvtColor\u001B[0m\u001B[1;33m,\u001B[0m \u001B[0mCOLOR_BGR2RGB\u001B[0m\u001B[1;33m\u001B[0m\u001B[1;33m\u001B[0m\u001B[0m\n",
      "\u001B[1;32mC:\\ClasesUPC_2022_2\\EL442-TratamientoSeñales\\Clases_2022_2\\Semana_14\\Clase_27\\img_processing\\__init__.py\u001B[0m in \u001B[0;36m<module>\u001B[1;34m\u001B[0m\n\u001B[0;32m      1\u001B[0m \u001B[1;32mfrom\u001B[0m \u001B[1;33m.\u001B[0m\u001B[0mfst_deriv\u001B[0m \u001B[1;32mimport\u001B[0m \u001B[0mfst_deriv\u001B[0m\u001B[1;33m\u001B[0m\u001B[1;33m\u001B[0m\u001B[0m\n\u001B[1;32m----> 2\u001B[1;33m \u001B[1;32mfrom\u001B[0m \u001B[1;33m.\u001B[0m\u001B[0mmorphoreg\u001B[0m \u001B[1;32mimport\u001B[0m \u001B[0mmorphoreg\u001B[0m\u001B[1;33m\u001B[0m\u001B[1;33m\u001B[0m\u001B[0m\n\u001B[0m\u001B[0;32m      3\u001B[0m \u001B[1;32mfrom\u001B[0m \u001B[1;33m.\u001B[0m\u001B[0msnd_deriv\u001B[0m \u001B[1;32mimport\u001B[0m \u001B[0msnd_deriv\u001B[0m\u001B[1;33m\u001B[0m\u001B[1;33m\u001B[0m\u001B[0m\n\u001B[0;32m      4\u001B[0m \u001B[1;32mfrom\u001B[0m \u001B[1;33m.\u001B[0m\u001B[0mrgb2hcm\u001B[0m \u001B[1;32mimport\u001B[0m \u001B[0mrgb2hcm\u001B[0m\u001B[1;33m\u001B[0m\u001B[1;33m\u001B[0m\u001B[0m\n\u001B[0;32m      5\u001B[0m \u001B[1;32mfrom\u001B[0m \u001B[1;33m.\u001B[0m\u001B[0msegbalu\u001B[0m \u001B[1;32mimport\u001B[0m \u001B[0msegbalu\u001B[0m\u001B[1;33m\u001B[0m\u001B[1;33m\u001B[0m\u001B[0m\n",
      "\u001B[1;32mC:\\ClasesUPC_2022_2\\EL442-TratamientoSeñales\\Clases_2022_2\\Semana_14\\Clase_27\\img_processing\\morphoreg.py\u001B[0m in \u001B[0;36m<module>\u001B[1;34m\u001B[0m\n\u001B[0;32m      1\u001B[0m \u001B[0m__all__\u001B[0m \u001B[1;33m=\u001B[0m \u001B[1;33m[\u001B[0m\u001B[1;34m'morphoreg'\u001B[0m\u001B[1;33m]\u001B[0m\u001B[1;33m\u001B[0m\u001B[1;33m\u001B[0m\u001B[0m\n\u001B[0;32m      2\u001B[0m \u001B[1;31m# pylint: disable=no-name-in-module\u001B[0m\u001B[1;33m\u001B[0m\u001B[1;33m\u001B[0m\u001B[0m\n\u001B[1;32m----> 3\u001B[1;33m \u001B[1;32mfrom\u001B[0m \u001B[0mfeature_extraction\u001B[0m\u001B[1;33m.\u001B[0m\u001B[0mgeometric_utils\u001B[0m \u001B[1;32mimport\u001B[0m \u001B[0mbw_perim\u001B[0m\u001B[1;33m\u001B[0m\u001B[1;33m\u001B[0m\u001B[0m\n\u001B[0m\u001B[0;32m      4\u001B[0m \u001B[1;31m# pylint: enable=no-name-in-module\u001B[0m\u001B[1;33m\u001B[0m\u001B[1;33m\u001B[0m\u001B[0m\n\u001B[0;32m      5\u001B[0m \u001B[1;32mfrom\u001B[0m \u001B[0mskimage\u001B[0m\u001B[1;33m.\u001B[0m\u001B[0mmorphology\u001B[0m \u001B[1;32mimport\u001B[0m \u001B[0mbinary_closing\u001B[0m\u001B[1;33m,\u001B[0m \u001B[0mremove_small_objects\u001B[0m\u001B[1;33m,\u001B[0m \u001B[0mremove_small_holes\u001B[0m\u001B[1;33m\u001B[0m\u001B[1;33m\u001B[0m\u001B[0m\n",
      "\u001B[1;32mC:\\ClasesUPC_2022_2\\EL442-TratamientoSeñales\\Clases_2022_2\\Semana_14\\Clase_27\\feature_extraction\\__init__.py\u001B[0m in \u001B[0;36m<module>\u001B[1;34m\u001B[0m\n\u001B[0;32m      1\u001B[0m \u001B[1;32mfrom\u001B[0m \u001B[1;33m.\u001B[0m\u001B[0mall\u001B[0m \u001B[1;32mimport\u001B[0m \u001B[0mall_features\u001B[0m\u001B[1;33m,\u001B[0m \u001B[0mAllExtractor\u001B[0m\u001B[1;33m\u001B[0m\u001B[1;33m\u001B[0m\u001B[0m\n\u001B[1;32m----> 2\u001B[1;33m \u001B[1;32mfrom\u001B[0m \u001B[1;33m.\u001B[0m\u001B[0mbasic_geo\u001B[0m \u001B[1;32mimport\u001B[0m \u001B[0mbasic_geo_features\u001B[0m\u001B[1;33m,\u001B[0m \u001B[0mBasicGeoExtractor\u001B[0m\u001B[1;33m\u001B[0m\u001B[1;33m\u001B[0m\u001B[0m\n\u001B[0m\u001B[0;32m      3\u001B[0m \u001B[1;32mfrom\u001B[0m \u001B[1;33m.\u001B[0m\u001B[0mbasic_int\u001B[0m \u001B[1;32mimport\u001B[0m \u001B[0mbasic_int_features\u001B[0m\u001B[1;33m,\u001B[0m \u001B[0mBasicIntExtractor\u001B[0m\u001B[1;33m\u001B[0m\u001B[1;33m\u001B[0m\u001B[0m\n\u001B[0;32m      4\u001B[0m \u001B[1;32mfrom\u001B[0m \u001B[1;33m.\u001B[0m\u001B[0mflusser\u001B[0m \u001B[1;32mimport\u001B[0m \u001B[0mflusser_features\u001B[0m\u001B[1;33m,\u001B[0m \u001B[0mFlusserExtractor\u001B[0m\u001B[1;33m\u001B[0m\u001B[1;33m\u001B[0m\u001B[0m\n\u001B[0;32m      5\u001B[0m \u001B[1;32mfrom\u001B[0m \u001B[1;33m.\u001B[0m\u001B[0mfourier\u001B[0m \u001B[1;32mimport\u001B[0m \u001B[0mfourier_features\u001B[0m\u001B[1;33m,\u001B[0m \u001B[0mFourierExtractor\u001B[0m\u001B[1;33m\u001B[0m\u001B[1;33m\u001B[0m\u001B[0m\n",
      "\u001B[1;32mC:\\ClasesUPC_2022_2\\EL442-TratamientoSeñales\\Clases_2022_2\\Semana_14\\Clase_27\\feature_extraction\\basic_geo.py\u001B[0m in \u001B[0;36m<module>\u001B[1;34m\u001B[0m\n\u001B[0;32m      2\u001B[0m \u001B[1;32mimport\u001B[0m \u001B[0mscipy\u001B[0m\u001B[1;33m.\u001B[0m\u001B[0mndimage\u001B[0m \u001B[1;32mas\u001B[0m \u001B[0mimg\u001B[0m\u001B[1;33m\u001B[0m\u001B[1;33m\u001B[0m\u001B[0m\n\u001B[0;32m      3\u001B[0m \u001B[1;31m# pylint: disable=no-name-in-module\u001B[0m\u001B[1;33m\u001B[0m\u001B[1;33m\u001B[0m\u001B[0m\n\u001B[1;32m----> 4\u001B[1;33m \u001B[1;32mfrom\u001B[0m \u001B[0mfeature_extraction\u001B[0m\u001B[1;33m.\u001B[0m\u001B[0mgeometric_utils\u001B[0m \u001B[1;32mimport\u001B[0m \u001B[0mbbox\u001B[0m\u001B[1;33m,\u001B[0m \u001B[0mconvex_area\u001B[0m\u001B[1;33m,\u001B[0m \u001B[0mmoments\u001B[0m\u001B[1;33m,\u001B[0m \u001B[0mperimeter\u001B[0m\u001B[1;33m\u001B[0m\u001B[1;33m\u001B[0m\u001B[0m\n\u001B[0m\u001B[0;32m      5\u001B[0m \u001B[1;31m# pylint: enable=no-name-in-module\u001B[0m\u001B[1;33m\u001B[0m\u001B[1;33m\u001B[0m\u001B[0m\n\u001B[0;32m      6\u001B[0m \u001B[1;32mfrom\u001B[0m \u001B[0mbase\u001B[0m \u001B[1;32mimport\u001B[0m \u001B[0mFeatureExtractor\u001B[0m\u001B[1;33m\u001B[0m\u001B[1;33m\u001B[0m\u001B[0m\n",
      "\u001B[1;31mModuleNotFoundError\u001B[0m: No module named 'feature_extraction.geometric_utils'"
     ]
    }
   ],
   "source": [
    "import matplotlib.pylab as plt\n",
    "import base\n",
    "from img_processing import segbalu # > pip3 install scipy==1.2\n",
    "\n",
    "from cv2 import imread, cvtColor, COLOR_BGR2RGB\n",
    "\n",
    "img = imread('flor.png')\n",
    "\n",
    "seg,contours,hci = segbalu(img)\n",
    "\n",
    "\n",
    "fig, ax = plt.subplots(3, 1, figsize=(20, 24))\n",
    "print('Despliegue de imagenes: Original, Gris de alto contrast (HCI) y Segmentacion')\n",
    "ax[0].imshow(cvtColor(img, COLOR_BGR2RGB))\n",
    "ax[0].axis('off')\n",
    "ax[1].imshow(hci,cmap='gray')\n",
    "ax[1].axis('off')\n",
    "ax[2].imshow(seg,cmap='gray')\n",
    "ax[1].axis('off')\n",
    "plt.show()\n"
   ]
  },
  {
   "cell_type": "code",
   "execution_count": null,
   "outputs": [],
   "source": [],
   "metadata": {
    "collapsed": false
   }
  }
 ],
 "metadata": {
  "colab": {
   "collapsed_sections": [],
   "machine_shape": "hm",
   "name": "Cap02_ColorSegmentation.ipynb",
   "provenance": [],
   "toc_visible": true
  },
  "kernelspec": {
   "display_name": "Python 3",
   "name": "python3"
  }
 },
 "nbformat": 4,
 "nbformat_minor": 0
}
