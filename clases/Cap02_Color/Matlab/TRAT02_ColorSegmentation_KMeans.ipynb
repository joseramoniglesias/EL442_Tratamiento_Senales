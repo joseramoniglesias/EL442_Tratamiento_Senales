{
  "cells": [
    {
      "cell_type": "markdown",
      "metadata": {
        "id": "JdBumPTeGA_D"
      },
      "source": [
        "[Referencia](https://www.thepythoncode.com/article/kmeans-for-image-segmentation-opencv-python)"
      ]
    },
    {
      "cell_type": "code",
      "execution_count": null,
      "metadata": {
        "colab": {
          "base_uri": "https://localhost:8080/"
        },
        "id": "-C2zZ_5fFdHC",
        "outputId": "d59cd31a-54ac-48de-ed80-a886441d3902"
      },
      "outputs": [],
      "source": [
        "!wget https://www.dropbox.com/s/aahlqem1k6j1hj5/river.png\n",
        "!wget https://www.dropbox.com/s/8c06kd0vs69bdzg/flowers.jpg"
      ]
    },
    {
      "cell_type": "code",
      "execution_count": null,
      "metadata": {
        "colab": {
          "base_uri": "https://localhost:8080/",
          "height": 773
        },
        "id": "D2K5HSz1FDAy",
        "outputId": "dbabb9f9-5398-4887-fa0e-1bfb51e25c4c"
      },
      "outputs": [],
      "source": [
        "import cv2\n",
        "import numpy as np\n",
        "import matplotlib.pyplot as plt\n",
        "import sys\n",
        "\n",
        "# read the image\n",
        "#image = cv2.imread('river.png')\n",
        "#k = 3 # numbers of clusters (K)\n",
        "image = cv2.imread('flowers.jpg')\n",
        "k = 4 # numbers of clusters (K)\n",
        "\n",
        "# convert to RGB\n",
        "image = cv2.cvtColor(image, cv2.COLOR_BGR2RGB)\n",
        "plt.imshow(image)\n",
        "plt.show()\n",
        "\n",
        "# reshape the image to a 2D array of pixels and 3 color values (RGB)\n",
        "pixel_values = image.reshape((-1, 3))\n",
        "# convert to float\n",
        "pixel_values = np.float32(pixel_values)\n",
        "\n",
        "# define stopping criteria\n",
        "criteria = (cv2.TERM_CRITERIA_EPS + cv2.TERM_CRITERIA_MAX_ITER, 100, 0.2)\n",
        "\n",
        "compactness, labels, (centers) = cv2.kmeans(pixel_values, k, None, criteria, 10, cv2.KMEANS_RANDOM_CENTERS)\n",
        "\n",
        "# convert back to 8 bit values\n",
        "centers = np.uint8(centers)\n",
        "\n",
        "# flatten the labels array\n",
        "labels = labels.flatten()\n",
        "\n",
        "# convert all pixels to the color of the centroids\n",
        "segmented_image = centers[labels]\n",
        "\n",
        "# reshape back to the original image dimension\n",
        "segmented_image = segmented_image.reshape(image.shape)\n",
        "\n",
        "# show the image\n",
        "plt.imshow(segmented_image)\n",
        "plt.show()\n",
        "\n"
      ]
    },
    {
      "cell_type": "code",
      "execution_count": null,
      "metadata": {
        "colab": {
          "base_uri": "https://localhost:8080/",
          "height": 269
        },
        "id": "nOISzqkjGvw7",
        "outputId": "a4990415-0ac2-426c-c2bf-9bae7d7b3312"
      },
      "outputs": [],
      "source": [
        "# disable only the cluster number 2 (turn the pixel into black)\n",
        "masked_image = np.copy(image)\n",
        "# convert to the shape of a vector of pixel values\n",
        "masked_image = masked_image.reshape((-1, 3))\n",
        "# color (i.e cluster) to disable\n",
        "cluster = 0\n",
        "masked_image[labels == cluster] = [0, 0, 0]\n",
        "\n",
        "# convert back to original shape\n",
        "masked_image = masked_image.reshape(image.shape)\n",
        "# show the image\n",
        "plt.imshow(masked_image)\n",
        "plt.show()"
      ]
    }
  ],
  "metadata": {
    "colab": {
      "name": "IMG02_ColorSegmentation_KMeans.ipynb",
      "provenance": []
    },
    "kernelspec": {
      "display_name": "Python 3",
      "name": "python3"
    },
    "language_info": {
      "name": "python"
    }
  },
  "nbformat": 4,
  "nbformat_minor": 0
}
