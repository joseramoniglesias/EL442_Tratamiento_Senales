{
  "cells": [
    {
      "cell_type": "markdown",
      "metadata": {
        "id": "6ADgdiSygmcf"
      },
      "source": [
        "# Procesamiento de Imágenes: Segmentación de Imágenes a Color\n",
        "\n",
        "---\n",
        "\n",
        "Este ejemplo es parte del curso [Tratamiento de Señales], impartido en el Departamento Electrónica de la Universidad Popular del Cesar.\n"
      ]
    },
    {
      "cell_type": "markdown",
      "metadata": {
        "id": "mOicsoeAb7oC"
      },
      "source": [
        "# Imagenes usadas en este ejemplo\n",
        "\n",
        "Imagen original: \n",
        "\n",
        "\n",
        "Flor: https://flic.kr/p/cXvAWS\n",
        "\n",
        "\n",
        "José Ramón Iglesias"
      ]
    },
    {
      "cell_type": "code",
      "execution_count": null,
      "metadata": {
        "colab": {
          "base_uri": "https://localhost:8080/"
        },
        "id": "9Thf3Fs6yaDm",
        "outputId": "4eb85b91-449f-486b-bf8b-c16a23ca43b2",
        "vscode": {
          "languageId": "python"
        }
      },
      "outputs": [],
      "source": [
        "!wget https://www.dropbox.com/s/6g6vamomy6fy0vp/flor.png"
      ]
    },
    {
      "cell_type": "code",
      "execution_count": null,
      "metadata": {
        "colab": {
          "base_uri": "https://localhost:8080/"
        },
        "id": "FqXLCGLyDVxk",
        "outputId": "aa2e5d08-c863-4f2f-bfb7-a0a617f407d0",
        "vscode": {
          "languageId": "python"
        }
      },
      "outputs": [],
      "source": [
        "!pip3 install pybalu==0.2.5\n",
        "!pip3 install scipy==1.2"
      ]
    },
    {
      "cell_type": "code",
      "execution_count": null,
      "metadata": {
        "colab": {
          "base_uri": "https://localhost:8080/",
          "height": 1000
        },
        "id": "P0vDBMiiBux9",
        "outputId": "b0636c56-c99f-4f07-e5ce-9aa09bf84ec0",
        "vscode": {
          "languageId": "python"
        }
      },
      "outputs": [],
      "source": [
        "import matplotlib.pylab as plt\n",
        "\n",
        "from pybalu.img_processing import segbalu # > pip3 install scipy==1.2\n",
        "\n",
        "from cv2 import imread, cvtColor, COLOR_BGR2RGB\n",
        "\n",
        "img = imread('flor.png')\n",
        "\n",
        "seg,contours,hci = segbalu(img)\n",
        "\n",
        "\n",
        "fig, ax = plt.subplots(3, 1, figsize=(20, 24))\n",
        "print('Despliegue de imagenes: Original, Gris de alto contrast (HCI) y Segmentacion')\n",
        "ax[0].imshow(cvtColor(img, COLOR_BGR2RGB))\n",
        "ax[0].axis('off')\n",
        "ax[1].imshow(hci,cmap='gray')\n",
        "ax[1].axis('off')\n",
        "ax[2].imshow(seg,cmap='gray')\n",
        "ax[1].axis('off')\n",
        "plt.show()\n"
      ]
    }
  ],
  "metadata": {
    "colab": {
      "collapsed_sections": [],
      "machine_shape": "hm",
      "name": "Cap02_ColorSegmentation.ipynb",
      "provenance": [],
      "toc_visible": true
    },
    "kernelspec": {
      "display_name": "Python 3",
      "name": "python3"
    }
  },
  "nbformat": 4,
  "nbformat_minor": 0
}
