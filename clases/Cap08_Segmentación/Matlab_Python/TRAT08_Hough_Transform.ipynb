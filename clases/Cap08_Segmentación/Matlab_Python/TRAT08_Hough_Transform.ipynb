{
  "cells": [
    {
      "cell_type": "markdown",
      "metadata": {
        "id": "8Hxw38EHc8d5"
      },
      "source": [
        "# Hough transform\n"
      ]
    },
    {
      "cell_type": "markdown",
      "metadata": {
        "id": "EYkVFgmThRim"
      },
      "source": [
        "[Reference](https://colab.research.google.com/github/YoniChechik/AI_is_Math/blob/master/c_04b_hough_transform/hough_transform.ipynb)"
      ]
    },
    {
      "cell_type": "code",
      "execution_count": null,
      "metadata": {
        "colab": {
          "base_uri": "https://localhost:8080/"
        },
        "id": "gag3SHHYd2iJ",
        "outputId": "31859754-a77c-43a7-d10a-b763b287c66d"
      },
      "outputs": [],
      "source": [
        "!wget https://www.dropbox.com/s/069vw7nz61th49d/edge_bold.png\n"
      ]
    },
    {
      "cell_type": "code",
      "execution_count": null,
      "metadata": {
        "execution": {
          "iopub.execute_input": "2021-10-20T08:43:14.870510Z",
          "iopub.status.busy": "2021-10-20T08:43:14.870510Z",
          "iopub.status.idle": "2021-10-20T08:43:15.292233Z",
          "shell.execute_reply": "2021-10-20T08:43:15.292233Z"
        },
        "id": "xVX5P8O1c8d-"
      },
      "outputs": [],
      "source": [
        "from matplotlib import pyplot as plt\n",
        "import cv2\n",
        "import numpy as np\n",
        "\n",
        "figsize = (10, 10)\n",
        "\n"
      ]
    },
    {
      "cell_type": "markdown",
      "metadata": {
        "id": "IFGXGVVUc8d-"
      },
      "source": [
        "## Import an image\n"
      ]
    },
    {
      "cell_type": "code",
      "execution_count": null,
      "metadata": {
        "colab": {
          "base_uri": "https://localhost:8080/",
          "height": 387
        },
        "execution": {
          "iopub.execute_input": "2021-10-20T08:43:15.296233Z",
          "iopub.status.busy": "2021-10-20T08:43:15.295236Z",
          "iopub.status.idle": "2021-10-20T08:43:15.469622Z",
          "shell.execute_reply": "2021-10-20T08:43:15.469622Z"
        },
        "id": "s0A5YQtXc8d_",
        "outputId": "dc6d22df-829a-4a9c-9553-7ed5783f13df"
      },
      "outputs": [],
      "source": [
        "im3 = cv2.imread(\"edge_bold.png\")\n",
        "im = cv2.cvtColor(im3, cv2.COLOR_BGR2GRAY)\n",
        "\n",
        "plt.figure(figsize=figsize)\n",
        "plt.imshow(im, cmap=\"gray\", vmin=0, vmax=255)\n",
        "plt.show()\n",
        "\n"
      ]
    },
    {
      "cell_type": "markdown",
      "metadata": {
        "id": "hFFSpf2bc8eA"
      },
      "source": [
        "## Find edges of an image using Canny\n",
        "For more details about Canny edge detection, look at lecture 3\n"
      ]
    },
    {
      "cell_type": "code",
      "execution_count": null,
      "metadata": {
        "colab": {
          "base_uri": "https://localhost:8080/",
          "height": 387
        },
        "execution": {
          "iopub.execute_input": "2021-10-20T08:43:15.475288Z",
          "iopub.status.busy": "2021-10-20T08:43:15.475288Z",
          "iopub.status.idle": "2021-10-20T08:43:15.629797Z",
          "shell.execute_reply": "2021-10-20T08:43:15.629797Z"
        },
        "id": "aye1RQ8Hc8eA",
        "outputId": "0b82be0e-8c3d-4f6b-83d6-57318dfe0220"
      },
      "outputs": [],
      "source": [
        "mag_im = cv2.Canny(im, 50, 400)\n",
        "\n",
        "plt.figure(figsize=figsize)\n",
        "plt.imshow(mag_im)\n",
        "plt.show()\n",
        "\n"
      ]
    },
    {
      "cell_type": "markdown",
      "metadata": {
        "id": "VXKwGs2Mc8eB"
      },
      "source": [
        "## Initialize accumulation matrix\n"
      ]
    },
    {
      "cell_type": "code",
      "execution_count": null,
      "metadata": {
        "execution": {
          "iopub.execute_input": "2021-10-20T08:43:15.629797Z",
          "iopub.status.busy": "2021-10-20T08:43:15.629797Z",
          "iopub.status.idle": "2021-10-20T08:43:15.645423Z",
          "shell.execute_reply": "2021-10-20T08:43:15.645423Z"
        },
        "id": "HEaI33tsc8eB"
      },
      "outputs": [],
      "source": [
        "# choose R size\n",
        "r_step = 1\n",
        "rmax = np.sqrt(im.shape[0] ** 2 + im.shape[1] ** 2)\n",
        "r_vec = np.arange(-rmax, rmax, r_step)\n",
        "\n",
        "# choose theta size\n",
        "t_step = np.pi / 180\n",
        "t_vec = np.arange(0, np.pi, t_step)\n",
        "\n",
        "# accumulation matrix\n",
        "acc_mat = np.zeros((r_vec.shape[0], t_vec.shape[0]))\n",
        "\n"
      ]
    },
    {
      "cell_type": "markdown",
      "metadata": {
        "id": "19roqjWnc8eB"
      },
      "source": [
        "## Fill accumulation matrix\n"
      ]
    },
    {
      "cell_type": "code",
      "execution_count": null,
      "metadata": {
        "execution": {
          "iopub.execute_input": "2021-10-20T08:43:15.645423Z",
          "iopub.status.busy": "2021-10-20T08:43:15.645423Z",
          "iopub.status.idle": "2021-10-20T08:43:19.629814Z",
          "shell.execute_reply": "2021-10-20T08:43:19.629814Z"
        },
        "id": "MpzDkGy-c8eC"
      },
      "outputs": [],
      "source": [
        "# get indices of edges\n",
        "edge_inds = np.argwhere(mag_im > 0)\n",
        "\n",
        "# run on all theta and edge indices and find corresponding R\n",
        "for t_ind, t0 in enumerate(t_vec):\n",
        "    for yx in edge_inds:\n",
        "        x = yx[1]\n",
        "        y = yx[0]\n",
        "\n",
        "        r0 = x * np.cos(t0) + y * np.sin(t0)\n",
        "        r_ind = np.argmin(np.abs(r0 - r_vec))\n",
        "\n",
        "        acc_mat[r_ind, t_ind] += 1\n",
        "\n"
      ]
    },
    {
      "cell_type": "code",
      "execution_count": null,
      "metadata": {
        "colab": {
          "base_uri": "https://localhost:8080/",
          "height": 621
        },
        "execution": {
          "iopub.execute_input": "2021-10-20T08:43:19.645139Z",
          "iopub.status.busy": "2021-10-20T08:43:19.629814Z",
          "iopub.status.idle": "2021-10-20T08:43:19.924357Z",
          "shell.execute_reply": "2021-10-20T08:43:19.923323Z"
        },
        "id": "REM2TI3sc8eC",
        "outputId": "8b06d038-afcf-4a75-a02b-7bd3029bee31"
      },
      "outputs": [],
      "source": [
        "plt.figure(figsize=figsize)\n",
        "plt.imshow(acc_mat, extent=[0, 180, rmax, -rmax], aspect=\"auto\")\n",
        "plt.xlabel(\"theta\")\n",
        "plt.ylabel(\"r\")\n",
        "plt.title(\"accumulation matrix\")\n",
        "plt.show()\n",
        "\n"
      ]
    },
    {
      "cell_type": "markdown",
      "metadata": {
        "id": "8TtaSWrFc8eC"
      },
      "source": [
        "## Threshold accumulation matrix\n"
      ]
    },
    {
      "cell_type": "code",
      "execution_count": null,
      "metadata": {
        "colab": {
          "base_uri": "https://localhost:8080/",
          "height": 621
        },
        "execution": {
          "iopub.execute_input": "2021-10-20T08:43:19.940027Z",
          "iopub.status.busy": "2021-10-20T08:43:19.940027Z",
          "iopub.status.idle": "2021-10-20T08:43:20.168153Z",
          "shell.execute_reply": "2021-10-20T08:43:20.169150Z"
        },
        "id": "TBMpONJ7c8eD",
        "outputId": "8208e46d-6e5d-4f34-8161-2210f73f1b9d"
      },
      "outputs": [],
      "source": [
        "TH = 100\n",
        "acc_mat_th = acc_mat > TH\n",
        "\n",
        "plt.figure(figsize=figsize)\n",
        "plt.imshow(acc_mat_th, extent=[0, 180, rmax, -rmax], aspect=\"auto\")\n",
        "plt.xlabel(\"theta\")\n",
        "plt.ylabel(\"r\")\n",
        "plt.title(\"accumulation matrix TH\")\n",
        "plt.show()\n",
        "\n"
      ]
    },
    {
      "cell_type": "markdown",
      "metadata": {
        "id": "eGY_zy1kc8eD"
      },
      "source": [
        "## Plot lines found by hough\n"
      ]
    },
    {
      "cell_type": "code",
      "execution_count": null,
      "metadata": {
        "colab": {
          "base_uri": "https://localhost:8080/",
          "height": 664
        },
        "execution": {
          "iopub.execute_input": "2021-10-20T08:43:20.174155Z",
          "iopub.status.busy": "2021-10-20T08:43:20.174155Z",
          "iopub.status.idle": "2021-10-20T08:43:20.294426Z",
          "shell.execute_reply": "2021-10-20T08:43:20.294426Z"
        },
        "id": "677yRn2Tc8eD",
        "outputId": "368c392a-0c7b-4498-ac4c-8c3d6c84d1f3"
      },
      "outputs": [],
      "source": [
        "# get indices of acc_mat_th\n",
        "edge_inds = np.argwhere(acc_mat_th > 0)\n",
        "\n",
        "res = im3.copy()\n",
        "for r_ind, t_ind in edge_inds:\n",
        "    rho = r_vec[r_ind]\n",
        "    theta = t_vec[t_ind]\n",
        "\n",
        "    print(\"(rho,theta): \" + str((rho, theta / np.pi * 180)))\n",
        "\n",
        "    a = np.cos(theta)\n",
        "    b = np.sin(theta)\n",
        "    x0 = a * rho\n",
        "    y0 = b * rho\n",
        "    x1 = int(x0 + 1000 * (-b))\n",
        "    y1 = int(y0 + 1000 * (a))\n",
        "    x2 = int(x0 - 1000 * (-b))\n",
        "    y2 = int(y0 - 1000 * (a))\n",
        "\n",
        "    res = cv2.line(res, (x1, y1), (x2, y2), (0, 0, 255), thickness=1)\n",
        "\n",
        "plt.figure(figsize=figsize)\n",
        "plt.imshow(res)\n",
        "plt.show()\n",
        "\n"
      ]
    },
    {
      "cell_type": "markdown",
      "metadata": {
        "id": "xL5h9TYPc8eE"
      },
      "source": [
        "## Try cv2.HoughLines\n",
        "This implementation is faster since it was done in C\n"
      ]
    },
    {
      "cell_type": "code",
      "execution_count": null,
      "metadata": {
        "colab": {
          "base_uri": "https://localhost:8080/",
          "height": 629
        },
        "execution": {
          "iopub.execute_input": "2021-10-20T08:43:20.294426Z",
          "iopub.status.busy": "2021-10-20T08:43:20.294426Z",
          "iopub.status.idle": "2021-10-20T08:43:20.433534Z",
          "shell.execute_reply": "2021-10-20T08:43:20.432533Z"
        },
        "id": "djB3MNKTc8eE",
        "outputId": "a16aaf1e-37d0-439a-93e5-d8d63a669017"
      },
      "outputs": [],
      "source": [
        "lines = cv2.HoughLines(mag_im, r_step, t_step, TH)\n",
        "res = im3.copy()\n",
        "\n",
        "for r_t in lines:\n",
        "    rho = r_t[0, 0]\n",
        "    theta = r_t[0, 1]\n",
        "\n",
        "    print(\"(rho,theta): \" + str((rho, theta / np.pi * 180)))\n",
        "\n",
        "    a = np.cos(theta)\n",
        "    b = np.sin(theta)\n",
        "    x0 = a * rho\n",
        "    y0 = b * rho\n",
        "    x1 = int(x0 + 1000 * (-b))\n",
        "    y1 = int(y0 + 1000 * (a))\n",
        "    x2 = int(x0 - 1000 * (-b))\n",
        "    y2 = int(y0 - 1000 * (a))\n",
        "\n",
        "    res = cv2.line(res, (x1, y1), (x2, y2), (0, 0, 255), thickness=1)\n",
        "\n",
        "plt.figure(figsize=figsize)\n",
        "plt.imshow(res)\n",
        "plt.show()\n",
        "\n"
      ]
    },
    {
      "cell_type": "markdown",
      "metadata": {
        "id": "raugGau4c8eE"
      },
      "source": [
        "## Complete new example of a more complex image\n",
        "We can see on the bottom horizontal lines that the \"noise\" of the tree top edges is interfeering with the line detection.\n"
      ]
    },
    {
      "cell_type": "code",
      "execution_count": null,
      "metadata": {
        "colab": {
          "base_uri": "https://localhost:8080/"
        },
        "id": "UxXgW9yLfASj",
        "outputId": "a435b12f-53c6-4f03-a0ea-32c07663cb62"
      },
      "outputs": [],
      "source": [
        "!wget https://www.dropbox.com/s/antxbf16lph976j/building.png"
      ]
    },
    {
      "cell_type": "code",
      "execution_count": null,
      "metadata": {
        "colab": {
          "base_uri": "https://localhost:8080/",
          "height": 1000
        },
        "execution": {
          "iopub.execute_input": "2021-10-20T08:43:20.437642Z",
          "iopub.status.busy": "2021-10-20T08:43:20.437642Z",
          "iopub.status.idle": "2021-10-20T08:43:21.752199Z",
          "shell.execute_reply": "2021-10-20T08:43:21.752199Z"
        },
        "id": "RYOSP2aFc8eE",
        "outputId": "92d68532-fe74-40f5-d3db-ccd9376fb3e5"
      },
      "outputs": [],
      "source": [
        "im3 = cv2.imread(\"building.png\")\n",
        "im3 = cv2.cvtColor(im3, cv2.COLOR_BGR2RGB)\n",
        "im3 = cv2.resize(im3,(600,600))\n",
        "\n",
        "im = cv2.cvtColor(im3, cv2.COLOR_BGR2GRAY)\n",
        "plt.figure(figsize=figsize)\n",
        "plt.imshow(im, cmap=\"gray\", vmin=0, vmax=255)\n",
        "plt.show()\n",
        "\n",
        "mag_im = cv2.Canny(im, 50, 400)\n",
        "\n",
        "plt.figure(figsize=figsize)\n",
        "plt.imshow(mag_im)\n",
        "plt.show()\n",
        "\n",
        "TH = 200\n",
        "lines = cv2.HoughLines(mag_im, r_step, t_step, TH)\n",
        "res = im3.copy()\n",
        "\n",
        "for r_t in lines:\n",
        "    rho = r_t[0, 0]\n",
        "    theta = r_t[0, 1]\n",
        "\n",
        "    a = np.cos(theta)\n",
        "    b = np.sin(theta)\n",
        "    x0 = a * rho\n",
        "    y0 = b * rho\n",
        "    x1 = int(x0 + 1000 * (-b))\n",
        "    y1 = int(y0 + 1000 * (a))\n",
        "    x2 = int(x0 - 1000 * (-b))\n",
        "    y2 = int(y0 - 1000 * (a))\n",
        "\n",
        "    res = cv2.line(res, (x1, y1), (x2, y2), (0, 0, 255), thickness=2)\n",
        "\n",
        "plt.figure(figsize=figsize)\n",
        "plt.imshow(res)\n",
        "plt.show()\n",
        "\n"
      ]
    }
  ],
  "metadata": {
    "colab": {
      "name": "IMG08_Hough_Transform.ipynb",
      "provenance": []
    },
    "kernelspec": {
      "display_name": "Python 3",
      "name": "python3"
    },
    "language_info": {
      "name": "python"
    }
  },
  "nbformat": 4,
  "nbformat_minor": 0
}
