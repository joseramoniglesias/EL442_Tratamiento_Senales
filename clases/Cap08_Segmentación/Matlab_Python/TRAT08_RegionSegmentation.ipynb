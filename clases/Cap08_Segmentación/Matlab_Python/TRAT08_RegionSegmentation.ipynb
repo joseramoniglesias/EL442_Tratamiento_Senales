{
 "cells": [
  {
   "cell_type": "markdown",
   "metadata": {
    "id": "aYlbaifgPV2u"
   },
   "source": [
    "# Carga de imágenes"
   ]
  },
  {
   "cell_type": "code",
   "execution_count": null,
   "metadata": {
    "colab": {
     "base_uri": "https://localhost:8080/"
    },
    "id": "7_6PrCEOzXGc",
    "outputId": "385ebc68-be31-4ad1-ccdf-050cb410b106"
   },
   "outputs": [],
   "source": [
    "!wget https://www.dropbox.com/s/yecryr4kwwy4avc/N0005_0009.png?dl=0\n",
    "!wget https://www.dropbox.com/s/3bm7ld8p3tgp4ox/W0001_0001.png?dl=0\n",
    "!wget https://www.dropbox.com/s/2zm4kx9ypo7zfbb/estuche.png?dl=0"
   ]
  },
  {
   "cell_type": "markdown",
   "metadata": {
    "id": "FdfBX8m7PaBA"
   },
   "source": [
    "# Librerías"
   ]
  },
  {
   "cell_type": "code",
   "execution_count": 1,
   "metadata": {
    "id": "MCKLuWE9zZef"
   },
   "outputs": [],
   "source": [
    "import matplotlib.pylab as plt\n",
    "import cv2\n",
    "import numpy as np\n",
    "from skimage.morphology import binary_dilation\n",
    "from skimage.segmentation import clear_border,find_boundaries\n",
    "from skimage.morphology import disk\n",
    "from skimage.filters import threshold_otsu, gaussian\n",
    "from skimage.measure import find_contours\n",
    "from skimage.morphology import remove_small_holes, remove_small_objects\n",
    "from skimage.filters import threshold_otsu, gaussian\n",
    "from skimage.measure import find_contours\n",
    "from skimage.morphology import binary_closing\n",
    "from skimage.measure import label, regionprops\n"
   ]
  },
  {
   "cell_type": "code",
   "execution_count": null,
   "metadata": {
    "id": "6lVWGTVRzg-Y"
   },
   "outputs": [],
   "source": [
    "from skimage.color import label2rgb\n",
    "from skimage.measure import label\n",
    "\n",
    "def binview(img, mask, color='r', dilate_pixels=1):\n",
    "    \"\"\"\n",
    "    Displays a gray or color image 'img' overlaid by color pixels determined a by binary image 'mask'. It is useful to\n",
    "    display the edges of an image.\n",
    "\n",
    "    Args:\n",
    "        img: gray scale image (X-ray)\n",
    "        mask: binary image that works as mask\n",
    "        color: string to define pixel color.\n",
    "                'r': red (default)\n",
    "                'g': green\n",
    "                'b': blue\n",
    "                'y': yellow\n",
    "                'c': cyan\n",
    "                'm': magenta\n",
    "                'k': black\n",
    "                'w': white\n",
    "\n",
    "        dilate_pixels (int): Number of pixels used for dilate the mask.\n",
    "\n",
    "    Returns:\n",
    "        img_color (ndarray): output image with a mask overlaid.\n",
    "    \"\"\"\n",
    "\n",
    "    # Defines colors\n",
    "    # colors = {\n",
    "    #     'r': np.array([255, 0, 0]),\n",
    "    #     'g': np.array([0, 255, 0]),\n",
    "    #     'b': np.array([0, 0, 255]),\n",
    "    #     'y': np.array([255, 255, 0]),\n",
    "    #     'c': np.array([0, 255, 255]),\n",
    "    #     'm': np.array([255, 0, 255]),\n",
    "    #     'k': np.array([0, 0, 0]),\n",
    "    #     'w': np.array([255, 255, 255])\n",
    "    # }\n",
    "    #\n",
    "    colors = {\n",
    "        'r': np.array([1, 0, 0]),\n",
    "        'g': np.array([0, 1, 0]),\n",
    "        'b': np.array([0, 0, 1]),\n",
    "        'y': np.array([1, 1, 0]),\n",
    "        'c': np.array([0, 1, 1]),\n",
    "        'm': np.array([1, 0, 1]),\n",
    "        'k': np.array([0, 0, 0]),\n",
    "        'w': np.array([1, 1, 1])\n",
    "    }\n",
    "    # Create a RGB image from grayscale image.\n",
    "    img_color = np.dstack((img, img, img))\n",
    "\n",
    "    # Ensure do not modify the original color image and the mask\n",
    "    img_color = img_color.copy()\n",
    "\n",
    "    mask_ = mask.copy()\n",
    "    # mask_ = dilate(mask_, np.ones((g, g), np.uint8))\n",
    "    mask_ = binary_dilation(mask_, np.ones((dilate_pixels, dilate_pixels)))\n",
    "\n",
    "    # Now black-out the area of the mask\n",
    "    # img_fg = bitwise_and(img, img, mask=mask_)\n",
    "\n",
    "    # Defines the pixel color used for the mask in the figure.\n",
    "    cc = colors[color]\n",
    "    #\n",
    "    # for i in range(3):\n",
    "    #     img_color[:, :, i] = cc[i] * img_fg\n",
    "\n",
    "    # remove artifacts connected to image border\n",
    "    cleared = clear_border(mask_)\n",
    "    if np.all(cleared):\n",
    "        mask_ = cleared\n",
    "\n",
    "    # label image regions\n",
    "    label_image = label(mask_)\n",
    "    img_color = label2rgb(label_image, image=img_color, colors=[cc], bg_label=0)\n",
    "\n",
    "    return img_color  # add(img_color, img_color)\n"
   ]
  },
  {
   "cell_type": "markdown",
   "metadata": {
    "id": "CUPPJrgBXJsP"
   },
   "source": [
    "# Otsu"
   ]
  },
  {
   "cell_type": "markdown",
   "metadata": {
    "id": "tujbxhppms4T"
   },
   "source": [
    "## Básico"
   ]
  },
  {
   "cell_type": "code",
   "execution_count": null,
   "metadata": {
    "id": "R6EPgDNKn09i"
   },
   "outputs": [],
   "source": [
    "def imhist(X):\n",
    "  (N,M) = X.shape\n",
    "  n = 256\n",
    "  h = np.zeros((256,))\n",
    "  for i in range(N):\n",
    "    for j in range(M):\n",
    "      x = X[i,j]\n",
    "      h[x] = h[x]+1\n",
    "  return h\n"
   ]
  },
  {
   "cell_type": "code",
   "execution_count": null,
   "metadata": {
    "colab": {
     "base_uri": "https://localhost:8080/",
     "height": 513
    },
    "id": "V-OXWVAcm1jC",
    "outputId": "a9358b4f-f763-42ea-9316-4bfd3d79a5f9"
   },
   "outputs": [],
   "source": [
    "img = cv2.imread('N0005_0009.png',0)\n",
    "h   = imhist(img)\n",
    "plt.figure(figsize=(60,9))\n",
    "plt.bar(range(256),h)\n",
    "th  = threshold_otsu(img)\n",
    "plt.plot([th,th],[0,10000],c='red')\n",
    "plt.show()\n",
    "print('otsu-threshold = ',th)\n",
    "seg = img > th\n",
    "fig, ax = plt.subplots(1, 2, figsize=(12, 6))\n",
    "ax[0].imshow(img, cmap='gray')\n",
    "ax[1].imshow(seg,cmap='gray')\n",
    "plt.show()\n"
   ]
  },
  {
   "cell_type": "markdown",
   "metadata": {
    "id": "naJyuqRwpXU7"
   },
   "source": [
    "## Segmentación bimodal"
   ]
  },
  {
   "cell_type": "code",
   "execution_count": null,
   "metadata": {
    "id": "dJwuBeY4WHVl"
   },
   "outputs": [],
   "source": [
    "def seg_bimodal(img, p=-0.1):\n",
    "    \"\"\"\n",
    "\n",
    "    :param img: numpy array for a gray-scale input image.\n",
    "    :param p: float to denote the offset of threshold with p between -1 and 1. A\n",
    "                positive value is used to dilate the segmentation, the negative\n",
    "                to erode.\n",
    "    :return: a tuple with the binary image and the contour of the mask.\n",
    "\n",
    "    \"\"\"\n",
    "    img_d = img.astype('double')\n",
    "    imax = np.max(img_d.flatten())\n",
    "    imin = np.min(img_d.flatten())\n",
    "    img_j = (img_d - imin) / (imax - imin)  # Image normalization [0, 1]\n",
    "\n",
    "    ni = int(np.fix(img_j.shape[0] / 4))\n",
    "    nj = int(np.fix(img_j.shape[1] / 4))\n",
    "\n",
    "    # An heuristic method to ensure that the segmented object will\n",
    "    # be labeled as 1.\n",
    "    if np.mean(img_j[0:ni, 0:nj].flatten()) > 0.3:\n",
    "        img_j = 1 - img_j\n",
    "\n",
    "    # Transform a double image to unit8\n",
    "    img_jj = (255 * img_j).astype('uint8')\n",
    "\n",
    "    # Apply Gaussian filtering to remove noise and compute Otsu thresholding.\n",
    "    # This step improve the thresholding\n",
    "    img_jj = gaussian(img_jj, 2.0)\n",
    "    level = threshold_otsu(img_jj)\n",
    "    mask = img_jj > (level + p)\n",
    "\n",
    "    a = remove_small_objects(mask, np.fix(len(mask.flatten()) / 100))\n",
    "    c = binary_closing(a.astype('double'), disk(7))\n",
    "\n",
    "    # Why 8?\n",
    "    r = remove_small_holes(c, 8)\n",
    "    contours = find_contours(r, 0.1)\n",
    "\n",
    "    return r, contours"
   ]
  },
  {
   "cell_type": "code",
   "execution_count": null,
   "metadata": {
    "id": "td2tE5BSWfst"
   },
   "outputs": [],
   "source": [
    "img = cv2.imread('N0005_0009.png',0)"
   ]
  },
  {
   "cell_type": "code",
   "execution_count": null,
   "metadata": {
    "colab": {
     "base_uri": "https://localhost:8080/",
     "height": 335
    },
    "id": "FjXkus21V75G",
    "outputId": "e91c36b7-8754-49ae-fd63-ccab1122566b"
   },
   "outputs": [],
   "source": [
    "mask, contours = seg_bimodal(img)\n",
    "seg = binview(img, mask, 'g')\n",
    "\n",
    "fig, ax = plt.subplots(1, 2, figsize=(12, 6))\n",
    "ax[0].imshow(img, cmap='gray')\n",
    "for n, contour in enumerate(contours):\n",
    "        ax[0].plot(contour[:, 1], contour[:, 0], color='r', linewidth=3)\n",
    "ax[0].axis('off')\n",
    "ax[1].imshow(seg)\n",
    "ax[1].axis('off')\n",
    "plt.show()\n"
   ]
  },
  {
   "cell_type": "markdown",
   "metadata": {
    "id": "aei8BGqOXbo2"
   },
   "source": [
    "# Adaptive Thresholding"
   ]
  },
  {
   "cell_type": "code",
   "execution_count": null,
   "metadata": {
    "colab": {
     "base_uri": "https://localhost:8080/",
     "height": 231
    },
    "id": "Yk2t5SVoXd6w",
    "outputId": "09886425-b0f8-41b9-ff99-a3c414032b4a"
   },
   "outputs": [],
   "source": [
    "img = cv2.imread('W0001_0001.png',0)\n",
    "\n",
    "mask = np.zeros(img.shape, np.uint8)  # Create a uint8 mask image\n",
    "max_width = img.shape[1]\n",
    "\n",
    "d1 = int(np.round(max_width/4))\n",
    "d2 = int(np.round(d1 * 1.5))\n",
    "\n",
    "i1 = 0\n",
    "\n",
    "while i1 < max_width:\n",
    "    i2 = min(i1 + d2, max_width)  # second column of partition\n",
    "    img_i = img[:, i1:i2]  # partition i\n",
    "    bw_i, _ = seg_bimodal(img_i)  # segmentation of partition i\n",
    "    roi = mask[:, i1:i2]\n",
    "    overlap = np.bitwise_or(roi, bw_i)  # addition into whole segmentation\n",
    "    mask[:, i1:i2] = overlap\n",
    "    i1 = i1 + d1  # update of first column\n",
    "\n",
    "\n",
    "seg = binview(img, mask, color='g', dilate_pixels=5)\n",
    "\n",
    "contours = find_contours(np.float32(mask), 0.5)\n",
    "\n",
    "fig, ax = plt.subplots(2, 1, figsize=(14, 5))\n",
    "ax[0].imshow(img, cmap='gray');\n",
    "for n, contour in enumerate(contours):\n",
    "        ax[0].plot(contour[:, 1], contour[:, 0], color='r', linewidth=3)\n",
    "ax[0].axis('off')\n",
    "ax[1].imshow(seg)\n",
    "ax[1].axis('off')\n",
    "fig.tight_layout()\n",
    "plt.show()\n"
   ]
  },
  {
   "cell_type": "markdown",
   "metadata": {
    "id": "qGzZ_GxEX93F"
   },
   "source": [
    "# MSER"
   ]
  },
  {
   "cell_type": "code",
   "execution_count": null,
   "metadata": {
    "id": "INmioKQxYkZl"
   },
   "outputs": [],
   "source": [
    "def seg_mser(_img, area=(60, 20000), min_div=0.2, max_var=0.25, delta=5, area_threshold=200):\n",
    "    \"\"\"\n",
    "    Image segmentation using MSER algorithm.\n",
    "\n",
    "    Args:\n",
    "        _img (ndarray): input image (uint8)\n",
    "        area (int tuple): Range of areas to prune (min_area, max_area)\n",
    "        min_div (float): Trace back to cut off MSER with diversity less than min_diversity\n",
    "        max_var (float): Prune the area that have simliar size to its children\n",
    "        delta (int): Controls how the stability is calculated comparing (sizei - sizei-delta) / sizei-delta. [1]\n",
    "        area_threshold (float): the area threshold to cause re-initialize in color images [1]\n",
    "\n",
    "    Returns:\n",
    "       mask (ndarray): Binary image with detected objects\n",
    "       label_regions (ndarray): Image with labels of the detected objects\n",
    "       bboxes (ndarray): Bounding boxes for each detection in label_regions (x0, y0, width, height), where (x0, y0) is\n",
    "                         the uppper-left corner.\n",
    "    \n",
    "\n",
    "    [1] Please check the OpenCV documentation for more details.\n",
    "    \"\"\"\n",
    "    \n",
    "    mser_opts = {\n",
    "        '_min_area': area[0],\n",
    "        '_max_area': area[1],\n",
    "        '_max_variation': max_var,\n",
    "        '_min_diversity': min_div,\n",
    "        '_delta': delta,\n",
    "        '_area_threshold': area_threshold\n",
    "    }\n",
    "    \n",
    "    mser = cv2.MSER_create(**mser_opts)\n",
    "    regions, bbox = mser.detectRegions(_img)\n",
    "    \n",
    "    mask = np.zeros(_img.shape)\n",
    "\n",
    "    for dd, region in enumerate(regions):\n",
    "        mask[region[:,1], region[:,0]] = 1\n",
    "\n",
    "    label_regions, m = label(mask, connectivity=1, return_num=True)\n",
    "    props = regionprops(label_regions)\n",
    "    bboxes = np.array([[p.bbox[1], p.bbox[0], p.bbox[3] - p.bbox[1], p.bbox[2] - p.bbox[0]] for p in props])\n",
    "    \n",
    "    return mask, label_regions, bboxes\n"
   ]
  },
  {
   "cell_type": "code",
   "execution_count": null,
   "metadata": {
    "id": "wIZ0rOr-Y6LK"
   },
   "outputs": [],
   "source": [
    "def plot_bboxes(bounding_boxes, color='lawngreen', linewidth=1.5, ax=None):\n",
    "    \"\"\"\n",
    "    Plot a set of bounding boxes.\n",
    "\n",
    "    Args:\n",
    "        bounding_boxes (ndarray): array of bounding boxes (x0, y0, width, height), where x0, y0 is the upper-left corner.\n",
    "        color (str): Edge color of the bounding box. Use matplotlib color names.\n",
    "        linewidth (float): Bounding box linewidth.\n",
    "        ax (object): Figure axes. If None, create a new figure and axes.\n",
    "\n",
    "    Returns:\n",
    "        ax (object): Figure axes.\n",
    "    \"\"\"\n",
    "    if not ax:\n",
    "        fig, ax = plt.subplots(1, 1)\n",
    "\n",
    "    for b, bbox in enumerate(bounding_boxes):\n",
    "        rect = plt.Rectangle((bbox[0], bbox[1]), bbox[2], bbox[3], fill=False, edgecolor=color, linewidth=linewidth)\n",
    "        ax.add_patch(rect)\n",
    "\n",
    "    return ax\n",
    "\n"
   ]
  },
  {
   "cell_type": "code",
   "execution_count": null,
   "metadata": {
    "colab": {
     "base_uri": "https://localhost:8080/",
     "height": 1000
    },
    "id": "AawV-zfKX_Yi",
    "outputId": "d68c78f1-05a4-45cd-fb47-5b9b8f8e727b"
   },
   "outputs": [],
   "source": [
    "\n",
    "img = cv2.imread('estuche.png',0)\n",
    "\n",
    "fig1, ax1 = plt.subplots(1, 1, figsize=(10, 10))\n",
    "ax1.imshow(img, cmap='gray')\n",
    "ax1.set_title('Input image')\n",
    "ax1.axis('off')\n",
    "plt.show()\n",
    "\n",
    "mser_options = {\n",
    "    'area': (60, 40000),  # Area of the ellipse (Max, Min)\n",
    "    'min_div': 0.9,  # Minimal diversity\n",
    "    'max_var': 0.2,  # Maximal variation\n",
    "    'delta': 3,  # Delta\n",
    "}\n",
    "\n",
    "J, L, bboxes = seg_mser(img, **mser_options)\n",
    "\n",
    "E = binary_dilation(find_boundaries(J, connectivity=1, mode='inner'), np.ones((3, 3)))\n",
    "\n",
    "fig2, ax2 = plt.subplots(1, 1, figsize=(10, 10))\n",
    "ax2.imshow(E, cmap='gray')\n",
    "ax2.set_title('Edges')\n",
    "ax2.axis('off')\n",
    "plt.show()\n",
    "\n",
    "fig3, ax3 = plt.subplots(1, 1, figsize=(10, 10))\n",
    "ax3.imshow(L, cmap='gray')\n",
    "ax3.set_title('Segmentation')\n",
    "ax3.axis('off')\n",
    "plt.show()\n",
    "\n",
    "fig4, ax4 = plt.subplots(1, 1, figsize=(10, 10))\n",
    "ax4.imshow(img, cmap='gray')\n",
    "ax4 = plot_bboxes(bboxes, ax=ax4)\n",
    "ax4.set_title('Bounding Boxes')\n",
    "ax4.axis('off')\n",
    "plt.show()\n",
    "\n",
    "\n"
   ]
  }
 ],
 "metadata": {
  "colab": {
   "collapsed_sections": [],
   "name": "IMG08_RegionSegmentation.ipynb",
   "provenance": [],
   "toc_visible": true
  },
  "kernelspec": {
   "display_name": "Python 3",
   "name": "python3"
  },
  "language_info": {
   "name": "python"
  }
 },
 "nbformat": 4,
 "nbformat_minor": 0
}
