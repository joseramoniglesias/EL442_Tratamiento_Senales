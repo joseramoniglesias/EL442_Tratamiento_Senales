{
 "cells": [
  {
   "cell_type": "markdown",
   "metadata": {
    "id": "vN9advX8DgC9"
   },
   "source": [
    "# Face Mesh\n",
    "\n",
    "José ramón Iglesias \n",
    "\n",
    "Departamento Electrónica\n",
    "\n",
    "Universidad Popular del cesar\n",
    "\n",
    "Referencia: [Face Mesh](https://google.github.io/mediapipe/solutions/face_mesh) de la librería mediapipe.\n"
   ]
  },
  {
   "cell_type": "markdown",
   "metadata": {
    "id": "5ghgj6isDrBA"
   },
   "source": [
    "## Instalación de librería"
   ]
  },
  {
   "cell_type": "code",
   "execution_count": 1,
   "metadata": {
    "colab": {
     "base_uri": "https://localhost:8080/"
    },
    "id": "Wj0yQ44a4mSC",
    "outputId": "5996590a-2e02-45d5-e5f0-a9251d178db9",
    "ExecuteTime": {
     "end_time": "2024-01-30T15:46:19.721810Z",
     "start_time": "2024-01-30T15:46:04.431848Z"
    }
   },
   "outputs": [
    {
     "name": "stdout",
     "output_type": "stream",
     "text": [
      "Collecting mediapipe\n",
      "  Downloading mediapipe-0.10.9-cp310-cp310-win_amd64.whl.metadata (9.8 kB)\n",
      "Requirement already satisfied: absl-py in c:\\users\\asus\\anaconda3\\lib\\site-packages (from mediapipe) (1.4.0)\n",
      "Requirement already satisfied: attrs>=19.1.0 in c:\\users\\asus\\anaconda3\\lib\\site-packages (from mediapipe) (23.1.0)\n",
      "Requirement already satisfied: flatbuffers>=2.0 in c:\\users\\asus\\anaconda3\\lib\\site-packages (from mediapipe) (2.0)\n",
      "Requirement already satisfied: matplotlib in c:\\users\\asus\\anaconda3\\lib\\site-packages (from mediapipe) (3.7.2)\n",
      "Requirement already satisfied: numpy in c:\\users\\asus\\anaconda3\\lib\\site-packages (from mediapipe) (1.23.5)\n",
      "Collecting opencv-contrib-python (from mediapipe)\n",
      "  Downloading opencv_contrib_python-4.9.0.80-cp37-abi3-win_amd64.whl.metadata (20 kB)\n",
      "Requirement already satisfied: protobuf<4,>=3.11 in c:\\users\\asus\\anaconda3\\lib\\site-packages (from mediapipe) (3.20.3)\n",
      "Collecting sounddevice>=0.4.4 (from mediapipe)\n",
      "  Downloading sounddevice-0.4.6-py3-none-win_amd64.whl (199 kB)\n",
      "     ---------------------------------------- 0.0/199.7 kB ? eta -:--:--\n",
      "     ------------- ------------------------- 71.7/199.7 kB 3.8 MB/s eta 0:00:01\n",
      "     -------------------------------------- 199.7/199.7 kB 3.0 MB/s eta 0:00:00\n",
      "Requirement already satisfied: CFFI>=1.0 in c:\\users\\asus\\anaconda3\\lib\\site-packages (from sounddevice>=0.4.4->mediapipe) (1.15.1)\n",
      "Requirement already satisfied: contourpy>=1.0.1 in c:\\users\\asus\\anaconda3\\lib\\site-packages (from matplotlib->mediapipe) (1.0.5)\n",
      "Requirement already satisfied: cycler>=0.10 in c:\\users\\asus\\anaconda3\\lib\\site-packages (from matplotlib->mediapipe) (0.11.0)\n",
      "Requirement already satisfied: fonttools>=4.22.0 in c:\\users\\asus\\anaconda3\\lib\\site-packages (from matplotlib->mediapipe) (4.25.0)\n",
      "Requirement already satisfied: kiwisolver>=1.0.1 in c:\\users\\asus\\anaconda3\\lib\\site-packages (from matplotlib->mediapipe) (1.4.4)\n",
      "Requirement already satisfied: packaging>=20.0 in c:\\users\\asus\\anaconda3\\lib\\site-packages (from matplotlib->mediapipe) (23.1)\n",
      "Requirement already satisfied: pillow>=6.2.0 in c:\\users\\asus\\anaconda3\\lib\\site-packages (from matplotlib->mediapipe) (10.0.1)\n",
      "Requirement already satisfied: pyparsing<3.1,>=2.3.1 in c:\\users\\asus\\anaconda3\\lib\\site-packages (from matplotlib->mediapipe) (3.0.9)\n",
      "Requirement already satisfied: python-dateutil>=2.7 in c:\\users\\asus\\anaconda3\\lib\\site-packages (from matplotlib->mediapipe) (2.8.2)\n",
      "Requirement already satisfied: pycparser in c:\\users\\asus\\anaconda3\\lib\\site-packages (from CFFI>=1.0->sounddevice>=0.4.4->mediapipe) (2.21)\n",
      "Requirement already satisfied: six>=1.5 in c:\\users\\asus\\anaconda3\\lib\\site-packages (from python-dateutil>=2.7->matplotlib->mediapipe) (1.16.0)\n",
      "Downloading mediapipe-0.10.9-cp310-cp310-win_amd64.whl (50.5 MB)\n",
      "   ---------------------------------------- 0.0/50.5 MB ? eta -:--:--\n",
      "   ---------------------------------------- 0.6/50.5 MB 12.9 MB/s eta 0:00:04\n",
      "   - -------------------------------------- 1.4/50.5 MB 14.6 MB/s eta 0:00:04\n",
      "   - -------------------------------------- 2.0/50.5 MB 18.7 MB/s eta 0:00:03\n",
      "   - -------------------------------------- 2.1/50.5 MB 12.0 MB/s eta 0:00:05\n",
      "   -- ------------------------------------- 3.1/50.5 MB 13.0 MB/s eta 0:00:04\n",
      "   --- ------------------------------------ 4.8/50.5 MB 16.9 MB/s eta 0:00:03\n",
      "   ----- ---------------------------------- 6.4/50.5 MB 19.5 MB/s eta 0:00:03\n",
      "   ------ --------------------------------- 8.0/50.5 MB 21.4 MB/s eta 0:00:02\n",
      "   ------- -------------------------------- 9.7/50.5 MB 23.0 MB/s eta 0:00:02\n",
      "   --------- ------------------------------ 11.5/50.5 MB 27.3 MB/s eta 0:00:02\n",
      "   ---------- ----------------------------- 13.2/50.5 MB 36.4 MB/s eta 0:00:02\n",
      "   ----------- ---------------------------- 14.9/50.5 MB 36.4 MB/s eta 0:00:01\n",
      "   ------------- -------------------------- 16.5/50.5 MB 36.4 MB/s eta 0:00:01\n",
      "   -------------- ------------------------- 18.3/50.5 MB 36.4 MB/s eta 0:00:01\n",
      "   --------------- ------------------------ 19.9/50.5 MB 36.4 MB/s eta 0:00:01\n",
      "   ----------------- ---------------------- 21.5/50.5 MB 36.4 MB/s eta 0:00:01\n",
      "   ------------------ --------------------- 22.9/50.5 MB 34.4 MB/s eta 0:00:01\n",
      "   ------------------ --------------------- 23.9/50.5 MB 34.4 MB/s eta 0:00:01\n",
      "   ------------------ --------------------- 23.9/50.5 MB 34.4 MB/s eta 0:00:01\n",
      "   ------------------- -------------------- 24.1/50.5 MB 25.2 MB/s eta 0:00:02\n",
      "   --------------------- ------------------ 26.8/50.5 MB 27.3 MB/s eta 0:00:01\n",
      "   ---------------------- ----------------- 28.1/50.5 MB 28.4 MB/s eta 0:00:01\n",
      "   ---------------------- ----------------- 28.9/50.5 MB 24.2 MB/s eta 0:00:01\n",
      "   ----------------------- ---------------- 30.3/50.5 MB 24.2 MB/s eta 0:00:01\n",
      "   ------------------------- -------------- 32.1/50.5 MB 25.1 MB/s eta 0:00:01\n",
      "   -------------------------- ------------- 33.8/50.5 MB 25.1 MB/s eta 0:00:01\n",
      "   ---------------------------- ----------- 35.6/50.5 MB 32.8 MB/s eta 0:00:01\n",
      "   ----------------------------- ---------- 37.3/50.5 MB 32.7 MB/s eta 0:00:01\n",
      "   ------------------------------ --------- 39.0/50.5 MB 36.3 MB/s eta 0:00:01\n",
      "   -------------------------------- ------- 40.8/50.5 MB 38.6 MB/s eta 0:00:01\n",
      "   --------------------------------- ------ 42.6/50.5 MB 38.6 MB/s eta 0:00:01\n",
      "   ----------------------------------- ---- 44.4/50.5 MB 38.6 MB/s eta 0:00:01\n",
      "   ------------------------------------ --- 46.1/50.5 MB 38.5 MB/s eta 0:00:01\n",
      "   ------------------------------------- -- 47.7/50.5 MB 38.5 MB/s eta 0:00:01\n",
      "   ---------------------------------------  49.4/50.5 MB 38.5 MB/s eta 0:00:01\n",
      "   ---------------------------------------  50.5/50.5 MB 32.7 MB/s eta 0:00:01\n",
      "   ---------------------------------------  50.5/50.5 MB 32.7 MB/s eta 0:00:01\n",
      "   ---------------------------------------  50.5/50.5 MB 32.7 MB/s eta 0:00:01\n",
      "   ---------------------------------------- 50.5/50.5 MB 22.5 MB/s eta 0:00:00\n",
      "Downloading opencv_contrib_python-4.9.0.80-cp37-abi3-win_amd64.whl (45.3 MB)\n",
      "   ---------------------------------------- 0.0/45.3 MB ? eta -:--:--\n",
      "   - -------------------------------------- 1.8/45.3 MB 37.9 MB/s eta 0:00:02\n",
      "   --- ------------------------------------ 3.5/45.3 MB 37.6 MB/s eta 0:00:02\n",
      "   ---- ----------------------------------- 5.3/45.3 MB 37.4 MB/s eta 0:00:02\n",
      "   ------ --------------------------------- 7.1/45.3 MB 37.8 MB/s eta 0:00:02\n",
      "   ------- -------------------------------- 8.7/45.3 MB 37.0 MB/s eta 0:00:01\n",
      "   --------- ------------------------------ 10.7/45.3 MB 38.5 MB/s eta 0:00:01\n",
      "   ----------- ---------------------------- 12.5/45.3 MB 38.5 MB/s eta 0:00:01\n",
      "   ------------ --------------------------- 14.0/45.3 MB 38.6 MB/s eta 0:00:01\n",
      "   ------------- -------------------------- 15.8/45.3 MB 38.6 MB/s eta 0:00:01\n",
      "   --------------- ------------------------ 17.6/45.3 MB 38.6 MB/s eta 0:00:01\n",
      "   ----------------- ---------------------- 19.4/45.3 MB 38.5 MB/s eta 0:00:01\n",
      "   ------------------ --------------------- 21.1/45.3 MB 38.5 MB/s eta 0:00:01\n",
      "   -------------------- ------------------- 22.8/45.3 MB 38.5 MB/s eta 0:00:01\n",
      "   --------------------- ------------------ 24.4/45.3 MB 36.3 MB/s eta 0:00:01\n",
      "   ----------------------- ---------------- 26.2/45.3 MB 38.5 MB/s eta 0:00:01\n",
      "   ------------------------ --------------- 27.9/45.3 MB 36.4 MB/s eta 0:00:01\n",
      "   -------------------------- ------------- 29.6/45.3 MB 36.4 MB/s eta 0:00:01\n",
      "   --------------------------- ------------ 31.5/45.3 MB 38.6 MB/s eta 0:00:01\n",
      "   ----------------------------- ---------- 33.2/45.3 MB 36.4 MB/s eta 0:00:01\n",
      "   ------------------------------ --------- 34.9/45.3 MB 36.4 MB/s eta 0:00:01\n",
      "   -------------------------------- ------- 36.7/45.3 MB 36.4 MB/s eta 0:00:01\n",
      "   --------------------------------- ------ 38.4/45.3 MB 36.3 MB/s eta 0:00:01\n",
      "   ----------------------------------- ---- 40.2/45.3 MB 36.3 MB/s eta 0:00:01\n",
      "   ------------------------------------- -- 41.9/45.3 MB 36.4 MB/s eta 0:00:01\n",
      "   -------------------------------------- - 43.7/45.3 MB 38.5 MB/s eta 0:00:01\n",
      "   ---------------------------------------  45.3/45.3 MB 38.5 MB/s eta 0:00:01\n",
      "   ---------------------------------------  45.3/45.3 MB 38.5 MB/s eta 0:00:01\n",
      "   ---------------------------------------  45.3/45.3 MB 38.5 MB/s eta 0:00:01\n",
      "   ---------------------------------------- 45.3/45.3 MB 25.2 MB/s eta 0:00:00\n",
      "Installing collected packages: opencv-contrib-python, sounddevice, mediapipe\n",
      "Successfully installed mediapipe-0.10.9 opencv-contrib-python-4.9.0.80 sounddevice-0.4.6\n"
     ]
    },
    {
     "name": "stderr",
     "output_type": "stream",
     "text": [
      "WARNING: There was an error checking the latest version of pip.\n"
     ]
    }
   ],
   "source": [
    "!pip install mediapipe"
   ]
  },
  {
   "cell_type": "code",
   "execution_count": 6,
   "metadata": {
    "id": "pIwhq91j4jDK",
    "ExecuteTime": {
     "end_time": "2024-01-30T15:47:54.623672500Z",
     "start_time": "2024-01-30T15:47:54.599441300Z"
    }
   },
   "outputs": [],
   "source": [
    "import cv2\n",
    "import mediapipe as mp\n",
    "import numpy as np\n",
    "import wget"
   ]
  },
  {
   "cell_type": "markdown",
   "metadata": {
    "id": "LdZSNxTDEWOw"
   },
   "source": [
    "## Carga de imágenes de prueba"
   ]
  },
  {
   "cell_type": "code",
   "execution_count": 5,
   "metadata": {
    "colab": {
     "base_uri": "https://localhost:8080/"
    },
    "id": "XPL5ZcZk5-_Q",
    "outputId": "f2be54bc-8549-4715-9c5d-ceb81af8805f",
    "ExecuteTime": {
     "end_time": "2024-01-30T15:47:43.068788900Z",
     "start_time": "2024-01-30T15:47:42.923832500Z"
    }
   },
   "outputs": [
    {
     "name": "stderr",
     "output_type": "stream",
     "text": [
      "\"wget\" no se reconoce como un comando interno o externo,\n",
      "programa o archivo por lotes ejecutable.\n",
      "\"wget\" no se reconoce como un comando interno o externo,\n",
      "programa o archivo por lotes ejecutable.\n",
      "\"wget\" no se reconoce como un comando interno o externo,\n",
      "programa o archivo por lotes ejecutable.\n",
      "\"wget\" no se reconoce como un comando interno o externo,\n",
      "programa o archivo por lotes ejecutable.\n"
     ]
    }
   ],
   "source": [
    "!wget https://www.dropbox.com/s/2zowlbjcixmi12j/1.jpg\n",
    "!wget https://www.dropbox.com/s/s5aoodi4n6xdffb/2.png\n",
    "!wget https://www.dropbox.com/s/r2fc6878zji03wc/3.png\n",
    "!wget https://www.dropbox.com/s/od4e8f18zn3nv4t/4.png"
   ]
  },
  {
   "cell_type": "code",
   "execution_count": null,
   "metadata": {
    "colab": {
     "base_uri": "https://localhost:8080/",
     "height": 1000
    },
    "id": "Z_RcINXjEafk",
    "outputId": "995a60b6-d8e1-4376-88ab-9b9232ce8d70"
   },
   "outputs": [],
   "source": [
    "import cv2\n",
    "import matplotlib.pyplot as plt\n",
    "\n",
    "\n",
    "X1 = cv2.imread('1.jpg')\n",
    "X2 = cv2.imread('2.png')\n",
    "X3 = cv2.imread('3.png')\n",
    "X4 = cv2.imread('4.png')\n",
    "\n",
    "plt.imshow(cv2.cvtColor(X1, cv2.COLOR_BGR2RGB))\n",
    "plt.title('X1')\n",
    "plt.show()\n",
    "plt.imshow(cv2.cvtColor(X2, cv2.COLOR_BGR2RGB))\n",
    "plt.title('X2')\n",
    "plt.show()\n",
    "plt.imshow(cv2.cvtColor(X3, cv2.COLOR_BGR2RGB))\n",
    "plt.title('X3')\n",
    "plt.show()\n",
    "plt.imshow(cv2.cvtColor(X4, cv2.COLOR_BGR2RGB))\n",
    "plt.title('X4')\n",
    "plt.show()\n"
   ]
  },
  {
   "cell_type": "code",
   "execution_count": null,
   "metadata": {
    "colab": {
     "base_uri": "https://localhost:8080/",
     "height": 679
    },
    "id": "pmwFZcU7E3R0",
    "outputId": "ce5b60f3-2664-4bb1-fc53-8b295144d17f"
   },
   "outputs": [],
   "source": [
    "import cv2\n",
    "import mediapipe as mp\n",
    "mp_drawing = mp.solutions.drawing_utils\n",
    "mp_drawing_styles = mp.solutions.drawing_styles\n",
    "mp_face_mesh = mp.solutions.face_mesh\n",
    "\n",
    "drawing_spec = mp_drawing.DrawingSpec(thickness=1, circle_radius=1)\n",
    "with mp_face_mesh.FaceMesh(\n",
    "    static_image_mode=True,\n",
    "    max_num_faces=1,\n",
    "    refine_landmarks=True,\n",
    "    min_detection_confidence=0.5) as face_mesh:\n",
    "\n",
    "  ##### INPUT IMAGE HERE:\n",
    "  image = X2\n",
    "  ##### INPUT IMAGE HERE:\n",
    "\n",
    "  # Convert the BGR image to RGB before processing.\n",
    "  results = face_mesh.process(cv2.cvtColor(image, cv2.COLOR_BGR2RGB))\n",
    "\n",
    "  annotated_image = image.copy()\n",
    "  #annotated_image = np.zeros(image.shape,np.ndarray)\n",
    "  #plt.imshow(annotated_image)\n",
    "  for face_landmarks in results.multi_face_landmarks:\n",
    "    #print('face_landmarks:', face_landmarks)\n",
    "    mp_drawing.draw_landmarks(\n",
    "          image=annotated_image,\n",
    "          landmark_list=face_landmarks,\n",
    "          connections=mp_face_mesh.FACEMESH_TESSELATION,\n",
    "          landmark_drawing_spec=None,\n",
    "          connection_drawing_spec=mp_drawing_styles\n",
    "          .get_default_face_mesh_tesselation_style())\n",
    "    mp_drawing.draw_landmarks(\n",
    "          image=annotated_image,\n",
    "          landmark_list=face_landmarks,\n",
    "          connections=mp_face_mesh.FACEMESH_CONTOURS,\n",
    "          landmark_drawing_spec=None,\n",
    "          connection_drawing_spec=mp_drawing_styles\n",
    "          .get_default_face_mesh_contours_style())\n",
    "    mp_drawing.draw_landmarks(\n",
    "          image=annotated_image,\n",
    "          landmark_list=face_landmarks,\n",
    "          connections=mp_face_mesh.FACEMESH_IRISES,\n",
    "          landmark_drawing_spec=None,\n",
    "          connection_drawing_spec=mp_drawing_styles\n",
    "          .get_default_face_mesh_iris_connections_style())\n",
    "\n",
    "plt.figure(figsize=(10,15))\n",
    "plt.imshow(cv2.cvtColor(annotated_image, cv2.COLOR_BGR2RGB))\n",
    "plt.show()\n"
   ]
  }
 ],
 "metadata": {
  "colab": {
   "collapsed_sections": [],
   "name": "CV03_FaceMesh.ipynb",
   "provenance": []
  },
  "kernelspec": {
   "name": "python3",
   "language": "python",
   "display_name": "Python 3 (ipykernel)"
  },
  "language_info": {
   "name": "python"
  }
 },
 "nbformat": 4,
 "nbformat_minor": 0
}
