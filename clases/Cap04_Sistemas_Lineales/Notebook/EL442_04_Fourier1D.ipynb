{
 "nbformat": 4,
 "nbformat_minor": 0,
 "metadata": {
  "colab": {
   "name": "IMG04_Fourier1D.ipynb",
   "provenance": [],
   "collapsed_sections": []
  },
  "kernelspec": {
   "name": "python3",
   "language": "python",
   "display_name": "Python 3 (ipykernel)"
  },
  "language_info": {
   "name": "python"
  }
 },
 "cells": [
  {
   "cell_type": "markdown",
   "source": [
    "p# Sistemas Lineales<a class=\"tocSkip\">\n",
    "## TRATAMIENTO DE SEÑALES <a class=\"tocSkip\">\n",
    "### Ingenieria Electrónica <a class=\"tocSkip\">\n",
    "### Universidad Popular del Cesar <a class=\"tocSkip\">\n",
    "### Prof.: Jose Ramón Iglesias Gamarra - [https://github.com/joseramoniglesias/](https://github.com/joseramoniglesias/) <a class=\"tocSkip\">\n",
    "  **joseiglesias@unicesar.edu.co**"
   ],
   "metadata": {
    "collapsed": false
   }
  },
  {
   "cell_type": "markdown",
   "source": [
    "# Ejemplo Sencillo con FFT"
   ],
   "metadata": {
    "collapsed": false
   }
  },
  {
   "cell_type": "markdown",
   "metadata": {
    "id": "i6QQgL3drWvD"
   },
   "source": [
    "Referencias:\n",
    "\n",
    "* [Real Python (FFT)](https://realpython.com/python-scipy-fft/)"
   ]
  },
  {
   "cell_type": "markdown",
   "metadata": {
    "id": "2IHJ-GPNvLU3"
   },
   "source": [
    "## Generación de una Onda Seno"
   ]
  },
  {
   "cell_type": "code",
   "metadata": {
    "colab": {
     "base_uri": "https://localhost:8080/",
     "height": 265
    },
    "id": "KzViVu4Ladfu",
    "outputId": "b59fec98-1fed-445b-8c50-44059e30a9bc"
   },
   "source": [
    "import numpy as np\n",
    "from matplotlib import pyplot as plt\n",
    "import os\n",
    "\n",
    "SAMPLE_RATE = 44100  # Hertz\n",
    "DURATION = 5  # Seconds\n",
    "\n",
    "def generate_sine_wave(freq, sample_rate, duration):\n",
    "    x = np.linspace(0, duration, sample_rate * duration, endpoint=False)\n",
    "    frequencies = x * freq\n",
    "    # 2pi because np.sin takes radians\n",
    "    y = np.sin((2 * np.pi) * frequencies)\n",
    "    return x, y\n",
    "\n",
    "# Generate a 2 hertz sine wave that lasts for 5 seconds\n",
    "x, y = generate_sine_wave(3, SAMPLE_RATE, DURATION)\n",
    "plt.plot(x, y)\n",
    "plt.show()"
   ],
   "outputs": [],
   "execution_count": null
  },
  {
   "cell_type": "markdown",
   "metadata": {
    "id": "63JbNO-KvPx-"
   },
   "source": [
    "## Audio + Ruido"
   ]
  },
  {
   "cell_type": "code",
   "metadata": {
    "colab": {
     "base_uri": "https://localhost:8080/",
     "height": 265
    },
    "id": "JcibIj-IiQY1",
    "outputId": "d2c2f031-4251-40b6-b022-9cd80e226650"
   },
   "source": [
    "_, nice_tone   = generate_sine_wave( 440, SAMPLE_RATE, DURATION)\n",
    "_, noise_tone1 = generate_sine_wave(4000, SAMPLE_RATE, DURATION)\n",
    "_, noise_tone2 = generate_sine_wave(5000, SAMPLE_RATE, DURATION)\n",
    "_, noise_tone3 = generate_sine_wave(6000, SAMPLE_RATE, DURATION)\n",
    "_, noise_tone4 = generate_sine_wave(7000, SAMPLE_RATE, DURATION)\n",
    "noise_tone = noise_tone1 * 0.1 + noise_tone2 * 0.2 + noise_tone3 * 0.3 + noise_tone4 * 0.4\n",
    "\n",
    "mixed_tone = nice_tone + noise_tone\n",
    "\n",
    "y_original = np.int16((mixed_tone / mixed_tone.max()) * 32767)\n",
    "\n",
    "plt.plot(y_original[:1000])\n",
    "plt.show()"
   ],
   "outputs": [],
   "execution_count": null
  },
  {
   "cell_type": "code",
   "metadata": {
    "id": "UsckKMKrifx9"
   },
   "source": [
    "from scipy.io import wavfile\n",
    "\n",
    "# Remember SAMPLE_RATE = 44100 Hz is our playback rate\n",
    "wavfile.write(\"original.wav\", SAMPLE_RATE, y_original)"
   ],
   "outputs": [],
   "execution_count": null
  },
  {
   "cell_type": "code",
   "metadata": {
    "colab": {
     "base_uri": "https://localhost:8080/",
     "height": 75
    },
    "id": "v8FxBOPNisz9",
    "outputId": "ad30dd6d-3cb1-48e2-8018-9aca1bf6debd"
   },
   "source": [
    "import IPython.display as ipd\n",
    "ipd.Audio('original.wav') # This is required on Google Colab due to compatibility issues\n"
   ],
   "outputs": [],
   "execution_count": null
  },
  {
   "metadata": {},
   "cell_type": "code",
   "source": [
    "import librosa\n",
    "import IPython.display as ipd\n",
    "sample, sr = librosa.core.load('original.wav')\n",
    "ipd.Audio(sample, rate=SAMPLE_RATE)"
   ],
   "outputs": [],
   "execution_count": null
  },
  {
   "cell_type": "code",
   "metadata": {
    "colab": {
     "base_uri": "https://localhost:8080/",
     "height": 265
    },
    "id": "_djnIP038OKN",
    "outputId": "6c8a935b-f489-4aed-9d7e-c4a38ea2b140"
   },
   "source": [
    "# How to read a wav file\n",
    "SAMPLE_RATE, y_original = wavfile.read('original.wav')\n",
    "plt.plot(y_original[:1000])\n",
    "plt.show()"
   ],
   "outputs": [],
   "execution_count": null
  },
  {
   "cell_type": "markdown",
   "metadata": {
    "id": "wS1Pp6jFvTaZ"
   },
   "source": [
    "## Transformada de Fourier"
   ]
  },
  {
   "cell_type": "code",
   "metadata": {
    "colab": {
     "base_uri": "https://localhost:8080/",
     "height": 276
    },
    "id": "MWg706VJjg5z",
    "outputId": "a02c56ea-7335-40e6-a77b-9e3220784305"
   },
   "source": [
    "from scipy.fft import fft, fftfreq\n",
    "\n",
    "# Number of samples in y_original\n",
    "N = len(y_original) # = SAMPLE_RATE * DURATION\n",
    "\n",
    "yf = fft(y_original)\n",
    "xf = fftfreq(N, 1 / SAMPLE_RATE)\n",
    "\n",
    "plt.plot(xf, np.abs(yf))\n",
    "plt.show()"
   ],
   "outputs": [],
   "execution_count": null
  },
  {
   "cell_type": "code",
   "metadata": {
    "colab": {
     "base_uri": "https://localhost:8080/",
     "height": 276
    },
    "id": "fMBbxgyTj6CB",
    "outputId": "771e93ba-f18e-41be-e0ff-a5a1910f3d1c"
   },
   "source": [
    "from scipy.fft import rfft, rfftfreq\n",
    "\n",
    "# Note the extra 'r' at the front\n",
    "yf = rfft(y_original)\n",
    "xf = rfftfreq(N, 1 / SAMPLE_RATE)\n",
    "\n",
    "plt.plot(xf, np.abs(yf))\n",
    "plt.show()"
   ],
   "outputs": [],
   "execution_count": null
  },
  {
   "cell_type": "markdown",
   "metadata": {
    "id": "-lPeIu3hvXz5"
   },
   "source": [
    "## Filtrando"
   ]
  },
  {
   "cell_type": "code",
   "metadata": {
    "colab": {
     "base_uri": "https://localhost:8080/",
     "height": 276
    },
    "id": "vBYirJwmn8_K",
    "outputId": "b6e3328b-adc0-416d-bcdc-b5488f191bda"
   },
   "source": [
    "# The maximum frequency is half the sample rate\n",
    "points_per_freq = len(xf) / (SAMPLE_RATE / 2)\n",
    "\n",
    "# Our target frequency is 4000 Hz\n",
    "target_idx = int(points_per_freq * 2000)\n",
    "\n",
    "yf_abs = np.abs(yf)\n",
    "\n",
    "plt.plot(xf,yf_abs)\n",
    "\n",
    "hf = np.ones((len(xf),))\n",
    "hf[target_idx:] = 0\n",
    "plt.plot(xf, hf*np.max(yf_abs)/2)\n",
    "plt.legend(['signal','filter'])\n",
    "plt.show()\n"
   ],
   "outputs": [],
   "execution_count": null
  },
  {
   "cell_type": "code",
   "metadata": {
    "colab": {
     "base_uri": "https://localhost:8080/",
     "height": 276
    },
    "id": "njuKivHZj_sk",
    "outputId": "f2c45f6a-0f6c-4313-9cbf-6f31657e241e"
   },
   "source": [
    "# Filtering\n",
    "yff = np.multiply(yf,hf)\n",
    "plt.plot(xf, np.abs(yff))\n",
    "plt.show()"
   ],
   "outputs": [],
   "execution_count": null
  },
  {
   "cell_type": "code",
   "metadata": {
    "colab": {
     "base_uri": "https://localhost:8080/",
     "height": 265
    },
    "id": "7ZWOIKvZkHGF",
    "outputId": "e556d185-0abf-4282-a7e4-d74fa6aa3bff"
   },
   "source": [
    "from scipy.fft import irfft\n",
    "\n",
    "y_filtered_real = irfft(yff).real\n",
    "y_filtered      = y_filtered_real.astype(np.int16)\n",
    "\n",
    "plt.plot(y_original[:1000])\n",
    "plt.plot(y_filtered[:1000])\n",
    "plt.show()"
   ],
   "outputs": [],
   "execution_count": null
  },
  {
   "cell_type": "code",
   "metadata": {
    "id": "ZFQYrCcUov0a"
   },
   "source": [
    "# Remember SAMPLE_RATE = 44100 Hz is our playback rate\n",
    "wavfile.write(\"filtered.wav\", SAMPLE_RATE, y_filtered)"
   ],
   "outputs": [],
   "execution_count": null
  },
  {
   "cell_type": "code",
   "metadata": {
    "colab": {
     "base_uri": "https://localhost:8080/",
     "height": 75
    },
    "id": "5Iw9uI2so_c3",
    "outputId": "e5734cec-0bc3-4d4e-cfb1-c7ec19a0211e"
   },
   "source": [
    "import IPython.display\n",
    "IPython.display.Audio('filtered.wav') # This is required on Google Colab due to compatibility issues\n"
   ],
   "outputs": [],
   "execution_count": null
  },
  {
   "cell_type": "code",
   "metadata": {
    "colab": {
     "base_uri": "https://localhost:8080/",
     "height": 75
    },
    "id": "WQbZHxnRpAX2",
    "outputId": "42bc6b6c-5b08-4792-9cee-3b4d1ef7d5f8"
   },
   "source": [
    "IPython.display.Audio('original.wav') # This is required on Google Colab due to compatibility issues\n"
   ],
   "outputs": [],
   "execution_count": null
  },
  {
   "cell_type": "markdown",
   "metadata": {
    "id": "oq-2usfnvk3N"
   },
   "source": [
    "# Ejemplos avanzados\n",
    "\n",
    "* From [Audio Processing (colab)](https://colab.research.google.com/github/Tyler-Hilbert/AudioProcessingInPythonWorkshop/blob/master/AudioProcessingInPython.ipynb#scrollTo=zWgVpXThNqVD)\n"
   ]
  },
  {
   "cell_type": "markdown",
   "metadata": {
    "id": "K-KA0DlXvyh4"
   },
   "source": [
    "## Ejemplo 1: onda seno"
   ]
  },
  {
   "cell_type": "code",
   "metadata": {
    "colab": {
     "base_uri": "https://localhost:8080/"
    },
    "id": "MeNyEy8osr7v",
    "outputId": "78a7711d-3702-4975-d7c1-4c1b5b61ca61"
   },
   "source": [
    "clone = \"git clone https://github.com/AllenDowney/ThinkDSP.git\"\n",
    "os.system(clone)"
   ],
   "outputs": [],
   "execution_count": null
  },
  {
   "cell_type": "code",
   "metadata": {
    "colab": {
     "base_uri": "https://localhost:8080/",
     "height": 340
    },
    "id": "Mc0CsnYrs0yK",
    "outputId": "952bcdf3-9537-4d1f-d8c9-b45ffd351ab5"
   },
   "source": [
    "# This file shows how to generate a sine wave using the ThinkDSP library.\n",
    "import sys\n",
    "sys.path.insert(0, 'ThinkDSP/code/') \n",
    "import thinkdsp\n",
    "import matplotlib.pyplot as pyplot\n",
    "import IPython.display\n",
    "\n",
    "# Generate wave\n",
    "sin = thinkdsp.SinSignal(freq=400, amp=0.5) # Where freq is the frequency and amp is the amplitude of the sine wave\n",
    "wave = sin.make_wave(duration=2, start=0, framerate=44100) # Turn the sin wave into an audio wave\n",
    "\n",
    "# Plot wave\n",
    "period = sin.period\n",
    "segment = wave.segment(start=0, duration=period*3)\n",
    "segment.plot()\n",
    "pyplot.show()\n",
    "\n",
    "# Play wave\n",
    "wave.play()\n",
    "IPython.display.Audio('sound.wav') # This is required on Google Colab due to compatibility issues\n"
   ],
   "outputs": [],
   "execution_count": null
  },
  {
   "cell_type": "code",
   "metadata": {
    "colab": {
     "base_uri": "https://localhost:8080/",
     "height": 340
    },
    "id": "VIQqAsBis9Bg",
    "outputId": "673f92c6-5f0e-4af7-dfe5-109f76e129b8"
   },
   "source": [
    "import sys\n",
    "sys.path.insert(0, 'ThinkDSP/code/') \n",
    "import thinkdsp\n",
    "import matplotlib.pyplot as pyplot\n",
    "import IPython\n",
    "\n",
    "# Generate wave\n",
    "sin1 = thinkdsp.SinSignal(freq=400, amp=0.5)\n",
    "sin2 = thinkdsp.SinSignal(freq=800, amp=0.3)\n",
    "mix = sin1 + sin2 # Notice here how 2 waves can be added together\n",
    "wave = mix.make_wave(duration=2, start=0, framerate=44100)\n",
    "\n",
    "# Plot wave\n",
    "period = mix.period\n",
    "segment = wave.segment(start=0, duration=period*3)\n",
    "segment.plot()\n",
    "pyplot.show()\n",
    "\n",
    "# Play wave\n",
    "wave.play()\n",
    "IPython.display.Audio('sound.wav')"
   ],
   "outputs": [],
   "execution_count": null
  },
  {
   "cell_type": "code",
   "metadata": {
    "colab": {
     "base_uri": "https://localhost:8080/",
     "height": 340
    },
    "id": "Tyzr1bf1tBdu",
    "outputId": "f4229c28-b4e9-4b85-cc48-6c18dfd9fc4d"
   },
   "source": [
    "import sys\n",
    "sys.path.insert(0, 'ThinkDSP/code/') \n",
    "import thinkdsp\n",
    "import matplotlib.pyplot as pyplot\n",
    "import IPython\n",
    "\n",
    "# Generate wave\n",
    "sin1 = thinkdsp.SinSignal(freq=400, amp=0.5)\n",
    "sin2 = thinkdsp.SinSignal(freq=800, amp=0.3)\n",
    "mix = sin1 + sin2 # Notice here how 2 waves can be added together\n",
    "wave = mix.make_wave(duration=2, start=0, framerate=44100)\n",
    "\n",
    "# Plot spectrum of wave\n",
    "spectrum = wave.make_spectrum()\n",
    "spectrum.plot()\n",
    "pyplot.show()\n",
    "\n",
    "# Play wave\n",
    "wave.play()\n",
    "IPython.display.Audio('sound.wav')"
   ],
   "outputs": [],
   "execution_count": null
  },
  {
   "cell_type": "markdown",
   "metadata": {
    "id": "EevzyjQgv_qa"
   },
   "source": [
    "## Ejemplo 2: archivo de audio"
   ]
  },
  {
   "cell_type": "code",
   "metadata": {
    "colab": {
     "base_uri": "https://localhost:8080/"
    },
    "id": "53LyubOPtHjs",
    "outputId": "1209757d-4665-4892-990b-4323e9665c7a"
   },
   "source": [
    "clone_1 = \"git clone https://github.com/Tyler-Hilbert/AudioProcessingInPythonWorkshop.git\"\n",
    "os.system(clone_1)"
   ],
   "outputs": [],
   "execution_count": null
  },
  {
   "cell_type": "code",
   "metadata": {
    "colab": {
     "base_uri": "https://localhost:8080/",
     "height": 340
    },
    "id": "TVRb8Sg1tKyg",
    "outputId": "65d3b411-c78e-48f7-87a0-290b31b1a3c8"
   },
   "source": [
    "import sys\n",
    "sys.path.insert(0, 'ThinkDSP/code/') \n",
    "import thinkdsp\n",
    "import matplotlib.pyplot as pyplot\n",
    "import IPython\n",
    "\n",
    "# Read in audio file\n",
    "# FIXME - will this work for non wav files\n",
    "wave = thinkdsp.read_wave('AudioProcessingInPythonWorkshop/test.wav')\n",
    "\n",
    "# Grab first 10 seconds of audio (you can ignore me)\n",
    "clipLength = 10 # in seconds\n",
    "index = 0\n",
    "while (index < wave.ts.size and wave.ts[index] < clipLength):\n",
    "\tindex += 1\n",
    "# Remove extras\n",
    "wave.ts = wave.ts[:index]\n",
    "wave.ys = wave.ys[:index]\n",
    "\n",
    "# Plot spectrum of audio file\n",
    "spectrum = wave.make_spectrum()\n",
    "spectrum.plot()\n",
    "pyplot.show()\n",
    "\n",
    "# Play audio file\n",
    "wave.play()\n",
    "IPython.display.Audio('sound.wav')"
   ],
   "outputs": [],
   "execution_count": null
  },
  {
   "cell_type": "code",
   "metadata": {
    "colab": {
     "base_uri": "https://localhost:8080/",
     "height": 340
    },
    "id": "qCMAuZhKtRq1",
    "outputId": "f6f22653-f1a0-4385-da88-87b9a1bee7d7"
   },
   "source": [
    "import sys\n",
    "sys.path.insert(0, 'ThinkDSP/code/') \n",
    "import thinkdsp\n",
    "import matplotlib.pyplot as pyplot\n",
    "import IPython\n",
    "\n",
    "# Read in audio file\n",
    "wave = thinkdsp.read_wave('AudioProcessingInPythonWorkshop/test.wav')\n",
    "\n",
    "# Grab first 10 seconds of audio (you can ignore me)\n",
    "clipLength = 10 # in seconds\n",
    "index = 0\n",
    "while (index < wave.ts.size and wave.ts[index] < clipLength):\n",
    "\tindex += 1\n",
    "# Remove extras\n",
    "wave.ts = wave.ts[:index]\n",
    "wave.ys = wave.ys[:index]\n",
    "\n",
    "\n",
    "# Filter\n",
    "spectrum = wave.make_spectrum()\n",
    "spectrum.low_pass(cutoff = 500, factor = .1)\n",
    "#spectrum.high_pass(cutoff = 1500, factor = .1) # FIXME - Change back to low pass filter\n",
    "filteredWave = spectrum.make_wave()\n",
    "\n",
    "# Plot spectrum of audio file\n",
    "spectrum = filteredWave.make_spectrum()\n",
    "spectrum.plot()\n",
    "pyplot.show()\n",
    "\n",
    "# Play filtered audio file\n",
    "filteredWave.play()\n",
    "IPython.display.Audio('sound.wav')"
   ],
   "outputs": [],
   "execution_count": null
  },
  {
   "cell_type": "code",
   "metadata": {
    "colab": {
     "base_uri": "https://localhost:8080/",
     "height": 374
    },
    "id": "O6nBjJ4Ntb7s",
    "outputId": "f1caaf3b-e172-4ba1-8969-4c18bde4bc9c"
   },
   "source": [
    "import sys\n",
    "sys.path.insert(0, 'ThinkDSP/code/') \n",
    "import thinkdsp\n",
    "import matplotlib.pyplot as pyplot\n",
    "import IPython\n",
    "\n",
    "# Read in audio file\n",
    "wave = thinkdsp.read_wave('AudioProcessingInPythonWorkshop/test.wav')\n",
    "\n",
    "# Grab first 10 seconds of audio (you can ignore me)\n",
    "clipLength = 10 # in seconds\n",
    "index = 0\n",
    "while (index < wave.ts.size and wave.ts[index] < clipLength):\n",
    "\tindex += 1\n",
    "# Remove extras\n",
    "wave.ts = wave.ts[:index]\n",
    "wave.ys = wave.ys[:index]\n",
    "\n",
    "\n",
    "# Filter\n",
    "spectrum = wave.make_spectrum()\n",
    "spectrum.high_pass(cutoff = 1500, factor = .1) # FIXME - Change back to low pass filter\n",
    "filteredWave = spectrum.make_wave()\n",
    "\n",
    "# Add filtered wave to original wave\n",
    "filteredWave.ys *= 10 # Increase the filtered wave's power so the treble effect is more noticable\n",
    "combinedWave = filteredWave + wave\n",
    "\n",
    "# Plot spectrum of audio file\n",
    "spectrum = wave.make_spectrum()\n",
    "spectrum.plot()\n",
    "pyplot.show()\n",
    "\n",
    "# Play filtered audio file\n",
    "combinedWave.play()\n",
    "IPython.display.Audio('sound.wav')"
   ],
   "outputs": [],
   "execution_count": null
  },
  {
   "cell_type": "markdown",
   "metadata": {
    "id": "r78OCrJkup24"
   },
   "source": [
    "## Ejemplo 3: archivo mp3"
   ]
  },
  {
   "cell_type": "code",
   "metadata": {
    "colab": {
     "base_uri": "https://localhost:8080/"
    },
    "id": "OUjTi13AtvwB",
    "outputId": "a799475a-6996-4f86-e877-1e8c5d0efe86"
   },
   "source": [
    "import subprocess\n",
    "import sys\n",
    "#!ffmpeg -i rock.mp3 rock.wav\n",
    "subprocess.call(['ffmpeg', '-i', 'AudioProcessingInPythonWorkshop/rock.mp3',\n",
    "                 'AudioProcessingInPythonWorkshop/rock.wav'])\n",
    "#subprocess.call(['ffmpeg', '-i', 'rock.mp3',\n",
    "#                   'rock.wav'])"
   ],
   "outputs": [],
   "execution_count": null
  },
  {
   "cell_type": "code",
   "metadata": {
    "id": "4JZuxAOttm6w"
   },
   "source": [
    "wave = thinkdsp.read_wave('AudioProcessingInPythonWorkshop/rock.wav') # Paste this into the previous examples"
   ],
   "outputs": [],
   "execution_count": null
  },
  {
   "cell_type": "code",
   "metadata": {
    "colab": {
     "background_save": true
    },
    "id": "zQ_54m9kt6fN",
    "outputId": "28cfc79b-e487-4a7a-af5a-6ab0d9bb9e1f"
   },
   "source": [
    "IPython.display.Audio('AudioProcessingInPythonWorkshop/rock.wav')"
   ],
   "outputs": [],
   "execution_count": null
  },
  {
   "cell_type": "markdown",
   "metadata": {
    "id": "j1I1jA9XwNER"
   },
   "source": [
    "*Use el código del ejemplo 2 para filtrar esta señal de audio*"
   ]
  },
  {
   "cell_type": "markdown",
   "source": [
    "**Copyright**\n",
    "\n",
    "The notebooks are provided as [Open Educational Resource](https://de.wikipedia.org/wiki/Open_Educational_Resources). Feel free to use the notebooks for your own educational purposes. The text is licensed under [Creative Commons Attribution 4.0](https://creativecommons.org/licenses/by/4.0/), the code of the IPython examples under the [MIT license](https://opensource.org/licenses/MIT)."
   ],
   "metadata": {
    "collapsed": false
   }
  },
  {
   "cell_type": "code",
   "source": [],
   "metadata": {
    "collapsed": false
   },
   "outputs": [],
   "execution_count": null
  }
 ]
}
