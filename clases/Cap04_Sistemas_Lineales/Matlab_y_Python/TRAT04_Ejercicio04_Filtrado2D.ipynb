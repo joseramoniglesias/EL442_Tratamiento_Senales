{
  "nbformat": 4,
  "nbformat_minor": 0,
  "metadata": {
    "colab": {
      "name": "IMG04_Eje04_Filtrado2D.ipynb",
      "provenance": [],
      "collapsed_sections": [
        "y555mF_K9hG8"
      ]
    },
    "kernelspec": {
      "name": "python3",
      "display_name": "Python 3"
    },
    "language_info": {
      "name": "python"
    }
  },
  "cells": [
    {
      "cell_type": "markdown",
      "metadata": {
        "id": "UpRNlGMcwgsz"
      },
      "source": [
        "<font color='red'>No se aceptan soluciones que usen metodologías distintas a la vistas en clases.</font>\n",
        "\n",
        "<font color='orange'>Se puede usar el código de los ejemplos vistos en clases.</font>\n",
        "\n"
      ]
    },
    {
      "cell_type": "markdown",
      "metadata": {
        "id": "h1h2bAmpGfbf"
      },
      "source": [
        "# 1) Ingrese su Nombre y Número de alumno/a\n",
        "\n",
        "(1 Punto)"
      ]
    },
    {
      "cell_type": "code",
      "metadata": {
        "id": "qtVSn8wesG39",
        "colab": {
          "base_uri": "https://localhost:8080/"
        },
        "outputId": "4f477244-fb06-4cac-fb2d-fda742119bca"
      },
      "source": [
        "Nombre = '' # Por ejemplo: 'Carmen Gloria Perez'\n",
        "ID     = '' # Por ejemplo: '12345678K'\n",
        "\n",
        "# Se puede trabajar en grupo, pero la entrega es individual\n",
        "Integrantes = [ID,'1234','567'] # Coloque aqui los integrantes del grupo si es que no trabajo de forma individual\n",
        "\n",
        "print('IMPORTANTE: Cambie el nombre del archivo (arriba-izquierda) por '+ID+'.ipynb')"
      ],
      "execution_count": null,
      "outputs": [
        {
          "output_type": "stream",
          "name": "stdout",
          "text": [
            "IMPORTANTE: Cambie el nombre del archivo (arriba-izquierda) por .ipynb\n"
          ]
        }
      ]
    },
    {
      "cell_type": "markdown",
      "metadata": {
        "id": "nA44e9T1r-LC"
      },
      "source": [
        "# 2) Importe las Librerías\n",
        "\n",
        "(1 Punto)\n",
        "\n",
        "*Todas las librerías de este código deben ir en esta celda. Sólo está permitido usar las librerías de los ejemplos vistos en clase.*\n",
        "\n"
      ]
    },
    {
      "cell_type": "code",
      "metadata": {
        "id": "UXiVKMkTrPU8"
      },
      "source": [
        ""
      ],
      "execution_count": null,
      "outputs": []
    },
    {
      "cell_type": "markdown",
      "metadata": {
        "id": "K2boD201sK27"
      },
      "source": [
        "# 3) Filtro Anti-alising\n",
        "\n",
        "(5 Puntos)\n",
        " \n",
        "Para este ejericio:\n",
        "\n",
        "* Descargar la siguiente imagen `https://www.dropbox.com/s/1bbbynmdcr8bef1/CamisaRayas.jpg`\n",
        "\n",
        "* Convertir la imagen a tonos de gris\n",
        "\n",
        "* Submuestrear la imagen cada 8 pixeles en ambas direcciones (horizontal y vertical) y observar el efecto aliasing en la camisa a rayas.\n",
        "\n",
        "* Corregir el efecto aliasing en la camisa a rayas usando filtros en el dominio de Fourier. La salida debe ser una imagen del mismo tamaño que la anterior sin el efecto aliasing.\n",
        "\n",
        "\n",
        "\n",
        "\n"
      ]
    },
    {
      "cell_type": "code",
      "metadata": {
        "id": "T7-6JM6zyFMP"
      },
      "source": [
        ""
      ],
      "execution_count": null,
      "outputs": []
    },
    {
      "cell_type": "markdown",
      "metadata": {
        "id": "bidVCiYCpWGC"
      },
      "source": [
        "# 4) Eliminación de Ruido\n",
        "(4 Puntos)\n",
        "\n",
        "Para este ejercicio, \n",
        "\n",
        "* Descargar la imagen `https://www.dropbox.com/s/d3uqhtmpjrhfvlp/sailing_noise.png`\n",
        "\n",
        "* Eliminar el ruido de la imagen usando un filtro Butterworth adecuado, es decir que no se vean anillos de replica alrededor del velero de la imagen.\n",
        "\n",
        "\n",
        "<font color='orange'>NOTA: En este ejercicio se espera que elimine completamente el ruido de alta frecuencia, el resultado será una imagen borrosa sin ruido.</font>\n"
      ]
    },
    {
      "cell_type": "code",
      "metadata": {
        "id": "PokwKyXXsNqc"
      },
      "source": [
        ""
      ],
      "execution_count": null,
      "outputs": []
    },
    {
      "cell_type": "markdown",
      "metadata": {
        "id": "pmQmzL5L9Loq"
      },
      "source": [
        "# 5) Filtro de agudización\n",
        "\n",
        "(5 puntos)\n",
        "\n",
        "Para el siguiente ejercicio,\n",
        "\n",
        "* Descargar la imagen almacenada en `https://www.dropbox.com/s/61ryk6r0wd72gqh/blurdrops.png`\n",
        "\n",
        "* Usando un filtro de agudización que utilice un filtro Gaussiano resalte los detalles de la imagen.\n",
        "\n",
        "\n",
        "<font color='orange'>NOTA: En este ejercicio se espera una imagen de salida más nítida.</font>\n",
        "\n",
        "\n"
      ]
    },
    {
      "cell_type": "code",
      "metadata": {
        "id": "wg_gcfg1eqlk"
      },
      "source": [
        ""
      ],
      "execution_count": null,
      "outputs": []
    },
    {
      "cell_type": "markdown",
      "metadata": {
        "id": "y555mF_K9hG8"
      },
      "source": [
        "# <font color='red'>ENVIAR EJERCICIO DE FORMA INDIVIDUAL AL CORREO DEL PROFESOR</font> \n",
        "\n",
        "<font color='orange'>(subir archivo NumeroAlumnx.ipynb) </font>\n",
        "\n",
        " \n"
      ]
    }
  ]
}