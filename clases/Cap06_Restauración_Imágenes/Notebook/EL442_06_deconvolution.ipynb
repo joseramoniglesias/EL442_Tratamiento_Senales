{
 "cells": [
  {
   "cell_type": "markdown",
   "metadata": {
    "slideshow": {
     "slide_type": "slide"
    }
   },
   "source": [
    "# Deconvolution\n",
    "\n",
    "*Dr Chas Nelson*\n",
    "\n",
    "*Part of https://github.com/ChasNelson1990/image-processing-in-python*"
   ]
  },
  {
   "cell_type": "markdown",
   "metadata": {
    "slideshow": {
     "slide_type": "subslide"
    }
   },
   "source": [
    "## Objectives\n",
    "\n",
    "* Recognise additional image processing techniques (e.g. deconvolution) that are possible in a Python environment"
   ]
  },
  {
   "cell_type": "markdown",
   "metadata": {},
   "source": [
    "* One common operation in microscopy that takes place in the frequency domain is deconvolution.\n",
    "* `scitkit-image.restoration` has a variety of denoising and deconvolution algorithms, including a Richardson-Lucy implementation."
   ]
  },
  {
   "cell_type": "code",
   "execution_count": null,
   "metadata": {},
   "outputs": [],
   "source": [
    "import psf\n",
    "from skimage import transform\n",
    "from skimage import exposure\n",
    "\n",
    "sz = 11\n",
    "args = {\n",
    "    'shape': (sz, sz),  # size of calculated psf array in pixels\n",
    "    'dims': (x_pixel_size/1000*sz, y_pixel_size/1000*sz),  # size of array in microns\n",
    "    'em_wavelen': 520.0,  # emission wavelength in nanometers\n",
    "    'num_aperture': 1.25,  # numerical aperture\n",
    "    'refr_index': 1.333,  # refractive index\n",
    "    'magnification': 100,  # magnification\n",
    "}\n",
    "\n",
    "gauss = psf.PSF(psf.GAUSSIAN | psf.EMISSION, **args)\n",
    "\n",
    "psf_ideal = gauss.volume()\n",
    "\n",
    "# # Display PSF before resizing for anisotropy\n",
    "# f, axes = plt.subplots(2,2)\n",
    "# (XZ, XY, null, ZY) = axes.flatten()\n",
    "# f.suptitle(\"Gaussian PSF\")\n",
    "\n",
    "# ZY.imshow(psf_ideal[:,sz,:], cmap=\"gray\", interpolation='none')\n",
    "# ZY.grid(False)\n",
    "# ZY.set_title(\"Central X-slice\")\n",
    "\n",
    "# XZ.imshow(psf_ideal[:,:,sz].T, cmap=\"gray\", interpolation='none')\n",
    "# XZ.grid(False)\n",
    "# XZ.set_title(\"Central Y-slice\")\n",
    "\n",
    "# XY.imshow(psf_ideal[sz,:,:], cmap=\"gray\", interpolation='none')\n",
    "# XY.grid(False)\n",
    "# XY.set_title(\"Central Z-slice\")\n",
    "\n",
    "# null.set_axis_off()  # clear unused subplot\n",
    "\n",
    "# plt.tight_layout()\n",
    "# plt.show()\n",
    "\n",
    "# Resize for anisotropy of our image (this is a bit rough and can be done better - but it works for this example)\n",
    "psf_rescaled = transform.resize(psf_ideal,\n",
    "                                (np.ceil(psf_ideal.shape[0]*(x_pixel_size/z_pixel_size)),\n",
    "                                 psf_ideal.shape[1],\n",
    "                                 psf_ideal.shape[2]))\n",
    "psf_rescaled = psf_rescaled/psf_rescaled.sum()\n",
    "\n",
    "# # Display PSF after resizing for anisotropy\n",
    "# f, axes = plt.subplots(2,2)\n",
    "# (XZ, XY, null, ZY) = axes.flatten()\n",
    "# f.suptitle(\"Gaussian PSF\")\n",
    "\n",
    "# ZY.imshow(psf_rescaled[:,psf_rescaled.shape[1]//2+1,:], cmap=\"gray\", interpolation='none')\n",
    "# ZY.grid(False)\n",
    "# ZY.set_title(\"Central X-slice\")\n",
    "\n",
    "# XZ.imshow(psf_rescaled[:,:,psf_rescaled.shape[2]//2+1].T, cmap=\"gray\", interpolation='none')\n",
    "# XZ.grid(False)\n",
    "# XZ.set_title(\"Central Y-slice\")\n",
    "\n",
    "# XY.imshow(psf_rescaled[psf_rescaled.shape[0]//2+1,:,:], cmap=\"gray\", interpolation='none')\n",
    "# XY.grid(False)\n",
    "# XY.set_title(\"Central Z-slice\")\n",
    "\n",
    "# null.set_axis_off()  # clear unused subplot\n",
    "\n",
    "# plt.tight_layout()\n",
    "# plt.show()"
   ]
  },
  {
   "cell_type": "markdown",
   "metadata": {},
   "source": [
    "<div style=\"background-color:#abd9e9; border-radius: 5px; padding: 10pt\"><strong>Task:</strong> Using the <a href=\"https://scikit-image.org/docs/stable/api/skimage.restoration.html#skimage.restoration.richardson_lucy\"><code>skimage.restoration.richardson_lucy</code></a> function, and in a new cell, deconvolve our 3D image for channel 1 (GFP) with the PSF defined above. Display a region of the central slice before and after convolution.</div>"
   ]
  },
  {
   "cell_type": "markdown",
   "metadata": {},
   "source": [
    "## Keypoints\n",
    "\n",
    "* "
   ]
  },
  {
   "cell_type": "markdown",
   "metadata": {},
   "source": [
    "## Any Bugs/Issues/Comments?\n",
    "\n",
    "If you've found a bug or have any comments about this notebook, please fill out this on-line form:\n",
    "\n",
    "Any feedback I get I will try to correct/implement as soon as possible."
   ]
  }
 ],
 "metadata": {
  "kernelspec": {
   "display_name": "Python 3",
   "language": "python",
   "name": "python3"
  },
  "language_info": {
   "codemirror_mode": {
    "name": "ipython",
    "version": 3
   },
   "file_extension": ".py",
   "mimetype": "text/x-python",
   "name": "python",
   "nbconvert_exporter": "python",
   "pygments_lexer": "ipython3",
   "version": "3.8.2"
  },
  "widgets": {
   "application/vnd.jupyter.widget-state+json": {
    "state": {},
    "version_major": 2,
    "version_minor": 0
   }
  }
 },
 "nbformat": 4,
 "nbformat_minor": 4
}
