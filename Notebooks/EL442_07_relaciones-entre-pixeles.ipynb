{
 "cells": [
  {
   "metadata": {},
   "cell_type": "markdown",
   "source": [
    "# Relaciones entre Pixeles<a class=\"tocSkip\">\n",
    "## TRATAMIENTO DE SEÑALES <a class=\"tocSkip\">\n",
    "### Ingenieria Electrónica <a class=\"tocSkip\">\n",
    "### Universidad Popular del Cesar <a class=\"tocSkip\">\n",
    "### Prof.: Jose Ramón Iglesias Gamarra - [https://github.com/joseramoniglesias/](https://github.com/joseramoniglesias/) <a class=\"tocSkip\">\n",
    "  **joseiglesias@unicesar.edu.co**"
   ]
  },
  {
   "metadata": {},
   "cell_type": "code",
   "outputs": [],
   "execution_count": null,
   "source": [
    "import cv2\n",
    "import numpy as np\n",
    "import matplotlib.pyplot as plt\n",
    "\n",
    "%matplotlib inline \n",
    "import pylab\n",
    "pylab.rcParams['figure.figsize'] = (3.0, 3.0)"
   ]
  },
  {
   "cell_type": "code",
   "execution_count": null,
   "metadata": {},
   "outputs": [],
   "source": [
    "input_image=cv2.imread('imagen-binaria.png', cv2.IMREAD_GRAYSCALE)\n",
    "img_max = np.max(input_image)\n",
    "img_min = np.min(input_image)\n",
    "print(\"Dimensiones de la imagen: \", input_image.shape)\n",
    "print(\"Tipo de dato: \", input_image.dtype)\n",
    "print(\"Nivel máximo de intensidad: \", img_max)\n",
    "print(\"Nivel mínimo de intensidad: \", img_min)\n",
    "plt.imshow(input_image, cmap='gray')\n",
    "plt.show()"
   ]
  },
  {
   "cell_type": "code",
   "execution_count": null,
   "metadata": {},
   "outputs": [],
   "source": [
    "patch = (input_image[50:200, 70:200] > 100).astype(np.uint8)\n",
    "plt.imshow(patch, cmap='gray')\n",
    "plt.show()"
   ]
  },
  {
   "cell_type": "code",
   "execution_count": null,
   "metadata": {},
   "outputs": [],
   "source": [
    "def four_adyacency(img, x0, y0, V, pos='arriba'):\n",
    "    if pos == 'arriba' and img[x0,y0]==V and img[x0,y0]==img[x0-1, y0]:\n",
    "        return True\n",
    "    elif pos == 'abajo' and img[x0,y0]==V and img[x0,y0]==img[x0+1, y0]:\n",
    "        return True\n",
    "    elif pos == 'izq' and img[x0,y0]==V and img[x0,y0]==img[x0, y0-1]:\n",
    "        return True\n",
    "    elif pos == 'der' and img[x0,y0]==V and img[x0,y0]==img[x0, y0+1]:\n",
    "        return True\n",
    "    else:\n",
    "        return False\n",
    "    \n",
    "def display_neighbors(img, x0, y0):\n",
    "    print('   |   |')\n",
    "    print(' ' + str(img[x0-1,y0-1]) + ' | ' + str(img[x0-1,y0]) + ' | ' + str(img[x0-1,y0+1]))\n",
    "    print('   |   |')\n",
    "    print('-----------')\n",
    "    print('   |   |')\n",
    "    print(' ' + str(img[x0,y0-1]) + ' | ' + str(img[x0,y0]) + ' | ' + str(img[x0,y0+1]))\n",
    "    print('   |   |')\n",
    "    print('-----------')\n",
    "    print('   |   |')\n",
    "    print(' ' + str(img[x0+1,y0-1]) + ' | ' + str(img[x0+1,y0]) + ' | ' + str(img[x0+1,y0+1]))\n",
    "    print('   |   |')"
   ]
  },
  {
   "cell_type": "code",
   "execution_count": null,
   "metadata": {},
   "outputs": [],
   "source": [
    "x = 16\n",
    "y = 27\n",
    "V = 0\n",
    "arr = four_adyacency(patch, x0=x, y0=y, V=V)\n",
    "ab = four_adyacency(patch, x0=x, y0=y, V=V, pos='abajo')\n",
    "izq = four_adyacency(patch, x0=x, y0=y, V=V, pos='izq')\n",
    "der = four_adyacency(patch, x0=x, y0=y, V=V, pos='der')\n",
    "print(f\"El píxel ({x},{y}) cumple la 4 adyacencia:\\n Arriba: {arr}\\n Abajo: {ab}\\n Izquierda: {izq}\\n Derecha: {der}\")\n",
    "display_neighbors(patch, x0=x, y0=y)"
   ]
  },
  {
   "cell_type": "code",
   "execution_count": null,
   "metadata": {},
   "outputs": [],
   "source": []
  },
  {
   "metadata": {},
   "cell_type": "markdown",
   "source": [
    "**Copyright**\n",
    "\n",
    "The notebooks are provided as [Open Educational Resource](https://de.wikipedia.org/wiki/Open_Educational_Resources). Feel free to use the notebooks for your own educational purposes. The text is licensed under [Creative Commons Attribution 4.0](https://creativecommons.org/licenses/by/4.0/), the code of the IPython examples under the [MIT license](https://opensource.org/licenses/MIT)."
   ]
  },
  {
   "metadata": {},
   "cell_type": "code",
   "outputs": [],
   "execution_count": null,
   "source": ""
  }
 ],
 "metadata": {
  "kernelspec": {
   "display_name": "dip",
   "language": "python",
   "name": "python3"
  },
  "language_info": {
   "codemirror_mode": {
    "name": "ipython",
    "version": 3
   },
   "file_extension": ".py",
   "mimetype": "text/x-python",
   "name": "python",
   "nbconvert_exporter": "python",
   "pygments_lexer": "ipython3",
   "version": "3.9.6"
  },
  "orig_nbformat": 4,
  "vscode": {
   "interpreter": {
    "hash": "2ee78bf6d3c55ab8d976b00cd533f0c8b1f102162595d6dc238528d9a3be5ad3"
   }
  }
 },
 "nbformat": 4,
 "nbformat_minor": 2
}
