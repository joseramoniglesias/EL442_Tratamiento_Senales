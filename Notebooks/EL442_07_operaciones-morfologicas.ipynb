{
 "cells": [
  {
   "attachments": {},
   "cell_type": "markdown",
   "metadata": {
    "id": "at4KhNda0wN-"
   },
   "source": [
    "# Operaciones morfológicas<a class=\"tocSkip\">\n",
    "## TRATAMIENTO DE SEÑALES <a class=\"tocSkip\">\n",
    "### Ingenieria Electrónica <a class=\"tocSkip\">\n",
    "### Universidad Popular del Cesar <a class=\"tocSkip\">\n",
    "### Prof.: Jose Ramón Iglesias Gamarra - [https://github.com/joseramoniglesias/](https://github.com/joseramoniglesias/) <a class=\"tocSkip\">\n",
    "  **joseiglesias@unicesar.edu.co**\n",
    "\n",
    "Las operaciones morfológicas son un conjunto amplio de operaciones que sirven para procesar imágenes basadas en formas geométricas. En una operación morfológica, cada píxel de la imagen se ajusta en función del valor de otros píxeles de su entorno. Si se seleccionan la forma y el tamaño del entorno adecuadamente, se puede definir una operación morfológica sensible a ciertas formas de la imagen de entrada [[1]](https://es.mathworks.com/help/images/morphological-filtering.html).\n",
    "\n",
    "Las operaciones morfológicas más básicas son la dilatación y la erosión. La dilatación añade píxeles a los límites de los objetos de una imagen, mientras que la erosión elimina píxeles de los límites de los objetos. El número de píxeles que se añade o se elimina de los objetos de una imagen depende del tamaño y la forma del _elemento estructurante_ que se utiliza para procesar la imagen. En las operaciones de dilatación y erosión morfológicas, el estado de cualquier píxel de la imagen de salida se determina aplicando una regla al píxel correspondiente y a sus vecinos de la imagen de entrada. La regla utilizada para procesar los píxeles define la operación como una dilatación o una erosión [[2]](https://es.mathworks.com/help/images/morphological-dilation-and-erosion.html).\n",
    "\n",
    "La siguiente figura muestra el efecto de la operación de erosión con diferentes elementos estructurantes ($B$):\n",
    "\n",
    "<img src=\"https://github.com/MoraRubio/dip-uam/blob/main/src/erosion.png?raw=true\" alt=\"Erosión\" style=\"height: 400px; width:500px;\"/>\n",
    "\n",
    "La siguiente figura muestra el efecto de la operación de dilatación con diferentes elementos estructurantes ($B$):\n",
    "\n",
    "<img src=\"https://github.com/MoraRubio/dip-uam/blob/main/src/dilatacion.png?raw=true\" alt=\"Dilatación\" style=\"height: 500px; width:500px;\"/>"
   ]
  },
  {
   "attachments": {},
   "cell_type": "markdown",
   "metadata": {
    "id": "EGAnrpPM03h3"
   },
   "source": [
    "## Configuración del ambiente"
   ]
  },
  {
   "metadata": {},
   "cell_type": "markdown",
   "source": "# Descarga de las imágenes con las que vamos a trabajar"
  },
  {
   "cell_type": "code",
   "execution_count": null,
   "metadata": {
    "id": "KuCZYNHV0wOB"
   },
   "outputs": [],
   "source": [
    "# Importamos las librerías necesarias\n",
    "import cv2\n",
    "import numpy as np\n",
    "import matplotlib.pyplot as plt\n",
    "from skimage.morphology import remove_small_objects, convex_hull_image, skeletonize, binary_erosion\n",
    "\n",
    "%matplotlib inline\n",
    "\n",
    "def plot_images(img, title=None, font_size=None, axis=\"off\", color=cv2.COLOR_BGR2RGB):\n",
    "    n_imgs = len(img)\n",
    "    if  n_imgs > 1:\n",
    "        _, axs = plt.subplots(1, n_imgs, **{'figsize':(3*n_imgs, 3)})\n",
    "        axs = axs.ravel()\n",
    "        for i in range(n_imgs):\n",
    "            if title and (len(title) == n_imgs):\n",
    "                axs[i].set_title(title[i], fontsize=font_size)\n",
    "            axs[i].axis(axis)\n",
    "            axs[i].imshow(cv2.cvtColor(img[i], color))\n",
    "        plt.tight_layout()    \n",
    "    else:\n",
    "        plt.title(title, fontsize=font_size)\n",
    "        plt.axis(axis)\n",
    "        plt.imshow(cv2.cvtColor(img[0], color))"
   ]
  },
  {
   "cell_type": "code",
   "execution_count": null,
   "metadata": {
    "colab": {
     "base_uri": "https://localhost:8080/",
     "height": 225
    },
    "id": "pH13GM1A3Ygd",
    "outputId": "2a598489-a3d8-439a-8a18-501427eb36fd"
   },
   "outputs": [],
   "source": [
    "# Leemos las imágenes y nos aseguramos de que sean binarias\n",
    "_, binary_shape = cv2.threshold(cv2.imread(\"shape2.png\", cv2.IMREAD_GRAYSCALE), 127, 255, cv2.THRESH_BINARY)\n",
    "_, binary_paw = cv2.threshold(cv2.imread(\"paw.png\", cv2.IMREAD_GRAYSCALE), 127, 255, cv2.THRESH_BINARY)\n",
    "_, binary_raptor = cv2.threshold(cv2.imread(\"raptor.png\", cv2.IMREAD_GRAYSCALE), 127, 255, cv2.THRESH_BINARY)\n",
    "_, binary_triangle = cv2.threshold(cv2.imread(\"triangle.jpg\", cv2.IMREAD_GRAYSCALE), 127, 255, cv2.THRESH_BINARY)\n",
    "binary_triangle = cv2.bitwise_not(binary_triangle)\n",
    "_, binary_circuit = cv2.threshold(cv2.imread(\"circuit.png\", cv2.IMREAD_GRAYSCALE), 127, 255, cv2.THRESH_BINARY)\n",
    "pcb = cv2.imread(\"pcb.png\", cv2.IMREAD_GRAYSCALE)\n",
    "plot_images([binary_shape, binary_paw, binary_raptor, binary_triangle, binary_circuit, pcb])"
   ]
  },
  {
   "cell_type": "code",
   "execution_count": null,
   "metadata": {
    "colab": {
     "base_uri": "https://localhost:8080/",
     "height": 235
    },
    "id": "9EKSfwUkD2ol",
    "outputId": "eb35c642-53a4-4933-aae6-02ad7a4b2430"
   },
   "outputs": [],
   "source": [
    "# Algunos elementos estructurantes\n",
    "rect = cv2.getStructuringElement(cv2.MORPH_RECT, (15, 15))\n",
    "elipse = cv2.getStructuringElement(cv2.MORPH_ELLIPSE, (15, 15))\n",
    "cruz = cv2.getStructuringElement(cv2.MORPH_CROSS, (29, 29))\n",
    "plot_images([255*rect, 255*elipse, 255*cruz], title=['Rectángulo', 'Elipse', 'Cruz'], axis='on')"
   ]
  },
  {
   "attachments": {},
   "cell_type": "markdown",
   "metadata": {
    "id": "LlywHHopCHGP"
   },
   "source": [
    "## Operaciones Básicas\n",
    "### Erosión\n",
    "La erosión asigna al píxel en $(i,j)$ el valor de intensidad mínimo entre todos los píxeles de la región centrada en $(i,j)$. El elemento estructurante define la forma y tamaño de la región. "
   ]
  },
  {
   "cell_type": "code",
   "execution_count": null,
   "metadata": {
    "colab": {
     "base_uri": "https://localhost:8080/",
     "height": 231
    },
    "id": "9-UcsvY2HIFD",
    "outputId": "077c8803-03bd-4190-c0c5-c79367be9b55"
   },
   "outputs": [],
   "source": [
    "def zero_padding(img, pad_size):\n",
    "    '''\n",
    "    Esta función recibe una imagen y el tamaño del padding a cada lado (int).\n",
    "\n",
    "    Retorna una nueva imagen con el contenido de la imagen original y padding cero en los bordes.\n",
    "    '''\n",
    "    # Dimensiones de la imagen original\n",
    "    old_image_height, old_image_width = img.shape\n",
    "    # Dimensiones de la imagen con padding\n",
    "    new_image_width = old_image_width + 2*pad_size\n",
    "    new_image_height = old_image_width + 2*pad_size\n",
    "    pad_value = 0 # Valor de padding\n",
    "    # Creación de la nueva imagen\n",
    "    result = np.full((new_image_height, new_image_width), pad_value, dtype=np.uint8)\n",
    "    x_ = (new_image_width - old_image_width) // 2 # Cálculo del desplazamiento de la imagen en el eje horizontal\n",
    "    y_ = (new_image_height - old_image_height) // 2 # Cálculo del desplazamiento de la imagen en el eje vertical\n",
    "    result[y_:y_+old_image_height, \n",
    "        x_:x_+old_image_width] = img # Centrar la imagen original sobre la imagen con padding\n",
    "    return result\n",
    "\n",
    "def erosion(img, struct_elem, padding_func):\n",
    "    '''\n",
    "    Esta función está basada en la de convolución trabajada en clase.\n",
    "    Recibe una imagen, un elemento estructurante y la función de padding.\n",
    "\n",
    "    Retorna una nueva imagen resultado de erosionar la imagen.\n",
    "    '''\n",
    "    # Tamaño del padding a cada lado de la imagen\n",
    "    pad_size = (struct_elem.shape[0]-1)//2\n",
    "    # Llamada a la función de padding\n",
    "    padded_img = padding_func(img, pad_size)\n",
    "    # Dimensiones de la imagen\n",
    "    height, width = img.shape\n",
    "    # Creación de la matriz para la nueva imagen\n",
    "    new_img = np.zeros((height, width), dtype=np.uint8)\n",
    "    for i in range(height): # Iterar sobre las filas\n",
    "        for j in range(width): # Iterar sobre las columnas\n",
    "            current_i = pad_size + i # Empezar a recorrer la imagen en el primer píxel diferente de cero\n",
    "            current_j = pad_size + j\n",
    "            img_region = padded_img[current_i-pad_size:current_i+pad_size+1,\n",
    "                                    current_j-pad_size:current_j+pad_size+1] # Ir seleccionando las regiones de la\n",
    "                                                                             # imagen para aplicar la suma de productos\n",
    "            # Llamada a la función de suma de productos\n",
    "            new_img[i,j] = np.min(img_region*struct_elem)\n",
    "    return new_img\n",
    "\n",
    "imageOut = erosion(binary_triangle, rect, zero_padding)\n",
    "plot_images([binary_triangle, imageOut], title = ['Original', 'Erosionada'])"
   ]
  },
  {
   "cell_type": "code",
   "execution_count": null,
   "metadata": {
    "id": "3ghsqeZ3I-X8"
   },
   "outputs": [],
   "source": [
    "# Utilizando la función de OpenCV\n",
    "imageOut_rect = cv2.erode(binary_triangle, rect, iterations=1)\n",
    "imageOut_elip = cv2.erode(binary_triangle, elipse, iterations=1)\n",
    "imageOut_cruz = cv2.erode(binary_triangle, cruz, iterations=1)\n",
    "plot_images([binary_triangle, imageOut_rect, imageOut_elip, imageOut_cruz], title = ['Original', 'Erosionada con rectangulo', 'Erosionada con elipse', 'Erosionada con cruz'])"
   ]
  },
  {
   "cell_type": "code",
   "execution_count": null,
   "metadata": {
    "id": "O0XoWTvMCHGQ"
   },
   "outputs": [],
   "source": [
    "imageOut_rect = cv2.erode(binary_triangle, rect, iterations=2)\n",
    "imageOut_elip = cv2.erode(binary_triangle, elipse, iterations=2)\n",
    "imageOut_cruz = cv2.erode(binary_triangle, cruz, iterations=2)\n",
    "plot_images([binary_triangle, imageOut_rect, imageOut_elip, imageOut_cruz], title = ['Original', '2x Erosionada con rectangulo', '2x Erosionada con elipse', '2x Erosionada con cruz'])"
   ]
  },
  {
   "cell_type": "code",
   "execution_count": null,
   "metadata": {
    "id": "W5-nRPRvKNZ7"
   },
   "outputs": [],
   "source": [
    "imageOut_rect = cv2.erode(binary_circuit, rect, iterations=1)\n",
    "imageOut_elip = cv2.erode(binary_circuit, elipse, iterations=1)\n",
    "imageOut_cruz = cv2.erode(binary_circuit, cruz, iterations=1)\n",
    "plot_images([binary_circuit, imageOut_rect, imageOut_elip, imageOut_cruz], title = ['Original', 'Erosionada con rectangulo', 'Erosionada con elipse', 'Erosionada con cruz'])"
   ]
  },
  {
   "cell_type": "code",
   "execution_count": null,
   "metadata": {
    "id": "vvO0-ZSWKe_e"
   },
   "outputs": [],
   "source": [
    "rect_1 = cv2.getStructuringElement(cv2.MORPH_RECT, (5, 5))\n",
    "imageOut = cv2.erode(imageOut_rect, rect_1, iterations=1)\n",
    "plot_images([binary_circuit, imageOut_rect, imageOut], title = ['Original', 'Erosionada con rectangulo 15x15', 'Segunda erosión con rectangulo 3x3'])"
   ]
  },
  {
   "attachments": {},
   "cell_type": "markdown",
   "metadata": {
    "id": "o7H5zuILCHGQ"
   },
   "source": [
    "### Dilatación\n",
    "La erosión asigna al píxel en $(i,j)$ el valor de intensidad máximo entre todos los píxeles de la región centrada en $(i,j)$. La dilatación agranda regiones \"brillantes\" y reduce el tamaño de regiones oscuras."
   ]
  },
  {
   "cell_type": "code",
   "execution_count": null,
   "metadata": {
    "id": "BsBPqJZQCHGQ"
   },
   "outputs": [],
   "source": [
    "def dilation(img, struct_elem, padding_func):\n",
    "    '''\n",
    "    Esta función está basada en la de convolución trabajada en clase.\n",
    "    Recibe una imagen, un elemento estructurante y la función de padding.\n",
    "\n",
    "    Retorna una nueva imagen resultado de dilatar la imagen.\n",
    "    '''\n",
    "    # Tamaño del padding a cada lado de la imagen\n",
    "    pad_size = (struct_elem.shape[0]-1)//2\n",
    "    # Llamada a la función de padding\n",
    "    padded_img = padding_func(img, pad_size)\n",
    "    # Dimensiones de la imagen\n",
    "    height, width = img.shape\n",
    "    # Creación de la matriz para la nueva imagen\n",
    "    new_img = np.zeros((height, width), dtype=np.uint8)\n",
    "    for i in range(height): # Iterar sobre las filas\n",
    "        for j in range(width): # Iterar sobre las columnas\n",
    "            current_i = pad_size + i # Empezar a recorrer la imagen en el primer píxel diferente de cero\n",
    "            current_j = pad_size + j\n",
    "            img_region = padded_img[current_i-pad_size:current_i+pad_size+1,\n",
    "                                    current_j-pad_size:current_j+pad_size+1] # Ir seleccionando las regiones de la\n",
    "                                                                             # imagen para aplicar la suma de productos\n",
    "            # Llamada a la función de suma de productos\n",
    "            new_img[i,j] = np.max(img_region*struct_elem)\n",
    "    return new_img\n",
    "\n",
    "imageOut = dilation(binary_triangle, rect, zero_padding)\n",
    "plot_images([binary_triangle, imageOut], title = ['Original', 'Dilatada'])"
   ]
  },
  {
   "cell_type": "code",
   "execution_count": null,
   "metadata": {
    "id": "QlExg4eHMI7C"
   },
   "outputs": [],
   "source": [
    "# Utilizando la función de OpenCV\n",
    "imageOut_rect = cv2.dilate(binary_triangle, rect, iterations=1)\n",
    "imageOut_elip = cv2.dilate(binary_triangle, elipse, iterations=1)\n",
    "imageOut_cruz = cv2.dilate(binary_triangle, cruz, iterations=1)\n",
    "plot_images([binary_triangle, imageOut_rect, imageOut_elip, imageOut_cruz], title = ['Original', 'Dilatada con rectangulo', 'Dilatada con elipse', 'Dilatada con cruz'])"
   ]
  },
  {
   "cell_type": "code",
   "execution_count": null,
   "metadata": {
    "id": "Xv0PWA5yMQ5c"
   },
   "outputs": [],
   "source": [
    "imageOut_rect = cv2.erode(binary_paw, rect, iterations=1)\n",
    "imageOut_elip = cv2.erode(binary_paw, elipse, iterations=1)\n",
    "imageOut_cruz = cv2.erode(binary_paw, cruz, iterations=1)\n",
    "plot_images([binary_paw, imageOut_rect, imageOut_elip, imageOut_cruz], title = ['Original', 'Dilatada con rectangulo', 'Dilatada con elipse', 'Dilatada con cruz'])"
   ]
  },
  {
   "attachments": {},
   "cell_type": "markdown",
   "metadata": {
    "id": "7Q-gW5HzMhUh"
   },
   "source": [
    "Es importante notar, como los puntos negros que teníamos en la imagen original toman la forma del elemento estructurante usado en la dilatación."
   ]
  },
  {
   "attachments": {},
   "cell_type": "markdown",
   "metadata": {
    "id": "OkBRQ4lOCHGQ"
   },
   "source": [
    "### Apertura\n",
    "La apertura morfólogica consiste en una erosión seguida de una dilatación. La apertura puede remover pequeños puntos blancos (el ruido que llamamos sal) y conectar dos regiones oscuras."
   ]
  },
  {
   "cell_type": "code",
   "execution_count": null,
   "metadata": {
    "id": "BNCpGa4NCHGQ"
   },
   "outputs": [],
   "source": [
    "imageOut_1 = cv2.erode(binary_shape, rect, iterations=1)\n",
    "imageOut = cv2.dilate(imageOut_1, rect, iterations=1)\n",
    "plot_images([binary_shape, imageOut_1, imageOut], title = ['Original', 'Erosionada', 'Dilatada (Apertura)'])"
   ]
  },
  {
   "cell_type": "code",
   "execution_count": null,
   "metadata": {
    "id": "AWpZFhxjNH8J"
   },
   "outputs": [],
   "source": [
    "imageOut_rect = cv2.morphologyEx(binary_shape, cv2.MORPH_OPEN, rect)\n",
    "imageOut_elip = cv2.morphologyEx(binary_shape, cv2.MORPH_OPEN, elipse)\n",
    "imageOut_cruz = cv2.morphologyEx(binary_shape, cv2.MORPH_OPEN, cruz)\n",
    "plot_images([binary_shape, imageOut_rect, imageOut_elip, imageOut_cruz], title = ['Original', 'Apertura con rectangulo', 'Apertura con elipse', 'Apertura con cruz'])"
   ]
  },
  {
   "attachments": {},
   "cell_type": "markdown",
   "metadata": {
    "id": "C_GrP0iYCHGR"
   },
   "source": [
    "### Cierre\n",
    "El cierre se define como una dilatación seguida de una erosión. El cierre puede remover pequeños puntos oscuros (el ruido que llamamos pimienta) y conectar dos regiones claras."
   ]
  },
  {
   "cell_type": "code",
   "execution_count": null,
   "metadata": {
    "id": "aEPlL_9nCHGR"
   },
   "outputs": [],
   "source": [
    "imageOut_1 = cv2.dilate(binary_paw, rect, iterations=1)\n",
    "imageOut = cv2.erode(imageOut_1, rect, iterations=1)\n",
    "plot_images([binary_paw, imageOut_1, imageOut], title = ['Original', 'Dilatada', 'Erosionada (Cierre)'])"
   ]
  },
  {
   "attachments": {},
   "cell_type": "markdown",
   "metadata": {
    "id": "z9bcIIKURHb-"
   },
   "source": [
    "Cambiando el elemento estructurante, podemos obtener mejores resultados dada la forma de la figura."
   ]
  },
  {
   "cell_type": "code",
   "execution_count": null,
   "metadata": {
    "id": "v7ZL4Q-xPhHF"
   },
   "outputs": [],
   "source": [
    "elipse_1 = cv2.getStructuringElement(cv2.MORPH_ELLIPSE, (10, 10))\n",
    "imageOut_1 = cv2.dilate(binary_paw, elipse_1, iterations=1)\n",
    "imageOut = cv2.erode(imageOut_1, elipse_1, iterations=1)\n",
    "plot_images([binary_paw, imageOut_1, imageOut], title = ['Original', 'Dilatada', 'Erosionada (Cierre)'])"
   ]
  },
  {
   "cell_type": "code",
   "execution_count": null,
   "metadata": {
    "id": "OgSZwpalRReW"
   },
   "outputs": [],
   "source": [
    "imageOut_rect = cv2.morphologyEx(binary_paw, cv2.MORPH_CLOSE, rect)\n",
    "imageOut_elip = cv2.morphologyEx(binary_paw, cv2.MORPH_CLOSE, elipse) # Este elemento estructurante es más grande que el del ejemplo anterior\n",
    "imageOut_cruz = cv2.morphologyEx(binary_paw, cv2.MORPH_CLOSE, cruz)\n",
    "plot_images([binary_paw, imageOut_rect, imageOut_elip, imageOut_cruz], title = ['Original', 'Cierre con rectangulo', 'Cierre con elipse', 'Cierre con cruz'])"
   ]
  },
  {
   "attachments": {},
   "cell_type": "markdown",
   "metadata": {
    "id": "aZgXbIDfCHGR"
   },
   "source": [
    "## Algunas aplicaciones\n",
    "### Detección de características\n",
    "<img src=\"https://github.com/MoraRubio/dip-uam/blob/main/src/deteccionCaracteristicas.png?raw=true\" alt=\"Dilatación\" style=\"height: 400px; width:650px;\"/>"
   ]
  },
  {
   "cell_type": "code",
   "execution_count": null,
   "metadata": {
    "id": "vXr8YDZuUu3S"
   },
   "outputs": [],
   "source": [
    "def match_struct(img, struct_elem, padding_func):\n",
    "    '''\n",
    "    Esta función está basada en la de convolución trabajada en clase.\n",
    "    Recibe una imagen, un elemento estructurante y la función de padding.\n",
    "\n",
    "    Retorna una nueva imagen resultado de dilatar la imagen.\n",
    "    '''\n",
    "    # Tamaño del padding a cada lado de la imagen\n",
    "    pad_size = (struct_elem.shape[0]-1)//2\n",
    "    # Llamada a la función de padding\n",
    "    padded_img = padding_func(img, pad_size)\n",
    "    # Dimensiones de la imagen\n",
    "    height, width = img.shape\n",
    "    # Creación de la matriz para la nueva imagen\n",
    "    new_img = np.zeros((height, width), dtype=np.uint8)\n",
    "    for i in range(height): # Iterar sobre las filas\n",
    "        for j in range(width): # Iterar sobre las columnas\n",
    "            current_i = pad_size + i # Empezar a recorrer la imagen en el primer píxel diferente de cero\n",
    "            current_j = pad_size + j\n",
    "            img_region = padded_img[current_i-pad_size:current_i+pad_size+1,\n",
    "                                    current_j-pad_size:current_j+pad_size+1] # Ir seleccionando las regiones de la\n",
    "                                                                             # imagen para aplicar la suma de productos\n",
    "            # Llamada a la función de suma de productos\n",
    "            new_img[i,j] = 255*np.all(img_region==struct_elem)\n",
    "    return new_img"
   ]
  },
  {
   "cell_type": "code",
   "execution_count": null,
   "metadata": {
    "id": "yJ_h7pOLCHGR"
   },
   "outputs": [],
   "source": [
    "lower_edge = np.array([[0, 255, 255],\n",
    "                       [0, 255, 255],\n",
    "                       [0,   0,   0]], dtype=np.uint8)\n",
    "imageOut = match_struct(binary_triangle, lower_edge, zero_padding)\n",
    "plot_images([binary_triangle[285:295, 40:50], imageOut[285:295, 40:50]], title = ['Original', 'Coincidencia'])"
   ]
  },
  {
   "cell_type": "code",
   "execution_count": null,
   "metadata": {
    "id": "P9OFbrp-U9fU"
   },
   "outputs": [],
   "source": [
    "left_border = np.array([[0, 255, 255],\n",
    "                        [0, 255, 255],\n",
    "                        [0, 255, 255]], dtype=np.uint8)\n",
    "imageOut = match_struct(binary_triangle, left_border, zero_padding)\n",
    "plot_images([binary_triangle[:, 30:80], imageOut[:, 30:80]], title = ['Original', 'Coincidencia'])"
   ]
  },
  {
   "attachments": {},
   "cell_type": "markdown",
   "metadata": {
    "id": "vwJ8duMMCHGR"
   },
   "source": [
    "### Extracción de bordes\n",
    "<img src=\"https://github.com/MoraRubio/dip-uam/blob/main/src/extraccionBordes.png?raw=true\" alt=\"Dilatación\" style=\"height: 300px; width:450px;\"/>"
   ]
  },
  {
   "cell_type": "code",
   "execution_count": null,
   "metadata": {
    "id": "UOAVJQ3gCHGR"
   },
   "outputs": [],
   "source": [
    "imageOut_1 = cv2.erode(binary_triangle, rect, iterations=1)\n",
    "imageOut = binary_triangle - imageOut_1\n",
    "plot_images([binary_triangle, imageOut_1, imageOut], title = ['Original', 'Erosionada', 'Bordes'])"
   ]
  },
  {
   "cell_type": "code",
   "execution_count": null,
   "metadata": {
    "id": "aTUybBiYWJBw"
   },
   "outputs": [],
   "source": [
    "rect_1 = cv2.getStructuringElement(cv2.MORPH_RECT, (25, 25))\n",
    "imageOut_1 = cv2.erode(binary_raptor, rect, iterations=1)\n",
    "imageOut = binary_raptor - imageOut_1\n",
    "plot_images([binary_raptor, imageOut_1, imageOut], title = ['Original', 'Erosionada', 'Bordes'])"
   ]
  },
  {
   "attachments": {},
   "cell_type": "markdown",
   "metadata": {
    "id": "vX-C7LTBCHGS"
   },
   "source": [
    "### Esqueletos"
   ]
  },
  {
   "cell_type": "code",
   "execution_count": null,
   "metadata": {
    "colab": {
     "base_uri": "https://localhost:8080/",
     "height": 231
    },
    "id": "kcfQrMyFCHGS",
    "outputId": "aaf4be16-2412-4943-b79e-cf55974cbb69"
   },
   "outputs": [],
   "source": [
    "copy_raptor = np.copy(binary_raptor)\n",
    "copy_raptor[copy_raptor == 255] = 1 # change 255 (white) value to 1 (True)\n",
    "\n",
    "imageOut = skeletonize(copy_raptor).astype(np.uint8)*255 # Skeletonization\n",
    "plot_images([binary_raptor, imageOut], title = ['Original', 'Esqueleto'])"
   ]
  },
  {
   "attachments": {},
   "cell_type": "markdown",
   "metadata": {
    "id": "ETaOpXX4CHGS"
   },
   "source": [
    "### Eliminación de objetos\n",
    "Tenemos dos operaciones conocidas como _White Tophat_ y _Black Tophat_, que nos permiten mantener los objetos blancos y negros, respectivamente, que son más pequeños que el elemento estructurante."
   ]
  },
  {
   "cell_type": "code",
   "execution_count": null,
   "metadata": {
    "colab": {
     "base_uri": "https://localhost:8080/",
     "height": 233
    },
    "id": "gCqGShD9CHGS",
    "outputId": "9c2c01d9-8885-47be-fd0e-53d9ef205fb0"
   },
   "outputs": [],
   "source": [
    "elipse_1 = cv2.getStructuringElement(cv2.MORPH_ELLIPSE, (10, 10))\n",
    "imageOut_1 = cv2.morphologyEx(binary_paw, cv2.MORPH_CLOSE, elipse_1)\n",
    "imageOut = imageOut_1 - binary_paw\n",
    "plot_images([binary_paw, imageOut_1, imageOut], title = ['Original', 'Cierre', 'Black Tophat (Cierre - Original)'])"
   ]
  },
  {
   "cell_type": "code",
   "execution_count": null,
   "metadata": {
    "colab": {
     "base_uri": "https://localhost:8080/",
     "height": 233
    },
    "id": "_OmyRjVkcvLA",
    "outputId": "ade341da-c100-4d89-804e-d19b70613ff4"
   },
   "outputs": [],
   "source": [
    "elipse_1 = cv2.getStructuringElement(cv2.MORPH_ELLIPSE, (10, 10))\n",
    "imageOut_1 = cv2.morphologyEx(binary_shape, cv2.MORPH_OPEN, elipse_1)\n",
    "imageOut = binary_shape - imageOut_1\n",
    "plot_images([binary_shape, imageOut_1, imageOut], title = ['Original', 'Apertura', 'White Tophat (Original - Apertura)'])"
   ]
  },
  {
   "attachments": {},
   "cell_type": "markdown",
   "metadata": {
    "id": "ToG_61F4d4Ac"
   },
   "source": [
    "## Convex Hull\n",
    "Para determinar la superficie de menor tamaño que abarca todo el objeto."
   ]
  },
  {
   "cell_type": "code",
   "execution_count": null,
   "metadata": {
    "colab": {
     "base_uri": "https://localhost:8080/",
     "height": 231
    },
    "id": "gjJbN0wgd_vY",
    "outputId": "ac4e3406-965e-4851-c805-3f2b57235a93"
   },
   "outputs": [],
   "source": [
    "imageOut = convex_hull_image(copy_raptor).astype(np.uint8)*255\n",
    "plot_images([binary_raptor, imageOut], title = ['Original', 'Convex Hull'])"
   ]
  },
  {
   "attachments": {},
   "cell_type": "markdown",
   "metadata": {
    "id": "6OzGb08pCHGS"
   },
   "source": [
    "## Operaciones morfólogicas en imágenes en escala de grises"
   ]
  },
  {
   "cell_type": "code",
   "execution_count": null,
   "metadata": {
    "colab": {
     "base_uri": "https://localhost:8080/",
     "height": 230
    },
    "id": "xMNSgWyICHGT",
    "outputId": "2c38c255-d3a3-4e72-b25d-cecc3a609d62"
   },
   "outputs": [],
   "source": [
    "imageOut_rect = cv2.erode(pcb, rect, iterations=1)\n",
    "imageOut_elip = cv2.erode(pcb, elipse, iterations=1)\n",
    "imageOut_cruz = cv2.erode(pcb, cruz, iterations=1)\n",
    "plot_images([pcb, imageOut_rect, imageOut_elip, imageOut_cruz], title = ['Original', 'Dilatada con rectangulo', 'Dilatada con elipse', 'Dilatada con cruz'])"
   ]
  },
  {
   "cell_type": "code",
   "execution_count": null,
   "metadata": {
    "colab": {
     "base_uri": "https://localhost:8080/",
     "height": 230
    },
    "id": "OmdnuOS9eicV",
    "outputId": "2a95aeca-752b-4e08-ad9a-44768ae5c5dd"
   },
   "outputs": [],
   "source": [
    "imageOut_rect = cv2.dilate(pcb, rect, iterations=1)\n",
    "imageOut_elip = cv2.dilate(pcb, elipse, iterations=1)\n",
    "imageOut_cruz = cv2.dilate(pcb, cruz, iterations=1)\n",
    "plot_images([pcb, imageOut_rect, imageOut_elip, imageOut_cruz], title = ['Original', 'Dilatada con rectangulo', 'Dilatada con elipse', 'Dilatada con cruz'])"
   ]
  },
  {
   "cell_type": "code",
   "execution_count": null,
   "metadata": {
    "colab": {
     "base_uri": "https://localhost:8080/",
     "height": 230
    },
    "id": "tkBWb_KreqTs",
    "outputId": "d47fc3c9-d250-49f7-ba67-2633739f95f3"
   },
   "outputs": [],
   "source": [
    "imageOut_rect = cv2.morphologyEx(pcb, cv2.MORPH_OPEN, rect)\n",
    "imageOut_elip = cv2.morphologyEx(pcb, cv2.MORPH_OPEN, elipse)\n",
    "imageOut_cruz = cv2.morphologyEx(pcb, cv2.MORPH_OPEN, cruz)\n",
    "plot_images([pcb, imageOut_rect, imageOut_elip, imageOut_cruz], title = ['Original', 'Apertura con rectangulo', 'Apertura con elipse', 'Apertura con cruz'])"
   ]
  },
  {
   "cell_type": "code",
   "execution_count": null,
   "metadata": {
    "colab": {
     "base_uri": "https://localhost:8080/",
     "height": 230
    },
    "id": "A0b5fatBewop",
    "outputId": "d409a8e0-6bdb-4525-ac7e-3b19683c922f"
   },
   "outputs": [],
   "source": [
    "imageOut_rect = cv2.morphologyEx(pcb, cv2.MORPH_CLOSE, rect)\n",
    "imageOut_elip = cv2.morphologyEx(pcb, cv2.MORPH_CLOSE, elipse)\n",
    "imageOut_cruz = cv2.morphologyEx(pcb, cv2.MORPH_CLOSE, cruz)\n",
    "plot_images([pcb, imageOut_rect, imageOut_elip, imageOut_cruz], title = ['Original', 'Apertura con rectangulo', 'Apertura con elipse', 'Apertura con cruz'])"
   ]
  },
  {
   "attachments": {},
   "cell_type": "markdown",
   "metadata": {
    "id": "gMo8HJxnCHGS"
   },
   "source": [
    "### Reducción de ruido"
   ]
  },
  {
   "cell_type": "code",
   "execution_count": null,
   "metadata": {
    "colab": {
     "base_uri": "https://localhost:8080/",
     "height": 226
    },
    "id": "OfGzu2GtCHGS",
    "outputId": "139e916d-6fa7-46e6-a206-41ded7d09ecb"
   },
   "outputs": [],
   "source": [
    "def ruido_sal_pimienta(img, noise_prob):\n",
    "    '''\n",
    "    Esta función adicionan ruido sal y pimimienta a una imagen con base en una probabilidad de ruido (noise_prob),\n",
    "    a mayor probabilidad mayor ruido.\n",
    "\n",
    "    Una forma de implementarlo es generando una matriz aleatoria del tamaño de la imagen y utilizar la probabilidad como un umbral.\n",
    "\n",
    "    Retorna la imagen con ruido.\n",
    "    '''\n",
    "    new_img = np.copy(img)\n",
    "    h, w = img.shape\n",
    "    for i in range(h):\n",
    "        for j in range(w):\n",
    "            aleatorio = np.random.randint(0,100)\n",
    "            if aleatorio < noise_prob:\n",
    "                new_img[i,j] = 255\n",
    "            elif aleatorio > (100-noise_prob):\n",
    "                new_img[i,j] = 0\n",
    "    return new_img\n",
    "noisy_image = ruido_sal_pimienta(pcb, 2)\n",
    "plot_images([pcb, noisy_image], title = ['Original', 'Con Ruido'])"
   ]
  },
  {
   "cell_type": "code",
   "execution_count": null,
   "metadata": {
    "colab": {
     "base_uri": "https://localhost:8080/",
     "height": 229
    },
    "id": "rQkPYk51fhq9",
    "outputId": "eceec222-ced5-48a2-a347-77c1ce96f72b"
   },
   "outputs": [],
   "source": [
    "rect_1 = cv2.getStructuringElement(cv2.MORPH_RECT, (5, 5))\n",
    "imageOut_1 = cv2.morphologyEx(noisy_image, cv2.MORPH_CLOSE, rect_1)\n",
    "imageOut = cv2.morphologyEx(imageOut_1, cv2.MORPH_OPEN, rect_1)\n",
    "plot_images([noisy_image, imageOut_1, imageOut], title = ['Original', 'Cierre', 'Apertura'])"
   ]
  },
  {
   "attachments": {},
   "cell_type": "markdown",
   "metadata": {},
   "source": [
    "## Pruebas"
   ]
  },
  {
   "cell_type": "code",
   "execution_count": null,
   "metadata": {
    "vscode": {
     "languageId": "plaintext"
    }
   },
   "outputs": [],
   "source": [
    "_, binary_dots = cv2.threshold(cv2.imread(\"dots.png\", cv2.IMREAD_GRAYSCALE), 127, 255, cv2.THRESH_BINARY)\n",
    "_, binary_finger = cv2.threshold(cv2.imread(\"huella.png\", cv2.IMREAD_GRAYSCALE), 127, 255, cv2.THRESH_BINARY)\n",
    "phantom = cv2.imread(\"phantom.png\", cv2.IMREAD_GRAYSCALE)\n",
    "plot_images([binary_dots, binary_finger, phantom])"
   ]
  },
  {
   "metadata": {},
   "cell_type": "markdown",
   "source": [
    "**Copyright**\n",
    "\n",
    "The notebooks are provided as [Open Educational Resource](https://de.wikipedia.org/wiki/Open_Educational_Resources). Feel free to use the notebooks for your own educational purposes. The text is licensed under [Creative Commons Attribution 4.0](https://creativecommons.org/licenses/by/4.0/), the code of the IPython examples under the [MIT license](https://opensource.org/licenses/MIT)."
   ]
  },
  {
   "metadata": {},
   "cell_type": "code",
   "outputs": [],
   "execution_count": null,
   "source": ""
  }
 ],
 "metadata": {
  "colab": {
   "provenance": []
  },
  "kernelspec": {
   "display_name": "dip",
   "language": "python",
   "name": "python3"
  },
  "language_info": {
   "codemirror_mode": {
    "name": "ipython",
    "version": 3
   },
   "file_extension": ".py",
   "mimetype": "text/x-python",
   "name": "python",
   "nbconvert_exporter": "python",
   "pygments_lexer": "ipython3",
   "version": "3.9.6"
  },
  "orig_nbformat": 4,
  "vscode": {
   "interpreter": {
    "hash": "2ee78bf6d3c55ab8d976b00cd533f0c8b1f102162595d6dc238528d9a3be5ad3"
   }
  }
 },
 "nbformat": 4,
 "nbformat_minor": 0
}
