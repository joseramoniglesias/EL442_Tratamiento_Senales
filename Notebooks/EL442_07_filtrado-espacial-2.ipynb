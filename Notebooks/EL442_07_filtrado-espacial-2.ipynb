{
 "cells": [
  {
   "attachments": {},
   "cell_type": "markdown",
   "metadata": {},
   "source": [
    "# Filtrado espacial<a class=\"tocSkip\">\n",
    "## TRATAMIENTO DE SEÑALES <a class=\"tocSkip\">\n",
    "### Ingenieria Electrónica <a class=\"tocSkip\">\n",
    "### Universidad Popular del Cesar <a class=\"tocSkip\">\n",
    "### Prof.: Jose Ramón Iglesias Gamarra - [https://github.com/joseramoniglesias/](https://github.com/joseramoniglesias/) <a class=\"tocSkip\">\n",
    "  **joseiglesias@unicesar.edu.co**"
   ]
  },
  {
   "cell_type": "code",
   "execution_count": null,
   "metadata": {},
   "outputs": [],
   "source": [
    "import cv2\n",
    "import numpy as np\n",
    "import matplotlib.pyplot as plt\n",
    "\n",
    "%matplotlib inline \n",
    "import pylab\n",
    "pylab.rcParams['figure.figsize'] = (3.0, 3.0)"
   ]
  },
  {
   "cell_type": "code",
   "execution_count": null,
   "metadata": {},
   "outputs": [],
   "source": [
    "!wget -q https://github.com/MoraRubio/dip-uam/raw/main/src/lenna.jpg"
   ]
  },
  {
   "cell_type": "code",
   "execution_count": null,
   "metadata": {},
   "outputs": [],
   "source": [
    "input_image=cv2.imread('lenna.jpg', cv2.IMREAD_GRAYSCALE)\n",
    "img_max = np.max(input_image)\n",
    "img_min = np.min(input_image)\n",
    "ancho, alto = input_image.shape\n",
    "print(\"Dimensiones de la imagen: \", input_image.shape)\n",
    "print(\"Tipo de dato: \", input_image.dtype)\n",
    "print(\"Nivel máximo de intensidad: \", img_max)\n",
    "print(\"Nivel mínimo de intensidad: \", img_min)\n",
    "plt.imshow(input_image, cmap='gray')\n",
    "plt.axis('off')\n",
    "plt.show()"
   ]
  },
  {
   "attachments": {},
   "cell_type": "markdown",
   "metadata": {},
   "source": [
    "## Convolución\n",
    "\n",
    "Solución al ejercicio de realizar la convolución \"manual\" entre una imagen y un kernel:"
   ]
  },
  {
   "cell_type": "code",
   "execution_count": null,
   "metadata": {},
   "outputs": [],
   "source": [
    "def sum_of_products(kernel, img_region):\n",
    "    '''\n",
    "    Esta función recibe un filtro o kernel de tamaño arbitrario y la región de la imagen para realizar la operación de\n",
    "    suma de productos, ambos elementos deben ser de la misma dimensión.\n",
    "\n",
    "    Retorna el resultado de la operación en formato uint8.\n",
    "    '''\n",
    "    try:\n",
    "        assert kernel.shape == img_region.shape # Verificación de que el tamaño del kernel y la región de la imagen coincidan\n",
    "    except:\n",
    "        print(f'Las dimensiones del kernel {kernel.shape} y de la región de la imagen {img_region.shape} no coinciden.')\n",
    "    return np.sum(kernel*img_region).astype(np.uint8)\n",
    "\n",
    "def zero_padding(img, pad_size):\n",
    "    '''\n",
    "    Esta función recibe una imagen y el tamaño del padding a cada lado (int).\n",
    "\n",
    "    Retorna una nueva imagen con el contenido de la imagen original y padding cero en los bordes.\n",
    "    '''\n",
    "    # Dimensiones de la imagen original\n",
    "    old_image_height, old_image_width = img.shape\n",
    "\n",
    "    # Dimensiones de la imagen con padding\n",
    "    new_image_width = old_image_width + 2*pad_size\n",
    "    new_image_height = old_image_width + 2*pad_size\n",
    "\n",
    "    pad_value = 0 # Valor de padding\n",
    "\n",
    "    # Creación de la nueva imagen\n",
    "    result = np.full((new_image_height, new_image_width), pad_value, dtype=np.uint8)\n",
    "    \n",
    "    x_ = (new_image_width - old_image_width) // 2 # Cálculo del desplazamiento de la imagen en el eje horizontal\n",
    "    y_ = (new_image_height - old_image_height) // 2 # Cálculo del desplazamiento de la imagen en el eje vertical\n",
    "    \n",
    "    result[y_:y_+old_image_height, \n",
    "        x_:x_+old_image_width] = img # Centrar la imagen original sobre la imagen con padding\n",
    "    \n",
    "    return result\n",
    "\n",
    "def convolution(img, kernel, padding_func):\n",
    "    '''\n",
    "    Esta función recibe una imagen, un tamaño de kernel y la función de padding. \n",
    "    Usa la funcion de suma de productos definida anteriormente.\n",
    "\n",
    "    Retorna una nueva imagen resultado de aplicar la operación de convolución entre la imagen y el kernel.\n",
    "    '''\n",
    "    # Tamaño del padding a cada lado de la imagen\n",
    "    pad_size = (kernel.shape[0]-1)//2\n",
    "\n",
    "    # Llamada a la función de padding\n",
    "    padded_img = padding_func(img, pad_size)\n",
    "\n",
    "    # Dimensiones de la imagen\n",
    "    height, width = img.shape\n",
    "\n",
    "    # Creación de la matriz para la nueva imagen\n",
    "    new_img = np.zeros((height, width), dtype=np.uint8)\n",
    "\n",
    "    for i in range(height): # Iterar sobre las filas\n",
    "        for j in range(width): # Iterar sobre las columnas\n",
    "            current_i = pad_size + i # Empezar a recorrer la imagen en el primer píxel diferente de cero\n",
    "            current_j = pad_size + j\n",
    "\n",
    "            img_region = padded_img[current_i-pad_size:current_i+pad_size+1,\n",
    "                                    current_j-pad_size:current_j+pad_size+1] # Ir seleccionando las regiones de la\n",
    "                                                                             # imagen para aplicar la suma de productos\n",
    "            # Llamada a la función de suma de productos\n",
    "            new_img[i,j] = sum_of_products(kernel, img_region)\n",
    "    return new_img"
   ]
  },
  {
   "cell_type": "code",
   "execution_count": null,
   "metadata": {},
   "outputs": [],
   "source": [
    "size = 27\n",
    "smoothing = np.ones((size, size), dtype=np.float32) / (size**2)\n",
    "\n",
    "imageOut = convolution(input_image, smoothing, zero_padding)\n",
    "plt.imshow(imageOut, cmap='gray')\n",
    "plt.axis('off')\n",
    "plt.show()"
   ]
  },
  {
   "attachments": {},
   "cell_type": "markdown",
   "metadata": {},
   "source": [
    "Corrigiendo el error de los bordes oscuros con una forma diferente de realizar el padding conocida como padding espejo, en la que los valores de la imagen se reflejan alrededor de sus bordes."
   ]
  },
  {
   "cell_type": "code",
   "execution_count": null,
   "metadata": {},
   "outputs": [],
   "source": [
    "def mirror_padding(img, pad_size):\n",
    "    '''\n",
    "    Esta función recibe una imagen y el tamaño del padding a cada lado (int).\n",
    "\n",
    "    Retorna una nueva imagen con el contenido de la imagen original y padding simétrico en los bordes.\n",
    "    '''\n",
    "    return np.pad(img, pad_size, mode='symmetric')"
   ]
  },
  {
   "cell_type": "code",
   "execution_count": null,
   "metadata": {},
   "outputs": [],
   "source": [
    "size = 31\n",
    "smoothing = np.ones((size, size), dtype=np.float32) / (size**2)\n",
    "\n",
    "imageOut = convolution(input_image, smoothing, mirror_padding)\n",
    "plt.imshow(imageOut, cmap='gray')\n",
    "plt.axis('off')\n",
    "plt.show()"
   ]
  },
  {
   "attachments": {},
   "cell_type": "markdown",
   "metadata": {},
   "source": [
    "## El filtro gaussiano\n",
    "\n",
    "Dada su simplicidad, los _Box filters_ o filtros de promedio son apropiados para experimentación rápida y usualmente obtienen buenos resultados de suavizado. Sin embargo hay algunas aplicaciones en las que no son la mejor opción para el procesamiento, por ejemplo cuando se quiere modelar o simular el efecto de un lente fuera de foco, o cuando la imagen que se quiere procesar tiene un alto nivel de detalle y objetos geométricos muy marcados, la direccionalidad de estos filtros genera comportamientos no deseados.\n",
    "\n",
    "<img src=\"https://github.com/MoraRubio/dip-uam/blob/main/src/boxVgaussian.png?raw=true\" alt=\"Comparación filtro de promedio y filtro gaussiano\" style=\"height: 200px; width:700px;\"/>\n",
    "\n",
    "En estos casos se prefiere un filtro de simetría circular, o isotrópico, que actúa de la misma forma en todas las direcciones, uno de estos filtros son los de distribución gaussiana, en referencia a la campana de Gauss.\n",
    "\n",
    "<img src=\"https://github.com/MoraRubio/dip-uam/blob/main/src/campanagauss.png?raw=true\" alt=\"Campana gaussiana\" style=\"height: 250px; width:400px;\"/>\n",
    "\n",
    "La cual está descrita por la siguiente fórmula matemática, donde $s$ y $t$ representan coordenadas espaciales:\n",
    "\n",
    "$$G(s,t)=Ke^{-\\frac{s^2+t^2}{2\\sigma^2}}$$\n",
    "\n",
    "Si muestreamos la función anterior para crear filtros discretos, obtenemos filtros de la siguiente forma:\n",
    "\n",
    "<img src=\"https://github.com/MoraRubio/dip-uam/blob/main/src/filtrogaussiano.png?raw=true\" alt=\"Kernel gaussiano\" style=\"height: 500px; width:500px;\"/>\n",
    "\n",
    "<!--\n",
    "def gaussian_filter(m, K, sigma):\n",
    "    '''\n",
    "    Esta función genera kernels gaussianos de tamaño arbitrario con la distribución determinada por los parámetros K y sigma.\n",
    "    '''\n",
    "    try:\n",
    "        assert (m%2)!=0\n",
    "    except:\n",
    "        print('El tamaño del kernel debe ser impar')\n",
    "        return None\n",
    "\n",
    "    kernel = np.zeros((m,m), dtype=np.float64) # Arreglo que contendrá el filtro\n",
    "    center = (m-1)//2 # Posición central del kernel\n",
    "    for s in range(m):\n",
    "        for t in range(m):\n",
    "            s_ = np.abs(center-s) # Corección para ubicar el (0,0) en el centro del kernel\n",
    "            t_ = np.abs(center-t)\n",
    "            kernel[s,t] = K*np.exp(-(s_**2+t_**2)/(2*sigma**2)) # Cálculo de los valores\n",
    "    return kernel/np.sum(kernel)\n",
    "-->"
   ]
  },
  {
   "cell_type": "code",
   "execution_count": null,
   "metadata": {},
   "outputs": [],
   "source": [
    "def gaussian_filter(m, K, sigma):\n",
    "    '''\n",
    "    Esta función genera kernels gaussianos de tamaño arbitrario \n",
    "    con la distribución determinada por los parámetros K y sigma.\n",
    "    '''\n",
    "    pass\n",
    "\n",
    "gaussian_filter(3, 1.0, 1.0)"
   ]
  },
  {
   "attachments": {},
   "cell_type": "markdown",
   "metadata": {},
   "source": [
    "### Suavizado con filtro gaussiano"
   ]
  },
  {
   "cell_type": "code",
   "execution_count": null,
   "metadata": {},
   "outputs": [],
   "source": [
    "size = 21\n",
    "K = 1.0\n",
    "std = 10.0\n",
    "gaussian = gaussian_filter(size, K, std)\n",
    "imageOut = cv2.filter2D(input_image, -1, gaussian) # Aplicación del filtro\n",
    "plt.imshow(imageOut, cmap='gray')\n",
    "plt.axis('off')\n",
    "plt.show()"
   ]
  },
  {
   "cell_type": "code",
   "execution_count": null,
   "metadata": {},
   "outputs": [],
   "source": [
    "size = (15, 15)\n",
    "std = 10.0\n",
    "imageOut = cv2.GaussianBlur(input_image, size, std) # Aplicación del filtro\n",
    "plt.imshow(imageOut, cmap='gray')\n",
    "plt.axis('off')\n",
    "plt.show()"
   ]
  },
  {
   "attachments": {},
   "cell_type": "markdown",
   "metadata": {},
   "source": [
    "### Reducción de ruido con filtro gaussiano"
   ]
  },
  {
   "cell_type": "code",
   "execution_count": null,
   "metadata": {},
   "outputs": [],
   "source": [
    "noise_factor = 30 # Factor de amplificación del ruido\n",
    "noisy_image = input_image + noise_factor*np.random.randn(ancho, alto) # Añadir ruido gaussiano a la imagen\n",
    "plt.imshow(noisy_image, cmap='gray')\n",
    "plt.title('Imagen con ruido gaussiano')\n",
    "plt.axis('off')\n",
    "plt.show()\n",
    "\n",
    "size = 21\n",
    "K = 1.0\n",
    "std = 1.0\n",
    "gaussian = gaussian_filter(size, K, std)\n",
    "\n",
    "imageOut = cv2.filter2D(noisy_image, -1, gaussian)\n",
    "plt.imshow(imageOut, cmap='gray')\n",
    "plt.title('Imagen filtrada')\n",
    "plt.axis('off')\n",
    "plt.show()"
   ]
  },
  {
   "attachments": {},
   "cell_type": "markdown",
   "metadata": {},
   "source": [
    "## Filtros no lineales\n",
    "\n",
    "Los filtros no lineales son aquellos que realizan una operación no lineal sobre las regiones de la imagen. El más conocido es el filtro de mediana que reemplaza el valor del píxel central por la mediana de intensidad de los píxeles que hacen parte de la región.\n",
    "\n",
    "<!--\n",
    "def median_filter(img, kernel_size, padding_func):\n",
    "    '''\n",
    "    Esta función recibe una imagen, un tamaño de kernel y la función de padding.\n",
    "\n",
    "    Retorna una nueva imagen resultado de aplicar el filtro de mediana.\n",
    "    '''\n",
    "    try:\n",
    "        assert (kernel_size%2)!=0\n",
    "    except:\n",
    "        print('El tamaño del kernel debe ser impar')\n",
    "        return None\n",
    "\n",
    "    # Tamaño del padding a cada lado de la imagen\n",
    "    pad_size = (kernel_size-1)//2\n",
    "\n",
    "    # Llamada a la función de padding\n",
    "    padded_img = padding_func(img, pad_size)\n",
    "\n",
    "    # Dimensiones de la imagen\n",
    "    height, width = img.shape\n",
    "\n",
    "    # Creación de la matriz para la nueva imagen\n",
    "    new_img = np.zeros((height, width), dtype=np.uint8)\n",
    "\n",
    "    for i in range(height): # Iterar sobre las filas\n",
    "        for j in range(width): # Iterar sobre las columnas\n",
    "            current_i = pad_size + i # Empezar a recorrer la imagen en el primer píxel diferente de cero\n",
    "            current_j = pad_size + j\n",
    "\n",
    "            img_region = padded_img[current_i-pad_size:current_i+pad_size+1,\n",
    "                                    current_j-pad_size:current_j+pad_size+1] # Ir seleccionando las regiones de la\n",
    "                                                                             # imagen para aplicar la suma de productos\n",
    "            # Llamada a la función de mediana\n",
    "            new_img[i,j] = np.median(img_region)\n",
    "    return new_img\n",
    "-->"
   ]
  },
  {
   "cell_type": "code",
   "execution_count": null,
   "metadata": {},
   "outputs": [],
   "source": [
    "def median_filter(img, kernel_size, padding_func):\n",
    "    '''\n",
    "    Esta función está basada en la de convolución presentada anteriormente.\n",
    "    Recibe una imagen, un tamaño de kernel y la función de padding.\n",
    "\n",
    "    Retorna una nueva imagen resultado de aplicar el filtro de mediana.\n",
    "    '''\n",
    "    pass"
   ]
  },
  {
   "cell_type": "code",
   "execution_count": null,
   "metadata": {},
   "outputs": [],
   "source": [
    "imageOut = median_filter(noisy_image, 21, zero_padding)\n",
    "plt.imshow(imageOut, cmap='gray')\n",
    "plt.title('Imagen filtrada')\n",
    "plt.axis('off')\n",
    "plt.show()"
   ]
  },
  {
   "cell_type": "code",
   "execution_count": null,
   "metadata": {},
   "outputs": [],
   "source": [
    "imageOut = median_filter(noisy_image, 7, mirror_padding)\n",
    "plt.imshow(imageOut, cmap='gray')\n",
    "plt.title('Imagen filtrada')\n",
    "plt.axis('off')\n",
    "plt.show()"
   ]
  },
  {
   "attachments": {},
   "cell_type": "markdown",
   "metadata": {},
   "source": [
    "El filtro de mediana es particularmente útil en presencia de ruido _sal y pimienta_ que aparece como puntos blancos y negros aleatoriamente ubicados en la imagen.\n",
    "\n",
    "<!--\n",
    "def ruido_sal_pimienta(img, noise_prob):\n",
    "    '''\n",
    "    Esta función adicionan ruido sal y pimimienta a una imagen con base en una probabilidad de ruido (noise_prob),\n",
    "    a mayor probabilidad mayor ruido.\n",
    "\n",
    "    Una forma de implementarlo es generando una matriz aleatoria del tamaño de la imagen y utilizar la probabilidad como un umbral.\n",
    "\n",
    "    Retorna la imagen con ruido.\n",
    "    '''\n",
    "    noise = 100*np.random.random(size=img.shape) # Matriz aleatoria con distribución gaussiana en el rango [0,100)\n",
    "    sal = (noise > (100-noise_prob)) # Umbralización mayor que para las posiciones donde irán puntos blancos\n",
    "    pimienta = (noise < noise_prob) # Umbralización menor que para las posiciones donde irán puntos negros\n",
    "    img[sal] = 255\n",
    "    img[pimienta] = 0\n",
    "    return img\n",
    "-->"
   ]
  },
  {
   "cell_type": "code",
   "execution_count": null,
   "metadata": {},
   "outputs": [],
   "source": [
    "def ruido_sal_pimienta(img, noise_prob):\n",
    "    '''\n",
    "    Esta función adicionan ruido sal y pimimienta a una imagen con base en una probabilidad de ruido (noise_prob),\n",
    "    a mayor probabilidad mayor ruido.\n",
    "\n",
    "    Una forma de implementarlo es generando una matriz aleatoria del tamaño de la imagen y utilizar la probabilidad como un umbral.\n",
    "\n",
    "    Retorna la imagen con ruido.\n",
    "    '''\n",
    "    pass"
   ]
  },
  {
   "cell_type": "code",
   "execution_count": null,
   "metadata": {},
   "outputs": [],
   "source": [
    "noisy_image = ruido_sal_pimienta(input_image, 20)\n",
    "plt.imshow(noisy_image, cmap='gray')\n",
    "plt.title('Imagen con ruido sal y pimienta')\n",
    "plt.axis('off')\n",
    "plt.show()"
   ]
  },
  {
   "cell_type": "code",
   "execution_count": null,
   "metadata": {},
   "outputs": [],
   "source": [
    "imageOut = median_filter(noisy_image, 7, zero_padding)\n",
    "plt.imshow(imageOut, cmap='gray')\n",
    "plt.title('Imagen filtrada')\n",
    "plt.axis('off')\n",
    "plt.show()"
   ]
  },
  {
   "attachments": {},
   "cell_type": "markdown",
   "metadata": {},
   "source": [
    "## Filtros de realce de bordes\n",
    "\n",
    "Los filtros realce de bordes (_sharpening_) pueden verse como filtros pasaaltas, en contraste con los filtros de suavizado o pasabajas. Desde el punto de vista matemático, los filtros de suavizado corresponden a integrar la señal, y los filtros de realce a derivar la señal. Los dos principales son los filtros de 2da derivada o laplacianos de la forma:\n",
    "\n",
    "<img src=\"https://github.com/MoraRubio/dip-uam/blob/main/src/laplacianfilters.png?raw=true\" alt=\"Kernels laplacianos\" style=\"height: 200px; width:700px;\"/>\n",
    "\n",
    "Y los filtros basados en la primera derivada o de gradiente (Operadores Sobel):\n",
    "\n",
    "<img src=\"https://github.com/MoraRubio/dip-uam/blob/main/src/sobel.png?raw=true\" alt=\"Kernels laplacianos\" style=\"height: 200px; width:400px;\"/>\n"
   ]
  },
  {
   "cell_type": "code",
   "execution_count": null,
   "metadata": {},
   "outputs": [],
   "source": [
    "input_image=cv2.imread('radiografia_femur.jpg', cv2.IMREAD_GRAYSCALE)\n",
    "img_max = np.max(input_image)\n",
    "img_min = np.min(input_image)\n",
    "ancho, alto = input_image.shape\n",
    "print(\"Dimensiones de la imagen: \", input_image.shape)\n",
    "print(\"Tipo de dato: \", input_image.dtype)\n",
    "print(\"Nivel máximo de intensidad: \", img_max)\n",
    "print(\"Nivel mínimo de intensidad: \", img_min)\n",
    "plt.imshow(input_image, cmap='gray')\n",
    "plt.axis('off')\n",
    "plt.show()"
   ]
  },
  {
   "cell_type": "code",
   "execution_count": null,
   "metadata": {},
   "outputs": [],
   "source": [
    "laplacian = np.array([[0, 1, 0],\n",
    "                      [1,-4, 1],\n",
    "                      [0, 1, 0]], dtype=np.float32)\n",
    "\n",
    "image_lap = cv2.filter2D(input_image, -1, laplacian)\n",
    "plt.imshow(image_lap, cmap='gray')\n",
    "plt.title('Imagen Laplaciana')\n",
    "plt.axis('off')\n",
    "plt.show()\n",
    "\n",
    "c = 1\n",
    "imageOut = input_image + c*image_lap\n",
    "plt.imshow(imageOut, cmap='gray')\n",
    "plt.title('Imagen con realce de bordes')\n",
    "plt.axis('off')\n",
    "plt.show()"
   ]
  },
  {
   "cell_type": "code",
   "execution_count": null,
   "metadata": {},
   "outputs": [],
   "source": [
    "laplacian = np.array([[1, 1, 1],\n",
    "                      [1,-8, 1],\n",
    "                      [1, 1, 1]], dtype=np.float32)\n",
    "\n",
    "image_lap = cv2.filter2D(input_image, -1, laplacian)\n",
    "plt.imshow(image_lap, cmap='gray')\n",
    "plt.title('Imagen Laplaciana')\n",
    "plt.axis('off')\n",
    "plt.show()\n",
    "\n",
    "c = 1\n",
    "imageOut = input_image + c*image_lap\n",
    "plt.imshow(imageOut, cmap='gray')\n",
    "plt.title('Imagen con realce de bordes')\n",
    "plt.axis('off')\n",
    "plt.show()"
   ]
  },
  {
   "metadata": {},
   "cell_type": "markdown",
   "source": [
    "**Copyright**\n",
    "\n",
    "The notebooks are provided as [Open Educational Resource](https://de.wikipedia.org/wiki/Open_Educational_Resources). Feel free to use the notebooks for your own educational purposes. The text is licensed under [Creative Commons Attribution 4.0](https://creativecommons.org/licenses/by/4.0/), the code of the IPython examples under the [MIT license](https://opensource.org/licenses/MIT)."
   ]
  },
  {
   "metadata": {},
   "cell_type": "code",
   "outputs": [],
   "execution_count": null,
   "source": ""
  }
 ],
 "metadata": {
  "kernelspec": {
   "display_name": "dip",
   "language": "python",
   "name": "python3"
  },
  "language_info": {
   "codemirror_mode": {
    "name": "ipython",
    "version": 3
   },
   "file_extension": ".py",
   "mimetype": "text/x-python",
   "name": "python",
   "nbconvert_exporter": "python",
   "pygments_lexer": "ipython3",
   "version": "3.9.6"
  },
  "orig_nbformat": 4,
  "vscode": {
   "interpreter": {
    "hash": "2ee78bf6d3c55ab8d976b00cd533f0c8b1f102162595d6dc238528d9a3be5ad3"
   }
  }
 },
 "nbformat": 4,
 "nbformat_minor": 2
}
