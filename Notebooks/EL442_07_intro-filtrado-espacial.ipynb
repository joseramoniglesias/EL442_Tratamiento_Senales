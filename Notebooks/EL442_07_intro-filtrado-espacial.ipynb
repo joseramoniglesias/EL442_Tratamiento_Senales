{
 "cells": [
  {
   "attachments": {},
   "cell_type": "markdown",
   "metadata": {},
   "source": [
    "# Introducción al filtrado espacial<a class=\"tocSkip\">\n",
    "## TRATAMIENTO DE SEÑALES <a class=\"tocSkip\">\n",
    "### Ingenieria Electrónica <a class=\"tocSkip\">\n",
    "### Universidad Popular del Cesar <a class=\"tocSkip\">\n",
    "### Prof.: Jose Ramón Iglesias Gamarra - [https://github.com/joseramoniglesias/](https://github.com/joseramoniglesias/) <a class=\"tocSkip\">\n",
    "  **joseiglesias@unicesar.edu.co**"
   ]
  },
  {
   "cell_type": "code",
   "execution_count": null,
   "metadata": {},
   "outputs": [],
   "source": [
    "import cv2\n",
    "import numpy as np\n",
    "import matplotlib.pyplot as plt\n",
    "\n",
    "%matplotlib inline \n",
    "import pylab\n",
    "pylab.rcParams['figure.figsize'] = (3.0, 3.0)"
   ]
  },
  {
   "cell_type": "code",
   "execution_count": null,
   "metadata": {},
   "outputs": [],
   "source": [
    "input_image=cv2.imread('lenna.jpg', cv2.IMREAD_GRAYSCALE)\n",
    "img_max = np.max(input_image)\n",
    "img_min = np.min(input_image)\n",
    "ancho, alto = input_image.shape\n",
    "print(\"Dimensiones de la imagen: \", input_image.shape)\n",
    "print(\"Tipo de dato: \", input_image.dtype)\n",
    "print(\"Nivel máximo de intensidad: \", img_max)\n",
    "print(\"Nivel mínimo de intensidad: \", img_min)\n",
    "plt.imshow(input_image, cmap='gray')\n",
    "plt.axis('off')\n",
    "plt.show()"
   ]
  },
  {
   "attachments": {},
   "cell_type": "markdown",
   "metadata": {},
   "source": [
    "## Convolución\n",
    "Defina las funciones necesarias para realizar la operación de convolución entre una imagen en escala de grises y un kernel de tamaño arbitrario. Reemplace los `None` en el código.\n",
    "\n",
    "**Nota:** El tamaño del padding depende del tamaño del kernel, de forma que al \"ubicar\" el centro del kernel sobre el origen de la imagen, se pueda seleccionar una región del mismo tamaño.\n",
    "\n",
    "### **1.** Suma de productos\n",
    "\n",
    "Doble click para una posible solución.\n",
    "\n",
    "<!--\n",
    "def sum_of_products(kernel, img_region):\n",
    "    try:\n",
    "        assert kernel.shape == img_region.shape\n",
    "    except:\n",
    "        print(f'Las dimensiones del kernel {kernel.shape} y de la región de la imagen {img_region.shape} no coinciden.')\n",
    "    return np.sum(kernel*img_region).astype(np.uint8)\n",
    "-->"
   ]
  },
  {
   "cell_type": "code",
   "execution_count": null,
   "metadata": {},
   "outputs": [],
   "source": [
    "def sum_of_products(kernel, img_region):\n",
    "    '''\n",
    "    Esta función recibe un filtro o kernel de tamaño arbitrario y la región de la imagen para realizar la operación de\n",
    "    suma de productos, ambos elementos deben ser de la misma dimensión.\n",
    "\n",
    "    Retorna el resultado de la operación en formato uint8.\n",
    "    '''\n",
    "    try:\n",
    "        assert kernel.shape == img_region.shape # Verificación de que el tamaño del kernel y la región de la imagen coincidan\n",
    "    except:\n",
    "        print(f'Las dimensiones del kernel {kernel.shape} y de la región de la imagen {img_region.shape} no coinciden.')\n",
    "    return None # SU CODIGO AQUÍ"
   ]
  },
  {
   "attachments": {},
   "cell_type": "markdown",
   "metadata": {},
   "source": [
    "### **2.** Padding\n",
    "\n",
    "Doble click para una posible solución.\n",
    "\n",
    "<!--\n",
    "def padding(img, pad_size):\n",
    "    old_image_height, old_image_width = img.shape\n",
    "    \n",
    "    new_image_width = old_image_width + 2*pad_size\n",
    "    new_image_height = old_image_width + 2*pad_size\n",
    "    pad_value = 0\n",
    "    result = np.full((new_image_height, new_image_width), pad_value, dtype=np.uint8)\n",
    "    \n",
    "    x_ = (new_image_width - old_image_width) // 2\n",
    "    y_ = (new_image_height - old_image_height) // 2\n",
    "    \n",
    "    result[y_:y_+old_image_height, \n",
    "        x_:x_+old_image_width] = img\n",
    "    return result\n",
    "-->"
   ]
  },
  {
   "cell_type": "code",
   "execution_count": null,
   "metadata": {},
   "outputs": [],
   "source": [
    "def padding(img, pad_size):\n",
    "    '''\n",
    "    Esta función recibe una imagen y el tamaño del padding a cada lado (int).\n",
    "\n",
    "    Retorna una nueva imagen con el contenido de la imagen original y padding en los bordes.\n",
    "    '''\n",
    "    # Dimensiones de la imagen original\n",
    "    old_image_height, old_image_width = None # SU CODIGO AQUÍ\n",
    "\n",
    "    # Dimensiones de la imagen con padding\n",
    "    new_image_width = None # SU CODIGO AQUÍ\n",
    "    new_image_height = None # SU CODIGO AQUÍ\n",
    "\n",
    "    pad_value = 0 # Valor de padding\n",
    "\n",
    "    # Creación de la nueva imagen\n",
    "    result = np.full((None, None), None, dtype=np.uint8)\n",
    "    \n",
    "    x_ = (new_image_width - old_image_width) // 2 # Cálculo del desplazamiento de la imagen en el eje horizontal\n",
    "    y_ = (new_image_height - old_image_height) // 2 # Cálculo del desplazamiento de la imagen en el eje vertical\n",
    "    \n",
    "    result[y_:y_+old_image_height, \n",
    "        x_:x_+old_image_width] = img # Centrar la imagen original sobre la imagen con padding\n",
    "    \n",
    "    return result"
   ]
  },
  {
   "attachments": {},
   "cell_type": "markdown",
   "metadata": {},
   "source": [
    "### **3.** Convolución\n",
    "Doble click para una posible solución.\n",
    "<!--\n",
    "def convolution(img, kernel):\n",
    "    pad_size = (kernel.shape[0]-1)//2\n",
    "    padded_img = padding(img, pad_size)\n",
    "    height, width = img.shape\n",
    "    new_img = np.zeros((height, width), dtype=np.uint8)\n",
    "    for i in range(height):\n",
    "        for j in range(width):\n",
    "            current_i = pad_size + i\n",
    "            current_j = pad_size + j\n",
    "            img_region = padded_img[current_i-pad_size:current_i+pad_size+1,\n",
    "                             current_j-pad_size:current_j+pad_size+1]\n",
    "            new_img[i,j] = sum_of_products(kernel, img_region)\n",
    "    return new_img\n",
    "-->"
   ]
  },
  {
   "cell_type": "code",
   "execution_count": null,
   "metadata": {},
   "outputs": [],
   "source": [
    "def convolution(img, kernel):\n",
    "    '''\n",
    "    Esta función recibe una imagen y un kernel. Usa las funciones de suma de productos y padding definidas anteriormente.\n",
    "\n",
    "    Retorna una nueva imagen resultado de aplicar la operación de convolución entre la imagen y el kernel.\n",
    "    '''\n",
    "    # Tamaño del padding a cada lado de la imagen\n",
    "    pad_size = None # SU CODIGO AQUÍ\n",
    "\n",
    "    # Llamada a la función de padding\n",
    "    padded_img = padding(None, None)\n",
    "\n",
    "    # Dimensiones de la imagen\n",
    "    height, width = None # SU CODIGO AQUÍ\n",
    "\n",
    "    # Creación de la matriz para la nueva imagen\n",
    "    new_img = np.zeros((None, None), dtype=np.uint8)\n",
    "\n",
    "    for i in range(None): # Iterar sobre las filas\n",
    "        for j in range(None): # Iterar sobre las columnas\n",
    "            current_i = pad_size + i # Empezar a recorrer la imagen en el primer píxel diferente de cero\n",
    "            current_j = pad_size + j\n",
    "\n",
    "            img_region = padded_img[current_i-pad_size:current_i+pad_size+1,\n",
    "                                    current_j-pad_size:current_j+pad_size+1] # Ir seleccionando las regiones de la\n",
    "                                                                             # imagen para aplicar la suma de productos\n",
    "            # Llamada a la función de suma de productos\n",
    "            new_img[i,j] = sum_of_products(None, None)\n",
    "    return new_img"
   ]
  },
  {
   "cell_type": "code",
   "execution_count": null,
   "metadata": {},
   "outputs": [],
   "source": [
    "smoothing = np.array([[1, 1, 1],\n",
    "                      [1, 1, 1],\n",
    "                      [1, 1, 1]], dtype=np.float32) / 9\n",
    "\n",
    "imageOut = convolution(input_image, smoothing)\n",
    "plt.imshow(imageOut, cmap='gray')\n",
    "plt.axis('off')\n",
    "plt.show()"
   ]
  },
  {
   "attachments": {},
   "cell_type": "markdown",
   "metadata": {},
   "source": [
    "## Suavizado"
   ]
  },
  {
   "cell_type": "code",
   "execution_count": null,
   "metadata": {},
   "outputs": [],
   "source": [
    "smoothing = np.array([[1, 1, 1],\n",
    "                      [1, 1, 1],\n",
    "                      [1, 1, 1]], dtype=np.float32) / 9 # Definición del Box filter\n",
    "imageOut = cv2.filter2D(input_image, -1, smoothing) # Aplicación del filtro\n",
    "plt.imshow(imageOut, cmap='gray')\n",
    "plt.axis('off')\n",
    "plt.show()"
   ]
  },
  {
   "cell_type": "code",
   "execution_count": null,
   "metadata": {},
   "outputs": [],
   "source": [
    "size = 5 # Dimensión del filtro\n",
    "smoothing = np.ones((size, size), dtype=np.float32) / (size**2) # Definición del Box filter con dimensión size\n",
    "imageOut = cv2.filter2D(input_image, -1, smoothing)\n",
    "plt.imshow(imageOut, cmap='gray')\n",
    "plt.axis('off')\n",
    "plt.show()"
   ]
  },
  {
   "cell_type": "code",
   "execution_count": null,
   "metadata": {},
   "outputs": [],
   "source": [
    "size = 15\n",
    "smoothing = np.ones((size, size), dtype=np.float32) / (size**2)\n",
    "imageOut = cv2.filter2D(input_image, -1, smoothing)\n",
    "plt.imshow(imageOut, cmap='gray')\n",
    "plt.axis('off')\n",
    "plt.show()"
   ]
  },
  {
   "attachments": {},
   "cell_type": "markdown",
   "metadata": {},
   "source": [
    "## Reducción de ruido"
   ]
  },
  {
   "cell_type": "code",
   "execution_count": null,
   "metadata": {},
   "outputs": [],
   "source": [
    "noise_factor = 30 # Factor de amplificación del ruido\n",
    "noisy_image = input_image + noise_factor*np.random.randn(ancho, alto) # Añadir ruido gaussiano a la imagen\n",
    "plt.imshow(noisy_image, cmap='gray')\n",
    "plt.title('Imagen con ruido gaussiano')\n",
    "plt.axis('off')\n",
    "plt.show()\n",
    "\n",
    "size = 7\n",
    "smoothing = np.ones((size, size), dtype=np.float32) / (size**2)\n",
    "\n",
    "imageOut = cv2.filter2D(noisy_image, -1, smoothing)\n",
    "plt.imshow(imageOut, cmap='gray')\n",
    "plt.title('Imagen filtrada')\n",
    "plt.axis('off')\n",
    "plt.show()"
   ]
  },
  {
   "metadata": {},
   "cell_type": "markdown",
   "source": [
    "**Copyright**\n",
    "\n",
    "The notebooks are provided as [Open Educational Resource](https://de.wikipedia.org/wiki/Open_Educational_Resources). Feel free to use the notebooks for your own educational purposes. The text is licensed under [Creative Commons Attribution 4.0](https://creativecommons.org/licenses/by/4.0/), the code of the IPython examples under the [MIT license](https://opensource.org/licenses/MIT)."
   ]
  },
  {
   "metadata": {},
   "cell_type": "code",
   "outputs": [],
   "execution_count": null,
   "source": ""
  }
 ],
 "metadata": {
  "kernelspec": {
   "display_name": "dip",
   "language": "python",
   "name": "python3"
  },
  "language_info": {
   "codemirror_mode": {
    "name": "ipython",
    "version": 3
   },
   "file_extension": ".py",
   "mimetype": "text/x-python",
   "name": "python",
   "nbconvert_exporter": "python",
   "pygments_lexer": "ipython3",
   "version": "3.9.6"
  },
  "orig_nbformat": 4,
  "vscode": {
   "interpreter": {
    "hash": "2ee78bf6d3c55ab8d976b00cd533f0c8b1f102162595d6dc238528d9a3be5ad3"
   }
  }
 },
 "nbformat": 4,
 "nbformat_minor": 2
}
