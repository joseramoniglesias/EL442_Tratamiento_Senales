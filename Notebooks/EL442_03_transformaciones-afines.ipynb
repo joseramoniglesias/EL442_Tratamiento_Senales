{
 "cells": [
  {
   "attachments": {},
   "cell_type": "markdown",
   "metadata": {},
   "source": [
    "# Transformaciones Afines\n",
    "## TRATAMIENTO DE SEÑALES <a class=\"tocSkip\">\n",
    "### Ingenieria Electrónica <a class=\"tocSkip\">\n",
    "### Universidad Popular del Cesar <a class=\"tocSkip\">\n",
    "### Prof.: Jose Ramón Iglesias Gamarra - [https://github.com/joseramoniglesias/](https://github.com/joseramoniglesias/) <a class=\"tocSkip\">\n",
    "  **joseiglesias@unicesar.edu.co**"
   ]
  },
  {
   "cell_type": "code",
   "execution_count": null,
   "metadata": {},
   "outputs": [],
   "source": [
    "import cv2\n",
    "import numpy as np\n",
    "import matplotlib.pyplot as plt\n",
    "\n",
    "%matplotlib inline \n",
    "import pylab\n",
    "pylab.rcParams['figure.figsize'] = (3.0, 3.0)"
   ]
  },
  {
   "cell_type": "code",
   "execution_count": null,
   "metadata": {},
   "outputs": [],
   "source": [
    "!wget -q https://github.com/MoraRubio/dip-uam/raw/main/src/lenna.jpg"
   ]
  },
  {
   "cell_type": "code",
   "execution_count": null,
   "metadata": {},
   "outputs": [],
   "source": [
    "input_image=cv2.imread('lenna.jpg', cv2.IMREAD_GRAYSCALE)\n",
    "img_max = np.max(input_image)\n",
    "img_min = np.min(input_image)\n",
    "ancho, alto = input_image.shape\n",
    "print(\"Dimensiones de la imagen: \", input_image.shape)\n",
    "print(\"Tipo de dato: \", input_image.dtype)\n",
    "print(\"Nivel máximo de intensidad: \", img_max)\n",
    "print(\"Nivel mínimo de intensidad: \", img_min)\n",
    "plt.imshow(input_image, cmap='gray')\n",
    "plt.axis('off')\n",
    "plt.show()"
   ]
  },
  {
   "attachments": {},
   "cell_type": "markdown",
   "metadata": {},
   "source": [
    "## Identidad"
   ]
  },
  {
   "cell_type": "code",
   "execution_count": null,
   "metadata": {},
   "outputs": [],
   "source": [
    "I = np.array([[1, 0, 0], \n",
    "             [0, 1, 0]], dtype=np.float32) # Definición de la matriz identidad\n",
    "imageOut = cv2.warpAffine(input_image, I, (ancho, alto)) # Aplicar la transformación\n",
    "plt.imshow(imageOut, cmap='gray')\n",
    "plt.axis('off')\n",
    "plt.show()"
   ]
  },
  {
   "attachments": {},
   "cell_type": "markdown",
   "metadata": {},
   "source": [
    "## Traslación"
   ]
  },
  {
   "cell_type": "code",
   "execution_count": null,
   "metadata": {},
   "outputs": [],
   "source": [
    "M = np.array([[1, 0, 50], \n",
    "             [0, 1, 0]], dtype=np.float32) # Definición de la matriz de transformación\n",
    "imageOut = cv2.warpAffine(input_image, M, (ancho, alto)) \n",
    "plt.imshow(imageOut, cmap='gray')\n",
    "plt.axis('off')\n",
    "plt.show()"
   ]
  },
  {
   "cell_type": "code",
   "execution_count": null,
   "metadata": {},
   "outputs": [],
   "source": [
    "M = np.array([[1, 0, 50], \n",
    "             [0, 1, -50]], dtype=np.float32)\n",
    "imageOut = cv2.warpAffine(input_image, M, (ancho, alto))\n",
    "plt.imshow(imageOut, cmap='gray')\n",
    "plt.axis('off')\n",
    "plt.show()"
   ]
  },
  {
   "attachments": {},
   "cell_type": "markdown",
   "metadata": {},
   "source": [
    "## Escalamiento"
   ]
  },
  {
   "cell_type": "code",
   "execution_count": null,
   "metadata": {},
   "outputs": [],
   "source": [
    "M = np.array([[2, 0, 0], \n",
    "             [0, 1, 0]], dtype=np.float32)\n",
    "imageOut = cv2.warpAffine(input_image, M, (ancho*2, alto))\n",
    "plt.imshow(imageOut, cmap='gray')\n",
    "plt.axis('off')\n",
    "plt.show()"
   ]
  },
  {
   "cell_type": "code",
   "execution_count": null,
   "metadata": {},
   "outputs": [],
   "source": [
    "M = np.array([[1, 0, 0],\n",
    "             [0, 2, 0]], dtype=np.float32)\n",
    "imageOut = cv2.warpAffine(input_image, M, (ancho, alto))\n",
    "plt.imshow(imageOut, cmap='gray')\n",
    "plt.axis('off')\n",
    "plt.show()"
   ]
  },
  {
   "cell_type": "code",
   "execution_count": null,
   "metadata": {},
   "outputs": [],
   "source": [
    "M = np.array([[2, 0, 0],\n",
    "             [0, 2, 0]], dtype=np.float32)\n",
    "imageOut = cv2.warpAffine(input_image, M, (ancho, alto))\n",
    "plt.imshow(imageOut, cmap='gray')\n",
    "plt.axis('off')\n",
    "plt.show()"
   ]
  },
  {
   "attachments": {},
   "cell_type": "markdown",
   "metadata": {},
   "source": [
    "## Rotación"
   ]
  },
  {
   "cell_type": "code",
   "execution_count": null,
   "metadata": {},
   "outputs": [],
   "source": [
    "theta = np.deg2rad(45) # Ángulo de rotación en radianes\n",
    "M = np.array([[np.cos(theta), np.sin(theta), 0], \n",
    "             [-np.sin(theta), np.cos(theta), 0]], dtype=np.float32)\n",
    "imageOut = cv2.warpAffine(input_image, M, (ancho, alto))\n",
    "plt.imshow(imageOut, cmap='gray')\n",
    "plt.axis('off')\n",
    "plt.show()"
   ]
  },
  {
   "cell_type": "code",
   "execution_count": null,
   "metadata": {},
   "outputs": [],
   "source": [
    "# Centrar la imagen\n",
    "theta = np.deg2rad(45)\n",
    "M = np.array([[np.cos(theta), np.sin(theta), 0], \n",
    "             [-np.sin(theta), np.cos(theta), 0]])\n",
    "centro = np.array([ancho//2, alto//2, 1])\n",
    "nuevo_centro=np.matmul(M,centro)\n",
    "centro[:2]-nuevo_centro"
   ]
  },
  {
   "cell_type": "code",
   "execution_count": null,
   "metadata": {},
   "outputs": [],
   "source": [
    "theta = np.deg2rad(45)\n",
    "M = np.array([[np.cos(theta), np.sin(theta), -106.03867197], \n",
    "             [-np.sin(theta), np.cos(theta), 256]], dtype=np.float32)\n",
    "imageOut = cv2.warpAffine(input_image, M, (ancho, alto))\n",
    "plt.imshow(imageOut, cmap='gray')\n",
    "plt.axis('off')\n",
    "plt.show()"
   ]
  },
  {
   "attachments": {},
   "cell_type": "markdown",
   "metadata": {},
   "source": [
    "## Shearing"
   ]
  },
  {
   "cell_type": "code",
   "execution_count": null,
   "metadata": {},
   "outputs": [],
   "source": [
    "M = np.array([[1, 0.5, 0], \n",
    "             [0, 1, 0]], dtype=np.float32)\n",
    "imageOut = cv2.warpAffine(input_image, M, (int(ancho*1.5), alto))\n",
    "plt.imshow(imageOut, cmap='gray')\n",
    "plt.axis('off')\n",
    "plt.show()"
   ]
  },
  {
   "cell_type": "code",
   "execution_count": null,
   "metadata": {},
   "outputs": [],
   "source": [
    "M = np.array([[1, 0, 0], \n",
    "             [0.2, 1, 0]], dtype=np.float32)\n",
    "imageOut = cv2.warpAffine(input_image, M, (ancho, int(alto*1.2)))\n",
    "plt.imshow(imageOut, cmap='gray')\n",
    "plt.axis('off')\n",
    "plt.show()"
   ]
  },
  {
   "cell_type": "code",
   "execution_count": null,
   "metadata": {},
   "outputs": [],
   "source": [
    "M = np.array([[1, 0.5, 0], \n",
    "             [0.2, 1, 0]], dtype=np.float32)\n",
    "imageOut = cv2.warpAffine(input_image, M, (int(ancho*1.5), int(alto*1.2)))\n",
    "plt.imshow(imageOut, cmap='gray')\n",
    "plt.axis('off')\n",
    "plt.show()"
   ]
  },
  {
   "attachments": {},
   "cell_type": "markdown",
   "metadata": {},
   "source": [
    "## Operaciones compuestas"
   ]
  },
  {
   "cell_type": "code",
   "execution_count": null,
   "metadata": {},
   "outputs": [],
   "source": [
    "dx, dy = 100, -30 # Traslación en el eje horizontal y en el eje vertical\n",
    "traslation = np.array([[1, 0, dx],\n",
    "                       [0, 1, dy],\n",
    "                       [0, 0, 1]], dtype=np.float32)\n",
    "\n",
    "theta = np.deg2rad(30)\n",
    "rotation = np.array([[np.cos(theta) , np.sin(theta), 0],\n",
    "                     [-np.sin(theta), np.cos(theta), 0],\n",
    "                     [             0,             0, 1]], dtype=np.float32)\n",
    "\n",
    "M = np.matmul(traslation, rotation)[:2,:] # Multiplicación de las matrices de transformación. Nos quedamos solo\n",
    "print(M)                                  # con las dos primeras filas para usarla con warpAffine."
   ]
  },
  {
   "cell_type": "code",
   "execution_count": null,
   "metadata": {},
   "outputs": [],
   "source": [
    "imageOut = cv2.warpAffine(input_image, M, (ancho, alto))\n",
    "plt.imshow(imageOut, cmap='gray')\n",
    "plt.axis('off')\n",
    "plt.show()"
   ]
  },
  {
   "attachments": {},
   "cell_type": "markdown",
   "metadata": {},
   "source": [
    "## Ejercicio\n",
    "\n",
    "Genere y pruebe las matrices de transformación compuestas para:\n",
    "\n",
    "**a)** Escalamiento y traslación\n",
    "\n",
    "**b)** Escalamiento, traslación y rotación\n",
    "\n",
    "**c)** Shear vertical, escalamiento, traslación y rotación\n",
    "\n",
    "**d)** Responda: ¿El orden de las multiplicaciones importa?¿Por qué?"
   ]
  },
  {
   "metadata": {},
   "cell_type": "markdown",
   "source": [
    "**Copyright**\n",
    "\n",
    "The notebooks are provided as [Open Educational Resource](https://de.wikipedia.org/wiki/Open_Educational_Resources). Feel free to use the notebooks for your own educational purposes. The text is licensed under [Creative Commons Attribution 4.0](https://creativecommons.org/licenses/by/4.0/), the code of the IPython examples under the [MIT license](https://opensource.org/licenses/MIT)."
   ]
  },
  {
   "metadata": {},
   "cell_type": "code",
   "outputs": [],
   "execution_count": null,
   "source": ""
  }
 ],
 "metadata": {
  "kernelspec": {
   "display_name": "dip",
   "language": "python",
   "name": "python3"
  },
  "language_info": {
   "codemirror_mode": {
    "name": "ipython",
    "version": 3
   },
   "file_extension": ".py",
   "mimetype": "text/x-python",
   "name": "python",
   "nbconvert_exporter": "python",
   "pygments_lexer": "ipython3",
   "version": "3.9.6"
  },
  "orig_nbformat": 4,
  "vscode": {
   "interpreter": {
    "hash": "2ee78bf6d3c55ab8d976b00cd533f0c8b1f102162595d6dc238528d9a3be5ad3"
   }
  }
 },
 "nbformat": 4,
 "nbformat_minor": 2
}
