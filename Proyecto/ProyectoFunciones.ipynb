{
 "nbformat": 4,
 "nbformat_minor": 0,
 "metadata": {
  "colab": {
   "provenance": [],
   "collapsed_sections": []
  },
  "kernelspec": {
   "name": "python3",
   "display_name": "Python 3"
  },
  "language_info": {
   "name": "python"
  },
  "widgets": {
   "application/vnd.jupyter.widget-state+json": {
    "05fadbd2f0d44190ab7efef5f1f52550": {
     "model_module": "@jupyter-widgets/controls",
     "model_name": "HBoxModel",
     "model_module_version": "1.5.0",
     "state": {
      "_dom_classes": [],
      "_model_module": "@jupyter-widgets/controls",
      "_model_module_version": "1.5.0",
      "_model_name": "HBoxModel",
      "_view_count": null,
      "_view_module": "@jupyter-widgets/controls",
      "_view_module_version": "1.5.0",
      "_view_name": "HBoxView",
      "box_style": "",
      "children": [
       "IPY_MODEL_9dd6942f214f4645ac6e6e37c5e3ac45",
       "IPY_MODEL_b7aabf123b6143d498662b06435d9a47",
       "IPY_MODEL_4da9593628df4099832ad045449d043a"
      ],
      "layout": "IPY_MODEL_4bd1b0c7cb87435099bd580b193e7415"
     }
    },
    "9dd6942f214f4645ac6e6e37c5e3ac45": {
     "model_module": "@jupyter-widgets/controls",
     "model_name": "HTMLModel",
     "model_module_version": "1.5.0",
     "state": {
      "_dom_classes": [],
      "_model_module": "@jupyter-widgets/controls",
      "_model_module_version": "1.5.0",
      "_model_name": "HTMLModel",
      "_view_count": null,
      "_view_module": "@jupyter-widgets/controls",
      "_view_module_version": "1.5.0",
      "_view_name": "HTMLView",
      "description": "",
      "description_tooltip": null,
      "layout": "IPY_MODEL_5f563d8546214ad0851048c844694318",
      "placeholder": "​",
      "style": "IPY_MODEL_bd012baed19542efa19d3755951f631f",
      "value": "100%"
     }
    },
    "b7aabf123b6143d498662b06435d9a47": {
     "model_module": "@jupyter-widgets/controls",
     "model_name": "FloatProgressModel",
     "model_module_version": "1.5.0",
     "state": {
      "_dom_classes": [],
      "_model_module": "@jupyter-widgets/controls",
      "_model_module_version": "1.5.0",
      "_model_name": "FloatProgressModel",
      "_view_count": null,
      "_view_module": "@jupyter-widgets/controls",
      "_view_module_version": "1.5.0",
      "_view_name": "ProgressView",
      "bar_style": "success",
      "description": "",
      "description_tooltip": null,
      "layout": "IPY_MODEL_9123b6b64f2e4b46bc6fda617cad5569",
      "max": 40,
      "min": 0,
      "orientation": "horizontal",
      "style": "IPY_MODEL_fa327bc9c13846e9bf37360b51bc56f6",
      "value": 40
     }
    },
    "4da9593628df4099832ad045449d043a": {
     "model_module": "@jupyter-widgets/controls",
     "model_name": "HTMLModel",
     "model_module_version": "1.5.0",
     "state": {
      "_dom_classes": [],
      "_model_module": "@jupyter-widgets/controls",
      "_model_module_version": "1.5.0",
      "_model_name": "HTMLModel",
      "_view_count": null,
      "_view_module": "@jupyter-widgets/controls",
      "_view_module_version": "1.5.0",
      "_view_name": "HTMLView",
      "description": "",
      "description_tooltip": null,
      "layout": "IPY_MODEL_e416966d50334ef182e34c5ffda09f9b",
      "placeholder": "​",
      "style": "IPY_MODEL_eb098d16db67478b92ae694bedf331eb",
      "value": " 40/40 [00:02&lt;00:00, 17.28it/s]"
     }
    },
    "4bd1b0c7cb87435099bd580b193e7415": {
     "model_module": "@jupyter-widgets/base",
     "model_name": "LayoutModel",
     "model_module_version": "1.2.0",
     "state": {
      "_model_module": "@jupyter-widgets/base",
      "_model_module_version": "1.2.0",
      "_model_name": "LayoutModel",
      "_view_count": null,
      "_view_module": "@jupyter-widgets/base",
      "_view_module_version": "1.2.0",
      "_view_name": "LayoutView",
      "align_content": null,
      "align_items": null,
      "align_self": null,
      "border": null,
      "bottom": null,
      "display": null,
      "flex": null,
      "flex_flow": null,
      "grid_area": null,
      "grid_auto_columns": null,
      "grid_auto_flow": null,
      "grid_auto_rows": null,
      "grid_column": null,
      "grid_gap": null,
      "grid_row": null,
      "grid_template_areas": null,
      "grid_template_columns": null,
      "grid_template_rows": null,
      "height": null,
      "justify_content": null,
      "justify_items": null,
      "left": null,
      "margin": null,
      "max_height": null,
      "max_width": null,
      "min_height": null,
      "min_width": null,
      "object_fit": null,
      "object_position": null,
      "order": null,
      "overflow": null,
      "overflow_x": null,
      "overflow_y": null,
      "padding": null,
      "right": null,
      "top": null,
      "visibility": null,
      "width": null
     }
    },
    "5f563d8546214ad0851048c844694318": {
     "model_module": "@jupyter-widgets/base",
     "model_name": "LayoutModel",
     "model_module_version": "1.2.0",
     "state": {
      "_model_module": "@jupyter-widgets/base",
      "_model_module_version": "1.2.0",
      "_model_name": "LayoutModel",
      "_view_count": null,
      "_view_module": "@jupyter-widgets/base",
      "_view_module_version": "1.2.0",
      "_view_name": "LayoutView",
      "align_content": null,
      "align_items": null,
      "align_self": null,
      "border": null,
      "bottom": null,
      "display": null,
      "flex": null,
      "flex_flow": null,
      "grid_area": null,
      "grid_auto_columns": null,
      "grid_auto_flow": null,
      "grid_auto_rows": null,
      "grid_column": null,
      "grid_gap": null,
      "grid_row": null,
      "grid_template_areas": null,
      "grid_template_columns": null,
      "grid_template_rows": null,
      "height": null,
      "justify_content": null,
      "justify_items": null,
      "left": null,
      "margin": null,
      "max_height": null,
      "max_width": null,
      "min_height": null,
      "min_width": null,
      "object_fit": null,
      "object_position": null,
      "order": null,
      "overflow": null,
      "overflow_x": null,
      "overflow_y": null,
      "padding": null,
      "right": null,
      "top": null,
      "visibility": null,
      "width": null
     }
    },
    "bd012baed19542efa19d3755951f631f": {
     "model_module": "@jupyter-widgets/controls",
     "model_name": "DescriptionStyleModel",
     "model_module_version": "1.5.0",
     "state": {
      "_model_module": "@jupyter-widgets/controls",
      "_model_module_version": "1.5.0",
      "_model_name": "DescriptionStyleModel",
      "_view_count": null,
      "_view_module": "@jupyter-widgets/base",
      "_view_module_version": "1.2.0",
      "_view_name": "StyleView",
      "description_width": ""
     }
    },
    "9123b6b64f2e4b46bc6fda617cad5569": {
     "model_module": "@jupyter-widgets/base",
     "model_name": "LayoutModel",
     "model_module_version": "1.2.0",
     "state": {
      "_model_module": "@jupyter-widgets/base",
      "_model_module_version": "1.2.0",
      "_model_name": "LayoutModel",
      "_view_count": null,
      "_view_module": "@jupyter-widgets/base",
      "_view_module_version": "1.2.0",
      "_view_name": "LayoutView",
      "align_content": null,
      "align_items": null,
      "align_self": null,
      "border": null,
      "bottom": null,
      "display": null,
      "flex": null,
      "flex_flow": null,
      "grid_area": null,
      "grid_auto_columns": null,
      "grid_auto_flow": null,
      "grid_auto_rows": null,
      "grid_column": null,
      "grid_gap": null,
      "grid_row": null,
      "grid_template_areas": null,
      "grid_template_columns": null,
      "grid_template_rows": null,
      "height": null,
      "justify_content": null,
      "justify_items": null,
      "left": null,
      "margin": null,
      "max_height": null,
      "max_width": null,
      "min_height": null,
      "min_width": null,
      "object_fit": null,
      "object_position": null,
      "order": null,
      "overflow": null,
      "overflow_x": null,
      "overflow_y": null,
      "padding": null,
      "right": null,
      "top": null,
      "visibility": null,
      "width": null
     }
    },
    "fa327bc9c13846e9bf37360b51bc56f6": {
     "model_module": "@jupyter-widgets/controls",
     "model_name": "ProgressStyleModel",
     "model_module_version": "1.5.0",
     "state": {
      "_model_module": "@jupyter-widgets/controls",
      "_model_module_version": "1.5.0",
      "_model_name": "ProgressStyleModel",
      "_view_count": null,
      "_view_module": "@jupyter-widgets/base",
      "_view_module_version": "1.2.0",
      "_view_name": "StyleView",
      "bar_color": null,
      "description_width": ""
     }
    },
    "e416966d50334ef182e34c5ffda09f9b": {
     "model_module": "@jupyter-widgets/base",
     "model_name": "LayoutModel",
     "model_module_version": "1.2.0",
     "state": {
      "_model_module": "@jupyter-widgets/base",
      "_model_module_version": "1.2.0",
      "_model_name": "LayoutModel",
      "_view_count": null,
      "_view_module": "@jupyter-widgets/base",
      "_view_module_version": "1.2.0",
      "_view_name": "LayoutView",
      "align_content": null,
      "align_items": null,
      "align_self": null,
      "border": null,
      "bottom": null,
      "display": null,
      "flex": null,
      "flex_flow": null,
      "grid_area": null,
      "grid_auto_columns": null,
      "grid_auto_flow": null,
      "grid_auto_rows": null,
      "grid_column": null,
      "grid_gap": null,
      "grid_row": null,
      "grid_template_areas": null,
      "grid_template_columns": null,
      "grid_template_rows": null,
      "height": null,
      "justify_content": null,
      "justify_items": null,
      "left": null,
      "margin": null,
      "max_height": null,
      "max_width": null,
      "min_height": null,
      "min_width": null,
      "object_fit": null,
      "object_position": null,
      "order": null,
      "overflow": null,
      "overflow_x": null,
      "overflow_y": null,
      "padding": null,
      "right": null,
      "top": null,
      "visibility": null,
      "width": null
     }
    },
    "eb098d16db67478b92ae694bedf331eb": {
     "model_module": "@jupyter-widgets/controls",
     "model_name": "DescriptionStyleModel",
     "model_module_version": "1.5.0",
     "state": {
      "_model_module": "@jupyter-widgets/controls",
      "_model_module_version": "1.5.0",
      "_model_name": "DescriptionStyleModel",
      "_view_count": null,
      "_view_module": "@jupyter-widgets/base",
      "_view_module_version": "1.2.0",
      "_view_name": "StyleView",
      "description_width": ""
     }
    }
   }
  }
 },
 "cells": [
  {
   "cell_type": "markdown",
   "source": [
    "# Carga de Datos"
   ],
   "metadata": {
    "id": "nUCyRT0OSR00"
   }
  },
  {
   "cell_type": "code",
   "execution_count": null,
   "metadata": {
    "colab": {
     "base_uri": "https://localhost:8080/"
    },
    "id": "71RZ0lqWMY7_",
    "outputId": "445f88d0-0474-48bd-9b42-15ff1579b7fa"
   },
   "outputs": [],
   "source": [
    "!wget https://www.dropbox.com/s/8oggitmn7vlhv4v/project.zip?dl=0s\n",
    "!unzip -qq project.zip\n",
    "!ls project"
   ]
  },
  {
   "cell_type": "markdown",
   "source": [
    "# Librerías y Funciones"
   ],
   "metadata": {
    "id": "W7_bPN-oSilt"
   }
  },
  {
   "cell_type": "code",
   "source": [
    "import numpy as np\n",
    "import matplotlib.pyplot as plt\n",
    "from skimage.measure import find_contours\n",
    "from tqdm.auto import tqdm"
   ],
   "metadata": {
    "id": "xMSlxzpxN99q"
   },
   "execution_count": null,
   "outputs": []
  },
  {
   "cell_type": "code",
   "source": [
    "def num2fixstr(x,d):\n",
    "  # example num2fixstr(2,5) returns '00002'\n",
    "  # example num2fixstr(19,3) returns '019'\n",
    "  st = '%0*d' % (d,x)\n",
    "  return st\n",
    "\n",
    "def ImageLoad(prefix,num_img,echo='off'):\n",
    "  # X = ImageLoad('project/images/X',i)        # carga imagen Rx i en X\n",
    "  # Y = ImageLoad('project/segmentation/Y',i)  # carga segmentacion i en Y\n",
    "  st   = prefix + num2fixstr(num_img,4) + '.png'\n",
    "  if echo == 'on':\n",
    "    print('loading image '+st+'...')\n",
    "  img    = 255*plt.imread(st)\n",
    "  return img\n",
    "\n",
    "def EdgeView(X,Ys,Y=[]):\n",
    "  plt.figure(figsize=(15,15))\n",
    "  plt.imshow(X,cmap='gray')\n",
    "\n",
    "  cc = 'r'\n",
    "\n",
    "  if len(Y)!=0:\n",
    "    contours = find_contours(np.float32(Y), 0.5)\n",
    "    for n, contour in enumerate(contours):\n",
    "      plt.plot(contour[:, 1], contour[:, 0], color=cc, linewidth=3)\n",
    "    cc = 'y'\n",
    "\n",
    "\n",
    "  contours = find_contours(np.float32(Ys), 0.5)\n",
    "  for n, contour in enumerate(contours):\n",
    "    plt.plot(contour[:, 1], contour[:, 0], color=cc, linewidth=3)\n",
    "\n",
    "\n",
    "  \n"
   ],
   "metadata": {
    "id": "MX995ZP3PHfe"
   },
   "execution_count": null,
   "outputs": []
  },
  {
   "cell_type": "markdown",
   "source": [
    "# Carga de imagen i"
   ],
   "metadata": {
    "id": "rUjaKNC9TXE_"
   }
  },
  {
   "cell_type": "code",
   "source": [
    "i = 10\n",
    "# X-ray image\n",
    "X = ImageLoad('project/images/X',i)\n",
    "plt.figure(figsize=(15,15))\n",
    "plt.imshow(X,cmap='gray')\n",
    "plt.title('Rx X'+num2fixstr(i,4)+'.png')\n",
    "plt.show()\n",
    "\n",
    "# Ideal Segmentation (Ground Truth)\n",
    "Y = ImageLoad('project/segmentation/Y',i)\n",
    "plt.figure(figsize=(15,15))\n",
    "plt.imshow(Y,cmap='gray')\n",
    "plt.title('GT Y'+num2fixstr(i,4)+'.png')\n",
    "plt.show()\n",
    "\n",
    "\n",
    "# X-ray and ideal Segmentation\n",
    "EdgeView(X,Y)\n",
    "plt.title('Rx and GT '+num2fixstr(i,4))\n",
    "plt.show()"
   ],
   "metadata": {
    "colab": {
     "base_uri": "https://localhost:8080/",
     "height": 1000
    },
    "id": "8IulMQFXTcgE",
    "outputId": "8ac26df9-b31a-4372-84dc-9c4e68751a63"
   },
   "execution_count": null,
   "outputs": []
  },
  {
   "cell_type": "markdown",
   "source": [
    "# Segmentación"
   ],
   "metadata": {
    "id": "RZ-zwUBgTxnJ"
   }
  },
  {
   "cell_type": "code",
   "source": [
    "def LungSegmentation(X):\n",
    "  Ys = 255.*(X>100)\n",
    "  return Ys\n"
   ],
   "metadata": {
    "id": "w5nqRABzMmoL"
   },
   "execution_count": null,
   "outputs": []
  },
  {
   "cell_type": "code",
   "source": [
    "i = 10\n",
    "# X-ray image\n",
    "X = ImageLoad('project/images/X',i)\n",
    "\n",
    "# Ideal Segmentation (Ground Truth)\n",
    "Y = ImageLoad('project/segmentation/Y',i)\n",
    "\n",
    "# X-ray + real and ideal Segmentation\n",
    "Ys = LungSegmentation(X)\n",
    "EdgeView(X,Ys,Y)\n",
    "plt.title('Segmentation of X'+num2fixstr(i,4)+'.png (red: ideal, yellow: real)')\n",
    "plt.show()\n"
   ],
   "metadata": {
    "colab": {
     "base_uri": "https://localhost:8080/",
     "height": 833
    },
    "id": "ukAyN6A-SQYs",
    "outputId": "2208fe57-904d-474a-f599-3e58701b42fb"
   },
   "execution_count": null,
   "outputs": []
  },
  {
   "cell_type": "markdown",
   "source": [
    "# Métricas estadísticas"
   ],
   "metadata": {
    "id": "YPtU5REIUBZW"
   }
  },
  {
   "cell_type": "markdown",
   "source": [
    "## Funciones"
   ],
   "metadata": {
    "id": "El-ut73KXJcw"
   }
  },
  {
   "cell_type": "code",
   "source": [
    "def Detections(Y,Ys):\n",
    "  GT = Y>128\n",
    "  D  = Ys>128\n",
    "  GTn = np.logical_not(GT)\n",
    "  Dn  = np.logical_not(D)\n",
    "  TP = np.sum(np.logical_and(GT ,D ))\n",
    "  TN = np.sum(np.logical_and(GTn,Dn))\n",
    "  FP = np.sum(np.logical_and(GTn,D ))\n",
    "  FN = np.sum(np.logical_and(GT ,Dn ))\n",
    "  return TP,TN,FP,FN\n",
    "\n",
    "def RatesF1(TP,TN,FP,FN):\n",
    "  TPR = TP/(TP+FN)\n",
    "  FPR = FP/(FP+TN)\n",
    "  F1 = 2*TP / (2*TP + FP + FN)\n",
    "  return TPR,FPR,F1\n",
    "\n",
    "\n",
    "def statisticsImage(segFunction,i):\n",
    "  X  = ImageLoad('project/images/X',i)        # X-ray image\n",
    "  Y  = ImageLoad('project/segmentation/Y',i)  # Ideal segmentation (ground truth)\n",
    "  Ys = segFunction(X)                    # Real Segmentation\n",
    "  (TP,TN,FP,FN) = Detections(Y,Ys)\n",
    "  (TPR,FPR,F1)  = RatesF1(TP,TN,FP,FN)\n",
    "  return TPR,FPR,F1\n",
    "\n",
    "def statisticsAllImages(segFunction):\n",
    "  (TP,TN,FP,FN) = (0,0,0,0)\n",
    "  for k in tqdm(range(40)):\n",
    "    i = k+1\n",
    "    X = ImageLoad('project/images/X',i)\n",
    "    Y = ImageLoad('project/segmentation/Y',i)\n",
    "    Ys = LungSegmentation(X)\n",
    "    (TPi,TNi,FPi,FNi) = Detections(Y,Ys)\n",
    "    TP = TP+TPi\n",
    "    TN = TN+TNi\n",
    "    FP = FP+FPi\n",
    "    FN = FN+FNi\n",
    "  (TPR,FPR,F1)  = RatesF1(TP,TN,FP,FN)\n",
    "  return TPR,FPR,F1"
   ],
   "metadata": {
    "id": "haUp458_UFyB"
   },
   "execution_count": null,
   "outputs": []
  },
  {
   "cell_type": "markdown",
   "source": [
    "## Estadísticas para imagen i"
   ],
   "metadata": {
    "id": "cTRrIHftXK6E"
   }
  },
  {
   "cell_type": "code",
   "source": [
    "(TPR,FPR,F1)  = statisticsImage(LungSegmentation,10)\n",
    "print(\"TPR = {:.4f}\".format(TPR))\n",
    "print(\"FPR = {:.4f}\".format(FPR))\n",
    "print(\"F1  = {:.4f}\".format(F1))"
   ],
   "metadata": {
    "colab": {
     "base_uri": "https://localhost:8080/"
    },
    "id": "sJ-rOUWXYIXY",
    "outputId": "f6d550cc-ffc5-410b-bac3-bb0008c077e8"
   },
   "execution_count": null,
   "outputs": []
  },
  {
   "cell_type": "markdown",
   "source": [
    "## Estadísticas para todas las imágenes\n"
   ],
   "metadata": {
    "id": "FqPKojRXYLZe"
   }
  },
  {
   "cell_type": "code",
   "source": [
    "(TPR,FPR,F1) = statisticsAllImages(LungSegmentation)\n",
    "print(\"TPR = {:.4f}\".format(TPR))\n",
    "print(\"FPR = {:.4f}\".format(FPR))\n",
    "print(\"F1  = {:.4f}\".format(F1))"
   ],
   "metadata": {
    "colab": {
     "base_uri": "https://localhost:8080/",
     "height": 101,
     "referenced_widgets": [
      "05fadbd2f0d44190ab7efef5f1f52550",
      "9dd6942f214f4645ac6e6e37c5e3ac45",
      "b7aabf123b6143d498662b06435d9a47",
      "4da9593628df4099832ad045449d043a",
      "4bd1b0c7cb87435099bd580b193e7415",
      "5f563d8546214ad0851048c844694318",
      "bd012baed19542efa19d3755951f631f",
      "9123b6b64f2e4b46bc6fda617cad5569",
      "fa327bc9c13846e9bf37360b51bc56f6",
      "e416966d50334ef182e34c5ffda09f9b",
      "eb098d16db67478b92ae694bedf331eb"
     ]
    },
    "id": "JmsMkKIFYtoR",
    "outputId": "7774f0e3-d830-4312-e184-58906b539e0d"
   },
   "execution_count": null,
   "outputs": []
  }
 ]
}
